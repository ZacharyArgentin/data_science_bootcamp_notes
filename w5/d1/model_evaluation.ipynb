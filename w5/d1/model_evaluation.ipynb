{
 "cells": [
  {
   "cell_type": "markdown",
   "id": "c65006bd-92c0-4ddd-8f3f-1607f463fcd7",
   "metadata": {},
   "source": [
    "# Model Evaluation Walkthrough"
   ]
  },
  {
   "cell_type": "code",
   "execution_count": 5,
   "id": "2d618eb5-efaa-4239-b02d-6199a78356b4",
   "metadata": {},
   "outputs": [],
   "source": [
    "from IPython.core.interactiveshell import InteractiveShell\n",
    "InteractiveShell.ast_node_interactivity = \"all\""
   ]
  },
  {
   "cell_type": "code",
   "execution_count": 1,
   "id": "6713b4e9-d19e-4163-972b-456664f3b44b",
   "metadata": {},
   "outputs": [],
   "source": [
    "import numpy as np"
   ]
  },
  {
   "cell_type": "markdown",
   "id": "93b9800c-5f40-4796-b292-beb533cb35c3",
   "metadata": {},
   "source": [
    "# Regression"
   ]
  },
  {
   "cell_type": "code",
   "execution_count": 3,
   "id": "55d557f5-eb63-44fc-96bb-c3973a681ec7",
   "metadata": {},
   "outputs": [],
   "source": [
    "# generate \"ground truth\"\n",
    "y_true = np.random.normal(0,1,10)\n",
    "\n",
    "# generate random errors\n",
    "errors = np.random.normal(0,0.02,10)\n",
    "\n",
    "# simulate predictions\n",
    "y_pred = y_true + errors"
   ]
  },
  {
   "cell_type": "code",
   "execution_count": 6,
   "id": "f4c6a251-e553-48a1-8b23-66262faa1eb7",
   "metadata": {},
   "outputs": [
    {
     "data": {
      "text/plain": [
       "array([-1.45186808,  0.62844833, -0.16569557, -0.03683535, -2.27058389,\n",
       "       -1.67536709,  0.35016126, -0.68719419, -1.23385264,  0.17622466])"
      ]
     },
     "execution_count": 6,
     "metadata": {},
     "output_type": "execute_result"
    },
    {
     "data": {
      "text/plain": [
       "array([-1.45544703,  0.63142629, -0.16654027, -0.0251557 , -2.26410432,\n",
       "       -1.64217085,  0.35360434, -0.69413872, -1.26035846,  0.15651048])"
      ]
     },
     "execution_count": 6,
     "metadata": {},
     "output_type": "execute_result"
    }
   ],
   "source": [
    "y_true\n",
    "y_pred"
   ]
  },
  {
   "cell_type": "markdown",
   "id": "33bef91a-b2c4-454a-aec5-cc8fe60614ad",
   "metadata": {},
   "source": [
    "### Mean squared error / Root mean squared error"
   ]
  },
  {
   "cell_type": "code",
   "execution_count": 7,
   "id": "3b43c036-f7aa-4691-8522-d0a069f420e3",
   "metadata": {},
   "outputs": [],
   "source": [
    "from sklearn.metrics import mean_squared_error"
   ]
  },
  {
   "cell_type": "code",
   "execution_count": 8,
   "id": "ed1b9981-6a00-466b-9b0d-2356d03850fe",
   "metadata": {},
   "outputs": [],
   "source": [
    "MSE = mean_squared_error(y_true, y_pred)\n",
    "\n",
    "MSE"
   ]
  },
  {
   "cell_type": "code",
   "execution_count": 11,
   "id": "049e0767-494d-461c-ae5e-c43f743a5824",
   "metadata": {},
   "outputs": [
    {
     "data": {
      "text/plain": [
       "0.01566546743663075"
      ]
     },
     "execution_count": 11,
     "metadata": {},
     "output_type": "execute_result"
    },
    {
     "data": {
      "text/plain": [
       "0.01566546743663075"
      ]
     },
     "execution_count": 11,
     "metadata": {},
     "output_type": "execute_result"
    }
   ],
   "source": [
    "RMSE = np.sqrt(MSE)\n",
    "RMSE\n",
    "\n",
    "# or\n",
    "\n",
    "RMSE = mean_squared_error(y_true, y_pred, squared=False)\n",
    "RMSE"
   ]
  },
  {
   "cell_type": "markdown",
   "id": "5f1d00f1-5e12-4089-96a7-318a7be23f15",
   "metadata": {},
   "source": [
    "# Classification"
   ]
  },
  {
   "cell_type": "code",
   "execution_count": 16,
   "id": "ff7dc130-23cc-43b2-b638-ec17da36d079",
   "metadata": {},
   "outputs": [],
   "source": [
    "# ground truth\n",
    "y_true = [1,1,0,1,0,0,1,0,0,1]\n",
    "\n",
    "# simulate probabilites of positive class\n",
    "y_proba = [0.9,0.7,0.2,0.99,0.7,0.1,0.5,0.2,0.4,0.6]\n",
    "\n",
    "# set the threshold to predict positive class\n",
    "thres = 0.5\n",
    "\n",
    "# class predictions\n",
    "# int() typecasts True as 1 and False as 0\n",
    "y_pred = [int(value > thres) for value in y_proba]"
   ]
  },
  {
   "cell_type": "code",
   "execution_count": 17,
   "id": "753e2bea-fe62-4b58-990c-bc1c452fa476",
   "metadata": {},
   "outputs": [
    {
     "data": {
      "text/plain": [
       "[1, 1, 0, 1, 1, 0, 0, 0, 0, 1]"
      ]
     },
     "execution_count": 17,
     "metadata": {},
     "output_type": "execute_result"
    }
   ],
   "source": [
    "y_pred"
   ]
  },
  {
   "cell_type": "code",
   "execution_count": 18,
   "id": "1b78cedf-db6b-42d0-829a-fb46ff037803",
   "metadata": {},
   "outputs": [],
   "source": [
    "from sklearn.metrics import accuracy_score"
   ]
  },
  {
   "cell_type": "code",
   "execution_count": 19,
   "id": "e0dd82e8-31ed-42e2-b24b-bc519b2dda4b",
   "metadata": {},
   "outputs": [
    {
     "data": {
      "text/plain": [
       "0.8"
      ]
     },
     "execution_count": 19,
     "metadata": {},
     "output_type": "execute_result"
    }
   ],
   "source": [
    "accuracy = accuracy_score(y_true, y_pred)\n",
    "accuracy"
   ]
  },
  {
   "cell_type": "code",
   "execution_count": 20,
   "id": "90546d4e-29f5-481a-b20e-04d3e9b3d42e",
   "metadata": {},
   "outputs": [],
   "source": [
    "from sklearn.metrics import f1_score"
   ]
  },
  {
   "cell_type": "code",
   "execution_count": 21,
   "id": "7b426a53-4d21-4aff-8129-3d1dd357c349",
   "metadata": {},
   "outputs": [
    {
     "data": {
      "text/plain": [
       "0.8000000000000002"
      ]
     },
     "execution_count": 21,
     "metadata": {},
     "output_type": "execute_result"
    }
   ],
   "source": [
    "f1_score = f1_score(y_true, y_pred)\n",
    "f1_score"
   ]
  },
  {
   "cell_type": "code",
   "execution_count": 22,
   "id": "ac82514a-c2f0-453f-b1d1-2932bb0bdb95",
   "metadata": {},
   "outputs": [],
   "source": [
    "from sklearn.metrics import roc_auc_score"
   ]
  },
  {
   "cell_type": "code",
   "execution_count": 23,
   "id": "d016aaf7-7668-40cc-84e3-d091eee0e998",
   "metadata": {},
   "outputs": [
    {
     "data": {
      "text/plain": [
       "0.9"
      ]
     },
     "execution_count": 23,
     "metadata": {},
     "output_type": "execute_result"
    }
   ],
   "source": [
    "auc = roc_auc_score(y_true, y_proba)\n",
    "auc"
   ]
  },
  {
   "cell_type": "code",
   "execution_count": null,
   "id": "cd12f53f-1a7e-4bfc-926f-6afc4defc4b3",
   "metadata": {},
   "outputs": [],
   "source": []
  }
 ],
 "metadata": {
  "kernelspec": {
   "display_name": "bootcamp",
   "language": "python",
   "name": "bootcamp"
  },
  "language_info": {
   "codemirror_mode": {
    "name": "ipython",
    "version": 3
   },
   "file_extension": ".py",
   "mimetype": "text/x-python",
   "name": "python",
   "nbconvert_exporter": "python",
   "pygments_lexer": "ipython3",
   "version": "3.8.5"
  }
 },
 "nbformat": 4,
 "nbformat_minor": 5
}
