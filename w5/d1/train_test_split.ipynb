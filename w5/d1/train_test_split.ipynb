{
 "cells": [
  {
   "cell_type": "markdown",
   "id": "af6ee2cc-268c-493c-a587-f75e256d8fbf",
   "metadata": {},
   "source": [
    "# Train test split walkthrough"
   ]
  },
  {
   "cell_type": "code",
   "execution_count": 5,
   "id": "4e538442-7860-4662-9fd7-c13367c01c4a",
   "metadata": {},
   "outputs": [],
   "source": [
    "from IPython.core.interactiveshell import InteractiveShell\n",
    "InteractiveShell.ast_node_interactivity = \"all\""
   ]
  },
  {
   "cell_type": "markdown",
   "id": "e8adb158-a165-4fa1-a995-3579b2d0a497",
   "metadata": {},
   "source": [
    "### generate data"
   ]
  },
  {
   "cell_type": "code",
   "execution_count": 1,
   "id": "243e4ab4-d06b-44f9-8af4-96d7e10c8f5e",
   "metadata": {},
   "outputs": [
    {
     "data": {
      "text/plain": [
       "[0, 1, 2, 3, 4, 5, 6, 7, 8, 9]"
      ]
     },
     "execution_count": 1,
     "metadata": {},
     "output_type": "execute_result"
    }
   ],
   "source": [
    "X = list(range(10))\n",
    "X"
   ]
  },
  {
   "cell_type": "code",
   "execution_count": 2,
   "id": "921d14b4-c560-4e0a-b503-3327aa8c94c5",
   "metadata": {},
   "outputs": [
    {
     "data": {
      "text/plain": [
       "[0, 1, 4, 9, 16, 25, 36, 49, 64, 81]"
      ]
     },
     "execution_count": 2,
     "metadata": {},
     "output_type": "execute_result"
    }
   ],
   "source": [
    "y = [x*x for x in X]\n",
    "y"
   ]
  },
  {
   "cell_type": "markdown",
   "id": "926eb889-01a7-48bd-80f6-946d29eb1eee",
   "metadata": {},
   "source": [
    "### split and shuffle data"
   ]
  },
  {
   "cell_type": "code",
   "execution_count": 3,
   "id": "f54a518e-4f80-40ca-8eb5-b3206c839bc5",
   "metadata": {},
   "outputs": [],
   "source": [
    "import sklearn.model_selection as model_selection"
   ]
  },
  {
   "cell_type": "code",
   "execution_count": 9,
   "id": "139bdce8-e5e5-4cf8-a631-a2bf7b5a057a",
   "metadata": {},
   "outputs": [],
   "source": [
    "X_train, X_test, y_train, y_test = model_selection.train_test_split(X, y, train_size=0.75, random_state=101)"
   ]
  },
  {
   "cell_type": "code",
   "execution_count": 10,
   "id": "250143b9-150f-4186-ac5f-6c3cc3bd1c27",
   "metadata": {},
   "outputs": [
    {
     "data": {
      "text/plain": [
       "[4, 9, 3, 5, 7, 6, 1]"
      ]
     },
     "execution_count": 10,
     "metadata": {},
     "output_type": "execute_result"
    },
    {
     "data": {
      "text/plain": [
       "[8, 2, 0]"
      ]
     },
     "execution_count": 10,
     "metadata": {},
     "output_type": "execute_result"
    },
    {
     "data": {
      "text/plain": [
       "[16, 81, 9, 25, 49, 36, 1]"
      ]
     },
     "execution_count": 10,
     "metadata": {},
     "output_type": "execute_result"
    },
    {
     "data": {
      "text/plain": [
       "[64, 4, 0]"
      ]
     },
     "execution_count": 10,
     "metadata": {},
     "output_type": "execute_result"
    }
   ],
   "source": [
    "X_train\n",
    "X_test\n",
    "y_train\n",
    "y_test"
   ]
  },
  {
   "cell_type": "code",
   "execution_count": 34,
   "id": "cfee8024-bfe3-4e6b-8ca0-2051c1dce874",
   "metadata": {},
   "outputs": [],
   "source": [
    "from sklearn.model_selection import KFold\n",
    "import numpy as np"
   ]
  },
  {
   "cell_type": "code",
   "execution_count": 97,
   "id": "cc49ca7d-47e1-4ef2-9849-0d1abc20a48f",
   "metadata": {
    "tags": []
   },
   "outputs": [
    {
     "name": "stdout",
     "output_type": "stream",
     "text": [
      "[0 1 3 4 6 7 8 9] [2 5]\n",
      "[ 0  1  9 16 36 49 64 81] [ 4 25]\n",
      "[0 1 2 3 4 5 6 7] [8 9]\n",
      "[ 0  1  4  9 16 25 36 49] [64 81]\n",
      "[0 2 4 5 6 7 8 9] [1 3]\n",
      "[ 0  4 16 25 36 49 64 81] [1 9]\n",
      "[1 2 3 4 5 7 8 9] [0 6]\n",
      "[ 1  4  9 16 25 49 64 81] [ 0 36]\n",
      "[0 1 2 3 5 6 8 9] [4 7]\n",
      "[ 0  1  4  9 25 36 64 81] [16 49]\n"
     ]
    }
   ],
   "source": [
    "kf = KFold(n_splits=5, shuffle=True)\n",
    "X = np.array(X)\n",
    "y = np.array(y)\n",
    "for train_index, test_index in kf.split(X):\n",
    "    X_train, X_test = X[train_index], X[test_index]\n",
    "    y_train, y_test = y[train_index], y[test_index]\n",
    "    print(X_train, X_test)\n",
    "    print(y_train, y_test)"
   ]
  },
  {
   "cell_type": "code",
   "execution_count": null,
   "id": "d1beb953-0d03-4750-b830-b62f1b5ff4e4",
   "metadata": {},
   "outputs": [],
   "source": []
  }
 ],
 "metadata": {
  "kernelspec": {
   "display_name": "bootcamp",
   "language": "python",
   "name": "bootcamp"
  },
  "language_info": {
   "codemirror_mode": {
    "name": "ipython",
    "version": 3
   },
   "file_extension": ".py",
   "mimetype": "text/x-python",
   "name": "python",
   "nbconvert_exporter": "python",
   "pygments_lexer": "ipython3",
   "version": "3.8.5"
  }
 },
 "nbformat": 4,
 "nbformat_minor": 5
}
