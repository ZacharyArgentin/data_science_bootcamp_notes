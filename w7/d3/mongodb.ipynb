{
 "cells": [
  {
   "cell_type": "markdown",
   "id": "a9625cbc-229c-49a6-9289-af90d00bb9a3",
   "metadata": {},
   "source": [
    "# MongoDB IN PYTHON"
   ]
  },
  {
   "cell_type": "code",
   "execution_count": 1,
   "id": "308ce2ec-e117-4f58-9bd2-fe5d40b08521",
   "metadata": {},
   "outputs": [],
   "source": [
    "import pymongo\n",
    "from pymongo import MongoClient"
   ]
  },
  {
   "cell_type": "code",
   "execution_count": 9,
   "id": "2ff40bbc-944a-483f-9e1c-1677870fb82a",
   "metadata": {},
   "outputs": [
    {
     "data": {
      "text/plain": [
       "MongoClient(host=['localhost:27017'], document_class=dict, tz_aware=False, connect=True)"
      ]
     },
     "execution_count": 9,
     "metadata": {},
     "output_type": "execute_result"
    }
   ],
   "source": [
    "client = MongoClient()\n",
    "client = MongoClient(host=\"localhost\", port=27017)\n",
    "client"
   ]
  },
  {
   "cell_type": "code",
   "execution_count": 10,
   "id": "af39a145-a518-49fb-9579-1a5aa8c615f1",
   "metadata": {},
   "outputs": [
    {
     "data": {
      "text/plain": [
       "Database(MongoClient(host=['localhost:27017'], document_class=dict, tz_aware=False, connect=True), 'rptutorials')"
      ]
     },
     "execution_count": 10,
     "metadata": {},
     "output_type": "execute_result"
    }
   ],
   "source": [
    "db = client.rptutorials\n",
    "db = client[\"rptutorials\"]\n",
    "db"
   ]
  },
  {
   "cell_type": "markdown",
   "id": "7dd67dfe-40e7-4b8f-a920-dc7465007ef3",
   "metadata": {},
   "source": [
    "### create a document and add to collection"
   ]
  },
  {
   "cell_type": "code",
   "execution_count": 8,
   "id": "8eb38ad8-9111-45a4-ad5e-d87d2a2da807",
   "metadata": {},
   "outputs": [],
   "source": [
    "tutorial1 = {\n",
    "     \"title\": \"Working With JSON Data in Python\",\n",
    "     \"author\": \"Lucas\",\n",
    "     \"contributors\": [\n",
    "         \"Aldren\",\n",
    "         \"Dan\",\n",
    "         \"Joanna\"\n",
    "     ],\n",
    "     \"url\": \"https://realpython.com/python-json/\"\n",
    " }"
   ]
  },
  {
   "cell_type": "code",
   "execution_count": 13,
   "id": "85b53947-f6ec-4a4c-a678-442ac777414b",
   "metadata": {},
   "outputs": [
    {
     "data": {
      "text/plain": [
       "Collection(Database(MongoClient(host=['localhost:27017'], document_class=dict, tz_aware=False, connect=True), 'rptutorials'), 'tutorial')"
      ]
     },
     "execution_count": 13,
     "metadata": {},
     "output_type": "execute_result"
    }
   ],
   "source": [
    "tutorial = db.tutorial\n",
    "tutorial"
   ]
  },
  {
   "cell_type": "code",
   "execution_count": 14,
   "id": "329c95df-5f4e-4340-a79f-d4ca5650c493",
   "metadata": {},
   "outputs": [
    {
     "data": {
      "text/plain": [
       "<pymongo.results.InsertOneResult at 0x7fa6a007b580>"
      ]
     },
     "execution_count": 14,
     "metadata": {},
     "output_type": "execute_result"
    }
   ],
   "source": [
    "result = tutorial.insert_one(tutorial1)\n",
    "result"
   ]
  },
  {
   "cell_type": "code",
   "execution_count": 15,
   "id": "dd7ee8b9-a676-4cf9-a7c2-159caf57b520",
   "metadata": {},
   "outputs": [
    {
     "data": {
      "text/plain": [
       "ObjectId('614540b7548558e805a556f7')"
      ]
     },
     "execution_count": 15,
     "metadata": {},
     "output_type": "execute_result"
    }
   ],
   "source": [
    "result.inserted_id"
   ]
  },
  {
   "cell_type": "markdown",
   "id": "c58c431d-975c-48f8-b661-494f0525eb2c",
   "metadata": {},
   "source": [
    "#### Insert many\n",
    "\n",
    "``` python\n",
    "new_result = tutorial.insert_many([tutorial2, tutorial3])\n",
    "```"
   ]
  },
  {
   "cell_type": "code",
   "execution_count": 24,
   "id": "0a052225-d998-4809-ae00-a68d4f7f2663",
   "metadata": {},
   "outputs": [],
   "source": [
    "# docs is a generator object\n",
    "docs = tutorial.find()"
   ]
  },
  {
   "cell_type": "code",
   "execution_count": 25,
   "id": "15866c1f-28bc-4149-a9d8-27f4979a8132",
   "metadata": {},
   "outputs": [
    {
     "name": "stdout",
     "output_type": "stream",
     "text": [
      "{'_id': ObjectId('6145389aa9202c4b5005c504'), 'title': 'Reading and Writing CSV Files in Python', 'author': 'Jon', 'contributors': ['Aldren', 'Geir Arne', 'Joanna', 'Jason'], 'url': 'https://realpython.com/python-csv/'}\n",
      "{'_id': ObjectId('61453b1ca9202c4b5005c505'), 'title': 'How to iterate through a dictionary in Python', 'author': 'Leodanis', 'contributors': ['Aldren', 'Jim', 'Joanna'], 'url': 'https://realpython.com/iterate-through-dictionary-python/'}\n",
      "{'_id': ObjectId('61453b1ca9202c4b5005c506'), 'title': \"Python 3's f-Strings: An Improved String Formatting Syntax\", 'author': 'Joanna', 'contributors': ['Adriana', 'David', 'Dan', 'Jim', 'Pavel'], 'url': 'https://realpython.com/python-f-strings/'}\n",
      "{'_id': ObjectId('614540b7548558e805a556f7'), 'title': 'Working With JSON Data in Python', 'author': 'Lucas', 'contributors': ['Aldren', 'Dan', 'Joanna'], 'url': 'https://realpython.com/python-json/'}\n"
     ]
    }
   ],
   "source": [
    "for doc in docs:\n",
    "    print(doc)"
   ]
  },
  {
   "cell_type": "code",
   "execution_count": 20,
   "id": "b0111491-de97-4d5a-9cbe-6dfbf0180bd4",
   "metadata": {},
   "outputs": [],
   "source": [
    "import pprint"
   ]
  },
  {
   "cell_type": "code",
   "execution_count": 26,
   "id": "af1e37b1-0178-4223-880b-97841d8468b4",
   "metadata": {},
   "outputs": [],
   "source": [
    "docs = tutorial.find()"
   ]
  },
  {
   "cell_type": "code",
   "execution_count": 27,
   "id": "86ece73f-e6d6-4d9b-b404-e890d4bf2770",
   "metadata": {},
   "outputs": [
    {
     "name": "stdout",
     "output_type": "stream",
     "text": [
      "{'_id': ObjectId('6145389aa9202c4b5005c504'),\n",
      " 'author': 'Jon',\n",
      " 'contributors': ['Aldren', 'Geir Arne', 'Joanna', 'Jason'],\n",
      " 'title': 'Reading and Writing CSV Files in Python',\n",
      " 'url': 'https://realpython.com/python-csv/'}\n",
      "{'_id': ObjectId('61453b1ca9202c4b5005c505'),\n",
      " 'author': 'Leodanis',\n",
      " 'contributors': ['Aldren', 'Jim', 'Joanna'],\n",
      " 'title': 'How to iterate through a dictionary in Python',\n",
      " 'url': 'https://realpython.com/iterate-through-dictionary-python/'}\n",
      "{'_id': ObjectId('61453b1ca9202c4b5005c506'),\n",
      " 'author': 'Joanna',\n",
      " 'contributors': ['Adriana', 'David', 'Dan', 'Jim', 'Pavel'],\n",
      " 'title': \"Python 3's f-Strings: An Improved String Formatting Syntax\",\n",
      " 'url': 'https://realpython.com/python-f-strings/'}\n",
      "{'_id': ObjectId('614540b7548558e805a556f7'),\n",
      " 'author': 'Lucas',\n",
      " 'contributors': ['Aldren', 'Dan', 'Joanna'],\n",
      " 'title': 'Working With JSON Data in Python',\n",
      " 'url': 'https://realpython.com/python-json/'}\n"
     ]
    }
   ],
   "source": [
    "for doc in docs:\n",
    "    pprint.pprint(doc)"
   ]
  },
  {
   "cell_type": "code",
   "execution_count": null,
   "id": "1b9007ba-9f4b-45d1-9562-852af0240e33",
   "metadata": {},
   "outputs": [],
   "source": []
  },
  {
   "cell_type": "code",
   "execution_count": 28,
   "id": "86113dee-9de6-4db0-be7e-275e826268f3",
   "metadata": {},
   "outputs": [],
   "source": [
    "# close the connection\n",
    "client.close()"
   ]
  },
  {
   "cell_type": "markdown",
   "id": "4bae4f22-6599-4306-bcbd-039e3615390e",
   "metadata": {},
   "source": [
    "or use a with statement"
   ]
  },
  {
   "cell_type": "markdown",
   "id": "c5188c08-572b-4969-bd17-244dad97879e",
   "metadata": {},
   "source": [
    "### goring further\n",
    "you can look into mongoengine module"
   ]
  },
  {
   "cell_type": "code",
   "execution_count": null,
   "id": "8429d67c-ad83-4512-8544-9646820daab7",
   "metadata": {},
   "outputs": [],
   "source": []
  }
 ],
 "metadata": {
  "kernelspec": {
   "display_name": "bootcamp",
   "language": "python",
   "name": "bootcamp"
  },
  "language_info": {
   "codemirror_mode": {
    "name": "ipython",
    "version": 3
   },
   "file_extension": ".py",
   "mimetype": "text/x-python",
   "name": "python",
   "nbconvert_exporter": "python",
   "pygments_lexer": "ipython3",
   "version": "3.8.11"
  }
 },
 "nbformat": 4,
 "nbformat_minor": 5
}
