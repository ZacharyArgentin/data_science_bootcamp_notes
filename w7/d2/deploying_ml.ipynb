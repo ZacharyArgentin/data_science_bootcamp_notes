{
 "cells": [
  {
   "cell_type": "markdown",
   "id": "0bbe35c4-7ee1-4e5f-898e-3fa3e52df08e",
   "metadata": {},
   "source": [
    "# Deploying ML Tutorial"
   ]
  },
  {
   "cell_type": "code",
   "execution_count": 1,
   "id": "0996e395-5dcb-40e6-9b19-991b1db6bc1d",
   "metadata": {},
   "outputs": [],
   "source": [
    "import pandas as pd\n",
    "from sklearn.datasets import load_wine\n",
    "\n",
    "from sklearn.model_selection import GridSearchCV\n",
    "from sklearn.pipeline import Pipeline, FeatureUnion\n",
    "\n",
    "from sklearn.preprocessing import StandardScaler\n",
    "from sklearn.decomposition import PCA\n",
    "from sklearn.feature_selection import SelectKBest\n",
    "\n",
    "from sklearn.ensemble import RandomForestClassifier\n",
    "\n",
    "import pickle"
   ]
  },
  {
   "cell_type": "markdown",
   "id": "515e0ec5-e36d-461e-a0d1-cb57ef2405c5",
   "metadata": {},
   "source": [
    "#### Loading Data"
   ]
  },
  {
   "cell_type": "code",
   "execution_count": 2,
   "id": "9f037f62-6078-4474-844d-55dc6b428aee",
   "metadata": {},
   "outputs": [
    {
     "data": {
      "text/html": [
       "<div>\n",
       "<style scoped>\n",
       "    .dataframe tbody tr th:only-of-type {\n",
       "        vertical-align: middle;\n",
       "    }\n",
       "\n",
       "    .dataframe tbody tr th {\n",
       "        vertical-align: top;\n",
       "    }\n",
       "\n",
       "    .dataframe thead th {\n",
       "        text-align: right;\n",
       "    }\n",
       "</style>\n",
       "<table border=\"1\" class=\"dataframe\">\n",
       "  <thead>\n",
       "    <tr style=\"text-align: right;\">\n",
       "      <th></th>\n",
       "      <th>alcohol</th>\n",
       "      <th>malic_acid</th>\n",
       "      <th>ash</th>\n",
       "      <th>alcalinity_of_ash</th>\n",
       "      <th>magnesium</th>\n",
       "      <th>total_phenols</th>\n",
       "      <th>flavanoids</th>\n",
       "      <th>nonflavanoid_phenols</th>\n",
       "      <th>proanthocyanins</th>\n",
       "      <th>color_intensity</th>\n",
       "      <th>hue</th>\n",
       "      <th>od280/od315_of_diluted_wines</th>\n",
       "      <th>proline</th>\n",
       "    </tr>\n",
       "  </thead>\n",
       "  <tbody>\n",
       "    <tr>\n",
       "      <th>0</th>\n",
       "      <td>14.23</td>\n",
       "      <td>1.71</td>\n",
       "      <td>2.43</td>\n",
       "      <td>15.6</td>\n",
       "      <td>127.0</td>\n",
       "      <td>2.80</td>\n",
       "      <td>3.06</td>\n",
       "      <td>0.28</td>\n",
       "      <td>2.29</td>\n",
       "      <td>5.64</td>\n",
       "      <td>1.04</td>\n",
       "      <td>3.92</td>\n",
       "      <td>1065.0</td>\n",
       "    </tr>\n",
       "    <tr>\n",
       "      <th>1</th>\n",
       "      <td>13.20</td>\n",
       "      <td>1.78</td>\n",
       "      <td>2.14</td>\n",
       "      <td>11.2</td>\n",
       "      <td>100.0</td>\n",
       "      <td>2.65</td>\n",
       "      <td>2.76</td>\n",
       "      <td>0.26</td>\n",
       "      <td>1.28</td>\n",
       "      <td>4.38</td>\n",
       "      <td>1.05</td>\n",
       "      <td>3.40</td>\n",
       "      <td>1050.0</td>\n",
       "    </tr>\n",
       "    <tr>\n",
       "      <th>2</th>\n",
       "      <td>13.16</td>\n",
       "      <td>2.36</td>\n",
       "      <td>2.67</td>\n",
       "      <td>18.6</td>\n",
       "      <td>101.0</td>\n",
       "      <td>2.80</td>\n",
       "      <td>3.24</td>\n",
       "      <td>0.30</td>\n",
       "      <td>2.81</td>\n",
       "      <td>5.68</td>\n",
       "      <td>1.03</td>\n",
       "      <td>3.17</td>\n",
       "      <td>1185.0</td>\n",
       "    </tr>\n",
       "    <tr>\n",
       "      <th>3</th>\n",
       "      <td>14.37</td>\n",
       "      <td>1.95</td>\n",
       "      <td>2.50</td>\n",
       "      <td>16.8</td>\n",
       "      <td>113.0</td>\n",
       "      <td>3.85</td>\n",
       "      <td>3.49</td>\n",
       "      <td>0.24</td>\n",
       "      <td>2.18</td>\n",
       "      <td>7.80</td>\n",
       "      <td>0.86</td>\n",
       "      <td>3.45</td>\n",
       "      <td>1480.0</td>\n",
       "    </tr>\n",
       "    <tr>\n",
       "      <th>4</th>\n",
       "      <td>13.24</td>\n",
       "      <td>2.59</td>\n",
       "      <td>2.87</td>\n",
       "      <td>21.0</td>\n",
       "      <td>118.0</td>\n",
       "      <td>2.80</td>\n",
       "      <td>2.69</td>\n",
       "      <td>0.39</td>\n",
       "      <td>1.82</td>\n",
       "      <td>4.32</td>\n",
       "      <td>1.04</td>\n",
       "      <td>2.93</td>\n",
       "      <td>735.0</td>\n",
       "    </tr>\n",
       "  </tbody>\n",
       "</table>\n",
       "</div>"
      ],
      "text/plain": [
       "   alcohol  malic_acid   ash  alcalinity_of_ash  magnesium  total_phenols  \\\n",
       "0    14.23        1.71  2.43               15.6      127.0           2.80   \n",
       "1    13.20        1.78  2.14               11.2      100.0           2.65   \n",
       "2    13.16        2.36  2.67               18.6      101.0           2.80   \n",
       "3    14.37        1.95  2.50               16.8      113.0           3.85   \n",
       "4    13.24        2.59  2.87               21.0      118.0           2.80   \n",
       "\n",
       "   flavanoids  nonflavanoid_phenols  proanthocyanins  color_intensity   hue  \\\n",
       "0        3.06                  0.28             2.29             5.64  1.04   \n",
       "1        2.76                  0.26             1.28             4.38  1.05   \n",
       "2        3.24                  0.30             2.81             5.68  1.03   \n",
       "3        3.49                  0.24             2.18             7.80  0.86   \n",
       "4        2.69                  0.39             1.82             4.32  1.04   \n",
       "\n",
       "   od280/od315_of_diluted_wines  proline  \n",
       "0                          3.92   1065.0  \n",
       "1                          3.40   1050.0  \n",
       "2                          3.17   1185.0  \n",
       "3                          3.45   1480.0  \n",
       "4                          2.93    735.0  "
      ]
     },
     "execution_count": 2,
     "metadata": {},
     "output_type": "execute_result"
    }
   ],
   "source": [
    "data = load_wine()\n",
    "df = pd.DataFrame(data['data'])\n",
    "df.columns = data['feature_names']\n",
    "y = data['target']\n",
    "df.head()"
   ]
  },
  {
   "cell_type": "markdown",
   "id": "4ceba28a-5d8e-4f23-aa06-b25aa61a143c",
   "metadata": {},
   "source": [
    "#### Defining a class that we can use in a pipeline"
   ]
  },
  {
   "cell_type": "code",
   "execution_count": 5,
   "id": "fa5d1c84-fec5-436a-a6f2-1c73e71543bc",
   "metadata": {},
   "outputs": [],
   "source": [
    "class RawFeats:\n",
    "    def __init__(self, feats):\n",
    "        self.feats = feats\n",
    "        \n",
    "    def fit(self, X, y=None):\n",
    "        pass\n",
    "    \n",
    "    def transform(self, X, y=None):\n",
    "        return X[self.feats]\n",
    "    \n",
    "    def fit_transform(self, X, y=None):\n",
    "        self.fit(X)\n",
    "        return self.transform(X)"
   ]
  },
  {
   "cell_type": "code",
   "execution_count": 6,
   "id": "760cccce-c519-4baa-914b-d72c292de672",
   "metadata": {},
   "outputs": [],
   "source": [
    "# features we want to keep for PCA\n",
    "feats = ['alcohol','malic_acid','ash','alcalinity_of_ash','magnesium',\n",
    "         'total_phenols','flavanoids','nonflavanoid_phenols']\n",
    "# creating class object with indexes we want to keep.\n",
    "raw_feats = RawFeats(feats)"
   ]
  },
  {
   "cell_type": "code",
   "execution_count": 8,
   "id": "86eb2eaa-2be0-4368-aef4-12526b98e5ec",
   "metadata": {},
   "outputs": [],
   "source": [
    "sc = StandardScaler()\n",
    "pca = PCA(n_components=2)\n",
    "selection = SelectKBest(k=4)\n",
    "rf = RandomForestClassifier()"
   ]
  },
  {
   "cell_type": "markdown",
   "id": "588a4c1f-6f59-4467-90bd-148b3fcf3e6f",
   "metadata": {},
   "source": [
    "#### Pipelining\n",
    "\n",
    "For some reason we create like 8 different piplines and combine them into 1 pipeline and then use grid search with the final pipeline."
   ]
  },
  {
   "cell_type": "code",
   "execution_count": 11,
   "id": "2b982221-768e-45ec-ab4e-281b3068a409",
   "metadata": {},
   "outputs": [],
   "source": [
    "PCA_pipeline = Pipeline([\n",
    "    (\"raw_feats\", raw_feats),\n",
    "    (\"scaler\", sc),\n",
    "    (\"pca\", pca),\n",
    "])  "
   ]
  },
  {
   "cell_type": "code",
   "execution_count": 12,
   "id": "a5975b83-91d8-416c-81f0-a3a26c1627f8",
   "metadata": {},
   "outputs": [],
   "source": [
    "kbest_pipeline = Pipeline([(\"kbest\", selection)])"
   ]
  },
  {
   "cell_type": "code",
   "execution_count": 13,
   "id": "7e8693db-cd71-4901-8b13-e311570db2b0",
   "metadata": {},
   "outputs": [],
   "source": [
    "all_features = FeatureUnion([\n",
    "    (\"pca_pipeline\", PCA_pipeline),\n",
    "    (\"kbest_pipeline\", kbest_pipeline)\n",
    "])"
   ]
  },
  {
   "cell_type": "code",
   "execution_count": 14,
   "id": "05a2fa1b-a3fa-489c-826a-a0a9022b5ac6",
   "metadata": {},
   "outputs": [],
   "source": [
    "main_pipeline = Pipeline([\n",
    "    (\"features\", all_features),\n",
    "    (\"rf\", rf),\n",
    "])"
   ]
  },
  {
   "cell_type": "markdown",
   "id": "9bf5ef74-e50e-48f9-bf1d-723b2624065a",
   "metadata": {},
   "source": [
    "Grid search"
   ]
  },
  {
   "cell_type": "code",
   "execution_count": 15,
   "id": "5f099a34-4819-4477-a885-cae89b867c5c",
   "metadata": {},
   "outputs": [],
   "source": [
    "param_grid = {\"features__pca_pipeline__pca__n_components\": [1,2,3],\n",
    "              \"features__kbest_pipeline__kbest__k\": [1,2,3],\n",
    "              \"rf__n_estimators\": [2,5,10],\n",
    "              \"rf__max_depth\": [2,4,6]\n",
    "             }"
   ]
  },
  {
   "cell_type": "code",
   "execution_count": 16,
   "id": "8699cb67-5e30-46d3-bf1f-8060c26f1ee6",
   "metadata": {},
   "outputs": [
    {
     "name": "stdout",
     "output_type": "stream",
     "text": [
      "Fitting 5 folds for each of 81 candidates, totalling 405 fits\n"
     ]
    },
    {
     "data": {
      "text/plain": [
       "GridSearchCV(estimator=Pipeline(steps=[('features',\n",
       "                                        FeatureUnion(transformer_list=[('pca_pipeline',\n",
       "                                                                        Pipeline(steps=[('raw_feats',\n",
       "                                                                                         <__main__.RawFeats object at 0x7faf593d2b20>),\n",
       "                                                                                        ('scaler',\n",
       "                                                                                         StandardScaler()),\n",
       "                                                                                        ('pca',\n",
       "                                                                                         PCA(n_components=2))])),\n",
       "                                                                       ('kbest_pipeline',\n",
       "                                                                        Pipeline(steps=[('kbest',\n",
       "                                                                                         SelectKBest(k=4))]))])),\n",
       "                                       ('rf', RandomForestClassifier())]),\n",
       "             n_jobs=-1,\n",
       "             param_grid={'features__kbest_pipeline__kbest__k': [1, 2, 3],\n",
       "                         'features__pca_pipeline__pca__n_components': [1, 2, 3],\n",
       "                         'rf__max_depth': [2, 4, 6],\n",
       "                         'rf__n_estimators': [2, 5, 10]},\n",
       "             verbose=10)"
      ]
     },
     "execution_count": 16,
     "metadata": {},
     "output_type": "execute_result"
    }
   ],
   "source": [
    "# create a Grid Search object\n",
    "grid_search = GridSearchCV(main_pipeline, param_grid, n_jobs = -1, verbose=10, refit=True)    \n",
    "\n",
    "# fit the model and tune parameters\n",
    "grid_search.fit(df, y)"
   ]
  },
  {
   "cell_type": "markdown",
   "id": "593239db-d5f6-4221-9747-b832e1b267a4",
   "metadata": {},
   "source": [
    "> **Doing all this piplining enabled us to call the pipeline on the original dataset without any transformations**"
   ]
  },
  {
   "cell_type": "code",
   "execution_count": 17,
   "id": "59c2708f-e652-416e-8c13-92bfc4fdb5b7",
   "metadata": {},
   "outputs": [
    {
     "data": {
      "text/plain": [
       "{'features__kbest_pipeline__kbest__k': 3,\n",
       " 'features__pca_pipeline__pca__n_components': 1,\n",
       " 'rf__max_depth': 4,\n",
       " 'rf__n_estimators': 10}"
      ]
     },
     "execution_count": 17,
     "metadata": {},
     "output_type": "execute_result"
    }
   ],
   "source": [
    "grid_search.best_params_"
   ]
  },
  {
   "cell_type": "code",
   "execution_count": 19,
   "id": "777ee3a3-3fb0-4859-83a2-eadf7a6eba20",
   "metadata": {},
   "outputs": [],
   "source": [
    "pickle.dump(grid_search, open( \"model.p\", \"wb\" ) )"
   ]
  },
  {
   "cell_type": "code",
   "execution_count": null,
   "id": "361fd30e-de1c-4807-88cf-f9cac9018e1c",
   "metadata": {},
   "outputs": [],
   "source": []
  },
  {
   "cell_type": "code",
   "execution_count": null,
   "id": "e7c15dba-ac82-4c87-a1f1-af0b2b314b12",
   "metadata": {},
   "outputs": [],
   "source": []
  },
  {
   "cell_type": "markdown",
   "id": "eab9439b-c865-418f-814d-152b22f9393f",
   "metadata": {},
   "source": [
    "# Sending Data to the model that we just deployed"
   ]
  },
  {
   "cell_type": "markdown",
   "id": "a7c2d326-dc11-439a-8c78-b3fff98bfb72",
   "metadata": {},
   "source": [
    "We send the features of the wine sample that we want our model to classify.   \n",
    "We send it in Json format"
   ]
  },
  {
   "cell_type": "code",
   "execution_count": 20,
   "id": "ee80a96e-485f-4035-8948-bb4ca721d62d",
   "metadata": {},
   "outputs": [],
   "source": [
    "json_data = {'alcohol': 14.23,\n",
    " 'malic_acid': 1.71,\n",
    " 'ash': 2.43,\n",
    " 'alcalinity_of_ash': 15.6,\n",
    " 'magnesium': 127.0,\n",
    " 'total_phenols': 2.8,\n",
    " 'flavanoids': 3.06,\n",
    " 'nonflavanoid_phenols': 0.28,\n",
    " 'proanthocyanins': 2.29,\n",
    " 'color_intensity': 5.64,\n",
    " 'hue': 1.04,\n",
    " 'od280/od315_of_diluted_wines': 3.92,\n",
    " 'proline': 1065.0}"
   ]
  },
  {
   "cell_type": "code",
   "execution_count": 21,
   "id": "2b6098a0-0aa7-40e9-b15c-51d9384b6923",
   "metadata": {},
   "outputs": [],
   "source": [
    "import requests"
   ]
  },
  {
   "cell_type": "code",
   "execution_count": 22,
   "id": "bad3ba3f-ab39-4966-b765-2742ea6d14d4",
   "metadata": {},
   "outputs": [],
   "source": [
    "URL = \"http://127.0.0.1:5000/scoring\"\n",
    "# sending post request and saving the response as response object \n",
    "r = requests.post(url = URL, json = json_data) "
   ]
  },
  {
   "cell_type": "code",
   "execution_count": 25,
   "id": "12763022-4d59-467a-a414-c776da3c2eb9",
   "metadata": {},
   "outputs": [
    {
     "data": {
      "text/plain": [
       "[[0.9742369129578432, 0.025763087042156806, 0.0]]"
      ]
     },
     "execution_count": 25,
     "metadata": {},
     "output_type": "execute_result"
    }
   ],
   "source": [
    "r.json()"
   ]
  },
  {
   "cell_type": "code",
   "execution_count": null,
   "id": "67f4342d-7e83-4144-8c4d-ffe324eee0b3",
   "metadata": {},
   "outputs": [],
   "source": []
  }
 ],
 "metadata": {
  "kernelspec": {
   "display_name": "bootcamp",
   "language": "python",
   "name": "bootcamp"
  },
  "language_info": {
   "codemirror_mode": {
    "name": "ipython",
    "version": 3
   },
   "file_extension": ".py",
   "mimetype": "text/x-python",
   "name": "python",
   "nbconvert_exporter": "python",
   "pygments_lexer": "ipython3",
   "version": "3.8.11"
  }
 },
 "nbformat": 4,
 "nbformat_minor": 5
}
