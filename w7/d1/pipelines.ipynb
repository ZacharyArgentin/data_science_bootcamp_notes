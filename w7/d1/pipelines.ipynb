{
 "cells": [
  {
   "cell_type": "markdown",
   "id": "2822fd77-bba8-4f66-b0a5-4a913aa6c3fb",
   "metadata": {},
   "source": [
    "# Pipelines"
   ]
  },
  {
   "cell_type": "code",
   "execution_count": 16,
   "id": "89d92a2f-701e-4e13-b2da-a1d2be3ad331",
   "metadata": {},
   "outputs": [],
   "source": [
    "from IPython.core.interactiveshell import InteractiveShell\n",
    "InteractiveShell.ast_node_interactivity = \"all\""
   ]
  },
  {
   "cell_type": "markdown",
   "id": "c1b34c11-7fa2-4182-b44c-bb1ffb13ce5d",
   "metadata": {},
   "source": [
    "#### Loading data"
   ]
  },
  {
   "cell_type": "code",
   "execution_count": 1,
   "id": "ef414ca3-ad99-4c20-af74-8283ac6d20e6",
   "metadata": {},
   "outputs": [],
   "source": [
    "from sklearn.datasets import load_boston\n",
    "from sklearn.model_selection import train_test_split"
   ]
  },
  {
   "cell_type": "code",
   "execution_count": 2,
   "id": "24caf24f-433f-4a7d-a3be-95e8361e4e7a",
   "metadata": {},
   "outputs": [],
   "source": [
    "boston = load_boston()\n",
    "X_train, X_test, y_train, y_test = train_test_split(boston.data, boston.target, train_size=0.7)"
   ]
  },
  {
   "cell_type": "code",
   "execution_count": 4,
   "id": "ea17350b-4e34-4b58-9ad5-53cfe97a4c4f",
   "metadata": {},
   "outputs": [],
   "source": [
    "from sklearn.preprocessing import StandardScaler, RobustScaler, QuantileTransformer\n",
    "from sklearn.feature_selection import SelectKBest, f_regression\n",
    "from sklearn.decomposition import PCA\n",
    "from sklearn.linear_model import Ridge"
   ]
  },
  {
   "cell_type": "markdown",
   "id": "54afbb97-98ab-4c09-b6d4-7fd5b310ae95",
   "metadata": {},
   "source": [
    "#### Creating the pipeline"
   ]
  },
  {
   "cell_type": "code",
   "execution_count": 7,
   "id": "a06dfcb3-171a-4db1-88da-2e2362d15675",
   "metadata": {},
   "outputs": [],
   "source": [
    "from sklearn.pipeline import Pipeline"
   ]
  },
  {
   "cell_type": "code",
   "execution_count": 8,
   "id": "faa38a9b-9b88-4ec6-9a75-717b42edcb33",
   "metadata": {},
   "outputs": [],
   "source": [
    "pipe = Pipeline([\n",
    "    (\"scaler\" , StandardScaler()),\n",
    "    (\"reduce_dim\", PCA()),\n",
    "    (\"regressor\", Ridge())\n",
    "])"
   ]
  },
  {
   "cell_type": "code",
   "execution_count": 9,
   "id": "2d2d6df2-8293-49eb-a840-bbb59b1a7bc1",
   "metadata": {},
   "outputs": [
    {
     "data": {
      "text/plain": [
       "Pipeline(steps=[('scaler', StandardScaler()), ('reduce_dim', PCA()),\n",
       "                ('regressor', Ridge())])"
      ]
     },
     "execution_count": 9,
     "metadata": {},
     "output_type": "execute_result"
    }
   ],
   "source": [
    "pipe.fit(X_train, y_train)"
   ]
  },
  {
   "cell_type": "markdown",
   "id": "c98714bb-2ad6-4317-93cc-65de28e72b9e",
   "metadata": {},
   "source": [
    "#### assessing results"
   ]
  },
  {
   "cell_type": "code",
   "execution_count": 10,
   "id": "865a0e2b-7da3-46ae-9455-3bbb28095b73",
   "metadata": {},
   "outputs": [
    {
     "data": {
      "text/plain": [
       "0.7237123624022682"
      ]
     },
     "execution_count": 10,
     "metadata": {},
     "output_type": "execute_result"
    }
   ],
   "source": [
    "pipe.score(X_test, y_test)"
   ]
  },
  {
   "cell_type": "code",
   "execution_count": 17,
   "id": "ac7633fb-1680-4337-8eb1-ff917fb63d1a",
   "metadata": {},
   "outputs": [
    {
     "data": {
      "text/plain": [
       "[('scaler', StandardScaler()), ('reduce_dim', PCA()), ('regressor', Ridge())]"
      ]
     },
     "execution_count": 17,
     "metadata": {},
     "output_type": "execute_result"
    },
    {
     "data": {
      "text/plain": [
       "array([5.88988292, 1.48909432, 1.32200253, 0.87055315, 0.83255315,\n",
       "       0.68255086, 0.57862458, 0.42419237, 0.29696508, 0.23691306,\n",
       "       0.18240998, 0.16095158, 0.07013363])"
      ]
     },
     "execution_count": 17,
     "metadata": {},
     "output_type": "execute_result"
    }
   ],
   "source": [
    "pipe.steps\n",
    "\n",
    "# accessing attributes via the pipe!\n",
    "pipe.steps[1][1].explained_variance_"
   ]
  },
  {
   "cell_type": "markdown",
   "id": "5a7d96ca-b8d2-4d59-8327-3ff9445308a5",
   "metadata": {},
   "source": [
    "## Hyperparameter Tuning"
   ]
  },
  {
   "cell_type": "code",
   "execution_count": 25,
   "id": "bd963354-039a-44c4-b511-4ee5f0241cd7",
   "metadata": {},
   "outputs": [],
   "source": [
    "from sklearn.model_selection import GridSearchCV"
   ]
  },
  {
   "cell_type": "code",
   "execution_count": 26,
   "id": "3881a71d-1f41-440e-b4a9-48b4ef725d36",
   "metadata": {},
   "outputs": [],
   "source": [
    "param_grid = {\"reduce_dim__n_components\": range(1,11),\n",
    "              \"regressor__alpha\": [n**2 for n in range(-6, 6)],\n",
    "             }"
   ]
  },
  {
   "cell_type": "code",
   "execution_count": 30,
   "id": "2a8ca1b3-dfc6-4a2e-8da4-6e12ccace0cc",
   "metadata": {},
   "outputs": [
    {
     "data": {
      "text/plain": [
       "GridSearchCV(estimator=Pipeline(steps=[('scaler', StandardScaler()),\n",
       "                                       ('reduce_dim', PCA()),\n",
       "                                       ('regressor', Ridge())]),\n",
       "             param_grid={'reduce_dim__n_components': range(1, 11),\n",
       "                         'regressor__alpha': [36, 25, 16, 9, 4, 1, 0, 1, 4, 9,\n",
       "                                              16, 25]})"
      ]
     },
     "execution_count": 30,
     "metadata": {},
     "output_type": "execute_result"
    },
    {
     "data": {
      "text/plain": [
       "{'reduce_dim__n_components': 8, 'regressor__alpha': 16}"
      ]
     },
     "execution_count": 30,
     "metadata": {},
     "output_type": "execute_result"
    }
   ],
   "source": [
    "gridsearch = GridSearchCV(pipe, param_grid, verbose=0)\n",
    "gridsearch.fit(X_train, y_train)\n",
    "gridsearch.best_params_"
   ]
  },
  {
   "cell_type": "markdown",
   "id": "62dd6366-bde3-401d-8e90-9454f26ae84a",
   "metadata": {},
   "source": [
    "#### Extreme Hyperparameter Tuning!!"
   ]
  },
  {
   "cell_type": "code",
   "execution_count": 40,
   "id": "2df649a7-7c32-445c-8d9c-7f697e7a2ade",
   "metadata": {},
   "outputs": [],
   "source": [
    "# using a list of dictionaries to try out different algorithms each with its own range of hyperparameters to try out\n",
    "param_grid = [\n",
    "             {\"scaler\": [StandardScaler(), RobustScaler(), QuantileTransformer(n_quantiles=200)],\n",
    "              \"reduce_dim\": [PCA()],\n",
    "              \"reduce_dim__n_components\": range(1,11),\n",
    "              \"regressor__alpha\": [n**2 for n in range(-6, 6)]\n",
    "             },\n",
    "             {\"scaler\": [StandardScaler(), RobustScaler(), QuantileTransformer(n_quantiles=200)],\n",
    "              \"reduce_dim\": [SelectKBest(f_regression)],\n",
    "              \"reduce_dim__k\": range(1,11),\n",
    "              \"regressor__alpha\": [n**2 for n in range(-6, 6)]\n",
    "             }\n",
    "             ]"
   ]
  },
  {
   "cell_type": "code",
   "execution_count": 41,
   "id": "fc72fb3d-dc4c-4c2d-bd5f-219b95a9cae1",
   "metadata": {},
   "outputs": [
    {
     "data": {
      "text/plain": [
       "GridSearchCV(estimator=Pipeline(steps=[('scaler', StandardScaler()),\n",
       "                                       ('reduce_dim', PCA()),\n",
       "                                       ('regressor', Ridge())]),\n",
       "             param_grid=[{'reduce_dim': [PCA(n_components=9)],\n",
       "                          'reduce_dim__n_components': range(1, 11),\n",
       "                          'regressor__alpha': [36, 25, 16, 9, 4, 1, 0, 1, 4, 9,\n",
       "                                               16, 25],\n",
       "                          'scaler': [StandardScaler(), RobustScaler(),\n",
       "                                     QuantileTransformer(n_quantiles=200)]},\n",
       "                         {'reduce_dim': [SelectKBest(score_func=<function f_regression at 0x7f9efa5d1790>)],\n",
       "                          'reduce_dim__k': range(1, 11),\n",
       "                          'regressor__alpha': [36, 25, 16, 9, 4, 1, 0, 1, 4, 9,\n",
       "                                               16, 25],\n",
       "                          'scaler': [StandardScaler(), RobustScaler(),\n",
       "                                     QuantileTransformer(n_quantiles=200)]}])"
      ]
     },
     "execution_count": 41,
     "metadata": {},
     "output_type": "execute_result"
    },
    {
     "name": "stdout",
     "output_type": "stream",
     "text": [
      "Final score is:  0.6879329603141091\n"
     ]
    }
   ],
   "source": [
    "gridsearch = GridSearchCV(pipe, param_grid, verbose=0)\n",
    "gridsearch.fit(X_train, y_train)\n",
    "print('Final score is: ', gridsearch.score(X_test, y_test))"
   ]
  },
  {
   "cell_type": "code",
   "execution_count": 42,
   "id": "ef2bcdc7-7e56-41c3-a42b-650b103466ab",
   "metadata": {},
   "outputs": [
    {
     "data": {
      "text/plain": [
       "{'reduce_dim': PCA(n_components=9),\n",
       " 'reduce_dim__n_components': 9,\n",
       " 'regressor__alpha': 1,\n",
       " 'scaler': RobustScaler()}"
      ]
     },
     "execution_count": 42,
     "metadata": {},
     "output_type": "execute_result"
    }
   ],
   "source": [
    "gridsearch.best_params_"
   ]
  },
  {
   "cell_type": "markdown",
   "id": "1ff9b83c-b8b7-420d-8fdb-991be7efc60e",
   "metadata": {},
   "source": [
    "# Combining pipelines   \n",
    "### (Feature Union)"
   ]
  },
  {
   "cell_type": "code",
   "execution_count": 43,
   "id": "f981954f-6035-4e66-ba20-373edab19698",
   "metadata": {},
   "outputs": [],
   "source": [
    "from sklearn.datasets import load_iris"
   ]
  },
  {
   "cell_type": "code",
   "execution_count": 44,
   "id": "6048bce0-adcc-4976-8ebd-38f395981d53",
   "metadata": {},
   "outputs": [],
   "source": [
    "iris = load_iris()\n",
    "X = iris.data\n",
    "y = iris.target"
   ]
  },
  {
   "cell_type": "code",
   "execution_count": 46,
   "id": "e8d14744-05f3-491f-90d7-e8ac29ea68c8",
   "metadata": {},
   "outputs": [],
   "source": [
    "from sklearn.svm import SVC\n",
    "from sklearn.model_selection import GridSearchCV\n",
    "from sklearn.pipeline import FeatureUnion, Pipeline\n",
    "from sklearn.decomposition import PCA\n",
    "from sklearn.feature_selection import SelectKBest"
   ]
  },
  {
   "cell_type": "code",
   "execution_count": 47,
   "id": "7e145e80-891d-4a5d-bead-09cbde9ea9e5",
   "metadata": {},
   "outputs": [],
   "source": [
    "pca = PCA(n_components=2)\n",
    "kbest = SelectKBest(k=3)"
   ]
  },
  {
   "cell_type": "code",
   "execution_count": 57,
   "id": "7aecd49c-6963-4e28-9fc7-5b64b4ff33cb",
   "metadata": {},
   "outputs": [
    {
     "data": {
      "text/plain": [
       "FeatureUnion(transformer_list=[('pca', PCA(n_components=2)),\n",
       "                               ('univ_selection', SelectKBest(k=3))])"
      ]
     },
     "execution_count": 57,
     "metadata": {},
     "output_type": "execute_result"
    }
   ],
   "source": [
    "combined_features = FeatureUnion([(\"pca\", pca), (\"univ_selection\", kbest)])\n",
    "combined_features"
   ]
  },
  {
   "cell_type": "code",
   "execution_count": 49,
   "id": "d4e55fd1-13e0-4b0a-9323-7766fd559a5e",
   "metadata": {},
   "outputs": [],
   "source": [
    "# We will initialize the classifier\n",
    "svm = SVC(kernel=\"linear\")"
   ]
  },
  {
   "cell_type": "code",
   "execution_count": 50,
   "id": "d579edd1-58c9-4155-8f84-2956a926f203",
   "metadata": {},
   "outputs": [],
   "source": [
    "# create pipeline\n",
    "pipeline = Pipeline([(\"features\", combined_features),\n",
    "                     (\"svm\", svm)\n",
    "                    ])"
   ]
  },
  {
   "cell_type": "code",
   "execution_count": 51,
   "id": "ccf566af-f97c-4b96-9050-e0af2693ce50",
   "metadata": {},
   "outputs": [],
   "source": [
    "# set param_grid\n",
    "param_grid = {\"features__pca__n_components\": [1,2,3],\n",
    "              \"features__univ_selection__k\": [1,2,3],\n",
    "              \"svm__C\": [0.1,1,10]\n",
    "             }"
   ]
  },
  {
   "cell_type": "code",
   "execution_count": 55,
   "id": "c719a3a0-2d28-411e-91f5-4bf75a5fe097",
   "metadata": {},
   "outputs": [
    {
     "name": "stdout",
     "output_type": "stream",
     "text": [
      "Fitting 5 folds for each of 27 candidates, totalling 135 fits\n"
     ]
    },
    {
     "data": {
      "text/plain": [
       "GridSearchCV(estimator=Pipeline(steps=[('features',\n",
       "                                        FeatureUnion(transformer_list=[('pca',\n",
       "                                                                        PCA(n_components=2)),\n",
       "                                                                       ('univ_selection',\n",
       "                                                                        SelectKBest(k=3))])),\n",
       "                                       ('svm', SVC(kernel='linear'))]),\n",
       "             param_grid={'features__pca__n_components': [1, 2, 3],\n",
       "                         'features__univ_selection__k': [1, 2, 3],\n",
       "                         'svm__C': [0.1, 1, 10]},\n",
       "             verbose=1)"
      ]
     },
     "execution_count": 55,
     "metadata": {},
     "output_type": "execute_result"
    }
   ],
   "source": [
    "gridsearch = GridSearchCV(pipeline, param_grid, verbose=1, refit=True)\n",
    "gridsearch.fit(X, y)"
   ]
  },
  {
   "cell_type": "code",
   "execution_count": 56,
   "id": "b265b8cc-e64a-4cf1-a7a7-281e49bd6cff",
   "metadata": {},
   "outputs": [
    {
     "data": {
      "text/plain": [
       "{'features__pca__n_components': 2,\n",
       " 'features__univ_selection__k': 3,\n",
       " 'svm__C': 1}"
      ]
     },
     "execution_count": 56,
     "metadata": {},
     "output_type": "execute_result"
    }
   ],
   "source": [
    "gridsearch.best_params_"
   ]
  },
  {
   "cell_type": "code",
   "execution_count": null,
   "id": "24ee8ca4-e6fe-4633-b183-ff1c9166b74a",
   "metadata": {},
   "outputs": [],
   "source": []
  }
 ],
 "metadata": {
  "kernelspec": {
   "display_name": "bootcamp",
   "language": "python",
   "name": "bootcamp"
  },
  "language_info": {
   "codemirror_mode": {
    "name": "ipython",
    "version": 3
   },
   "file_extension": ".py",
   "mimetype": "text/x-python",
   "name": "python",
   "nbconvert_exporter": "python",
   "pygments_lexer": "ipython3",
   "version": "3.8.5"
  }
 },
 "nbformat": 4,
 "nbformat_minor": 5
}
