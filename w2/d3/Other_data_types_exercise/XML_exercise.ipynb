{
 "cells": [
  {
   "cell_type": "markdown",
   "metadata": {},
   "source": [
    "# XML exercise"
   ]
  },
  {
   "cell_type": "markdown",
   "metadata": {},
   "source": [
    "Using data from [**mondial database**](https://drive.google.com/file/d/14lFT4nWHgwN36ij4XZh6OUuup-K9qLgR/view?usp=sharing) find the answers to following questions:\n",
    "\n",
    "1. 10 countries with the lowest infant mortality rates\n",
    "2. 10 cities with the largest population\n",
    "3. name and country of a) longest river, b) largest lake and c) airport at highest elevation"
   ]
  },
  {
   "cell_type": "code",
   "execution_count": 5,
   "metadata": {},
   "outputs": [],
   "source": [
    "import pandas as pd\n",
    "import xml.etree.ElementTree as et"
   ]
  },
  {
   "cell_type": "code",
   "execution_count": 5,
   "metadata": {},
   "outputs": [],
   "source": [
    "tree = et.parse(\"data/mondial.xml\")"
   ]
  },
  {
   "cell_type": "code",
   "execution_count": 5,
   "metadata": {},
   "outputs": [],
   "source": [
    "root = tree.getroot()"
   ]
  },
  {
   "cell_type": "code",
   "execution_count": 24,
   "metadata": {},
   "outputs": [
    {
     "data": {
      "text/plain": [
       "'mondial'"
      ]
     },
     "execution_count": 24,
     "metadata": {},
     "output_type": "execute_result"
    }
   ],
   "source": [
    "# Root tag name\n",
    "root.tag"
   ]
  },
  {
   "cell_type": "code",
   "execution_count": 25,
   "metadata": {},
   "outputs": [
    {
     "data": {
      "text/plain": [
       "'country'"
      ]
     },
     "execution_count": 25,
     "metadata": {},
     "output_type": "execute_result"
    }
   ],
   "source": [
    "# 1st layer tag name\n",
    "root[0].tag"
   ]
  },
  {
   "cell_type": "code",
   "execution_count": 27,
   "metadata": {},
   "outputs": [
    {
     "data": {
      "text/plain": [
       "'name'"
      ]
     },
     "execution_count": 27,
     "metadata": {},
     "output_type": "execute_result"
    }
   ],
   "source": [
    "# 2nd layer tag name\n",
    "# Data is here\n",
    "root[0][0].tag"
   ]
  },
  {
   "cell_type": "code",
   "execution_count": 28,
   "metadata": {},
   "outputs": [
    {
     "data": {
      "text/plain": [
       "'infant_mortality'"
      ]
     },
     "execution_count": 28,
     "metadata": {},
     "output_type": "execute_result"
    }
   ],
   "source": [
    "# Found infante mortality data\n",
    "root[0][11].tag"
   ]
  },
  {
   "cell_type": "code",
   "execution_count": 34,
   "metadata": {},
   "outputs": [
    {
     "name": "stdout",
     "output_type": "stream",
     "text": [
      "244\n"
     ]
    }
   ],
   "source": [
    "# Find number of countries\n",
    "n_countries = 0\n",
    "for i in range(len(root)):\n",
    "    if root[i].tag == \"country\":\n",
    "        n_countries += 1\n",
    "\n",
    "print(n_countries)"
   ]
  },
  {
   "cell_type": "code",
   "execution_count": 49,
   "metadata": {
    "collapsed": true,
    "jupyter": {
     "outputs_hidden": true
    }
   },
   "outputs": [
    {
     "data": {
      "text/plain": [
       "{'Albania': '13.19',\n",
       " 'Greece': '4.78',\n",
       " 'North Macedonia': '7.9',\n",
       " 'Serbia': '6.16',\n",
       " 'Montenegro': '6.16',\n",
       " 'Kosovo': '6.16',\n",
       " 'Andorra': '3.69',\n",
       " 'France': '3.31',\n",
       " 'Spain': '2.7',\n",
       " 'Austria': '4.16',\n",
       " 'Czech Republic': '2.63',\n",
       " 'Germany': '3.46',\n",
       " 'Hungary': '5.09',\n",
       " 'Italy': '3.31',\n",
       " 'Liechtenstein': '4.33',\n",
       " 'Slovakia': '5.35',\n",
       " 'Slovenia': '4.04',\n",
       " 'Switzerland': '3.73',\n",
       " 'Belarus': '3.64',\n",
       " 'Latvia': '7.91',\n",
       " 'Lithuania': '6',\n",
       " 'Poland': '6.19',\n",
       " 'Ukraine': '8.1',\n",
       " 'Russia': '7.08',\n",
       " 'Belgium': '4.18',\n",
       " 'Luxembourg': '4.28',\n",
       " 'Netherlands': '3.66',\n",
       " 'Bosnia and Herzegovina': '5.84',\n",
       " 'Croatia': '5.87',\n",
       " 'Bulgaria': '15.08',\n",
       " 'Romania': '10.16',\n",
       " 'Turkey': '21.43',\n",
       " 'Denmark': '4.1',\n",
       " 'Estonia': '6.7',\n",
       " 'Faroe Islands': '5.71',\n",
       " 'Finland': '3.36',\n",
       " 'Norway': '2.48',\n",
       " 'Sweden': '2.6',\n",
       " 'Monaco': '1.81',\n",
       " 'Gibraltar': '6.29',\n",
       " 'Guernsey': '3.47',\n",
       " 'Holy See': '3.47',\n",
       " 'Ceuta': '3.47',\n",
       " 'Melilla': '3.47',\n",
       " 'Iceland': '3.15',\n",
       " 'Ireland': '3.74',\n",
       " 'San Marino': '4.52',\n",
       " 'Jersey': '3.86',\n",
       " 'Malta': '3.59',\n",
       " 'Isle of Man': '4.17',\n",
       " 'Moldova': '12.93',\n",
       " 'Portugal': '4.48',\n",
       " 'Svalbard': '4.48',\n",
       " 'United Kingdom': '4.44',\n",
       " 'Afghanistan': '117.23',\n",
       " 'China': '14.79',\n",
       " 'Iran': '39',\n",
       " 'Pakistan': '57.48',\n",
       " 'Tajikistan': '35.03',\n",
       " 'Turkmenistan': '38.13',\n",
       " 'Uzbekistan': '19.84',\n",
       " 'Armenia': '13.97',\n",
       " 'Georgia': '16.68',\n",
       " 'Azerbaijan': '26.67',\n",
       " 'Bahrain': '9.68',\n",
       " 'Bangladesh': '45.67',\n",
       " 'Myanmar': '44.91',\n",
       " 'India': '43.19',\n",
       " 'Bhutan': '37.89',\n",
       " 'Brunei': '10.48',\n",
       " 'Malaysia': '13.69',\n",
       " 'Laos': '54.53',\n",
       " 'Thailand': '9.86',\n",
       " 'Cambodia': '51.36',\n",
       " 'Vietnam': '18.99',\n",
       " 'Kazakhstan': '21.61',\n",
       " 'North Korea': '24.5',\n",
       " 'Kyrgyzstan': '28.71',\n",
       " 'Hong Kong': '2.73',\n",
       " 'Macao': '3.13',\n",
       " 'Mongolia': '23.15',\n",
       " 'Nepal': '40.43',\n",
       " 'Christmas Island': '40.43',\n",
       " 'Cocos Islands': '40.43',\n",
       " 'Cyprus': '8.54',\n",
       " 'Gaza Strip': '30.6',\n",
       " 'Israel': '3.98',\n",
       " 'Egypt': '22.41',\n",
       " 'Indonesia': '25.16',\n",
       " 'Timor-Leste': '38.79',\n",
       " 'Papua New Guinea': '39.67',\n",
       " 'Iraq': '37.53',\n",
       " 'Jordan': '15.73',\n",
       " 'Kuwait': '7.51',\n",
       " 'Saudi Arabia': '14.58',\n",
       " 'Syria': '15.79',\n",
       " 'Lebanon': '7.98',\n",
       " 'West Bank': '28.6',\n",
       " 'Japan': '2.13',\n",
       " 'South Korea': '3.93',\n",
       " 'Maldives': '24.59',\n",
       " 'Oman': '14',\n",
       " 'United Arab Emirates': '10.92',\n",
       " 'Yemen': '50.41',\n",
       " 'Philippines': '17.64',\n",
       " 'Qatar': '6.42',\n",
       " 'Singapore': '2.53',\n",
       " 'Sri Lanka': '9.02',\n",
       " 'Taiwan': '4.49',\n",
       " 'Anguilla': '3.4',\n",
       " 'Antigua and Barbuda': '13.29',\n",
       " 'Aruba': '11.74',\n",
       " 'Bahamas': '12.5',\n",
       " 'Barbados': '10.93',\n",
       " 'Belize': '20.31',\n",
       " 'Guatemala': '23.51',\n",
       " 'Mexico': '12.58',\n",
       " 'Bermuda': '2.48',\n",
       " 'British Virgin Islands': '13.45',\n",
       " 'Canada': '4.71',\n",
       " 'United States': '6.17',\n",
       " 'Cayman Islands': '6.21',\n",
       " 'Costa Rica': '8.7',\n",
       " 'Nicaragua': '20.36',\n",
       " 'Panama': '10.7',\n",
       " 'Cuba': '4.7',\n",
       " 'Dominica': '11.61',\n",
       " 'Dominican Republic': '19.63',\n",
       " 'Haiti': '49.43',\n",
       " 'El Salvador': '18.44',\n",
       " 'Honduras': '18.72',\n",
       " 'Greenland': '9.42',\n",
       " 'Grenada': '10.5',\n",
       " 'Guadeloupe': '8.3',\n",
       " 'Jamaica': '13.69',\n",
       " 'Martinique': '7.1',\n",
       " 'Montserrat': '13.66',\n",
       " 'Curacao': '13.66',\n",
       " 'Sint Maarten': '9.05',\n",
       " 'Saint Martin': '9.05',\n",
       " 'Saint Barthelemy': '9.05',\n",
       " 'Colombia': '15.02',\n",
       " 'Puerto Rico': '7.73',\n",
       " 'Saint Kitts and Nevis': '8.98',\n",
       " 'Saint Lucia': '11.75',\n",
       " 'Saint Pierre and Miquelon': '6.95',\n",
       " 'Saint Vincent and the Grenadines': '13.07',\n",
       " 'Trinidad and Tobago': '24.82',\n",
       " 'Turks and Caicos Islands': '10.97',\n",
       " 'Virgin Islands': '6.79',\n",
       " 'American Samoa': '8.92',\n",
       " 'Australia': '4.43',\n",
       " 'Cook Islands': '14.33',\n",
       " 'Fiji': '10.2',\n",
       " 'French Polynesia': '4.78',\n",
       " 'Guam': '5.51',\n",
       " 'Kiribati': '35.37',\n",
       " 'Marshall Islands': '21.39',\n",
       " 'Micronesia': '21.93',\n",
       " 'Nauru': '8.21',\n",
       " 'New Caledonia': '5.46',\n",
       " 'New Zealand': '4.59',\n",
       " 'Niue': '4.59',\n",
       " 'Norfolk Island': '4.59',\n",
       " 'Northern Mariana Islands': '5.5',\n",
       " 'Palau': '11.46',\n",
       " 'Pitcairn': '11.46',\n",
       " 'Solomon Islands': '16.17',\n",
       " 'Tonga': '12.36',\n",
       " 'Tuvalu': '31.69',\n",
       " 'Tokelau': '31.69',\n",
       " 'Vanuatu': '16.41',\n",
       " 'Wallis and Futuna': '4.49',\n",
       " 'Samoa': '20.5',\n",
       " 'Argentina': '9.96',\n",
       " 'Bolivia': '38.61',\n",
       " 'Brazil': '19.21',\n",
       " 'Chile': '7.02',\n",
       " 'Paraguay': '20.75',\n",
       " 'Uruguay': '8.97',\n",
       " 'Peru': '20.21',\n",
       " 'French Guiana': '14.6',\n",
       " 'Guyana': '33.56',\n",
       " 'Suriname': '27.07',\n",
       " 'Venezuela': '19.33',\n",
       " 'Ecuador': '17.93',\n",
       " 'Falkland Islands': '17.93',\n",
       " 'Algeria': '21.76',\n",
       " 'Libya': '11.87',\n",
       " 'Mali': '104.34',\n",
       " 'Mauritania': '56.06',\n",
       " 'Morocco': '24.52',\n",
       " 'Niger': '86.27',\n",
       " 'Tunisia': '23.19',\n",
       " 'Western Sahara': '145.82',\n",
       " 'Angola': '79.99',\n",
       " 'Congo': '59.34',\n",
       " 'Namibia': '45.64',\n",
       " 'Zaire': '73.15',\n",
       " 'Zambia': '66.62',\n",
       " 'Benin': '57.09',\n",
       " 'Burkina Faso': '76.8',\n",
       " 'Nigeria': '74.09',\n",
       " 'Togo': '46.73',\n",
       " 'Botswana': '9.38',\n",
       " 'South Africa': '41.61',\n",
       " 'Zimbabwe': '26.55',\n",
       " \"Cote d'Ivoire\": '60.16',\n",
       " 'Ghana': '38.52',\n",
       " 'Burundi': '63.44',\n",
       " 'Rwanda': '59.59',\n",
       " 'Tanzania': '43.74',\n",
       " 'Cameroon': '55.1',\n",
       " 'Central African Republic': '92.86',\n",
       " 'Chad': '90.3',\n",
       " 'Equatorial Guinea': '71.12',\n",
       " 'Gabon': '47.03',\n",
       " 'Cape Verde': '24.28',\n",
       " 'Sudan': '52.86',\n",
       " 'South Sudan': '68.16',\n",
       " 'Comoros': '65.31',\n",
       " 'Guinea': '55.24',\n",
       " 'Liberia': '69.19',\n",
       " 'Djibouti': '50.2',\n",
       " 'Eritrea': '38.44',\n",
       " 'Ethiopia': '55.77',\n",
       " 'Somalia': '100.14',\n",
       " 'Kenya': '40.71',\n",
       " 'Gambia': '65.74',\n",
       " 'Senegal': '52.72',\n",
       " 'Guinea-Bissau': '90.92',\n",
       " 'Sierra Leone': '73.29',\n",
       " 'Uganda': '60.82',\n",
       " 'Lesotho': '50.48',\n",
       " 'Madagascar': '44.88',\n",
       " 'Malawi': '48.01',\n",
       " 'Mozambique': '72.42',\n",
       " 'Mauritius': '10.59',\n",
       " 'Mayotte': '56.29',\n",
       " 'Swaziland': '54.82',\n",
       " 'Reunion': '7.5',\n",
       " 'Saint Helena': '17.63',\n",
       " 'Sao Tome and Principe': '49.16',\n",
       " 'Seychelles': '10.77'}"
      ]
     },
     "execution_count": 49,
     "metadata": {},
     "output_type": "execute_result"
    }
   ],
   "source": [
    "# Loop through each country to find infant mortality data for each one and add to dictionary\n",
    "infant_mortality_dict = {}\n",
    "\n",
    "for country in root:\n",
    "    if country.tag == \"country\":\n",
    "        for data in country:\n",
    "            if data.tag == \"name\":\n",
    "                country_name = data.text\n",
    "            elif data.tag == \"infant_mortality\":\n",
    "                imr = data.text\n",
    "        infant_mortality_dict.update({country_name : imr})\n",
    "\n",
    "infant_mortality_dict"
   ]
  },
  {
   "cell_type": "code",
   "execution_count": 61,
   "metadata": {},
   "outputs": [
    {
     "data": {
      "text/plain": [
       "Monaco            1.81\n",
       "Japan             2.13\n",
       "Norway            2.48\n",
       "Bermuda           2.48\n",
       "Singapore         2.53\n",
       "Sweden            2.60\n",
       "Czech Republic    2.63\n",
       "Spain             2.70\n",
       "Hong Kong         2.73\n",
       "Macao             3.13\n",
       "dtype: float64"
      ]
     },
     "execution_count": 61,
     "metadata": {},
     "output_type": "execute_result"
    }
   ],
   "source": [
    "imr_series = pd.Series(infant_mortality_dict)\n",
    "imr_series.astype(float).sort_values().head(10)"
   ]
  },
  {
   "cell_type": "markdown",
   "metadata": {},
   "source": [
    "# Question 2"
   ]
  },
  {
   "cell_type": "code",
   "execution_count": 73,
   "metadata": {},
   "outputs": [
    {
     "data": {
      "text/plain": [
       "<Element 'mondial' at 0x7fcbc0222630>"
      ]
     },
     "execution_count": 73,
     "metadata": {},
     "output_type": "execute_result"
    }
   ],
   "source": [
    "child"
   ]
  },
  {
   "cell_type": "code",
   "execution_count": 137,
   "metadata": {},
   "outputs": [],
   "source": [
    "cities_pop_dict = {}\n",
    "\n",
    "for child in root:\n",
    "    if child.tag == 'country':\n",
    "        for child2 in child:\n",
    "            if child2.tag == \"city\":\n",
    "                for child3 in child2:\n",
    "                    if child3.tag == \"name\":\n",
    "                        city_name = child3.text\n",
    "                    if child3.tag == \"population\":\n",
    "                        if child3.attrib['year'] == \"2011\":\n",
    "                            cities_pop_dict.update({city_name : child3.text})\n",
    "                       \n",
    "            if child2.tag == \"province\":\n",
    "                for child3 in child2:\n",
    "                    if child3.tag == \"city\":\n",
    "                        for child4 in child3:\n",
    "                            if child4.tag == \"name\":\n",
    "                                city_name = child4.text\n",
    "                            if child4.tag == \"population\":\n",
    "                                if child4.attrib[\"year\"] == \"2011\":\n",
    "                                    cities_pop_dict.update({city_name : child4.text})\n"
   ]
  },
  {
   "cell_type": "code",
   "execution_count": 138,
   "metadata": {},
   "outputs": [],
   "source": [
    "cities_pop = pd.Series(cities_pop_dict)"
   ]
  },
  {
   "cell_type": "code",
   "execution_count": 143,
   "metadata": {},
   "outputs": [
    {
     "data": {
      "text/plain": [
       "Mumbai       12442373.0\n",
       "Delhi        11034555.0\n",
       "Bengaluru     8443675.0\n",
       "Tehran        8154051.0\n",
       "Dhaka         7423137.0\n",
       "Hyderabad     6731790.0\n",
       "Ahmedabad     5577940.0\n",
       "Chennai       4646732.0\n",
       "Sydney        4605992.0\n",
       "Calcutta      4496694.0\n",
       "dtype: float64"
      ]
     },
     "execution_count": 143,
     "metadata": {},
     "output_type": "execute_result"
    }
   ],
   "source": [
    "cities_pop.astype(float).sort_values(ascending=False).head(10)"
   ]
  }
 ],
 "metadata": {
  "anaconda-cloud": {},
  "kernelspec": {
   "display_name": "Python 3",
   "language": "python",
   "name": "python3"
  },
  "language_info": {
   "codemirror_mode": {
    "name": "ipython",
    "version": 3
   },
   "file_extension": ".py",
   "mimetype": "text/x-python",
   "name": "python",
   "nbconvert_exporter": "python",
   "pygments_lexer": "ipython3",
   "version": "3.8.8"
  }
 },
 "nbformat": 4,
 "nbformat_minor": 4
}
