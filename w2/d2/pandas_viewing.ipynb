{
 "cells": [
  {
   "cell_type": "markdown",
   "metadata": {},
   "source": [
    "# Viewing"
   ]
  },
  {
   "cell_type": "code",
   "execution_count": 3,
   "metadata": {},
   "outputs": [],
   "source": [
    "from IPython.core.interactiveshell import InteractiveShell\n",
    "InteractiveShell.ast_node_interactivity = \"all\""
   ]
  },
  {
   "cell_type": "code",
   "execution_count": 1,
   "metadata": {},
   "outputs": [],
   "source": [
    "import numpy as np\n",
    "import pandas as pd"
   ]
  },
  {
   "cell_type": "markdown",
   "metadata": {},
   "source": [
    "### Creating Series & df"
   ]
  },
  {
   "cell_type": "code",
   "execution_count": 2,
   "metadata": {},
   "outputs": [
    {
     "data": {
      "text/plain": [
       "0    1.0\n",
       "1    3.0\n",
       "2    5.0\n",
       "3    NaN\n",
       "4    6.0\n",
       "5    8.0\n",
       "dtype: float64"
      ]
     },
     "execution_count": 2,
     "metadata": {},
     "output_type": "execute_result"
    }
   ],
   "source": [
    "s = pd.Series([1,3,5,np.nan,6,8])\n",
    "s"
   ]
  },
  {
   "cell_type": "code",
   "execution_count": 4,
   "metadata": {},
   "outputs": [
    {
     "data": {
      "text/plain": [
       "DatetimeIndex(['2021-06-29', '2021-06-30', '2021-07-01', '2021-07-02',\n",
       "               '2021-07-03', '2021-07-04'],\n",
       "              dtype='datetime64[ns]', freq='D')"
      ]
     },
     "execution_count": 4,
     "metadata": {},
     "output_type": "execute_result"
    }
   ],
   "source": [
    "dates = pd.date_range('20210629', periods=6)\n",
    "dates"
   ]
  },
  {
   "cell_type": "code",
   "execution_count": 6,
   "metadata": {},
   "outputs": [
    {
     "data": {
      "text/html": [
       "<div>\n",
       "<style scoped>\n",
       "    .dataframe tbody tr th:only-of-type {\n",
       "        vertical-align: middle;\n",
       "    }\n",
       "\n",
       "    .dataframe tbody tr th {\n",
       "        vertical-align: top;\n",
       "    }\n",
       "\n",
       "    .dataframe thead th {\n",
       "        text-align: right;\n",
       "    }\n",
       "</style>\n",
       "<table border=\"1\" class=\"dataframe\">\n",
       "  <thead>\n",
       "    <tr style=\"text-align: right;\">\n",
       "      <th></th>\n",
       "      <th>A</th>\n",
       "      <th>B</th>\n",
       "      <th>C</th>\n",
       "      <th>D</th>\n",
       "    </tr>\n",
       "  </thead>\n",
       "  <tbody>\n",
       "    <tr>\n",
       "      <th>2021-06-29</th>\n",
       "      <td>1.788012</td>\n",
       "      <td>-1.689508</td>\n",
       "      <td>1.566122</td>\n",
       "      <td>0.098571</td>\n",
       "    </tr>\n",
       "    <tr>\n",
       "      <th>2021-06-30</th>\n",
       "      <td>0.940526</td>\n",
       "      <td>0.138319</td>\n",
       "      <td>1.462119</td>\n",
       "      <td>-0.601579</td>\n",
       "    </tr>\n",
       "    <tr>\n",
       "      <th>2021-07-01</th>\n",
       "      <td>-0.944202</td>\n",
       "      <td>-0.097555</td>\n",
       "      <td>1.728288</td>\n",
       "      <td>0.861634</td>\n",
       "    </tr>\n",
       "    <tr>\n",
       "      <th>2021-07-02</th>\n",
       "      <td>-0.557406</td>\n",
       "      <td>1.043570</td>\n",
       "      <td>1.398022</td>\n",
       "      <td>-0.677568</td>\n",
       "    </tr>\n",
       "    <tr>\n",
       "      <th>2021-07-03</th>\n",
       "      <td>-0.217742</td>\n",
       "      <td>-0.103924</td>\n",
       "      <td>-0.426206</td>\n",
       "      <td>-0.653283</td>\n",
       "    </tr>\n",
       "    <tr>\n",
       "      <th>2021-07-04</th>\n",
       "      <td>1.302261</td>\n",
       "      <td>0.551452</td>\n",
       "      <td>1.069123</td>\n",
       "      <td>1.546181</td>\n",
       "    </tr>\n",
       "  </tbody>\n",
       "</table>\n",
       "</div>"
      ],
      "text/plain": [
       "                   A         B         C         D\n",
       "2021-06-29  1.788012 -1.689508  1.566122  0.098571\n",
       "2021-06-30  0.940526  0.138319  1.462119 -0.601579\n",
       "2021-07-01 -0.944202 -0.097555  1.728288  0.861634\n",
       "2021-07-02 -0.557406  1.043570  1.398022 -0.677568\n",
       "2021-07-03 -0.217742 -0.103924 -0.426206 -0.653283\n",
       "2021-07-04  1.302261  0.551452  1.069123  1.546181"
      ]
     },
     "execution_count": 6,
     "metadata": {},
     "output_type": "execute_result"
    }
   ],
   "source": [
    "df = pd.DataFrame(np.random.randn(6, 4), index=dates, columns=list(\"ABCD\"))\n",
    "df"
   ]
  },
  {
   "cell_type": "code",
   "execution_count": 9,
   "metadata": {},
   "outputs": [
    {
     "data": {
      "text/html": [
       "<div>\n",
       "<style scoped>\n",
       "    .dataframe tbody tr th:only-of-type {\n",
       "        vertical-align: middle;\n",
       "    }\n",
       "\n",
       "    .dataframe tbody tr th {\n",
       "        vertical-align: top;\n",
       "    }\n",
       "\n",
       "    .dataframe thead th {\n",
       "        text-align: right;\n",
       "    }\n",
       "</style>\n",
       "<table border=\"1\" class=\"dataframe\">\n",
       "  <thead>\n",
       "    <tr style=\"text-align: right;\">\n",
       "      <th></th>\n",
       "      <th>A</th>\n",
       "      <th>B</th>\n",
       "      <th>C</th>\n",
       "      <th>D</th>\n",
       "      <th>E</th>\n",
       "      <th>F</th>\n",
       "    </tr>\n",
       "  </thead>\n",
       "  <tbody>\n",
       "    <tr>\n",
       "      <th>0</th>\n",
       "      <td>1.0</td>\n",
       "      <td>2013-01-02</td>\n",
       "      <td>1.0</td>\n",
       "      <td>3</td>\n",
       "      <td>test</td>\n",
       "      <td>foo</td>\n",
       "    </tr>\n",
       "    <tr>\n",
       "      <th>1</th>\n",
       "      <td>1.0</td>\n",
       "      <td>2013-01-02</td>\n",
       "      <td>1.0</td>\n",
       "      <td>3</td>\n",
       "      <td>train</td>\n",
       "      <td>foo</td>\n",
       "    </tr>\n",
       "    <tr>\n",
       "      <th>2</th>\n",
       "      <td>1.0</td>\n",
       "      <td>2013-01-02</td>\n",
       "      <td>1.0</td>\n",
       "      <td>3</td>\n",
       "      <td>test</td>\n",
       "      <td>foo</td>\n",
       "    </tr>\n",
       "    <tr>\n",
       "      <th>3</th>\n",
       "      <td>1.0</td>\n",
       "      <td>2013-01-02</td>\n",
       "      <td>1.0</td>\n",
       "      <td>3</td>\n",
       "      <td>train</td>\n",
       "      <td>foo</td>\n",
       "    </tr>\n",
       "  </tbody>\n",
       "</table>\n",
       "</div>"
      ],
      "text/plain": [
       "     A          B    C  D      E    F\n",
       "0  1.0 2013-01-02  1.0  3   test  foo\n",
       "1  1.0 2013-01-02  1.0  3  train  foo\n",
       "2  1.0 2013-01-02  1.0  3   test  foo\n",
       "3  1.0 2013-01-02  1.0  3  train  foo"
      ]
     },
     "execution_count": 9,
     "metadata": {},
     "output_type": "execute_result"
    },
    {
     "data": {
      "text/plain": [
       "A           float64\n",
       "B    datetime64[ns]\n",
       "C           float32\n",
       "D             int32\n",
       "E          category\n",
       "F            object\n",
       "dtype: object"
      ]
     },
     "execution_count": 9,
     "metadata": {},
     "output_type": "execute_result"
    }
   ],
   "source": [
    "df2 = pd.DataFrame({'A': 1.,\n",
    "                       'B': pd.Timestamp('20130102'),\n",
    "                       'C': pd.Series(1, index=list(range(4)), dtype='float32'),\n",
    "                       'D': np.array([3] * 4, dtype='int32'),\n",
    "                       'E': pd.Categorical([\"test\", \"train\", \"test\", \"train\"]),\n",
    "                       'F': 'foo'})\n",
    "df2\n",
    "df2.dtypes"
   ]
  },
  {
   "cell_type": "code",
   "execution_count": 10,
   "metadata": {},
   "outputs": [
    {
     "data": {
      "text/html": [
       "<div>\n",
       "<style scoped>\n",
       "    .dataframe tbody tr th:only-of-type {\n",
       "        vertical-align: middle;\n",
       "    }\n",
       "\n",
       "    .dataframe tbody tr th {\n",
       "        vertical-align: top;\n",
       "    }\n",
       "\n",
       "    .dataframe thead th {\n",
       "        text-align: right;\n",
       "    }\n",
       "</style>\n",
       "<table border=\"1\" class=\"dataframe\">\n",
       "  <thead>\n",
       "    <tr style=\"text-align: right;\">\n",
       "      <th></th>\n",
       "      <th>A</th>\n",
       "      <th>B</th>\n",
       "      <th>C</th>\n",
       "      <th>D</th>\n",
       "    </tr>\n",
       "  </thead>\n",
       "  <tbody>\n",
       "    <tr>\n",
       "      <th>2021-06-29</th>\n",
       "      <td>1.788012</td>\n",
       "      <td>-1.689508</td>\n",
       "      <td>1.566122</td>\n",
       "      <td>0.098571</td>\n",
       "    </tr>\n",
       "    <tr>\n",
       "      <th>2021-06-30</th>\n",
       "      <td>0.940526</td>\n",
       "      <td>0.138319</td>\n",
       "      <td>1.462119</td>\n",
       "      <td>-0.601579</td>\n",
       "    </tr>\n",
       "    <tr>\n",
       "      <th>2021-07-01</th>\n",
       "      <td>-0.944202</td>\n",
       "      <td>-0.097555</td>\n",
       "      <td>1.728288</td>\n",
       "      <td>0.861634</td>\n",
       "    </tr>\n",
       "    <tr>\n",
       "      <th>2021-07-02</th>\n",
       "      <td>-0.557406</td>\n",
       "      <td>1.043570</td>\n",
       "      <td>1.398022</td>\n",
       "      <td>-0.677568</td>\n",
       "    </tr>\n",
       "    <tr>\n",
       "      <th>2021-07-03</th>\n",
       "      <td>-0.217742</td>\n",
       "      <td>-0.103924</td>\n",
       "      <td>-0.426206</td>\n",
       "      <td>-0.653283</td>\n",
       "    </tr>\n",
       "  </tbody>\n",
       "</table>\n",
       "</div>"
      ],
      "text/plain": [
       "                   A         B         C         D\n",
       "2021-06-29  1.788012 -1.689508  1.566122  0.098571\n",
       "2021-06-30  0.940526  0.138319  1.462119 -0.601579\n",
       "2021-07-01 -0.944202 -0.097555  1.728288  0.861634\n",
       "2021-07-02 -0.557406  1.043570  1.398022 -0.677568\n",
       "2021-07-03 -0.217742 -0.103924 -0.426206 -0.653283"
      ]
     },
     "execution_count": 10,
     "metadata": {},
     "output_type": "execute_result"
    },
    {
     "data": {
      "text/html": [
       "<div>\n",
       "<style scoped>\n",
       "    .dataframe tbody tr th:only-of-type {\n",
       "        vertical-align: middle;\n",
       "    }\n",
       "\n",
       "    .dataframe tbody tr th {\n",
       "        vertical-align: top;\n",
       "    }\n",
       "\n",
       "    .dataframe thead th {\n",
       "        text-align: right;\n",
       "    }\n",
       "</style>\n",
       "<table border=\"1\" class=\"dataframe\">\n",
       "  <thead>\n",
       "    <tr style=\"text-align: right;\">\n",
       "      <th></th>\n",
       "      <th>A</th>\n",
       "      <th>B</th>\n",
       "      <th>C</th>\n",
       "      <th>D</th>\n",
       "    </tr>\n",
       "  </thead>\n",
       "  <tbody>\n",
       "    <tr>\n",
       "      <th>2021-07-03</th>\n",
       "      <td>-0.217742</td>\n",
       "      <td>-0.103924</td>\n",
       "      <td>-0.426206</td>\n",
       "      <td>-0.653283</td>\n",
       "    </tr>\n",
       "    <tr>\n",
       "      <th>2021-07-04</th>\n",
       "      <td>1.302261</td>\n",
       "      <td>0.551452</td>\n",
       "      <td>1.069123</td>\n",
       "      <td>1.546181</td>\n",
       "    </tr>\n",
       "  </tbody>\n",
       "</table>\n",
       "</div>"
      ],
      "text/plain": [
       "                   A         B         C         D\n",
       "2021-07-03 -0.217742 -0.103924 -0.426206 -0.653283\n",
       "2021-07-04  1.302261  0.551452  1.069123  1.546181"
      ]
     },
     "execution_count": 10,
     "metadata": {},
     "output_type": "execute_result"
    }
   ],
   "source": [
    "df.head()\n",
    "df.tail(2)"
   ]
  },
  {
   "cell_type": "code",
   "execution_count": 11,
   "metadata": {},
   "outputs": [
    {
     "data": {
      "text/plain": [
       "DatetimeIndex(['2021-06-29', '2021-06-30', '2021-07-01', '2021-07-02',\n",
       "               '2021-07-03', '2021-07-04'],\n",
       "              dtype='datetime64[ns]', freq='D')"
      ]
     },
     "execution_count": 11,
     "metadata": {},
     "output_type": "execute_result"
    },
    {
     "data": {
      "text/plain": [
       "Index(['A', 'B', 'C', 'D'], dtype='object')"
      ]
     },
     "execution_count": 11,
     "metadata": {},
     "output_type": "execute_result"
    }
   ],
   "source": [
    "df.index\n",
    "df.columns"
   ]
  },
  {
   "cell_type": "code",
   "execution_count": 13,
   "metadata": {},
   "outputs": [
    {
     "data": {
      "text/plain": [
       "array([[ 1.7880124 , -1.68950756,  1.56612216,  0.0985709 ],\n",
       "       [ 0.94052554,  0.1383186 ,  1.46211864, -0.60157875],\n",
       "       [-0.94420153, -0.0975547 ,  1.72828768,  0.86163426],\n",
       "       [-0.55740586,  1.04357045,  1.39802221, -0.67756839],\n",
       "       [-0.21774184, -0.10392406, -0.42620572, -0.65328316],\n",
       "       [ 1.30226131,  0.55145161,  1.06912339,  1.54618069]])"
      ]
     },
     "execution_count": 13,
     "metadata": {},
     "output_type": "execute_result"
    },
    {
     "data": {
      "text/plain": [
       "dtype('float64')"
      ]
     },
     "execution_count": 13,
     "metadata": {},
     "output_type": "execute_result"
    }
   ],
   "source": [
    "np_array = df.to_numpy()\n",
    "np_array\n",
    "np_array.dtype"
   ]
  },
  {
   "cell_type": "markdown",
   "metadata": {},
   "source": [
    "> Numpy arrays only support 1 datatype, while pandas dataframes support 1 datatype per column\n",
    "> If a dataframe has more than 1 datatype numpy will convert all the data to an appropriate datatype  \n",
    "> This can be expensive if everything has to be converted to 'object' type"
   ]
  },
  {
   "cell_type": "markdown",
   "metadata": {},
   "source": [
    "**Transpose Data**"
   ]
  },
  {
   "cell_type": "code",
   "execution_count": 15,
   "metadata": {},
   "outputs": [
    {
     "data": {
      "text/html": [
       "<div>\n",
       "<style scoped>\n",
       "    .dataframe tbody tr th:only-of-type {\n",
       "        vertical-align: middle;\n",
       "    }\n",
       "\n",
       "    .dataframe tbody tr th {\n",
       "        vertical-align: top;\n",
       "    }\n",
       "\n",
       "    .dataframe thead th {\n",
       "        text-align: right;\n",
       "    }\n",
       "</style>\n",
       "<table border=\"1\" class=\"dataframe\">\n",
       "  <thead>\n",
       "    <tr style=\"text-align: right;\">\n",
       "      <th></th>\n",
       "      <th>A</th>\n",
       "      <th>B</th>\n",
       "      <th>C</th>\n",
       "      <th>D</th>\n",
       "    </tr>\n",
       "  </thead>\n",
       "  <tbody>\n",
       "    <tr>\n",
       "      <th>2021-06-29</th>\n",
       "      <td>1.788012</td>\n",
       "      <td>-1.689508</td>\n",
       "      <td>1.566122</td>\n",
       "      <td>0.098571</td>\n",
       "    </tr>\n",
       "    <tr>\n",
       "      <th>2021-06-30</th>\n",
       "      <td>0.940526</td>\n",
       "      <td>0.138319</td>\n",
       "      <td>1.462119</td>\n",
       "      <td>-0.601579</td>\n",
       "    </tr>\n",
       "    <tr>\n",
       "      <th>2021-07-01</th>\n",
       "      <td>-0.944202</td>\n",
       "      <td>-0.097555</td>\n",
       "      <td>1.728288</td>\n",
       "      <td>0.861634</td>\n",
       "    </tr>\n",
       "    <tr>\n",
       "      <th>2021-07-02</th>\n",
       "      <td>-0.557406</td>\n",
       "      <td>1.043570</td>\n",
       "      <td>1.398022</td>\n",
       "      <td>-0.677568</td>\n",
       "    </tr>\n",
       "    <tr>\n",
       "      <th>2021-07-03</th>\n",
       "      <td>-0.217742</td>\n",
       "      <td>-0.103924</td>\n",
       "      <td>-0.426206</td>\n",
       "      <td>-0.653283</td>\n",
       "    </tr>\n",
       "    <tr>\n",
       "      <th>2021-07-04</th>\n",
       "      <td>1.302261</td>\n",
       "      <td>0.551452</td>\n",
       "      <td>1.069123</td>\n",
       "      <td>1.546181</td>\n",
       "    </tr>\n",
       "  </tbody>\n",
       "</table>\n",
       "</div>"
      ],
      "text/plain": [
       "                   A         B         C         D\n",
       "2021-06-29  1.788012 -1.689508  1.566122  0.098571\n",
       "2021-06-30  0.940526  0.138319  1.462119 -0.601579\n",
       "2021-07-01 -0.944202 -0.097555  1.728288  0.861634\n",
       "2021-07-02 -0.557406  1.043570  1.398022 -0.677568\n",
       "2021-07-03 -0.217742 -0.103924 -0.426206 -0.653283\n",
       "2021-07-04  1.302261  0.551452  1.069123  1.546181"
      ]
     },
     "execution_count": 15,
     "metadata": {},
     "output_type": "execute_result"
    },
    {
     "data": {
      "text/html": [
       "<div>\n",
       "<style scoped>\n",
       "    .dataframe tbody tr th:only-of-type {\n",
       "        vertical-align: middle;\n",
       "    }\n",
       "\n",
       "    .dataframe tbody tr th {\n",
       "        vertical-align: top;\n",
       "    }\n",
       "\n",
       "    .dataframe thead th {\n",
       "        text-align: right;\n",
       "    }\n",
       "</style>\n",
       "<table border=\"1\" class=\"dataframe\">\n",
       "  <thead>\n",
       "    <tr style=\"text-align: right;\">\n",
       "      <th></th>\n",
       "      <th>2021-06-29</th>\n",
       "      <th>2021-06-30</th>\n",
       "      <th>2021-07-01</th>\n",
       "      <th>2021-07-02</th>\n",
       "      <th>2021-07-03</th>\n",
       "      <th>2021-07-04</th>\n",
       "    </tr>\n",
       "  </thead>\n",
       "  <tbody>\n",
       "    <tr>\n",
       "      <th>A</th>\n",
       "      <td>1.788012</td>\n",
       "      <td>0.940526</td>\n",
       "      <td>-0.944202</td>\n",
       "      <td>-0.557406</td>\n",
       "      <td>-0.217742</td>\n",
       "      <td>1.302261</td>\n",
       "    </tr>\n",
       "    <tr>\n",
       "      <th>B</th>\n",
       "      <td>-1.689508</td>\n",
       "      <td>0.138319</td>\n",
       "      <td>-0.097555</td>\n",
       "      <td>1.043570</td>\n",
       "      <td>-0.103924</td>\n",
       "      <td>0.551452</td>\n",
       "    </tr>\n",
       "    <tr>\n",
       "      <th>C</th>\n",
       "      <td>1.566122</td>\n",
       "      <td>1.462119</td>\n",
       "      <td>1.728288</td>\n",
       "      <td>1.398022</td>\n",
       "      <td>-0.426206</td>\n",
       "      <td>1.069123</td>\n",
       "    </tr>\n",
       "    <tr>\n",
       "      <th>D</th>\n",
       "      <td>0.098571</td>\n",
       "      <td>-0.601579</td>\n",
       "      <td>0.861634</td>\n",
       "      <td>-0.677568</td>\n",
       "      <td>-0.653283</td>\n",
       "      <td>1.546181</td>\n",
       "    </tr>\n",
       "  </tbody>\n",
       "</table>\n",
       "</div>"
      ],
      "text/plain": [
       "   2021-06-29  2021-06-30  2021-07-01  2021-07-02  2021-07-03  2021-07-04\n",
       "A    1.788012    0.940526   -0.944202   -0.557406   -0.217742    1.302261\n",
       "B   -1.689508    0.138319   -0.097555    1.043570   -0.103924    0.551452\n",
       "C    1.566122    1.462119    1.728288    1.398022   -0.426206    1.069123\n",
       "D    0.098571   -0.601579    0.861634   -0.677568   -0.653283    1.546181"
      ]
     },
     "execution_count": 15,
     "metadata": {},
     "output_type": "execute_result"
    }
   ],
   "source": [
    "df\n",
    "df.T"
   ]
  },
  {
   "cell_type": "markdown",
   "metadata": {},
   "source": [
    "**Sort columns / rows**"
   ]
  },
  {
   "cell_type": "code",
   "execution_count": 19,
   "metadata": {},
   "outputs": [
    {
     "data": {
      "text/html": [
       "<div>\n",
       "<style scoped>\n",
       "    .dataframe tbody tr th:only-of-type {\n",
       "        vertical-align: middle;\n",
       "    }\n",
       "\n",
       "    .dataframe tbody tr th {\n",
       "        vertical-align: top;\n",
       "    }\n",
       "\n",
       "    .dataframe thead th {\n",
       "        text-align: right;\n",
       "    }\n",
       "</style>\n",
       "<table border=\"1\" class=\"dataframe\">\n",
       "  <thead>\n",
       "    <tr style=\"text-align: right;\">\n",
       "      <th></th>\n",
       "      <th>D</th>\n",
       "      <th>C</th>\n",
       "      <th>B</th>\n",
       "      <th>A</th>\n",
       "    </tr>\n",
       "  </thead>\n",
       "  <tbody>\n",
       "    <tr>\n",
       "      <th>2021-06-29</th>\n",
       "      <td>0.098571</td>\n",
       "      <td>1.566122</td>\n",
       "      <td>-1.689508</td>\n",
       "      <td>1.788012</td>\n",
       "    </tr>\n",
       "    <tr>\n",
       "      <th>2021-06-30</th>\n",
       "      <td>-0.601579</td>\n",
       "      <td>1.462119</td>\n",
       "      <td>0.138319</td>\n",
       "      <td>0.940526</td>\n",
       "    </tr>\n",
       "    <tr>\n",
       "      <th>2021-07-01</th>\n",
       "      <td>0.861634</td>\n",
       "      <td>1.728288</td>\n",
       "      <td>-0.097555</td>\n",
       "      <td>-0.944202</td>\n",
       "    </tr>\n",
       "    <tr>\n",
       "      <th>2021-07-02</th>\n",
       "      <td>-0.677568</td>\n",
       "      <td>1.398022</td>\n",
       "      <td>1.043570</td>\n",
       "      <td>-0.557406</td>\n",
       "    </tr>\n",
       "    <tr>\n",
       "      <th>2021-07-03</th>\n",
       "      <td>-0.653283</td>\n",
       "      <td>-0.426206</td>\n",
       "      <td>-0.103924</td>\n",
       "      <td>-0.217742</td>\n",
       "    </tr>\n",
       "    <tr>\n",
       "      <th>2021-07-04</th>\n",
       "      <td>1.546181</td>\n",
       "      <td>1.069123</td>\n",
       "      <td>0.551452</td>\n",
       "      <td>1.302261</td>\n",
       "    </tr>\n",
       "  </tbody>\n",
       "</table>\n",
       "</div>"
      ],
      "text/plain": [
       "                   D         C         B         A\n",
       "2021-06-29  0.098571  1.566122 -1.689508  1.788012\n",
       "2021-06-30 -0.601579  1.462119  0.138319  0.940526\n",
       "2021-07-01  0.861634  1.728288 -0.097555 -0.944202\n",
       "2021-07-02 -0.677568  1.398022  1.043570 -0.557406\n",
       "2021-07-03 -0.653283 -0.426206 -0.103924 -0.217742\n",
       "2021-07-04  1.546181  1.069123  0.551452  1.302261"
      ]
     },
     "execution_count": 19,
     "metadata": {},
     "output_type": "execute_result"
    },
    {
     "data": {
      "text/html": [
       "<div>\n",
       "<style scoped>\n",
       "    .dataframe tbody tr th:only-of-type {\n",
       "        vertical-align: middle;\n",
       "    }\n",
       "\n",
       "    .dataframe tbody tr th {\n",
       "        vertical-align: top;\n",
       "    }\n",
       "\n",
       "    .dataframe thead th {\n",
       "        text-align: right;\n",
       "    }\n",
       "</style>\n",
       "<table border=\"1\" class=\"dataframe\">\n",
       "  <thead>\n",
       "    <tr style=\"text-align: right;\">\n",
       "      <th></th>\n",
       "      <th>A</th>\n",
       "      <th>B</th>\n",
       "      <th>C</th>\n",
       "      <th>D</th>\n",
       "    </tr>\n",
       "  </thead>\n",
       "  <tbody>\n",
       "    <tr>\n",
       "      <th>2021-07-04</th>\n",
       "      <td>1.302261</td>\n",
       "      <td>0.551452</td>\n",
       "      <td>1.069123</td>\n",
       "      <td>1.546181</td>\n",
       "    </tr>\n",
       "    <tr>\n",
       "      <th>2021-07-03</th>\n",
       "      <td>-0.217742</td>\n",
       "      <td>-0.103924</td>\n",
       "      <td>-0.426206</td>\n",
       "      <td>-0.653283</td>\n",
       "    </tr>\n",
       "    <tr>\n",
       "      <th>2021-07-02</th>\n",
       "      <td>-0.557406</td>\n",
       "      <td>1.043570</td>\n",
       "      <td>1.398022</td>\n",
       "      <td>-0.677568</td>\n",
       "    </tr>\n",
       "    <tr>\n",
       "      <th>2021-07-01</th>\n",
       "      <td>-0.944202</td>\n",
       "      <td>-0.097555</td>\n",
       "      <td>1.728288</td>\n",
       "      <td>0.861634</td>\n",
       "    </tr>\n",
       "    <tr>\n",
       "      <th>2021-06-30</th>\n",
       "      <td>0.940526</td>\n",
       "      <td>0.138319</td>\n",
       "      <td>1.462119</td>\n",
       "      <td>-0.601579</td>\n",
       "    </tr>\n",
       "    <tr>\n",
       "      <th>2021-06-29</th>\n",
       "      <td>1.788012</td>\n",
       "      <td>-1.689508</td>\n",
       "      <td>1.566122</td>\n",
       "      <td>0.098571</td>\n",
       "    </tr>\n",
       "  </tbody>\n",
       "</table>\n",
       "</div>"
      ],
      "text/plain": [
       "                   A         B         C         D\n",
       "2021-07-04  1.302261  0.551452  1.069123  1.546181\n",
       "2021-07-03 -0.217742 -0.103924 -0.426206 -0.653283\n",
       "2021-07-02 -0.557406  1.043570  1.398022 -0.677568\n",
       "2021-07-01 -0.944202 -0.097555  1.728288  0.861634\n",
       "2021-06-30  0.940526  0.138319  1.462119 -0.601579\n",
       "2021-06-29  1.788012 -1.689508  1.566122  0.098571"
      ]
     },
     "execution_count": 19,
     "metadata": {},
     "output_type": "execute_result"
    }
   ],
   "source": [
    "df.sort_index(axis=\"columns\", ascending=False)\n",
    "df.sort_index(axis=\"rows\", ascending=False)"
   ]
  },
  {
   "cell_type": "code",
   "execution_count": 27,
   "metadata": {},
   "outputs": [
    {
     "data": {
      "text/html": [
       "<div>\n",
       "<style scoped>\n",
       "    .dataframe tbody tr th:only-of-type {\n",
       "        vertical-align: middle;\n",
       "    }\n",
       "\n",
       "    .dataframe tbody tr th {\n",
       "        vertical-align: top;\n",
       "    }\n",
       "\n",
       "    .dataframe thead th {\n",
       "        text-align: right;\n",
       "    }\n",
       "</style>\n",
       "<table border=\"1\" class=\"dataframe\">\n",
       "  <thead>\n",
       "    <tr style=\"text-align: right;\">\n",
       "      <th></th>\n",
       "      <th>A</th>\n",
       "      <th>B</th>\n",
       "      <th>C</th>\n",
       "      <th>D</th>\n",
       "    </tr>\n",
       "  </thead>\n",
       "  <tbody>\n",
       "    <tr>\n",
       "      <th>2021-07-01</th>\n",
       "      <td>-0.944202</td>\n",
       "      <td>-0.097555</td>\n",
       "      <td>1.728288</td>\n",
       "      <td>0.861634</td>\n",
       "    </tr>\n",
       "    <tr>\n",
       "      <th>2021-07-02</th>\n",
       "      <td>-0.557406</td>\n",
       "      <td>1.043570</td>\n",
       "      <td>1.398022</td>\n",
       "      <td>-0.677568</td>\n",
       "    </tr>\n",
       "    <tr>\n",
       "      <th>2021-07-03</th>\n",
       "      <td>-0.217742</td>\n",
       "      <td>-0.103924</td>\n",
       "      <td>-0.426206</td>\n",
       "      <td>-0.653283</td>\n",
       "    </tr>\n",
       "    <tr>\n",
       "      <th>2021-06-30</th>\n",
       "      <td>0.940526</td>\n",
       "      <td>0.138319</td>\n",
       "      <td>1.462119</td>\n",
       "      <td>-0.601579</td>\n",
       "    </tr>\n",
       "    <tr>\n",
       "      <th>2021-07-04</th>\n",
       "      <td>1.302261</td>\n",
       "      <td>0.551452</td>\n",
       "      <td>1.069123</td>\n",
       "      <td>1.546181</td>\n",
       "    </tr>\n",
       "    <tr>\n",
       "      <th>2021-06-29</th>\n",
       "      <td>1.788012</td>\n",
       "      <td>-1.689508</td>\n",
       "      <td>1.566122</td>\n",
       "      <td>0.098571</td>\n",
       "    </tr>\n",
       "  </tbody>\n",
       "</table>\n",
       "</div>"
      ],
      "text/plain": [
       "                   A         B         C         D\n",
       "2021-07-01 -0.944202 -0.097555  1.728288  0.861634\n",
       "2021-07-02 -0.557406  1.043570  1.398022 -0.677568\n",
       "2021-07-03 -0.217742 -0.103924 -0.426206 -0.653283\n",
       "2021-06-30  0.940526  0.138319  1.462119 -0.601579\n",
       "2021-07-04  1.302261  0.551452  1.069123  1.546181\n",
       "2021-06-29  1.788012 -1.689508  1.566122  0.098571"
      ]
     },
     "execution_count": 27,
     "metadata": {},
     "output_type": "execute_result"
    }
   ],
   "source": [
    "df.sort_values(\"A\")"
   ]
  }
 ],
 "metadata": {
  "kernelspec": {
   "display_name": "Python 3",
   "language": "python",
   "name": "python3"
  },
  "language_info": {
   "codemirror_mode": {
    "name": "ipython",
    "version": 3
   },
   "file_extension": ".py",
   "mimetype": "text/x-python",
   "name": "python",
   "nbconvert_exporter": "python",
   "pygments_lexer": "ipython3",
   "version": "3.8.5"
  }
 },
 "nbformat": 4,
 "nbformat_minor": 4
}
