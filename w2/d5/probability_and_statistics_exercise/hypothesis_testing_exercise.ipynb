{
 "cells": [
  {
   "cell_type": "markdown",
   "metadata": {},
   "source": [
    "## Hypothesis Testing Assignment"
   ]
  },
  {
   "cell_type": "code",
   "execution_count": 1,
   "metadata": {},
   "outputs": [],
   "source": [
    "#Importing necessary packages\n",
    "import pandas as pd\n",
    "import numpy as np\n",
    "# package with hypothesis tests\n",
    "import scipy.stats as st"
   ]
  },
  {
   "cell_type": "code",
   "execution_count": 7,
   "metadata": {},
   "outputs": [],
   "source": [
    "pd.set_option('display.max_columns', None)"
   ]
  },
  {
   "cell_type": "code",
   "execution_count": 26,
   "metadata": {},
   "outputs": [],
   "source": [
    "from IPython.core.interactiveshell import InteractiveShell\n",
    "InteractiveShell.ast_node_interactivity = \"all\""
   ]
  },
  {
   "cell_type": "markdown",
   "metadata": {},
   "source": [
    "### Data"
   ]
  },
  {
   "cell_type": "markdown",
   "metadata": {},
   "source": [
    "You can download the data from [**here**](https://drive.google.com/file/d/19b9lHlkixZhs8yka8zV0QFieao66dUcY/view?usp=sharing). The data contains results of all NBA games from seasons 2013/2014 to 2015/2016."
   ]
  },
  {
   "cell_type": "code",
   "execution_count": 5,
   "metadata": {},
   "outputs": [],
   "source": [
    "nba_games = pd.read_csv(\"nba_games.csv\", sep=\";\")"
   ]
  },
  {
   "cell_type": "code",
   "execution_count": 8,
   "metadata": {},
   "outputs": [
    {
     "data": {
      "text/html": [
       "<div>\n",
       "<style scoped>\n",
       "    .dataframe tbody tr th:only-of-type {\n",
       "        vertical-align: middle;\n",
       "    }\n",
       "\n",
       "    .dataframe tbody tr th {\n",
       "        vertical-align: top;\n",
       "    }\n",
       "\n",
       "    .dataframe thead th {\n",
       "        text-align: right;\n",
       "    }\n",
       "</style>\n",
       "<table border=\"1\" class=\"dataframe\">\n",
       "  <thead>\n",
       "    <tr style=\"text-align: right;\">\n",
       "      <th></th>\n",
       "      <th>SEASON_ID</th>\n",
       "      <th>TEAM_ID</th>\n",
       "      <th>TEAM_ABBREVIATION</th>\n",
       "      <th>TEAM_NAME</th>\n",
       "      <th>GAME_ID</th>\n",
       "      <th>GAME_DATE</th>\n",
       "      <th>MATCHUP</th>\n",
       "      <th>WL</th>\n",
       "      <th>MIN</th>\n",
       "      <th>PTS</th>\n",
       "      <th>FGM</th>\n",
       "      <th>FGA</th>\n",
       "      <th>FG_PCT</th>\n",
       "      <th>FG3M</th>\n",
       "      <th>FG3A</th>\n",
       "      <th>FG3_PCT</th>\n",
       "      <th>FTM</th>\n",
       "      <th>FTA</th>\n",
       "      <th>FT_PCT</th>\n",
       "      <th>OREB</th>\n",
       "      <th>DREB</th>\n",
       "      <th>REB</th>\n",
       "      <th>AST</th>\n",
       "      <th>STL</th>\n",
       "      <th>BLK</th>\n",
       "      <th>TOV</th>\n",
       "      <th>PF</th>\n",
       "      <th>PLUS_MINUS</th>\n",
       "    </tr>\n",
       "  </thead>\n",
       "  <tbody>\n",
       "    <tr>\n",
       "      <th>0</th>\n",
       "      <td>22015</td>\n",
       "      <td>1610612750</td>\n",
       "      <td>MIN</td>\n",
       "      <td>Minnesota Timberwolves</td>\n",
       "      <td>21501226</td>\n",
       "      <td>2016-04-13</td>\n",
       "      <td>MIN vs. NOP</td>\n",
       "      <td>W</td>\n",
       "      <td>240</td>\n",
       "      <td>144</td>\n",
       "      <td>56</td>\n",
       "      <td>86</td>\n",
       "      <td>0.651</td>\n",
       "      <td>13</td>\n",
       "      <td>28</td>\n",
       "      <td>0.464</td>\n",
       "      <td>19</td>\n",
       "      <td>23</td>\n",
       "      <td>0.826</td>\n",
       "      <td>5</td>\n",
       "      <td>38</td>\n",
       "      <td>43</td>\n",
       "      <td>41</td>\n",
       "      <td>14</td>\n",
       "      <td>8</td>\n",
       "      <td>13</td>\n",
       "      <td>20</td>\n",
       "      <td>35.0</td>\n",
       "    </tr>\n",
       "    <tr>\n",
       "      <th>1</th>\n",
       "      <td>22015</td>\n",
       "      <td>1610612749</td>\n",
       "      <td>MIL</td>\n",
       "      <td>Milwaukee Bucks</td>\n",
       "      <td>21501225</td>\n",
       "      <td>2016-04-13</td>\n",
       "      <td>MIL vs. IND</td>\n",
       "      <td>L</td>\n",
       "      <td>240</td>\n",
       "      <td>92</td>\n",
       "      <td>37</td>\n",
       "      <td>87</td>\n",
       "      <td>0.425</td>\n",
       "      <td>7</td>\n",
       "      <td>23</td>\n",
       "      <td>0.304</td>\n",
       "      <td>11</td>\n",
       "      <td>13</td>\n",
       "      <td>0.846</td>\n",
       "      <td>7</td>\n",
       "      <td>36</td>\n",
       "      <td>43</td>\n",
       "      <td>23</td>\n",
       "      <td>8</td>\n",
       "      <td>3</td>\n",
       "      <td>15</td>\n",
       "      <td>15</td>\n",
       "      <td>-5.0</td>\n",
       "    </tr>\n",
       "    <tr>\n",
       "      <th>2</th>\n",
       "      <td>22015</td>\n",
       "      <td>1610612738</td>\n",
       "      <td>BOS</td>\n",
       "      <td>Boston Celtics</td>\n",
       "      <td>21501217</td>\n",
       "      <td>2016-04-13</td>\n",
       "      <td>BOS vs. MIA</td>\n",
       "      <td>W</td>\n",
       "      <td>240</td>\n",
       "      <td>98</td>\n",
       "      <td>37</td>\n",
       "      <td>86</td>\n",
       "      <td>0.430</td>\n",
       "      <td>5</td>\n",
       "      <td>14</td>\n",
       "      <td>0.357</td>\n",
       "      <td>19</td>\n",
       "      <td>22</td>\n",
       "      <td>0.864</td>\n",
       "      <td>10</td>\n",
       "      <td>29</td>\n",
       "      <td>39</td>\n",
       "      <td>20</td>\n",
       "      <td>7</td>\n",
       "      <td>3</td>\n",
       "      <td>7</td>\n",
       "      <td>20</td>\n",
       "      <td>10.0</td>\n",
       "    </tr>\n",
       "    <tr>\n",
       "      <th>3</th>\n",
       "      <td>22015</td>\n",
       "      <td>1610612747</td>\n",
       "      <td>LAL</td>\n",
       "      <td>Los Angeles Lakers</td>\n",
       "      <td>21501228</td>\n",
       "      <td>2016-04-13</td>\n",
       "      <td>LAL vs. UTA</td>\n",
       "      <td>W</td>\n",
       "      <td>239</td>\n",
       "      <td>101</td>\n",
       "      <td>41</td>\n",
       "      <td>85</td>\n",
       "      <td>0.482</td>\n",
       "      <td>6</td>\n",
       "      <td>25</td>\n",
       "      <td>0.240</td>\n",
       "      <td>13</td>\n",
       "      <td>15</td>\n",
       "      <td>0.867</td>\n",
       "      <td>8</td>\n",
       "      <td>39</td>\n",
       "      <td>47</td>\n",
       "      <td>19</td>\n",
       "      <td>6</td>\n",
       "      <td>3</td>\n",
       "      <td>13</td>\n",
       "      <td>17</td>\n",
       "      <td>5.0</td>\n",
       "    </tr>\n",
       "    <tr>\n",
       "      <th>4</th>\n",
       "      <td>22015</td>\n",
       "      <td>1610612739</td>\n",
       "      <td>CLE</td>\n",
       "      <td>Cleveland Cavaliers</td>\n",
       "      <td>21501220</td>\n",
       "      <td>2016-04-13</td>\n",
       "      <td>CLE vs. DET</td>\n",
       "      <td>L</td>\n",
       "      <td>265</td>\n",
       "      <td>110</td>\n",
       "      <td>46</td>\n",
       "      <td>97</td>\n",
       "      <td>0.474</td>\n",
       "      <td>7</td>\n",
       "      <td>18</td>\n",
       "      <td>0.389</td>\n",
       "      <td>11</td>\n",
       "      <td>15</td>\n",
       "      <td>0.733</td>\n",
       "      <td>8</td>\n",
       "      <td>35</td>\n",
       "      <td>43</td>\n",
       "      <td>21</td>\n",
       "      <td>4</td>\n",
       "      <td>7</td>\n",
       "      <td>10</td>\n",
       "      <td>23</td>\n",
       "      <td>-2.0</td>\n",
       "    </tr>\n",
       "  </tbody>\n",
       "</table>\n",
       "</div>"
      ],
      "text/plain": [
       "   SEASON_ID     TEAM_ID TEAM_ABBREVIATION               TEAM_NAME   GAME_ID  \\\n",
       "0      22015  1610612750               MIN  Minnesota Timberwolves  21501226   \n",
       "1      22015  1610612749               MIL         Milwaukee Bucks  21501225   \n",
       "2      22015  1610612738               BOS          Boston Celtics  21501217   \n",
       "3      22015  1610612747               LAL      Los Angeles Lakers  21501228   \n",
       "4      22015  1610612739               CLE     Cleveland Cavaliers  21501220   \n",
       "\n",
       "    GAME_DATE      MATCHUP WL  MIN  PTS  FGM  FGA  FG_PCT  FG3M  FG3A  \\\n",
       "0  2016-04-13  MIN vs. NOP  W  240  144   56   86   0.651    13    28   \n",
       "1  2016-04-13  MIL vs. IND  L  240   92   37   87   0.425     7    23   \n",
       "2  2016-04-13  BOS vs. MIA  W  240   98   37   86   0.430     5    14   \n",
       "3  2016-04-13  LAL vs. UTA  W  239  101   41   85   0.482     6    25   \n",
       "4  2016-04-13  CLE vs. DET  L  265  110   46   97   0.474     7    18   \n",
       "\n",
       "   FG3_PCT  FTM  FTA  FT_PCT  OREB  DREB  REB  AST  STL  BLK  TOV  PF  \\\n",
       "0    0.464   19   23   0.826     5    38   43   41   14    8   13  20   \n",
       "1    0.304   11   13   0.846     7    36   43   23    8    3   15  15   \n",
       "2    0.357   19   22   0.864    10    29   39   20    7    3    7  20   \n",
       "3    0.240   13   15   0.867     8    39   47   19    6    3   13  17   \n",
       "4    0.389   11   15   0.733     8    35   43   21    4    7   10  23   \n",
       "\n",
       "   PLUS_MINUS  \n",
       "0        35.0  \n",
       "1        -5.0  \n",
       "2        10.0  \n",
       "3         5.0  \n",
       "4        -2.0  "
      ]
     },
     "execution_count": 8,
     "metadata": {},
     "output_type": "execute_result"
    }
   ],
   "source": [
    "nba_games.head()"
   ]
  },
  {
   "cell_type": "markdown",
   "metadata": {},
   "source": [
    "--------------\n",
    "### Task 1\n",
    "Split the data into **3** separate dataframes for each NBA season!"
   ]
  },
  {
   "cell_type": "code",
   "execution_count": 9,
   "metadata": {},
   "outputs": [],
   "source": [
    "nba_games_2013 = nba_games[nba_games[\"SEASON_ID\"].eq(22013)]\n",
    "nba_games_2014 = nba_games[nba_games[\"SEASON_ID\"].eq(22014)]\n",
    "nba_games_2015 = nba_games[nba_games[\"SEASON_ID\"].eq(22015)]"
   ]
  },
  {
   "cell_type": "code",
   "execution_count": 10,
   "metadata": {},
   "outputs": [
    {
     "data": {
      "text/html": [
       "<div>\n",
       "<style scoped>\n",
       "    .dataframe tbody tr th:only-of-type {\n",
       "        vertical-align: middle;\n",
       "    }\n",
       "\n",
       "    .dataframe tbody tr th {\n",
       "        vertical-align: top;\n",
       "    }\n",
       "\n",
       "    .dataframe thead th {\n",
       "        text-align: right;\n",
       "    }\n",
       "</style>\n",
       "<table border=\"1\" class=\"dataframe\">\n",
       "  <thead>\n",
       "    <tr style=\"text-align: right;\">\n",
       "      <th></th>\n",
       "      <th>SEASON_ID</th>\n",
       "      <th>TEAM_ID</th>\n",
       "      <th>TEAM_ABBREVIATION</th>\n",
       "      <th>TEAM_NAME</th>\n",
       "      <th>GAME_ID</th>\n",
       "      <th>GAME_DATE</th>\n",
       "      <th>MATCHUP</th>\n",
       "      <th>WL</th>\n",
       "      <th>MIN</th>\n",
       "      <th>PTS</th>\n",
       "      <th>FGM</th>\n",
       "      <th>FGA</th>\n",
       "      <th>FG_PCT</th>\n",
       "      <th>FG3M</th>\n",
       "      <th>FG3A</th>\n",
       "      <th>FG3_PCT</th>\n",
       "      <th>FTM</th>\n",
       "      <th>FTA</th>\n",
       "      <th>FT_PCT</th>\n",
       "      <th>OREB</th>\n",
       "      <th>DREB</th>\n",
       "      <th>REB</th>\n",
       "      <th>AST</th>\n",
       "      <th>STL</th>\n",
       "      <th>BLK</th>\n",
       "      <th>TOV</th>\n",
       "      <th>PF</th>\n",
       "      <th>PLUS_MINUS</th>\n",
       "    </tr>\n",
       "  </thead>\n",
       "  <tbody>\n",
       "    <tr>\n",
       "      <th>4920</th>\n",
       "      <td>22013</td>\n",
       "      <td>1610612742</td>\n",
       "      <td>DAL</td>\n",
       "      <td>Dallas Mavericks</td>\n",
       "      <td>21301216</td>\n",
       "      <td>2014-04-16</td>\n",
       "      <td>DAL @ MEM</td>\n",
       "      <td>L</td>\n",
       "      <td>265</td>\n",
       "      <td>105</td>\n",
       "      <td>44</td>\n",
       "      <td>92</td>\n",
       "      <td>0.478</td>\n",
       "      <td>8</td>\n",
       "      <td>30</td>\n",
       "      <td>0.267</td>\n",
       "      <td>9</td>\n",
       "      <td>11</td>\n",
       "      <td>0.818</td>\n",
       "      <td>15</td>\n",
       "      <td>24</td>\n",
       "      <td>39</td>\n",
       "      <td>22</td>\n",
       "      <td>11</td>\n",
       "      <td>4</td>\n",
       "      <td>13</td>\n",
       "      <td>23</td>\n",
       "      <td>-1.0</td>\n",
       "    </tr>\n",
       "    <tr>\n",
       "      <th>4921</th>\n",
       "      <td>22013</td>\n",
       "      <td>1610612743</td>\n",
       "      <td>DEN</td>\n",
       "      <td>Denver Nuggets</td>\n",
       "      <td>21301230</td>\n",
       "      <td>2014-04-16</td>\n",
       "      <td>DEN vs. GSW</td>\n",
       "      <td>L</td>\n",
       "      <td>241</td>\n",
       "      <td>112</td>\n",
       "      <td>37</td>\n",
       "      <td>84</td>\n",
       "      <td>0.440</td>\n",
       "      <td>9</td>\n",
       "      <td>34</td>\n",
       "      <td>0.265</td>\n",
       "      <td>29</td>\n",
       "      <td>35</td>\n",
       "      <td>0.829</td>\n",
       "      <td>9</td>\n",
       "      <td>33</td>\n",
       "      <td>42</td>\n",
       "      <td>23</td>\n",
       "      <td>4</td>\n",
       "      <td>4</td>\n",
       "      <td>19</td>\n",
       "      <td>28</td>\n",
       "      <td>-4.0</td>\n",
       "    </tr>\n",
       "    <tr>\n",
       "      <th>4922</th>\n",
       "      <td>22013</td>\n",
       "      <td>1610612762</td>\n",
       "      <td>UTA</td>\n",
       "      <td>Utah Jazz</td>\n",
       "      <td>21301218</td>\n",
       "      <td>2014-04-16</td>\n",
       "      <td>UTA @ MIN</td>\n",
       "      <td>W</td>\n",
       "      <td>291</td>\n",
       "      <td>136</td>\n",
       "      <td>53</td>\n",
       "      <td>108</td>\n",
       "      <td>0.491</td>\n",
       "      <td>6</td>\n",
       "      <td>24</td>\n",
       "      <td>0.250</td>\n",
       "      <td>24</td>\n",
       "      <td>29</td>\n",
       "      <td>0.828</td>\n",
       "      <td>22</td>\n",
       "      <td>38</td>\n",
       "      <td>60</td>\n",
       "      <td>30</td>\n",
       "      <td>10</td>\n",
       "      <td>9</td>\n",
       "      <td>18</td>\n",
       "      <td>34</td>\n",
       "      <td>6.0</td>\n",
       "    </tr>\n",
       "  </tbody>\n",
       "</table>\n",
       "</div>"
      ],
      "text/plain": [
       "      SEASON_ID     TEAM_ID TEAM_ABBREVIATION         TEAM_NAME   GAME_ID  \\\n",
       "4920      22013  1610612742               DAL  Dallas Mavericks  21301216   \n",
       "4921      22013  1610612743               DEN    Denver Nuggets  21301230   \n",
       "4922      22013  1610612762               UTA         Utah Jazz  21301218   \n",
       "\n",
       "       GAME_DATE      MATCHUP WL  MIN  PTS  FGM  FGA  FG_PCT  FG3M  FG3A  \\\n",
       "4920  2014-04-16    DAL @ MEM  L  265  105   44   92   0.478     8    30   \n",
       "4921  2014-04-16  DEN vs. GSW  L  241  112   37   84   0.440     9    34   \n",
       "4922  2014-04-16    UTA @ MIN  W  291  136   53  108   0.491     6    24   \n",
       "\n",
       "      FG3_PCT  FTM  FTA  FT_PCT  OREB  DREB  REB  AST  STL  BLK  TOV  PF  \\\n",
       "4920    0.267    9   11   0.818    15    24   39   22   11    4   13  23   \n",
       "4921    0.265   29   35   0.829     9    33   42   23    4    4   19  28   \n",
       "4922    0.250   24   29   0.828    22    38   60   30   10    9   18  34   \n",
       "\n",
       "      PLUS_MINUS  \n",
       "4920        -1.0  \n",
       "4921        -4.0  \n",
       "4922         6.0  "
      ]
     },
     "execution_count": 10,
     "metadata": {},
     "output_type": "execute_result"
    }
   ],
   "source": [
    "nba_games_2013.head(3)"
   ]
  },
  {
   "cell_type": "code",
   "execution_count": 11,
   "metadata": {},
   "outputs": [
    {
     "data": {
      "text/html": [
       "<div>\n",
       "<style scoped>\n",
       "    .dataframe tbody tr th:only-of-type {\n",
       "        vertical-align: middle;\n",
       "    }\n",
       "\n",
       "    .dataframe tbody tr th {\n",
       "        vertical-align: top;\n",
       "    }\n",
       "\n",
       "    .dataframe thead th {\n",
       "        text-align: right;\n",
       "    }\n",
       "</style>\n",
       "<table border=\"1\" class=\"dataframe\">\n",
       "  <thead>\n",
       "    <tr style=\"text-align: right;\">\n",
       "      <th></th>\n",
       "      <th>SEASON_ID</th>\n",
       "      <th>TEAM_ID</th>\n",
       "      <th>TEAM_ABBREVIATION</th>\n",
       "      <th>TEAM_NAME</th>\n",
       "      <th>GAME_ID</th>\n",
       "      <th>GAME_DATE</th>\n",
       "      <th>MATCHUP</th>\n",
       "      <th>WL</th>\n",
       "      <th>MIN</th>\n",
       "      <th>PTS</th>\n",
       "      <th>FGM</th>\n",
       "      <th>FGA</th>\n",
       "      <th>FG_PCT</th>\n",
       "      <th>FG3M</th>\n",
       "      <th>FG3A</th>\n",
       "      <th>FG3_PCT</th>\n",
       "      <th>FTM</th>\n",
       "      <th>FTA</th>\n",
       "      <th>FT_PCT</th>\n",
       "      <th>OREB</th>\n",
       "      <th>DREB</th>\n",
       "      <th>REB</th>\n",
       "      <th>AST</th>\n",
       "      <th>STL</th>\n",
       "      <th>BLK</th>\n",
       "      <th>TOV</th>\n",
       "      <th>PF</th>\n",
       "      <th>PLUS_MINUS</th>\n",
       "    </tr>\n",
       "  </thead>\n",
       "  <tbody>\n",
       "    <tr>\n",
       "      <th>2460</th>\n",
       "      <td>22014</td>\n",
       "      <td>1610612760</td>\n",
       "      <td>OKC</td>\n",
       "      <td>Oklahoma City Thunder</td>\n",
       "      <td>21401222</td>\n",
       "      <td>2015-04-15</td>\n",
       "      <td>OKC @ MIN</td>\n",
       "      <td>W</td>\n",
       "      <td>241</td>\n",
       "      <td>138</td>\n",
       "      <td>52</td>\n",
       "      <td>95</td>\n",
       "      <td>0.547</td>\n",
       "      <td>12</td>\n",
       "      <td>28</td>\n",
       "      <td>0.429</td>\n",
       "      <td>22</td>\n",
       "      <td>31</td>\n",
       "      <td>0.710</td>\n",
       "      <td>18</td>\n",
       "      <td>28</td>\n",
       "      <td>46</td>\n",
       "      <td>22</td>\n",
       "      <td>10</td>\n",
       "      <td>6</td>\n",
       "      <td>13</td>\n",
       "      <td>25</td>\n",
       "      <td>25.0</td>\n",
       "    </tr>\n",
       "    <tr>\n",
       "      <th>2461</th>\n",
       "      <td>22014</td>\n",
       "      <td>1610612765</td>\n",
       "      <td>DET</td>\n",
       "      <td>Detroit Pistons</td>\n",
       "      <td>21401226</td>\n",
       "      <td>2015-04-15</td>\n",
       "      <td>DET @ NYK</td>\n",
       "      <td>W</td>\n",
       "      <td>240</td>\n",
       "      <td>112</td>\n",
       "      <td>41</td>\n",
       "      <td>81</td>\n",
       "      <td>0.506</td>\n",
       "      <td>10</td>\n",
       "      <td>26</td>\n",
       "      <td>0.385</td>\n",
       "      <td>20</td>\n",
       "      <td>27</td>\n",
       "      <td>0.741</td>\n",
       "      <td>11</td>\n",
       "      <td>33</td>\n",
       "      <td>44</td>\n",
       "      <td>20</td>\n",
       "      <td>14</td>\n",
       "      <td>3</td>\n",
       "      <td>12</td>\n",
       "      <td>22</td>\n",
       "      <td>22.0</td>\n",
       "    </tr>\n",
       "    <tr>\n",
       "      <th>2462</th>\n",
       "      <td>22014</td>\n",
       "      <td>1610612766</td>\n",
       "      <td>CHA</td>\n",
       "      <td>Charlotte Hornets</td>\n",
       "      <td>21401228</td>\n",
       "      <td>2015-04-15</td>\n",
       "      <td>CHA @ TOR</td>\n",
       "      <td>L</td>\n",
       "      <td>240</td>\n",
       "      <td>87</td>\n",
       "      <td>30</td>\n",
       "      <td>71</td>\n",
       "      <td>0.423</td>\n",
       "      <td>12</td>\n",
       "      <td>33</td>\n",
       "      <td>0.364</td>\n",
       "      <td>15</td>\n",
       "      <td>16</td>\n",
       "      <td>0.938</td>\n",
       "      <td>8</td>\n",
       "      <td>28</td>\n",
       "      <td>36</td>\n",
       "      <td>15</td>\n",
       "      <td>8</td>\n",
       "      <td>3</td>\n",
       "      <td>12</td>\n",
       "      <td>10</td>\n",
       "      <td>-5.0</td>\n",
       "    </tr>\n",
       "  </tbody>\n",
       "</table>\n",
       "</div>"
      ],
      "text/plain": [
       "      SEASON_ID     TEAM_ID TEAM_ABBREVIATION              TEAM_NAME  \\\n",
       "2460      22014  1610612760               OKC  Oklahoma City Thunder   \n",
       "2461      22014  1610612765               DET        Detroit Pistons   \n",
       "2462      22014  1610612766               CHA      Charlotte Hornets   \n",
       "\n",
       "       GAME_ID   GAME_DATE    MATCHUP WL  MIN  PTS  FGM  FGA  FG_PCT  FG3M  \\\n",
       "2460  21401222  2015-04-15  OKC @ MIN  W  241  138   52   95   0.547    12   \n",
       "2461  21401226  2015-04-15  DET @ NYK  W  240  112   41   81   0.506    10   \n",
       "2462  21401228  2015-04-15  CHA @ TOR  L  240   87   30   71   0.423    12   \n",
       "\n",
       "      FG3A  FG3_PCT  FTM  FTA  FT_PCT  OREB  DREB  REB  AST  STL  BLK  TOV  \\\n",
       "2460    28    0.429   22   31   0.710    18    28   46   22   10    6   13   \n",
       "2461    26    0.385   20   27   0.741    11    33   44   20   14    3   12   \n",
       "2462    33    0.364   15   16   0.938     8    28   36   15    8    3   12   \n",
       "\n",
       "      PF  PLUS_MINUS  \n",
       "2460  25        25.0  \n",
       "2461  22        22.0  \n",
       "2462  10        -5.0  "
      ]
     },
     "execution_count": 11,
     "metadata": {},
     "output_type": "execute_result"
    }
   ],
   "source": [
    "nba_games_2014.head(3)"
   ]
  },
  {
   "cell_type": "code",
   "execution_count": 12,
   "metadata": {},
   "outputs": [
    {
     "data": {
      "text/html": [
       "<div>\n",
       "<style scoped>\n",
       "    .dataframe tbody tr th:only-of-type {\n",
       "        vertical-align: middle;\n",
       "    }\n",
       "\n",
       "    .dataframe tbody tr th {\n",
       "        vertical-align: top;\n",
       "    }\n",
       "\n",
       "    .dataframe thead th {\n",
       "        text-align: right;\n",
       "    }\n",
       "</style>\n",
       "<table border=\"1\" class=\"dataframe\">\n",
       "  <thead>\n",
       "    <tr style=\"text-align: right;\">\n",
       "      <th></th>\n",
       "      <th>SEASON_ID</th>\n",
       "      <th>TEAM_ID</th>\n",
       "      <th>TEAM_ABBREVIATION</th>\n",
       "      <th>TEAM_NAME</th>\n",
       "      <th>GAME_ID</th>\n",
       "      <th>GAME_DATE</th>\n",
       "      <th>MATCHUP</th>\n",
       "      <th>WL</th>\n",
       "      <th>MIN</th>\n",
       "      <th>PTS</th>\n",
       "      <th>FGM</th>\n",
       "      <th>FGA</th>\n",
       "      <th>FG_PCT</th>\n",
       "      <th>FG3M</th>\n",
       "      <th>FG3A</th>\n",
       "      <th>FG3_PCT</th>\n",
       "      <th>FTM</th>\n",
       "      <th>FTA</th>\n",
       "      <th>FT_PCT</th>\n",
       "      <th>OREB</th>\n",
       "      <th>DREB</th>\n",
       "      <th>REB</th>\n",
       "      <th>AST</th>\n",
       "      <th>STL</th>\n",
       "      <th>BLK</th>\n",
       "      <th>TOV</th>\n",
       "      <th>PF</th>\n",
       "      <th>PLUS_MINUS</th>\n",
       "    </tr>\n",
       "  </thead>\n",
       "  <tbody>\n",
       "    <tr>\n",
       "      <th>0</th>\n",
       "      <td>22015</td>\n",
       "      <td>1610612750</td>\n",
       "      <td>MIN</td>\n",
       "      <td>Minnesota Timberwolves</td>\n",
       "      <td>21501226</td>\n",
       "      <td>2016-04-13</td>\n",
       "      <td>MIN vs. NOP</td>\n",
       "      <td>W</td>\n",
       "      <td>240</td>\n",
       "      <td>144</td>\n",
       "      <td>56</td>\n",
       "      <td>86</td>\n",
       "      <td>0.651</td>\n",
       "      <td>13</td>\n",
       "      <td>28</td>\n",
       "      <td>0.464</td>\n",
       "      <td>19</td>\n",
       "      <td>23</td>\n",
       "      <td>0.826</td>\n",
       "      <td>5</td>\n",
       "      <td>38</td>\n",
       "      <td>43</td>\n",
       "      <td>41</td>\n",
       "      <td>14</td>\n",
       "      <td>8</td>\n",
       "      <td>13</td>\n",
       "      <td>20</td>\n",
       "      <td>35.0</td>\n",
       "    </tr>\n",
       "    <tr>\n",
       "      <th>1</th>\n",
       "      <td>22015</td>\n",
       "      <td>1610612749</td>\n",
       "      <td>MIL</td>\n",
       "      <td>Milwaukee Bucks</td>\n",
       "      <td>21501225</td>\n",
       "      <td>2016-04-13</td>\n",
       "      <td>MIL vs. IND</td>\n",
       "      <td>L</td>\n",
       "      <td>240</td>\n",
       "      <td>92</td>\n",
       "      <td>37</td>\n",
       "      <td>87</td>\n",
       "      <td>0.425</td>\n",
       "      <td>7</td>\n",
       "      <td>23</td>\n",
       "      <td>0.304</td>\n",
       "      <td>11</td>\n",
       "      <td>13</td>\n",
       "      <td>0.846</td>\n",
       "      <td>7</td>\n",
       "      <td>36</td>\n",
       "      <td>43</td>\n",
       "      <td>23</td>\n",
       "      <td>8</td>\n",
       "      <td>3</td>\n",
       "      <td>15</td>\n",
       "      <td>15</td>\n",
       "      <td>-5.0</td>\n",
       "    </tr>\n",
       "    <tr>\n",
       "      <th>2</th>\n",
       "      <td>22015</td>\n",
       "      <td>1610612738</td>\n",
       "      <td>BOS</td>\n",
       "      <td>Boston Celtics</td>\n",
       "      <td>21501217</td>\n",
       "      <td>2016-04-13</td>\n",
       "      <td>BOS vs. MIA</td>\n",
       "      <td>W</td>\n",
       "      <td>240</td>\n",
       "      <td>98</td>\n",
       "      <td>37</td>\n",
       "      <td>86</td>\n",
       "      <td>0.430</td>\n",
       "      <td>5</td>\n",
       "      <td>14</td>\n",
       "      <td>0.357</td>\n",
       "      <td>19</td>\n",
       "      <td>22</td>\n",
       "      <td>0.864</td>\n",
       "      <td>10</td>\n",
       "      <td>29</td>\n",
       "      <td>39</td>\n",
       "      <td>20</td>\n",
       "      <td>7</td>\n",
       "      <td>3</td>\n",
       "      <td>7</td>\n",
       "      <td>20</td>\n",
       "      <td>10.0</td>\n",
       "    </tr>\n",
       "  </tbody>\n",
       "</table>\n",
       "</div>"
      ],
      "text/plain": [
       "   SEASON_ID     TEAM_ID TEAM_ABBREVIATION               TEAM_NAME   GAME_ID  \\\n",
       "0      22015  1610612750               MIN  Minnesota Timberwolves  21501226   \n",
       "1      22015  1610612749               MIL         Milwaukee Bucks  21501225   \n",
       "2      22015  1610612738               BOS          Boston Celtics  21501217   \n",
       "\n",
       "    GAME_DATE      MATCHUP WL  MIN  PTS  FGM  FGA  FG_PCT  FG3M  FG3A  \\\n",
       "0  2016-04-13  MIN vs. NOP  W  240  144   56   86   0.651    13    28   \n",
       "1  2016-04-13  MIL vs. IND  L  240   92   37   87   0.425     7    23   \n",
       "2  2016-04-13  BOS vs. MIA  W  240   98   37   86   0.430     5    14   \n",
       "\n",
       "   FG3_PCT  FTM  FTA  FT_PCT  OREB  DREB  REB  AST  STL  BLK  TOV  PF  \\\n",
       "0    0.464   19   23   0.826     5    38   43   41   14    8   13  20   \n",
       "1    0.304   11   13   0.846     7    36   43   23    8    3   15  15   \n",
       "2    0.357   19   22   0.864    10    29   39   20    7    3    7  20   \n",
       "\n",
       "   PLUS_MINUS  \n",
       "0        35.0  \n",
       "1        -5.0  \n",
       "2        10.0  "
      ]
     },
     "execution_count": 12,
     "metadata": {},
     "output_type": "execute_result"
    }
   ],
   "source": [
    "nba_games_2015.head(3)"
   ]
  },
  {
   "cell_type": "markdown",
   "metadata": {},
   "source": [
    "---------------\n",
    "# Task 2\n",
    "Test the hypothesis that the offensive productions stats of the Cleveland Cavaliers and Golden State Warriors (the teams that met in the finals that year) were from the same distribution in the 2015/2016 season.\n",
    "\n",
    "Offensive production refers to two variables: **PTS (Points)** and **FG_PCT (Field Goal Percentage)**. We will need to do two separate hypothesis tests, one for each variable."
   ]
  },
  {
   "cell_type": "code",
   "execution_count": 21,
   "metadata": {},
   "outputs": [
    {
     "name": "stderr",
     "output_type": "stream",
     "text": [
      "<ipython-input-21-0ef7c4e1b637>:1: UserWarning: Boolean Series key will be reindexed to match DataFrame index.\n",
      "  cle_games_2015 = nba_games_2015[nba_games[\"TEAM_ABBREVIATION\"].eq(\"CLE\")]\n",
      "<ipython-input-21-0ef7c4e1b637>:2: UserWarning: Boolean Series key will be reindexed to match DataFrame index.\n",
      "  gsw_games_2015 = nba_games_2015[nba_games[\"TEAM_ABBREVIATION\"].eq(\"GSW\")]\n"
     ]
    }
   ],
   "source": [
    "cle_games_2015 = nba_games_2015[nba_games[\"TEAM_ABBREVIATION\"].eq(\"CLE\")]\n",
    "gsw_games_2015 = nba_games_2015[nba_games[\"TEAM_ABBREVIATION\"].eq(\"GSW\")]"
   ]
  },
  {
   "cell_type": "markdown",
   "metadata": {},
   "source": [
    "### Using scipy.stats.ttest_ind()"
   ]
  },
  {
   "cell_type": "code",
   "execution_count": 39,
   "metadata": {
    "collapsed": true,
    "jupyter": {
     "outputs_hidden": true
    },
    "tags": []
   },
   "outputs": [
    {
     "data": {
      "text/plain": [
       "4       110\n",
       "40      109\n",
       "78      102\n",
       "127     109\n",
       "151     109\n",
       "       ... \n",
       "2336     96\n",
       "2364    107\n",
       "2399    102\n",
       "2440    106\n",
       "2456     95\n",
       "Name: PTS, Length: 82, dtype: int64"
      ]
     },
     "execution_count": 39,
     "metadata": {},
     "output_type": "execute_result"
    },
    {
     "data": {
      "text/plain": [
       "array([110, 109, 102, 109, 109, 112, 110, 107, 100, 107,  95, 113, 124,\n",
       "       101, 109,  99,  85, 114, 120, 120, 103, 120, 108, 100,  99,  97,\n",
       "       114,  88, 115, 106, 120, 120,  99, 103,  97, 111, 117, 114, 115,\n",
       "       114,  83, 115,  91,  98,  91,  95, 110,  95, 125, 121, 122, 104,\n",
       "        93, 101,  76,  83,  91, 108, 104,  89, 111, 105,  84, 108,  85,\n",
       "        90,  95,  99, 117, 109, 115,  99, 105,  90, 118, 101, 108,  96,\n",
       "       107, 102, 106,  95])"
      ]
     },
     "execution_count": 39,
     "metadata": {},
     "output_type": "execute_result"
    }
   ],
   "source": [
    "# Passing either a pandas series or numpy array to st.ttests_ind() yields the same results\n",
    "cle_games_2015[\"PTS\"]\n",
    "cle_games_2015[\"PTS\"].values"
   ]
  },
  {
   "cell_type": "code",
   "execution_count": 40,
   "metadata": {},
   "outputs": [
    {
     "data": {
      "text/plain": [
       "Ttest_indResult(statistic=-5.973920595717936, pvalue=1.4233420547764935e-08)"
      ]
     },
     "execution_count": 40,
     "metadata": {},
     "output_type": "execute_result"
    },
    {
     "data": {
      "text/plain": [
       "Ttest_indResult(statistic=-5.973920595717936, pvalue=1.4233420547764935e-08)"
      ]
     },
     "execution_count": 40,
     "metadata": {},
     "output_type": "execute_result"
    }
   ],
   "source": [
    "st.ttest_ind(cle_games_2015[\"PTS\"], gsw_games_2015[\"PTS\"])\n",
    "st.ttest_ind(cle_games_2015[\"PTS\"].values, gsw_games_2015[\"PTS\"].values)"
   ]
  },
  {
   "cell_type": "code",
   "execution_count": 41,
   "metadata": {},
   "outputs": [
    {
     "data": {
      "text/plain": [
       "Ttest_indResult(statistic=-3.13195297595825, pvalue=0.00206097581047554)"
      ]
     },
     "execution_count": 41,
     "metadata": {},
     "output_type": "execute_result"
    }
   ],
   "source": [
    "st.ttest_ind(cle_games_2015[\"FG_PCT\"], gsw_games_2015[\"FG_PCT\"])"
   ]
  },
  {
   "cell_type": "markdown",
   "metadata": {},
   "source": [
    "P value is super low for both points and field goal percentage. Therefore we can reject the null hypothesis.\n",
    "The offensive stats are NOT from the same distribution."
   ]
  },
  {
   "cell_type": "markdown",
   "metadata": {},
   "source": [
    "### Using scipy.stats.ttest_ind_from_stats()\n",
    "\n",
    "same results as above except we pass descriptive statistics values instead of the raw data"
   ]
  },
  {
   "cell_type": "code",
   "execution_count": 29,
   "metadata": {
    "tags": []
   },
   "outputs": [
    {
     "data": {
      "text/plain": [
       "104.32926829268293"
      ]
     },
     "execution_count": 29,
     "metadata": {},
     "output_type": "execute_result"
    },
    {
     "data": {
      "text/plain": [
       "114.89024390243902"
      ]
     },
     "execution_count": 29,
     "metadata": {},
     "output_type": "execute_result"
    },
    {
     "data": {
      "text/plain": [
       "11.002867054027869"
      ]
     },
     "execution_count": 29,
     "metadata": {},
     "output_type": "execute_result"
    },
    {
     "data": {
      "text/plain": [
       "11.627984653424297"
      ]
     },
     "execution_count": 29,
     "metadata": {},
     "output_type": "execute_result"
    },
    {
     "data": {
      "text/plain": [
       "82"
      ]
     },
     "execution_count": 29,
     "metadata": {},
     "output_type": "execute_result"
    },
    {
     "data": {
      "text/plain": [
       "82"
      ]
     },
     "execution_count": 29,
     "metadata": {},
     "output_type": "execute_result"
    }
   ],
   "source": [
    "cle_games_2015[\"PTS\"].mean()\n",
    "gsw_games_2015[\"PTS\"].mean()\n",
    "\n",
    "cle_games_2015[\"PTS\"].std()\n",
    "gsw_games_2015[\"PTS\"].std()\n",
    "\n",
    "cle_games_2015[\"PTS\"].size\n",
    "gsw_games_2015[\"PTS\"].size"
   ]
  },
  {
   "cell_type": "code",
   "execution_count": 30,
   "metadata": {},
   "outputs": [
    {
     "data": {
      "text/plain": [
       "0.46195121951219514"
      ]
     },
     "execution_count": 30,
     "metadata": {},
     "output_type": "execute_result"
    },
    {
     "data": {
      "text/plain": [
       "0.4884756097560975"
      ]
     },
     "execution_count": 30,
     "metadata": {},
     "output_type": "execute_result"
    },
    {
     "data": {
      "text/plain": [
       "0.05627575458445658"
      ]
     },
     "execution_count": 30,
     "metadata": {},
     "output_type": "execute_result"
    },
    {
     "data": {
      "text/plain": [
       "0.05209943617375919"
      ]
     },
     "execution_count": 30,
     "metadata": {},
     "output_type": "execute_result"
    },
    {
     "data": {
      "text/plain": [
       "82"
      ]
     },
     "execution_count": 30,
     "metadata": {},
     "output_type": "execute_result"
    },
    {
     "data": {
      "text/plain": [
       "82"
      ]
     },
     "execution_count": 30,
     "metadata": {},
     "output_type": "execute_result"
    }
   ],
   "source": [
    "cle_games_2015[\"FG_PCT\"].mean()\n",
    "gsw_games_2015[\"FG_PCT\"].mean()\n",
    "\n",
    "cle_games_2015[\"FG_PCT\"].std()\n",
    "gsw_games_2015[\"FG_PCT\"].std()\n",
    "\n",
    "cle_games_2015[\"FG_PCT\"].size\n",
    "gsw_games_2015[\"FG_PCT\"].size"
   ]
  },
  {
   "cell_type": "code",
   "execution_count": 42,
   "metadata": {},
   "outputs": [
    {
     "data": {
      "text/plain": [
       "Ttest_indResult(statistic=-5.973920595717936, pvalue=1.4233420547764935e-08)"
      ]
     },
     "execution_count": 42,
     "metadata": {},
     "output_type": "execute_result"
    }
   ],
   "source": [
    "st.ttest_ind_from_stats(cle_games_2015[\"PTS\"].mean(),\n",
    "                        cle_games_2015[\"PTS\"].std(),\n",
    "                        cle_games_2015[\"PTS\"].size,\n",
    "                        gsw_games_2015[\"PTS\"].mean(),\n",
    "                        gsw_games_2015[\"PTS\"].std(),\n",
    "                        gsw_games_2015[\"PTS\"].size)"
   ]
  },
  {
   "cell_type": "markdown",
   "metadata": {},
   "source": [
    "### Using ttest_rel()\n",
    "\n",
    "Note: I don't think this is the right test to you, as I believe the samples are independent and NOT dependent. but i'm just seeing what happens"
   ]
  },
  {
   "cell_type": "code",
   "execution_count": 44,
   "metadata": {},
   "outputs": [
    {
     "data": {
      "text/plain": [
       "Ttest_relResult(statistic=-5.738507322486784, pvalue=1.5979180808066654e-07)"
      ]
     },
     "execution_count": 44,
     "metadata": {},
     "output_type": "execute_result"
    },
    {
     "data": {
      "text/plain": [
       "Ttest_relResult(statistic=-3.166125047038451, pvalue=0.0021777781145323398)"
      ]
     },
     "execution_count": 44,
     "metadata": {},
     "output_type": "execute_result"
    }
   ],
   "source": [
    "st.ttest_rel(cle_games_2015[\"PTS\"], gsw_games_2015[\"PTS\"])\n",
    "st.ttest_rel(cle_games_2015[\"FG_PCT\"], gsw_games_2015[\"FG_PCT\"])"
   ]
  },
  {
   "cell_type": "markdown",
   "metadata": {},
   "source": [
    "In this case it looks likes results are very similar to `ttest_ind()`"
   ]
  },
  {
   "cell_type": "markdown",
   "metadata": {},
   "source": [
    "### Help info that I used for the above task"
   ]
  },
  {
   "cell_type": "code",
   "execution_count": 13,
   "metadata": {
    "collapsed": true,
    "jupyter": {
     "outputs_hidden": true
    },
    "tags": []
   },
   "outputs": [
    {
     "data": {
      "text/plain": [
       "['F_onewayBadInputSizesWarning',\n",
       " 'F_onewayConstantInputWarning',\n",
       " 'PearsonRConstantInputWarning',\n",
       " 'PearsonRNearConstantInputWarning',\n",
       " 'SpearmanRConstantInputWarning',\n",
       " '__all__',\n",
       " '__builtins__',\n",
       " '__cached__',\n",
       " '__doc__',\n",
       " '__file__',\n",
       " '__loader__',\n",
       " '__name__',\n",
       " '__package__',\n",
       " '__path__',\n",
       " '__spec__',\n",
       " '_binned_statistic',\n",
       " '_constants',\n",
       " '_continuous_distns',\n",
       " '_discrete_distns',\n",
       " '_distn_infrastructure',\n",
       " '_distr_params',\n",
       " '_hypotests',\n",
       " '_ksstats',\n",
       " '_multivariate',\n",
       " '_rvs_sampling',\n",
       " '_stats',\n",
       " '_stats_mstats_common',\n",
       " '_tukeylambda_stats',\n",
       " '_wilcoxon_data',\n",
       " 'alpha',\n",
       " 'anderson',\n",
       " 'anderson_ksamp',\n",
       " 'anglit',\n",
       " 'ansari',\n",
       " 'arcsine',\n",
       " 'argus',\n",
       " 'bartlett',\n",
       " 'bayes_mvs',\n",
       " 'bernoulli',\n",
       " 'beta',\n",
       " 'betabinom',\n",
       " 'betaprime',\n",
       " 'binned_statistic',\n",
       " 'binned_statistic_2d',\n",
       " 'binned_statistic_dd',\n",
       " 'binom',\n",
       " 'binom_test',\n",
       " 'boltzmann',\n",
       " 'boxcox',\n",
       " 'boxcox_llf',\n",
       " 'boxcox_normmax',\n",
       " 'boxcox_normplot',\n",
       " 'bradford',\n",
       " 'brunnermunzel',\n",
       " 'burr',\n",
       " 'burr12',\n",
       " 'cauchy',\n",
       " 'chi',\n",
       " 'chi2',\n",
       " 'chi2_contingency',\n",
       " 'chisquare',\n",
       " 'circmean',\n",
       " 'circstd',\n",
       " 'circvar',\n",
       " 'combine_pvalues',\n",
       " 'contingency',\n",
       " 'cosine',\n",
       " 'cramervonmises',\n",
       " 'crystalball',\n",
       " 'cumfreq',\n",
       " 'describe',\n",
       " 'dgamma',\n",
       " 'dirichlet',\n",
       " 'distributions',\n",
       " 'dlaplace',\n",
       " 'dweibull',\n",
       " 'energy_distance',\n",
       " 'entropy',\n",
       " 'epps_singleton_2samp',\n",
       " 'erlang',\n",
       " 'expon',\n",
       " 'exponnorm',\n",
       " 'exponpow',\n",
       " 'exponweib',\n",
       " 'f',\n",
       " 'f_oneway',\n",
       " 'fatiguelife',\n",
       " 'find_repeats',\n",
       " 'fisher_exact',\n",
       " 'fisk',\n",
       " 'fligner',\n",
       " 'foldcauchy',\n",
       " 'foldnorm',\n",
       " 'friedmanchisquare',\n",
       " 'gamma',\n",
       " 'gausshyper',\n",
       " 'gaussian_kde',\n",
       " 'genexpon',\n",
       " 'genextreme',\n",
       " 'gengamma',\n",
       " 'genhalflogistic',\n",
       " 'geninvgauss',\n",
       " 'genlogistic',\n",
       " 'gennorm',\n",
       " 'genpareto',\n",
       " 'geom',\n",
       " 'gilbrat',\n",
       " 'gmean',\n",
       " 'gompertz',\n",
       " 'gstd',\n",
       " 'gumbel_l',\n",
       " 'gumbel_r',\n",
       " 'halfcauchy',\n",
       " 'halfgennorm',\n",
       " 'halflogistic',\n",
       " 'halfnorm',\n",
       " 'hmean',\n",
       " 'hypergeom',\n",
       " 'hypsecant',\n",
       " 'invgamma',\n",
       " 'invgauss',\n",
       " 'invweibull',\n",
       " 'invwishart',\n",
       " 'iqr',\n",
       " 'itemfreq',\n",
       " 'jarque_bera',\n",
       " 'johnsonsb',\n",
       " 'johnsonsu',\n",
       " 'kappa3',\n",
       " 'kappa4',\n",
       " 'kde',\n",
       " 'kendalltau',\n",
       " 'kruskal',\n",
       " 'ks_1samp',\n",
       " 'ks_2samp',\n",
       " 'ksone',\n",
       " 'kstat',\n",
       " 'kstatvar',\n",
       " 'kstest',\n",
       " 'kstwo',\n",
       " 'kstwobign',\n",
       " 'kurtosis',\n",
       " 'kurtosistest',\n",
       " 'laplace',\n",
       " 'laplace_asymmetric',\n",
       " 'levene',\n",
       " 'levy',\n",
       " 'levy_l',\n",
       " 'levy_stable',\n",
       " 'linregress',\n",
       " 'loggamma',\n",
       " 'logistic',\n",
       " 'loglaplace',\n",
       " 'lognorm',\n",
       " 'logser',\n",
       " 'loguniform',\n",
       " 'lomax',\n",
       " 'mannwhitneyu',\n",
       " 'matrix_normal',\n",
       " 'maxwell',\n",
       " 'median_abs_deviation',\n",
       " 'median_absolute_deviation',\n",
       " 'median_test',\n",
       " 'mielke',\n",
       " 'mode',\n",
       " 'moment',\n",
       " 'mood',\n",
       " 'morestats',\n",
       " 'moyal',\n",
       " 'mstats',\n",
       " 'mstats_basic',\n",
       " 'mstats_extras',\n",
       " 'multinomial',\n",
       " 'multiscale_graphcorr',\n",
       " 'multivariate_hypergeom',\n",
       " 'multivariate_normal',\n",
       " 'multivariate_t',\n",
       " 'mvn',\n",
       " 'mvsdist',\n",
       " 'nakagami',\n",
       " 'nbinom',\n",
       " 'ncf',\n",
       " 'nct',\n",
       " 'ncx2',\n",
       " 'nhypergeom',\n",
       " 'norm',\n",
       " 'normaltest',\n",
       " 'norminvgauss',\n",
       " 'obrientransform',\n",
       " 'ortho_group',\n",
       " 'pareto',\n",
       " 'pearson3',\n",
       " 'pearsonr',\n",
       " 'percentileofscore',\n",
       " 'planck',\n",
       " 'pointbiserialr',\n",
       " 'poisson',\n",
       " 'power_divergence',\n",
       " 'powerlaw',\n",
       " 'powerlognorm',\n",
       " 'powernorm',\n",
       " 'ppcc_max',\n",
       " 'ppcc_plot',\n",
       " 'probplot',\n",
       " 'randint',\n",
       " 'random_correlation',\n",
       " 'rankdata',\n",
       " 'ranksums',\n",
       " 'rayleigh',\n",
       " 'rdist',\n",
       " 'recipinvgauss',\n",
       " 'reciprocal',\n",
       " 'relfreq',\n",
       " 'rice',\n",
       " 'rv_continuous',\n",
       " 'rv_discrete',\n",
       " 'rv_histogram',\n",
       " 'rvs_ratio_uniforms',\n",
       " 'scoreatpercentile',\n",
       " 'sem',\n",
       " 'semicircular',\n",
       " 'shapiro',\n",
       " 'siegelslopes',\n",
       " 'sigmaclip',\n",
       " 'skellam',\n",
       " 'skew',\n",
       " 'skewnorm',\n",
       " 'skewtest',\n",
       " 'spearmanr',\n",
       " 'special_ortho_group',\n",
       " 'statlib',\n",
       " 'stats',\n",
       " 't',\n",
       " 'test',\n",
       " 'theilslopes',\n",
       " 'tiecorrect',\n",
       " 'tmax',\n",
       " 'tmean',\n",
       " 'tmin',\n",
       " 'trapezoid',\n",
       " 'trapz',\n",
       " 'triang',\n",
       " 'trim1',\n",
       " 'trim_mean',\n",
       " 'trimboth',\n",
       " 'truncexpon',\n",
       " 'truncnorm',\n",
       " 'tsem',\n",
       " 'tstd',\n",
       " 'ttest_1samp',\n",
       " 'ttest_ind',\n",
       " 'ttest_ind_from_stats',\n",
       " 'ttest_rel',\n",
       " 'tukeylambda',\n",
       " 'tvar',\n",
       " 'uniform',\n",
       " 'unitary_group',\n",
       " 'variation',\n",
       " 'vonmises',\n",
       " 'vonmises_line',\n",
       " 'wald',\n",
       " 'wasserstein_distance',\n",
       " 'weibull_max',\n",
       " 'weibull_min',\n",
       " 'weightedtau',\n",
       " 'wilcoxon',\n",
       " 'wishart',\n",
       " 'wrapcauchy',\n",
       " 'yeojohnson',\n",
       " 'yeojohnson_llf',\n",
       " 'yeojohnson_normmax',\n",
       " 'yeojohnson_normplot',\n",
       " 'yulesimon',\n",
       " 'zipf',\n",
       " 'zmap',\n",
       " 'zscore']"
      ]
     },
     "execution_count": 13,
     "metadata": {},
     "output_type": "execute_result"
    }
   ],
   "source": [
    "dir(st)"
   ]
  },
  {
   "cell_type": "code",
   "execution_count": null,
   "metadata": {},
   "outputs": [],
   "source": [
    " 'ttest_1samp',\n",
    " 'ttest_ind',\n",
    " 'ttest_ind_from_stats',\n",
    " 'ttest_rel'"
   ]
  },
  {
   "cell_type": "code",
   "execution_count": 14,
   "metadata": {
    "collapsed": true,
    "jupyter": {
     "outputs_hidden": true
    },
    "tags": []
   },
   "outputs": [
    {
     "name": "stdout",
     "output_type": "stream",
     "text": [
      "Help on function ttest_1samp in module scipy.stats.stats:\n",
      "\n",
      "ttest_1samp(a, popmean, axis=0, nan_policy='propagate', alternative='two-sided')\n",
      "    Calculate the T-test for the mean of ONE group of scores.\n",
      "    \n",
      "    This is a two-sided test for the null hypothesis that the expected value\n",
      "    (mean) of a sample of independent observations `a` is equal to the given\n",
      "    population mean, `popmean`.\n",
      "    \n",
      "    Parameters\n",
      "    ----------\n",
      "    a : array_like\n",
      "        Sample observation.\n",
      "    popmean : float or array_like\n",
      "        Expected value in null hypothesis. If array_like, then it must have the\n",
      "        same shape as `a` excluding the axis dimension.\n",
      "    axis : int or None, optional\n",
      "        Axis along which to compute test; default is 0. If None, compute over\n",
      "        the whole array `a`.\n",
      "    nan_policy : {'propagate', 'raise', 'omit'}, optional\n",
      "        Defines how to handle when input contains nan.\n",
      "        The following options are available (default is 'propagate'):\n",
      "    \n",
      "          * 'propagate': returns nan\n",
      "          * 'raise': throws an error\n",
      "          * 'omit': performs the calculations ignoring nan values\n",
      "    alternative : {'two-sided', 'less', 'greater'}, optional\n",
      "        Defines the alternative hypothesis.\n",
      "        The following options are available (default is 'two-sided'):\n",
      "    \n",
      "          * 'two-sided'\n",
      "          * 'less': one-sided\n",
      "          * 'greater': one-sided\n",
      "    \n",
      "        .. versionadded:: 1.6.0\n",
      "    \n",
      "    Returns\n",
      "    -------\n",
      "    statistic : float or array\n",
      "        t-statistic.\n",
      "    pvalue : float or array\n",
      "        Two-sided p-value.\n",
      "    \n",
      "    Examples\n",
      "    --------\n",
      "    >>> from scipy import stats\n",
      "    \n",
      "    >>> np.random.seed(7654567)  # fix seed to get the same result\n",
      "    >>> rvs = stats.norm.rvs(loc=5, scale=10, size=(50,2))\n",
      "    \n",
      "    Test if mean of random sample is equal to true mean, and different mean.\n",
      "    We reject the null hypothesis in the second case and don't reject it in\n",
      "    the first case.\n",
      "    \n",
      "    >>> stats.ttest_1samp(rvs,5.0)\n",
      "    (array([-0.68014479, -0.04323899]), array([ 0.49961383,  0.96568674]))\n",
      "    >>> stats.ttest_1samp(rvs,0.0)\n",
      "    (array([ 2.77025808,  4.11038784]), array([ 0.00789095,  0.00014999]))\n",
      "    \n",
      "    Examples using axis and non-scalar dimension for population mean.\n",
      "    \n",
      "    >>> result = stats.ttest_1samp(rvs, [5.0, 0.0])\n",
      "    >>> result.statistic\n",
      "    array([-0.68014479,  4.11038784]),\n",
      "    >>> result.pvalue\n",
      "    array([4.99613833e-01, 1.49986458e-04])\n",
      "    \n",
      "    >>> result = stats.ttest_1samp(rvs.T, [5.0, 0.0], axis=1)\n",
      "    >>> result.statistic\n",
      "    array([-0.68014479,  4.11038784])\n",
      "    >>> result.pvalue\n",
      "    array([4.99613833e-01, 1.49986458e-04])\n",
      "    \n",
      "    >>> result = stats.ttest_1samp(rvs, [[5.0], [0.0]])\n",
      "    >>> result.statistic\n",
      "    array([[-0.68014479, -0.04323899],\n",
      "           [ 2.77025808,  4.11038784]])\n",
      "    >>> result.pvalue\n",
      "    array([[4.99613833e-01, 9.65686743e-01],\n",
      "           [7.89094663e-03, 1.49986458e-04]])\n",
      "\n"
     ]
    }
   ],
   "source": [
    "help(st.ttest_1samp)"
   ]
  },
  {
   "cell_type": "code",
   "execution_count": 16,
   "metadata": {
    "collapsed": true,
    "jupyter": {
     "outputs_hidden": true
    },
    "tags": []
   },
   "outputs": [
    {
     "name": "stdout",
     "output_type": "stream",
     "text": [
      "Help on function ttest_ind_from_stats in module scipy.stats.stats:\n",
      "\n",
      "ttest_ind_from_stats(mean1, std1, nobs1, mean2, std2, nobs2, equal_var=True, alternative='two-sided')\n",
      "    T-test for means of two independent samples from descriptive statistics.\n",
      "    \n",
      "    This is a two-sided test for the null hypothesis that two independent\n",
      "    samples have identical average (expected) values.\n",
      "    \n",
      "    Parameters\n",
      "    ----------\n",
      "    mean1 : array_like\n",
      "        The mean(s) of sample 1.\n",
      "    std1 : array_like\n",
      "        The standard deviation(s) of sample 1.\n",
      "    nobs1 : array_like\n",
      "        The number(s) of observations of sample 1.\n",
      "    mean2 : array_like\n",
      "        The mean(s) of sample 2.\n",
      "    std2 : array_like\n",
      "        The standard deviations(s) of sample 2.\n",
      "    nobs2 : array_like\n",
      "        The number(s) of observations of sample 2.\n",
      "    equal_var : bool, optional\n",
      "        If True (default), perform a standard independent 2 sample test\n",
      "        that assumes equal population variances [1]_.\n",
      "        If False, perform Welch's t-test, which does not assume equal\n",
      "        population variance [2]_.\n",
      "    alternative : {'two-sided', 'less', 'greater'}, optional\n",
      "        Defines the alternative hypothesis.\n",
      "        The following options are available (default is 'two-sided'):\n",
      "    \n",
      "          * 'two-sided'\n",
      "          * 'less': one-sided\n",
      "          * 'greater': one-sided\n",
      "    \n",
      "        .. versionadded:: 1.6.0\n",
      "    \n",
      "    Returns\n",
      "    -------\n",
      "    statistic : float or array\n",
      "        The calculated t-statistics.\n",
      "    pvalue : float or array\n",
      "        The two-tailed p-value.\n",
      "    \n",
      "    See Also\n",
      "    --------\n",
      "    scipy.stats.ttest_ind\n",
      "    \n",
      "    Notes\n",
      "    -----\n",
      "    .. versionadded:: 0.16.0\n",
      "    \n",
      "    References\n",
      "    ----------\n",
      "    .. [1] https://en.wikipedia.org/wiki/T-test#Independent_two-sample_t-test\n",
      "    \n",
      "    .. [2] https://en.wikipedia.org/wiki/Welch%27s_t-test\n",
      "    \n",
      "    Examples\n",
      "    --------\n",
      "    Suppose we have the summary data for two samples, as follows::\n",
      "    \n",
      "                         Sample   Sample\n",
      "                   Size   Mean   Variance\n",
      "        Sample 1    13    15.0     87.5\n",
      "        Sample 2    11    12.0     39.0\n",
      "    \n",
      "    Apply the t-test to this data (with the assumption that the population\n",
      "    variances are equal):\n",
      "    \n",
      "    >>> from scipy.stats import ttest_ind_from_stats\n",
      "    >>> ttest_ind_from_stats(mean1=15.0, std1=np.sqrt(87.5), nobs1=13,\n",
      "    ...                      mean2=12.0, std2=np.sqrt(39.0), nobs2=11)\n",
      "    Ttest_indResult(statistic=0.9051358093310269, pvalue=0.3751996797581487)\n",
      "    \n",
      "    For comparison, here is the data from which those summary statistics\n",
      "    were taken.  With this data, we can compute the same result using\n",
      "    `scipy.stats.ttest_ind`:\n",
      "    \n",
      "    >>> a = np.array([1, 3, 4, 6, 11, 13, 15, 19, 22, 24, 25, 26, 26])\n",
      "    >>> b = np.array([2, 4, 6, 9, 11, 13, 14, 15, 18, 19, 21])\n",
      "    >>> from scipy.stats import ttest_ind\n",
      "    >>> ttest_ind(a, b)\n",
      "    Ttest_indResult(statistic=0.905135809331027, pvalue=0.3751996797581486)\n",
      "    \n",
      "    Suppose we instead have binary data and would like to apply a t-test to\n",
      "    compare the proportion of 1s in two independent groups::\n",
      "    \n",
      "                          Number of    Sample     Sample\n",
      "                    Size    ones        Mean     Variance\n",
      "        Sample 1    150      30         0.2        0.16\n",
      "        Sample 2    200      45         0.225      0.174375\n",
      "    \n",
      "    The sample mean :math:`\\hat{p}` is the proportion of ones in the sample\n",
      "    and the variance for a binary observation is estimated by\n",
      "    :math:`\\hat{p}(1-\\hat{p})`.\n",
      "    \n",
      "    >>> ttest_ind_from_stats(mean1=0.2, std1=np.sqrt(0.16), nobs1=150,\n",
      "    ...                      mean2=0.225, std2=np.sqrt(0.17437), nobs2=200)\n",
      "    Ttest_indResult(statistic=-0.564327545549774, pvalue=0.5728947691244874)\n",
      "    \n",
      "    For comparison, we could compute the t statistic and p-value using\n",
      "    arrays of 0s and 1s and `scipy.stat.ttest_ind`, as above.\n",
      "    \n",
      "    >>> group1 = np.array([1]*30 + [0]*(150-30))\n",
      "    >>> group2 = np.array([1]*45 + [0]*(200-45))\n",
      "    >>> ttest_ind(group1, group2)\n",
      "    Ttest_indResult(statistic=-0.5627179589855622, pvalue=0.573989277115258)\n",
      "\n"
     ]
    }
   ],
   "source": [
    "help(st.ttest_ind_from_stats)"
   ]
  },
  {
   "cell_type": "code",
   "execution_count": 15,
   "metadata": {
    "collapsed": true,
    "jupyter": {
     "outputs_hidden": true
    },
    "tags": []
   },
   "outputs": [
    {
     "name": "stdout",
     "output_type": "stream",
     "text": [
      "Help on function ttest_ind in module scipy.stats.stats:\n",
      "\n",
      "ttest_ind(a, b, axis=0, equal_var=True, nan_policy='propagate', alternative='two-sided')\n",
      "    Calculate the T-test for the means of *two independent* samples of scores.\n",
      "    \n",
      "    This is a two-sided test for the null hypothesis that 2 independent samples\n",
      "    have identical average (expected) values. This test assumes that the\n",
      "    populations have identical variances by default.\n",
      "    \n",
      "    Parameters\n",
      "    ----------\n",
      "    a, b : array_like\n",
      "        The arrays must have the same shape, except in the dimension\n",
      "        corresponding to `axis` (the first, by default).\n",
      "    axis : int or None, optional\n",
      "        Axis along which to compute test. If None, compute over the whole\n",
      "        arrays, `a`, and `b`.\n",
      "    equal_var : bool, optional\n",
      "        If True (default), perform a standard independent 2 sample test\n",
      "        that assumes equal population variances [1]_.\n",
      "        If False, perform Welch's t-test, which does not assume equal\n",
      "        population variance [2]_.\n",
      "    \n",
      "        .. versionadded:: 0.11.0\n",
      "    nan_policy : {'propagate', 'raise', 'omit'}, optional\n",
      "        Defines how to handle when input contains nan.\n",
      "        The following options are available (default is 'propagate'):\n",
      "    \n",
      "          * 'propagate': returns nan\n",
      "          * 'raise': throws an error\n",
      "          * 'omit': performs the calculations ignoring nan values\n",
      "    alternative : {'two-sided', 'less', 'greater'}, optional\n",
      "        Defines the alternative hypothesis.\n",
      "        The following options are available (default is 'two-sided'):\n",
      "    \n",
      "          * 'two-sided'\n",
      "          * 'less': one-sided\n",
      "          * 'greater': one-sided\n",
      "    \n",
      "        .. versionadded:: 1.6.0\n",
      "    \n",
      "    Returns\n",
      "    -------\n",
      "    statistic : float or array\n",
      "        The calculated t-statistic.\n",
      "    pvalue : float or array\n",
      "        The two-tailed p-value.\n",
      "    \n",
      "    Notes\n",
      "    -----\n",
      "    We can use this test, if we observe two independent samples from\n",
      "    the same or different population, e.g. exam scores of boys and\n",
      "    girls or of two ethnic groups. The test measures whether the\n",
      "    average (expected) value differs significantly across samples. If\n",
      "    we observe a large p-value, for example larger than 0.05 or 0.1,\n",
      "    then we cannot reject the null hypothesis of identical average scores.\n",
      "    If the p-value is smaller than the threshold, e.g. 1%, 5% or 10%,\n",
      "    then we reject the null hypothesis of equal averages.\n",
      "    \n",
      "    References\n",
      "    ----------\n",
      "    .. [1] https://en.wikipedia.org/wiki/T-test#Independent_two-sample_t-test\n",
      "    \n",
      "    .. [2] https://en.wikipedia.org/wiki/Welch%27s_t-test\n",
      "    \n",
      "    Examples\n",
      "    --------\n",
      "    >>> from scipy import stats\n",
      "    >>> np.random.seed(12345678)\n",
      "    \n",
      "    Test with sample with identical means:\n",
      "    \n",
      "    >>> rvs1 = stats.norm.rvs(loc=5,scale=10,size=500)\n",
      "    >>> rvs2 = stats.norm.rvs(loc=5,scale=10,size=500)\n",
      "    >>> stats.ttest_ind(rvs1,rvs2)\n",
      "    (0.26833823296239279, 0.78849443369564776)\n",
      "    >>> stats.ttest_ind(rvs1,rvs2, equal_var = False)\n",
      "    (0.26833823296239279, 0.78849452749500748)\n",
      "    \n",
      "    `ttest_ind` underestimates p for unequal variances:\n",
      "    \n",
      "    >>> rvs3 = stats.norm.rvs(loc=5, scale=20, size=500)\n",
      "    >>> stats.ttest_ind(rvs1, rvs3)\n",
      "    (-0.46580283298287162, 0.64145827413436174)\n",
      "    >>> stats.ttest_ind(rvs1, rvs3, equal_var = False)\n",
      "    (-0.46580283298287162, 0.64149646246569292)\n",
      "    \n",
      "    When n1 != n2, the equal variance t-statistic is no longer equal to the\n",
      "    unequal variance t-statistic:\n",
      "    \n",
      "    >>> rvs4 = stats.norm.rvs(loc=5, scale=20, size=100)\n",
      "    >>> stats.ttest_ind(rvs1, rvs4)\n",
      "    (-0.99882539442782481, 0.3182832709103896)\n",
      "    >>> stats.ttest_ind(rvs1, rvs4, equal_var = False)\n",
      "    (-0.69712570584654099, 0.48716927725402048)\n",
      "    \n",
      "    T-test with different means, variance, and n:\n",
      "    \n",
      "    >>> rvs5 = stats.norm.rvs(loc=8, scale=20, size=100)\n",
      "    >>> stats.ttest_ind(rvs1, rvs5)\n",
      "    (-1.4679669854490653, 0.14263895620529152)\n",
      "    >>> stats.ttest_ind(rvs1, rvs5, equal_var = False)\n",
      "    (-0.94365973617132992, 0.34744170334794122)\n",
      "\n"
     ]
    }
   ],
   "source": [
    "help(st.ttest_ind)"
   ]
  },
  {
   "cell_type": "code",
   "execution_count": 18,
   "metadata": {
    "collapsed": true,
    "jupyter": {
     "outputs_hidden": true
    },
    "tags": []
   },
   "outputs": [
    {
     "name": "stdout",
     "output_type": "stream",
     "text": [
      "Help on function ttest_rel in module scipy.stats.stats:\n",
      "\n",
      "ttest_rel(a, b, axis=0, nan_policy='propagate', alternative='two-sided')\n",
      "    Calculate the t-test on TWO RELATED samples of scores, a and b.\n",
      "    \n",
      "    This is a two-sided test for the null hypothesis that 2 related or\n",
      "    repeated samples have identical average (expected) values.\n",
      "    \n",
      "    Parameters\n",
      "    ----------\n",
      "    a, b : array_like\n",
      "        The arrays must have the same shape.\n",
      "    axis : int or None, optional\n",
      "        Axis along which to compute test. If None, compute over the whole\n",
      "        arrays, `a`, and `b`.\n",
      "    nan_policy : {'propagate', 'raise', 'omit'}, optional\n",
      "        Defines how to handle when input contains nan.\n",
      "        The following options are available (default is 'propagate'):\n",
      "    \n",
      "          * 'propagate': returns nan\n",
      "          * 'raise': throws an error\n",
      "          * 'omit': performs the calculations ignoring nan values\n",
      "    alternative : {'two-sided', 'less', 'greater'}, optional\n",
      "        Defines the alternative hypothesis.\n",
      "        The following options are available (default is 'two-sided'):\n",
      "    \n",
      "          * 'two-sided'\n",
      "          * 'less': one-sided\n",
      "          * 'greater': one-sided\n",
      "    \n",
      "          .. versionadded:: 1.6.0\n",
      "    \n",
      "    Returns\n",
      "    -------\n",
      "    statistic : float or array\n",
      "        t-statistic.\n",
      "    pvalue : float or array\n",
      "        Two-sided p-value.\n",
      "    \n",
      "    Notes\n",
      "    -----\n",
      "    Examples for use are scores of the same set of student in\n",
      "    different exams, or repeated sampling from the same units. The\n",
      "    test measures whether the average score differs significantly\n",
      "    across samples (e.g. exams). If we observe a large p-value, for\n",
      "    example greater than 0.05 or 0.1 then we cannot reject the null\n",
      "    hypothesis of identical average scores. If the p-value is smaller\n",
      "    than the threshold, e.g. 1%, 5% or 10%, then we reject the null\n",
      "    hypothesis of equal averages. Small p-values are associated with\n",
      "    large t-statistics.\n",
      "    \n",
      "    References\n",
      "    ----------\n",
      "    https://en.wikipedia.org/wiki/T-test#Dependent_t-test_for_paired_samples\n",
      "    \n",
      "    Examples\n",
      "    --------\n",
      "    >>> from scipy import stats\n",
      "    >>> np.random.seed(12345678) # fix random seed to get same numbers\n",
      "    \n",
      "    >>> rvs1 = stats.norm.rvs(loc=5,scale=10,size=500)\n",
      "    >>> rvs2 = (stats.norm.rvs(loc=5,scale=10,size=500) +\n",
      "    ...         stats.norm.rvs(scale=0.2,size=500))\n",
      "    >>> stats.ttest_rel(rvs1,rvs2)\n",
      "    (0.24101764965300962, 0.80964043445811562)\n",
      "    >>> rvs3 = (stats.norm.rvs(loc=8,scale=10,size=500) +\n",
      "    ...         stats.norm.rvs(scale=0.2,size=500))\n",
      "    >>> stats.ttest_rel(rvs1,rvs3)\n",
      "    (-3.9995108708727933, 7.3082402191726459e-005)\n",
      "\n"
     ]
    }
   ],
   "source": [
    "help(st.ttest_rel)"
   ]
  },
  {
   "cell_type": "markdown",
   "metadata": {},
   "source": [
    "-----------------\n",
    "# Task 3\n",
    "Test the hypothesis that the number of points (PTS) scored by Cleveland Cavaliers changed significantly after the head coach changed in the 2015/2016 season.\n",
    "\n",
    "- **Coach Blatt was fired on 24th of Jan, 2016**. \n",
    "\n",
    "Use the data from seasons 2014/2015 and 2015/2016 - those are years when Cleveland was coached by Blatt. \n",
    "\n",
    "**We have two possible solutions to try here:**\n",
    "- Take the same amount of games from before and after and try t-test.\n",
    "- Take all the games from before and after and look for the right test to compare two samples with different sizes. (You will need to go through the scipy documentation or google to figure out what kind of test is required.)"
   ]
  },
  {
   "cell_type": "code",
   "execution_count": 50,
   "metadata": {},
   "outputs": [
    {
     "ename": "AttributeError",
     "evalue": "'str' object has no attribute 'dt'",
     "output_type": "error",
     "traceback": [
      "\u001b[0;31m---------------------------------------------------------------------------\u001b[0m",
      "\u001b[0;31mAttributeError\u001b[0m                            Traceback (most recent call last)",
      "\u001b[0;32m<ipython-input-50-467ddbf050a3>\u001b[0m in \u001b[0;36m<module>\u001b[0;34m\u001b[0m\n\u001b[0;32m----> 1\u001b[0;31m \u001b[0mhelp\u001b[0m\u001b[0;34m(\u001b[0m\u001b[0;34m\"2013\"\u001b[0m\u001b[0;34m.\u001b[0m\u001b[0mdt\u001b[0m\u001b[0;34m)\u001b[0m\u001b[0;34m\u001b[0m\u001b[0;34m\u001b[0m\u001b[0m\n\u001b[0m",
      "\u001b[0;31mAttributeError\u001b[0m: 'str' object has no attribute 'dt'"
     ]
    }
   ],
   "source": [
    "help(\"2013\".dt)"
   ]
  },
  {
   "cell_type": "code",
   "execution_count": 53,
   "metadata": {},
   "outputs": [],
   "source": [
    "blatt_fire_date = pd.Timestamp(year=2016, month=1, day=24)"
   ]
  },
  {
   "cell_type": "code",
   "execution_count": 61,
   "metadata": {},
   "outputs": [],
   "source": [
    "cle_games_2014_2015 = nba_games[nba_games[\"TEAM_ABBREVIATION\"].eq(\"CLE\") & nba_games[\"SEASON_ID\"].isin([22014,22015])]\n",
    "cle_games_2014_2015 = cle_games_2014_2015.astype({\"GAME_DATE\": \"datetime64\"})\n",
    "\n",
    "blatt_games = cle_games_2014_2015[cle_games_2014_2015[\"GAME_DATE\"].lt(blatt_fire_date)]\n",
    "non_blatt_games = cle_games_2014_2015[cle_games_2014_2015[\"GAME_DATE\"].gt(blatt_fire_date)]"
   ]
  },
  {
   "cell_type": "code",
   "execution_count": 72,
   "metadata": {},
   "outputs": [
    {
     "data": {
      "text/plain": [
       "124"
      ]
     },
     "execution_count": 72,
     "metadata": {},
     "output_type": "execute_result"
    },
    {
     "data": {
      "text/plain": [
       "40"
      ]
     },
     "execution_count": 72,
     "metadata": {},
     "output_type": "execute_result"
    }
   ],
   "source": [
    "blatt_games.shape[0]\n",
    "non_blatt_games.shape[0]"
   ]
  },
  {
   "cell_type": "code",
   "execution_count": 75,
   "metadata": {},
   "outputs": [
    {
     "data": {
      "text/plain": [
       "Ttest_indResult(statistic=-3.020359501985649, pvalue=0.003290500194598496)"
      ]
     },
     "execution_count": 75,
     "metadata": {},
     "output_type": "execute_result"
    }
   ],
   "source": [
    "# Equal var set to false performs a welchs t-test which works better with samples of different sizes\n",
    "st.ttest_ind(blatt_games[\"PTS\"], non_blatt_games[\"PTS\"], equal_var=False)"
   ]
  },
  {
   "cell_type": "markdown",
   "metadata": {},
   "source": [
    "Low p-value. Null hypothesis (points scored did not change) rejected.   \n",
    "Points scored by Clevland DID change after coach blatt was fired"
   ]
  },
  {
   "cell_type": "code",
   "execution_count": 76,
   "metadata": {},
   "outputs": [
    {
     "data": {
      "text/plain": [
       "102.39516129032258"
      ]
     },
     "execution_count": 76,
     "metadata": {},
     "output_type": "execute_result"
    },
    {
     "data": {
      "text/plain": [
       "107.875"
      ]
     },
     "execution_count": 76,
     "metadata": {},
     "output_type": "execute_result"
    }
   ],
   "source": [
    "blatt_games[\"PTS\"].mean()\n",
    "non_blatt_games[\"PTS\"].mean()"
   ]
  },
  {
   "cell_type": "markdown",
   "metadata": {},
   "source": [
    "----------------\n",
    "\n",
    "\n",
    "### Task 4\n",
    "Download [**the similar dataset**](https://drive.google.com/file/d/1jY57bAOZp9y83b4W2PAoSH1uFARaxxls/view?usp=sharing) with scores from playoff games in 2016."
   ]
  },
  {
   "cell_type": "code",
   "execution_count": 82,
   "metadata": {},
   "outputs": [
    {
     "data": {
      "text/html": [
       "<div>\n",
       "<style scoped>\n",
       "    .dataframe tbody tr th:only-of-type {\n",
       "        vertical-align: middle;\n",
       "    }\n",
       "\n",
       "    .dataframe tbody tr th {\n",
       "        vertical-align: top;\n",
       "    }\n",
       "\n",
       "    .dataframe thead th {\n",
       "        text-align: right;\n",
       "    }\n",
       "</style>\n",
       "<table border=\"1\" class=\"dataframe\">\n",
       "  <thead>\n",
       "    <tr style=\"text-align: right;\">\n",
       "      <th></th>\n",
       "      <th>SEASON_ID</th>\n",
       "      <th>TEAM_ID</th>\n",
       "      <th>TEAM_ABBREVIATION</th>\n",
       "      <th>TEAM_NAME</th>\n",
       "      <th>GAME_ID</th>\n",
       "      <th>GAME_DATE</th>\n",
       "      <th>MATCHUP</th>\n",
       "      <th>WL</th>\n",
       "      <th>MIN</th>\n",
       "      <th>PTS</th>\n",
       "      <th>FGM</th>\n",
       "      <th>FGA</th>\n",
       "      <th>FG_PCT</th>\n",
       "      <th>FG3M</th>\n",
       "      <th>FG3A</th>\n",
       "      <th>FG3_PCT</th>\n",
       "      <th>FTM</th>\n",
       "      <th>FTA</th>\n",
       "      <th>FT_PCT</th>\n",
       "      <th>OREB</th>\n",
       "      <th>DREB</th>\n",
       "      <th>REB</th>\n",
       "      <th>AST</th>\n",
       "      <th>STL</th>\n",
       "      <th>BLK</th>\n",
       "      <th>TOV</th>\n",
       "      <th>PF</th>\n",
       "      <th>PLUS_MINUS</th>\n",
       "    </tr>\n",
       "  </thead>\n",
       "  <tbody>\n",
       "    <tr>\n",
       "      <th>0</th>\n",
       "      <td>42015</td>\n",
       "      <td>1610612739</td>\n",
       "      <td>CLE</td>\n",
       "      <td>Cleveland Cavaliers</td>\n",
       "      <td>41500407</td>\n",
       "      <td>2016-06-19</td>\n",
       "      <td>CLE @ GSW</td>\n",
       "      <td>W</td>\n",
       "      <td>241</td>\n",
       "      <td>93</td>\n",
       "      <td>33</td>\n",
       "      <td>82</td>\n",
       "      <td>0.402</td>\n",
       "      <td>6</td>\n",
       "      <td>25</td>\n",
       "      <td>0.240</td>\n",
       "      <td>21</td>\n",
       "      <td>25</td>\n",
       "      <td>0.840</td>\n",
       "      <td>9</td>\n",
       "      <td>39</td>\n",
       "      <td>48</td>\n",
       "      <td>17</td>\n",
       "      <td>7</td>\n",
       "      <td>6</td>\n",
       "      <td>11</td>\n",
       "      <td>15</td>\n",
       "      <td>4.0</td>\n",
       "    </tr>\n",
       "    <tr>\n",
       "      <th>1</th>\n",
       "      <td>42015</td>\n",
       "      <td>1610612744</td>\n",
       "      <td>GSW</td>\n",
       "      <td>Golden State Warriors</td>\n",
       "      <td>41500407</td>\n",
       "      <td>2016-06-19</td>\n",
       "      <td>GSW vs. CLE</td>\n",
       "      <td>L</td>\n",
       "      <td>239</td>\n",
       "      <td>89</td>\n",
       "      <td>32</td>\n",
       "      <td>83</td>\n",
       "      <td>0.386</td>\n",
       "      <td>15</td>\n",
       "      <td>41</td>\n",
       "      <td>0.366</td>\n",
       "      <td>10</td>\n",
       "      <td>13</td>\n",
       "      <td>0.769</td>\n",
       "      <td>7</td>\n",
       "      <td>32</td>\n",
       "      <td>39</td>\n",
       "      <td>22</td>\n",
       "      <td>7</td>\n",
       "      <td>5</td>\n",
       "      <td>10</td>\n",
       "      <td>23</td>\n",
       "      <td>-4.0</td>\n",
       "    </tr>\n",
       "    <tr>\n",
       "      <th>2</th>\n",
       "      <td>42015</td>\n",
       "      <td>1610612744</td>\n",
       "      <td>GSW</td>\n",
       "      <td>Golden State Warriors</td>\n",
       "      <td>41500406</td>\n",
       "      <td>2016-06-16</td>\n",
       "      <td>GSW @ CLE</td>\n",
       "      <td>L</td>\n",
       "      <td>238</td>\n",
       "      <td>101</td>\n",
       "      <td>33</td>\n",
       "      <td>82</td>\n",
       "      <td>0.402</td>\n",
       "      <td>15</td>\n",
       "      <td>39</td>\n",
       "      <td>0.385</td>\n",
       "      <td>20</td>\n",
       "      <td>29</td>\n",
       "      <td>0.690</td>\n",
       "      <td>9</td>\n",
       "      <td>26</td>\n",
       "      <td>35</td>\n",
       "      <td>19</td>\n",
       "      <td>5</td>\n",
       "      <td>3</td>\n",
       "      <td>14</td>\n",
       "      <td>25</td>\n",
       "      <td>-14.0</td>\n",
       "    </tr>\n",
       "  </tbody>\n",
       "</table>\n",
       "</div>"
      ],
      "text/plain": [
       "   SEASON_ID     TEAM_ID TEAM_ABBREVIATION              TEAM_NAME   GAME_ID  \\\n",
       "0      42015  1610612739               CLE    Cleveland Cavaliers  41500407   \n",
       "1      42015  1610612744               GSW  Golden State Warriors  41500407   \n",
       "2      42015  1610612744               GSW  Golden State Warriors  41500406   \n",
       "\n",
       "    GAME_DATE      MATCHUP WL  MIN  PTS  FGM  FGA  FG_PCT  FG3M  FG3A  \\\n",
       "0  2016-06-19    CLE @ GSW  W  241   93   33   82   0.402     6    25   \n",
       "1  2016-06-19  GSW vs. CLE  L  239   89   32   83   0.386    15    41   \n",
       "2  2016-06-16    GSW @ CLE  L  238  101   33   82   0.402    15    39   \n",
       "\n",
       "   FG3_PCT  FTM  FTA  FT_PCT  OREB  DREB  REB  AST  STL  BLK  TOV  PF  \\\n",
       "0    0.240   21   25   0.840     9    39   48   17    7    6   11  15   \n",
       "1    0.366   10   13   0.769     7    32   39   22    7    5   10  23   \n",
       "2    0.385   20   29   0.690     9    26   35   19    5    3   14  25   \n",
       "\n",
       "   PLUS_MINUS  \n",
       "0         4.0  \n",
       "1        -4.0  \n",
       "2       -14.0  "
      ]
     },
     "execution_count": 82,
     "metadata": {},
     "output_type": "execute_result"
    }
   ],
   "source": [
    "playoff_games = pd.read_csv(\"nba_playoff_games.csv\", sep=\";\")\n",
    "playoff_games.head(3)"
   ]
  },
  {
   "cell_type": "markdown",
   "metadata": {},
   "source": [
    "------------\n",
    "### Task 5\n",
    "Test the hypothesis that **number of blocks (BLK)** are from the same distribution in both the NBA playoffs and in the NBA regular season for 2015/2016 seaon for the **Toronto Raptors**. \n",
    "\n",
    "- We will be working with two samples with different sizes again."
   ]
  },
  {
   "cell_type": "code",
   "execution_count": 83,
   "metadata": {},
   "outputs": [
    {
     "data": {
      "text/html": [
       "<div>\n",
       "<style scoped>\n",
       "    .dataframe tbody tr th:only-of-type {\n",
       "        vertical-align: middle;\n",
       "    }\n",
       "\n",
       "    .dataframe tbody tr th {\n",
       "        vertical-align: top;\n",
       "    }\n",
       "\n",
       "    .dataframe thead th {\n",
       "        text-align: right;\n",
       "    }\n",
       "</style>\n",
       "<table border=\"1\" class=\"dataframe\">\n",
       "  <thead>\n",
       "    <tr style=\"text-align: right;\">\n",
       "      <th></th>\n",
       "      <th>SEASON_ID</th>\n",
       "      <th>TEAM_ID</th>\n",
       "      <th>TEAM_ABBREVIATION</th>\n",
       "      <th>TEAM_NAME</th>\n",
       "      <th>GAME_ID</th>\n",
       "      <th>GAME_DATE</th>\n",
       "      <th>MATCHUP</th>\n",
       "      <th>WL</th>\n",
       "      <th>MIN</th>\n",
       "      <th>PTS</th>\n",
       "      <th>FGM</th>\n",
       "      <th>FGA</th>\n",
       "      <th>FG_PCT</th>\n",
       "      <th>FG3M</th>\n",
       "      <th>FG3A</th>\n",
       "      <th>FG3_PCT</th>\n",
       "      <th>FTM</th>\n",
       "      <th>FTA</th>\n",
       "      <th>FT_PCT</th>\n",
       "      <th>OREB</th>\n",
       "      <th>DREB</th>\n",
       "      <th>REB</th>\n",
       "      <th>AST</th>\n",
       "      <th>STL</th>\n",
       "      <th>BLK</th>\n",
       "      <th>TOV</th>\n",
       "      <th>PF</th>\n",
       "      <th>PLUS_MINUS</th>\n",
       "    </tr>\n",
       "  </thead>\n",
       "  <tbody>\n",
       "    <tr>\n",
       "      <th>9</th>\n",
       "      <td>22015</td>\n",
       "      <td>1610612761</td>\n",
       "      <td>TOR</td>\n",
       "      <td>Toronto Raptors</td>\n",
       "      <td>21501218</td>\n",
       "      <td>2016-04-13</td>\n",
       "      <td>TOR @ BKN</td>\n",
       "      <td>W</td>\n",
       "      <td>241</td>\n",
       "      <td>103</td>\n",
       "      <td>41</td>\n",
       "      <td>93</td>\n",
       "      <td>0.441</td>\n",
       "      <td>13</td>\n",
       "      <td>37</td>\n",
       "      <td>0.351</td>\n",
       "      <td>8</td>\n",
       "      <td>15</td>\n",
       "      <td>0.533</td>\n",
       "      <td>16</td>\n",
       "      <td>41</td>\n",
       "      <td>57</td>\n",
       "      <td>24</td>\n",
       "      <td>5</td>\n",
       "      <td>10</td>\n",
       "      <td>9</td>\n",
       "      <td>12</td>\n",
       "      <td>7.0</td>\n",
       "    </tr>\n",
       "    <tr>\n",
       "      <th>28</th>\n",
       "      <td>22015</td>\n",
       "      <td>1610612761</td>\n",
       "      <td>TOR</td>\n",
       "      <td>Toronto Raptors</td>\n",
       "      <td>21501214</td>\n",
       "      <td>2016-04-12</td>\n",
       "      <td>TOR vs. PHI</td>\n",
       "      <td>W</td>\n",
       "      <td>239</td>\n",
       "      <td>122</td>\n",
       "      <td>48</td>\n",
       "      <td>95</td>\n",
       "      <td>0.505</td>\n",
       "      <td>10</td>\n",
       "      <td>25</td>\n",
       "      <td>0.400</td>\n",
       "      <td>16</td>\n",
       "      <td>19</td>\n",
       "      <td>0.842</td>\n",
       "      <td>16</td>\n",
       "      <td>36</td>\n",
       "      <td>52</td>\n",
       "      <td>25</td>\n",
       "      <td>11</td>\n",
       "      <td>5</td>\n",
       "      <td>13</td>\n",
       "      <td>20</td>\n",
       "      <td>24.0</td>\n",
       "    </tr>\n",
       "  </tbody>\n",
       "</table>\n",
       "</div>"
      ],
      "text/plain": [
       "    SEASON_ID     TEAM_ID TEAM_ABBREVIATION        TEAM_NAME   GAME_ID  \\\n",
       "9       22015  1610612761               TOR  Toronto Raptors  21501218   \n",
       "28      22015  1610612761               TOR  Toronto Raptors  21501214   \n",
       "\n",
       "     GAME_DATE      MATCHUP WL  MIN  PTS  FGM  FGA  FG_PCT  FG3M  FG3A  \\\n",
       "9   2016-04-13    TOR @ BKN  W  241  103   41   93   0.441    13    37   \n",
       "28  2016-04-12  TOR vs. PHI  W  239  122   48   95   0.505    10    25   \n",
       "\n",
       "    FG3_PCT  FTM  FTA  FT_PCT  OREB  DREB  REB  AST  STL  BLK  TOV  PF  \\\n",
       "9     0.351    8   15   0.533    16    41   57   24    5   10    9  12   \n",
       "28    0.400   16   19   0.842    16    36   52   25   11    5   13  20   \n",
       "\n",
       "    PLUS_MINUS  \n",
       "9          7.0  \n",
       "28        24.0  "
      ]
     },
     "execution_count": 83,
     "metadata": {},
     "output_type": "execute_result"
    },
    {
     "data": {
      "text/html": [
       "<div>\n",
       "<style scoped>\n",
       "    .dataframe tbody tr th:only-of-type {\n",
       "        vertical-align: middle;\n",
       "    }\n",
       "\n",
       "    .dataframe tbody tr th {\n",
       "        vertical-align: top;\n",
       "    }\n",
       "\n",
       "    .dataframe thead th {\n",
       "        text-align: right;\n",
       "    }\n",
       "</style>\n",
       "<table border=\"1\" class=\"dataframe\">\n",
       "  <thead>\n",
       "    <tr style=\"text-align: right;\">\n",
       "      <th></th>\n",
       "      <th>SEASON_ID</th>\n",
       "      <th>TEAM_ID</th>\n",
       "      <th>TEAM_ABBREVIATION</th>\n",
       "      <th>TEAM_NAME</th>\n",
       "      <th>GAME_ID</th>\n",
       "      <th>GAME_DATE</th>\n",
       "      <th>MATCHUP</th>\n",
       "      <th>WL</th>\n",
       "      <th>MIN</th>\n",
       "      <th>PTS</th>\n",
       "      <th>FGM</th>\n",
       "      <th>FGA</th>\n",
       "      <th>FG_PCT</th>\n",
       "      <th>FG3M</th>\n",
       "      <th>FG3A</th>\n",
       "      <th>FG3_PCT</th>\n",
       "      <th>FTM</th>\n",
       "      <th>FTA</th>\n",
       "      <th>FT_PCT</th>\n",
       "      <th>OREB</th>\n",
       "      <th>DREB</th>\n",
       "      <th>REB</th>\n",
       "      <th>AST</th>\n",
       "      <th>STL</th>\n",
       "      <th>BLK</th>\n",
       "      <th>TOV</th>\n",
       "      <th>PF</th>\n",
       "      <th>PLUS_MINUS</th>\n",
       "    </tr>\n",
       "  </thead>\n",
       "  <tbody>\n",
       "    <tr>\n",
       "      <th>19</th>\n",
       "      <td>42015</td>\n",
       "      <td>1610612761</td>\n",
       "      <td>TOR</td>\n",
       "      <td>Toronto Raptors</td>\n",
       "      <td>41500306</td>\n",
       "      <td>2016-05-27</td>\n",
       "      <td>TOR vs. CLE</td>\n",
       "      <td>L</td>\n",
       "      <td>240</td>\n",
       "      <td>87</td>\n",
       "      <td>33</td>\n",
       "      <td>79</td>\n",
       "      <td>0.418</td>\n",
       "      <td>8</td>\n",
       "      <td>25</td>\n",
       "      <td>0.320</td>\n",
       "      <td>13</td>\n",
       "      <td>17</td>\n",
       "      <td>0.765</td>\n",
       "      <td>7</td>\n",
       "      <td>26</td>\n",
       "      <td>33</td>\n",
       "      <td>10</td>\n",
       "      <td>6</td>\n",
       "      <td>2</td>\n",
       "      <td>12</td>\n",
       "      <td>19</td>\n",
       "      <td>-26.0</td>\n",
       "    </tr>\n",
       "    <tr>\n",
       "      <th>22</th>\n",
       "      <td>42015</td>\n",
       "      <td>1610612761</td>\n",
       "      <td>TOR</td>\n",
       "      <td>Toronto Raptors</td>\n",
       "      <td>41500305</td>\n",
       "      <td>2016-05-25</td>\n",
       "      <td>TOR @ CLE</td>\n",
       "      <td>L</td>\n",
       "      <td>239</td>\n",
       "      <td>78</td>\n",
       "      <td>27</td>\n",
       "      <td>69</td>\n",
       "      <td>0.391</td>\n",
       "      <td>3</td>\n",
       "      <td>17</td>\n",
       "      <td>0.176</td>\n",
       "      <td>21</td>\n",
       "      <td>35</td>\n",
       "      <td>0.600</td>\n",
       "      <td>5</td>\n",
       "      <td>22</td>\n",
       "      <td>27</td>\n",
       "      <td>19</td>\n",
       "      <td>9</td>\n",
       "      <td>3</td>\n",
       "      <td>18</td>\n",
       "      <td>25</td>\n",
       "      <td>-38.0</td>\n",
       "    </tr>\n",
       "  </tbody>\n",
       "</table>\n",
       "</div>"
      ],
      "text/plain": [
       "    SEASON_ID     TEAM_ID TEAM_ABBREVIATION        TEAM_NAME   GAME_ID  \\\n",
       "19      42015  1610612761               TOR  Toronto Raptors  41500306   \n",
       "22      42015  1610612761               TOR  Toronto Raptors  41500305   \n",
       "\n",
       "     GAME_DATE      MATCHUP WL  MIN  PTS  FGM  FGA  FG_PCT  FG3M  FG3A  \\\n",
       "19  2016-05-27  TOR vs. CLE  L  240   87   33   79   0.418     8    25   \n",
       "22  2016-05-25    TOR @ CLE  L  239   78   27   69   0.391     3    17   \n",
       "\n",
       "    FG3_PCT  FTM  FTA  FT_PCT  OREB  DREB  REB  AST  STL  BLK  TOV  PF  \\\n",
       "19    0.320   13   17   0.765     7    26   33   10    6    2   12  19   \n",
       "22    0.176   21   35   0.600     5    22   27   19    9    3   18  25   \n",
       "\n",
       "    PLUS_MINUS  \n",
       "19       -26.0  \n",
       "22       -38.0  "
      ]
     },
     "execution_count": 83,
     "metadata": {},
     "output_type": "execute_result"
    }
   ],
   "source": [
    "raptors_games = nba_games_2015[nba_games_2015[\"TEAM_ABBREVIATION\"].eq(\"TOR\")]\n",
    "raptors_playoff_games = playoff_games[playoff_games[\"TEAM_ABBREVIATION\"].eq(\"TOR\")]\n",
    "raptors_games.head(2)\n",
    "raptors_playoff_games.head(2)"
   ]
  },
  {
   "cell_type": "code",
   "execution_count": 87,
   "metadata": {},
   "outputs": [
    {
     "data": {
      "text/plain": [
       "82"
      ]
     },
     "execution_count": 87,
     "metadata": {},
     "output_type": "execute_result"
    },
    {
     "data": {
      "text/plain": [
       "20"
      ]
     },
     "execution_count": 87,
     "metadata": {},
     "output_type": "execute_result"
    }
   ],
   "source": [
    "raptors_games[\"BLK\"].shape[0]\n",
    "raptors_playoff_games[\"BLK\"].shape[0]"
   ]
  },
  {
   "cell_type": "code",
   "execution_count": 90,
   "metadata": {},
   "outputs": [
    {
     "data": {
      "text/plain": [
       "Ttest_indResult(statistic=3.500438136870473, pvalue=0.0011403514552816168)"
      ]
     },
     "execution_count": 90,
     "metadata": {},
     "output_type": "execute_result"
    }
   ],
   "source": [
    "st.ttest_ind(raptors_games[\"BLK\"], raptors_playoff_games[\"BLK\"], equal_var=False)"
   ]
  },
  {
   "cell_type": "markdown",
   "metadata": {},
   "source": [
    "NOT from the same distribution"
   ]
  },
  {
   "cell_type": "markdown",
   "metadata": {},
   "source": [
    "\n",
    "-----------------\n",
    "### Task 6\n",
    "Test the hypothesis that the number of points (PTS) scored by Cleveland Cavaliers is equally distributed for all 3 seasons. \n",
    "\n",
    "- In this case, we need a hypothesis test that compares more than 2 distributions at the same. (You will need to go through the scipy documentation or google to figure out what kind of test is required.)"
   ]
  },
  {
   "cell_type": "markdown",
   "metadata": {},
   "source": [
    "### Use a one-way ANOVA test (`st.f_oneway`)"
   ]
  },
  {
   "cell_type": "code",
   "execution_count": 94,
   "metadata": {
    "tags": []
   },
   "outputs": [
    {
     "data": {
      "text/html": [
       "<div>\n",
       "<style scoped>\n",
       "    .dataframe tbody tr th:only-of-type {\n",
       "        vertical-align: middle;\n",
       "    }\n",
       "\n",
       "    .dataframe tbody tr th {\n",
       "        vertical-align: top;\n",
       "    }\n",
       "\n",
       "    .dataframe thead th {\n",
       "        text-align: right;\n",
       "    }\n",
       "</style>\n",
       "<table border=\"1\" class=\"dataframe\">\n",
       "  <thead>\n",
       "    <tr style=\"text-align: right;\">\n",
       "      <th></th>\n",
       "      <th>SEASON_ID</th>\n",
       "      <th>TEAM_ID</th>\n",
       "      <th>TEAM_ABBREVIATION</th>\n",
       "      <th>TEAM_NAME</th>\n",
       "      <th>GAME_ID</th>\n",
       "      <th>GAME_DATE</th>\n",
       "      <th>MATCHUP</th>\n",
       "      <th>WL</th>\n",
       "      <th>MIN</th>\n",
       "      <th>PTS</th>\n",
       "      <th>FGM</th>\n",
       "      <th>FGA</th>\n",
       "      <th>FG_PCT</th>\n",
       "      <th>FG3M</th>\n",
       "      <th>FG3A</th>\n",
       "      <th>FG3_PCT</th>\n",
       "      <th>FTM</th>\n",
       "      <th>FTA</th>\n",
       "      <th>FT_PCT</th>\n",
       "      <th>OREB</th>\n",
       "      <th>DREB</th>\n",
       "      <th>REB</th>\n",
       "      <th>AST</th>\n",
       "      <th>STL</th>\n",
       "      <th>BLK</th>\n",
       "      <th>TOV</th>\n",
       "      <th>PF</th>\n",
       "      <th>PLUS_MINUS</th>\n",
       "    </tr>\n",
       "  </thead>\n",
       "  <tbody>\n",
       "    <tr>\n",
       "      <th>4947</th>\n",
       "      <td>22013</td>\n",
       "      <td>1610612739</td>\n",
       "      <td>CLE</td>\n",
       "      <td>Cleveland Cavaliers</td>\n",
       "      <td>21301224</td>\n",
       "      <td>2014-04-16</td>\n",
       "      <td>CLE vs. BKN</td>\n",
       "      <td>W</td>\n",
       "      <td>239</td>\n",
       "      <td>114</td>\n",
       "      <td>46</td>\n",
       "      <td>87</td>\n",
       "      <td>0.529</td>\n",
       "      <td>8</td>\n",
       "      <td>20</td>\n",
       "      <td>0.400</td>\n",
       "      <td>14</td>\n",
       "      <td>17</td>\n",
       "      <td>0.824</td>\n",
       "      <td>13</td>\n",
       "      <td>38</td>\n",
       "      <td>51</td>\n",
       "      <td>32</td>\n",
       "      <td>10</td>\n",
       "      <td>7</td>\n",
       "      <td>12</td>\n",
       "      <td>18</td>\n",
       "      <td>29.0</td>\n",
       "    </tr>\n",
       "    <tr>\n",
       "      <th>4992</th>\n",
       "      <td>22013</td>\n",
       "      <td>1610612739</td>\n",
       "      <td>CLE</td>\n",
       "      <td>Cleveland Cavaliers</td>\n",
       "      <td>21301193</td>\n",
       "      <td>2014-04-12</td>\n",
       "      <td>CLE vs. BOS</td>\n",
       "      <td>L</td>\n",
       "      <td>239</td>\n",
       "      <td>99</td>\n",
       "      <td>37</td>\n",
       "      <td>90</td>\n",
       "      <td>0.411</td>\n",
       "      <td>5</td>\n",
       "      <td>18</td>\n",
       "      <td>0.278</td>\n",
       "      <td>20</td>\n",
       "      <td>30</td>\n",
       "      <td>0.667</td>\n",
       "      <td>15</td>\n",
       "      <td>34</td>\n",
       "      <td>49</td>\n",
       "      <td>22</td>\n",
       "      <td>2</td>\n",
       "      <td>2</td>\n",
       "      <td>11</td>\n",
       "      <td>20</td>\n",
       "      <td>-12.0</td>\n",
       "    </tr>\n",
       "  </tbody>\n",
       "</table>\n",
       "</div>"
      ],
      "text/plain": [
       "      SEASON_ID     TEAM_ID TEAM_ABBREVIATION            TEAM_NAME   GAME_ID  \\\n",
       "4947      22013  1610612739               CLE  Cleveland Cavaliers  21301224   \n",
       "4992      22013  1610612739               CLE  Cleveland Cavaliers  21301193   \n",
       "\n",
       "       GAME_DATE      MATCHUP WL  MIN  PTS  FGM  FGA  FG_PCT  FG3M  FG3A  \\\n",
       "4947  2014-04-16  CLE vs. BKN  W  239  114   46   87   0.529     8    20   \n",
       "4992  2014-04-12  CLE vs. BOS  L  239   99   37   90   0.411     5    18   \n",
       "\n",
       "      FG3_PCT  FTM  FTA  FT_PCT  OREB  DREB  REB  AST  STL  BLK  TOV  PF  \\\n",
       "4947    0.400   14   17   0.824    13    38   51   32   10    7   12  18   \n",
       "4992    0.278   20   30   0.667    15    34   49   22    2    2   11  20   \n",
       "\n",
       "      PLUS_MINUS  \n",
       "4947        29.0  \n",
       "4992       -12.0  "
      ]
     },
     "execution_count": 94,
     "metadata": {},
     "output_type": "execute_result"
    }
   ],
   "source": [
    "cle_games_2013 = nba_games_2013[nba_games_2013[\"TEAM_ABBREVIATION\"].eq(\"CLE\")]\n",
    "cle_games_2014 = nba_games_2014[nba_games_2014[\"TEAM_ABBREVIATION\"].eq(\"CLE\")]\n",
    "cle_games_2015 = nba_games_2014[nba_games_2014[\"TEAM_ABBREVIATION\"].eq(\"CLE\")]\n",
    "\n",
    "cle_games_2013.head(2)"
   ]
  },
  {
   "cell_type": "code",
   "execution_count": 99,
   "metadata": {},
   "outputs": [
    {
     "data": {
      "text/plain": [
       "12.388788629633082"
      ]
     },
     "execution_count": 99,
     "metadata": {},
     "output_type": "execute_result"
    },
    {
     "data": {
      "text/plain": [
       "12.694669042624803"
      ]
     },
     "execution_count": 99,
     "metadata": {},
     "output_type": "execute_result"
    },
    {
     "data": {
      "text/plain": [
       "12.694669042624803"
      ]
     },
     "execution_count": 99,
     "metadata": {},
     "output_type": "execute_result"
    }
   ],
   "source": [
    "# checking for equal std of the groups.\n",
    "# This is one of the assumptions of the one-way ANOVA test\n",
    "cle_games_2013[\"PTS\"].std()\n",
    "cle_games_2014[\"PTS\"].std()\n",
    "cle_games_2015[\"PTS\"].std()"
   ]
  },
  {
   "cell_type": "code",
   "execution_count": 96,
   "metadata": {},
   "outputs": [
    {
     "data": {
      "text/plain": [
       "F_onewayResult(statistic=4.162744137565715, pvalue=0.016688728242977246)"
      ]
     },
     "execution_count": 96,
     "metadata": {},
     "output_type": "execute_result"
    }
   ],
   "source": [
    "st.f_oneway(cle_games_2013[\"PTS\"], cle_games_2014[\"PTS\"], cle_games_2015[\"PTS\"])"
   ]
  },
  {
   "cell_type": "markdown",
   "metadata": {},
   "source": [
    "Strong evidence against the null hypothesis.\n",
    "\n",
    "points scored are not equally distributed between the 3 seasons"
   ]
  },
  {
   "cell_type": "code",
   "execution_count": 100,
   "metadata": {},
   "outputs": [
    {
     "data": {
      "text/plain": [
       "98.21951219512195"
      ]
     },
     "execution_count": 100,
     "metadata": {},
     "output_type": "execute_result"
    },
    {
     "data": {
      "text/plain": [
       "103.13414634146342"
      ]
     },
     "execution_count": 100,
     "metadata": {},
     "output_type": "execute_result"
    },
    {
     "data": {
      "text/plain": [
       "103.13414634146342"
      ]
     },
     "execution_count": 100,
     "metadata": {},
     "output_type": "execute_result"
    }
   ],
   "source": [
    "cle_games_2013[\"PTS\"].mean()\n",
    "cle_games_2014[\"PTS\"].mean()\n",
    "cle_games_2015[\"PTS\"].mean()"
   ]
  },
  {
   "cell_type": "markdown",
   "metadata": {},
   "source": [
    "The 2013 season is the difference here"
   ]
  },
  {
   "cell_type": "code",
   "execution_count": 93,
   "metadata": {
    "collapsed": true,
    "jupyter": {
     "outputs_hidden": true
    },
    "tags": []
   },
   "outputs": [
    {
     "name": "stdout",
     "output_type": "stream",
     "text": [
      "Help on function f_oneway in module scipy.stats.stats:\n",
      "\n",
      "f_oneway(*args, axis=0)\n",
      "    Perform one-way ANOVA.\n",
      "    \n",
      "    The one-way ANOVA tests the null hypothesis that two or more groups have\n",
      "    the same population mean.  The test is applied to samples from two or\n",
      "    more groups, possibly with differing sizes.\n",
      "    \n",
      "    Parameters\n",
      "    ----------\n",
      "    sample1, sample2, ... : array_like\n",
      "        The sample measurements for each group.  There must be at least\n",
      "        two arguments.  If the arrays are multidimensional, then all the\n",
      "        dimensions of the array must be the same except for `axis`.\n",
      "    axis : int, optional\n",
      "        Axis of the input arrays along which the test is applied.\n",
      "        Default is 0.\n",
      "    \n",
      "    Returns\n",
      "    -------\n",
      "    statistic : float\n",
      "        The computed F statistic of the test.\n",
      "    pvalue : float\n",
      "        The associated p-value from the F distribution.\n",
      "    \n",
      "    Warns\n",
      "    -----\n",
      "    F_onewayConstantInputWarning\n",
      "        Raised if each of the input arrays is constant array.\n",
      "        In this case the F statistic is either infinite or isn't defined,\n",
      "        so ``np.inf`` or ``np.nan`` is returned.\n",
      "    \n",
      "    F_onewayBadInputSizesWarning\n",
      "        Raised if the length of any input array is 0, or if all the input\n",
      "        arrays have length 1.  ``np.nan`` is returned for the F statistic\n",
      "        and the p-value in these cases.\n",
      "    \n",
      "    Notes\n",
      "    -----\n",
      "    The ANOVA test has important assumptions that must be satisfied in order\n",
      "    for the associated p-value to be valid.\n",
      "    \n",
      "    1. The samples are independent.\n",
      "    2. Each sample is from a normally distributed population.\n",
      "    3. The population standard deviations of the groups are all equal.  This\n",
      "       property is known as homoscedasticity.\n",
      "    \n",
      "    If these assumptions are not true for a given set of data, it may still\n",
      "    be possible to use the Kruskal-Wallis H-test (`scipy.stats.kruskal`)\n",
      "    although with some loss of power.\n",
      "    \n",
      "    The length of each group must be at least one, and there must be at\n",
      "    least one group with length greater than one.  If these conditions\n",
      "    are not satisfied, a warning is generated and (``np.nan``, ``np.nan``)\n",
      "    is returned.\n",
      "    \n",
      "    If each group contains constant values, and there exist at least two\n",
      "    groups with different values, the function generates a warning and\n",
      "    returns (``np.inf``, 0).\n",
      "    \n",
      "    If all values in all groups are the same, function generates a warning\n",
      "    and returns (``np.nan``, ``np.nan``).\n",
      "    \n",
      "    The algorithm is from Heiman [2]_, pp.394-7.\n",
      "    \n",
      "    References\n",
      "    ----------\n",
      "    .. [1] R. Lowry, \"Concepts and Applications of Inferential Statistics\",\n",
      "           Chapter 14, 2014, http://vassarstats.net/textbook/\n",
      "    \n",
      "    .. [2] G.W. Heiman, \"Understanding research methods and statistics: An\n",
      "           integrated introduction for psychology\", Houghton, Mifflin and\n",
      "           Company, 2001.\n",
      "    \n",
      "    .. [3] G.H. McDonald, \"Handbook of Biological Statistics\", One-way ANOVA.\n",
      "           http://www.biostathandbook.com/onewayanova.html\n",
      "    \n",
      "    Examples\n",
      "    --------\n",
      "    >>> from scipy.stats import f_oneway\n",
      "    \n",
      "    Here are some data [3]_ on a shell measurement (the length of the anterior\n",
      "    adductor muscle scar, standardized by dividing by length) in the mussel\n",
      "    Mytilus trossulus from five locations: Tillamook, Oregon; Newport, Oregon;\n",
      "    Petersburg, Alaska; Magadan, Russia; and Tvarminne, Finland, taken from a\n",
      "    much larger data set used in McDonald et al. (1991).\n",
      "    \n",
      "    >>> tillamook = [0.0571, 0.0813, 0.0831, 0.0976, 0.0817, 0.0859, 0.0735,\n",
      "    ...              0.0659, 0.0923, 0.0836]\n",
      "    >>> newport = [0.0873, 0.0662, 0.0672, 0.0819, 0.0749, 0.0649, 0.0835,\n",
      "    ...            0.0725]\n",
      "    >>> petersburg = [0.0974, 0.1352, 0.0817, 0.1016, 0.0968, 0.1064, 0.105]\n",
      "    >>> magadan = [0.1033, 0.0915, 0.0781, 0.0685, 0.0677, 0.0697, 0.0764,\n",
      "    ...            0.0689]\n",
      "    >>> tvarminne = [0.0703, 0.1026, 0.0956, 0.0973, 0.1039, 0.1045]\n",
      "    >>> f_oneway(tillamook, newport, petersburg, magadan, tvarminne)\n",
      "    F_onewayResult(statistic=7.121019471642447, pvalue=0.0002812242314534544)\n",
      "    \n",
      "    `f_oneway` accepts multidimensional input arrays.  When the inputs\n",
      "    are multidimensional and `axis` is not given, the test is performed\n",
      "    along the first axis of the input arrays.  For the following data, the\n",
      "    test is performed three times, once for each column.\n",
      "    \n",
      "    >>> a = np.array([[9.87, 9.03, 6.81],\n",
      "    ...               [7.18, 8.35, 7.00],\n",
      "    ...               [8.39, 7.58, 7.68],\n",
      "    ...               [7.45, 6.33, 9.35],\n",
      "    ...               [6.41, 7.10, 9.33],\n",
      "    ...               [8.00, 8.24, 8.44]])\n",
      "    >>> b = np.array([[6.35, 7.30, 7.16],\n",
      "    ...               [6.65, 6.68, 7.63],\n",
      "    ...               [5.72, 7.73, 6.72],\n",
      "    ...               [7.01, 9.19, 7.41],\n",
      "    ...               [7.75, 7.87, 8.30],\n",
      "    ...               [6.90, 7.97, 6.97]])\n",
      "    >>> c = np.array([[3.31, 8.77, 1.01],\n",
      "    ...               [8.25, 3.24, 3.62],\n",
      "    ...               [6.32, 8.81, 5.19],\n",
      "    ...               [7.48, 8.83, 8.91],\n",
      "    ...               [8.59, 6.01, 6.07],\n",
      "    ...               [3.07, 9.72, 7.48]])\n",
      "    >>> F, p = f_oneway(a, b, c)\n",
      "    >>> F\n",
      "    array([1.75676344, 0.03701228, 3.76439349])\n",
      "    >>> p\n",
      "    array([0.20630784, 0.96375203, 0.04733157])\n",
      "\n"
     ]
    }
   ],
   "source": [
    "help(st.f_oneway)"
   ]
  },
  {
   "cell_type": "code",
   "execution_count": null,
   "metadata": {},
   "outputs": [],
   "source": []
  },
  {
   "cell_type": "code",
   "execution_count": null,
   "metadata": {},
   "outputs": [],
   "source": []
  },
  {
   "cell_type": "markdown",
   "metadata": {},
   "source": [
    "#### Follow Up\n",
    "**Between which seasons can we see the significant difference?**\n",
    "\n",
    "+ Unfortunatelly, this is not the output of an ANOVA test and further tests are needed to be run.\n",
    "+ Note: Lebron James came back to the Cleveland Caveliers prior to season 2014/2015. We can use this fact to interpret our results correctly."
   ]
  },
  {
   "cell_type": "code",
   "execution_count": null,
   "metadata": {},
   "outputs": [],
   "source": []
  },
  {
   "cell_type": "code",
   "execution_count": null,
   "metadata": {},
   "outputs": [],
   "source": []
  },
  {
   "cell_type": "code",
   "execution_count": null,
   "metadata": {},
   "outputs": [],
   "source": []
  }
 ],
 "metadata": {
  "kernelspec": {
   "display_name": "Python 3",
   "language": "python",
   "name": "python3"
  },
  "language_info": {
   "codemirror_mode": {
    "name": "ipython",
    "version": 3
   },
   "file_extension": ".py",
   "mimetype": "text/x-python",
   "name": "python",
   "nbconvert_exporter": "python",
   "pygments_lexer": "ipython3",
   "version": "3.8.8"
  }
 },
 "nbformat": 4,
 "nbformat_minor": 4
}
