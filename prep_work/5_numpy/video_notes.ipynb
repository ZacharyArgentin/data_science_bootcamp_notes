{
 "cells": [
  {
   "cell_type": "code",
   "execution_count": 1,
   "metadata": {},
   "outputs": [],
   "source": [
    "import numpy as np"
   ]
  },
  {
   "cell_type": "code",
   "execution_count": 35,
   "metadata": {},
   "outputs": [
    {
     "name": "stdout",
     "output_type": "stream",
     "text": [
      "[1 2 3 4 5]\n"
     ]
    }
   ],
   "source": [
    "a = np.array([1, 2, 3, 4, 5], dtype=\"int16\")\n",
    "print(a)"
   ]
  },
  {
   "cell_type": "code",
   "execution_count": 8,
   "metadata": {},
   "outputs": [
    {
     "name": "stdout",
     "output_type": "stream",
     "text": [
      "[[1 2 3 4 5]\n",
      " [1 2 3 4 5]]\n"
     ]
    }
   ],
   "source": [
    "b = np.array([[1, 2, 3, 4, 5],[1, 2, 3, 4, 5]])\n",
    "print(b)"
   ]
  },
  {
   "cell_type": "code",
   "execution_count": 11,
   "metadata": {},
   "outputs": [
    {
     "name": "stdout",
     "output_type": "stream",
     "text": [
      "[[[1 2 3 4 5]\n",
      "  [1 2 3 4 5]\n",
      "  [1 2 3 4 5]]]\n"
     ]
    }
   ],
   "source": [
    "c = np.array([[[1, 2, 3, 4, 5],[1, 2, 3, 4, 5], [1, 2, 3, 4, 5]]])\n",
    "print(c)"
   ]
  },
  {
   "cell_type": "code",
   "execution_count": 12,
   "metadata": {},
   "outputs": [
    {
     "name": "stdout",
     "output_type": "stream",
     "text": [
      "1 2 3\n"
     ]
    }
   ],
   "source": [
    "# Get number of dimensions\n",
    "print(a.ndim, b.ndim, c.ndim)"
   ]
  },
  {
   "cell_type": "code",
   "execution_count": 13,
   "metadata": {},
   "outputs": [
    {
     "name": "stdout",
     "output_type": "stream",
     "text": [
      "(5,) (2, 5) (1, 3, 5)\n"
     ]
    }
   ],
   "source": [
    "# Get size of dimensions\n",
    "print(a.shape, b.shape, c.shape)\n",
    "\n",
    "# a is 5x1\n",
    "# b is 2x5\n",
    "# c is 1x3x5"
   ]
  },
  {
   "cell_type": "code",
   "execution_count": 67,
   "metadata": {},
   "outputs": [
    {
     "name": "stdout",
     "output_type": "stream",
     "text": [
      "[[[1 2 3 4 5]\n",
      "  [1 2 3 4 5]\n",
      "  [1 2 3 4 5]]]\n"
     ]
    }
   ],
   "source": [
    "c.reshape(3,5)\n",
    "print(c)"
   ]
  },
  {
   "cell_type": "code",
   "execution_count": 38,
   "metadata": {},
   "outputs": [
    {
     "name": "stdout",
     "output_type": "stream",
     "text": [
      "int16\n",
      "2\n",
      "5\n",
      "10\n",
      "10\n"
     ]
    }
   ],
   "source": [
    "#Get datatype\n",
    "print(a.dtype)\n",
    "\n",
    "# Get memory size of each item in the array (in bytes)\n",
    "print(a.itemsize)\n",
    "\n",
    "# Get number of elements in the array\n",
    "print(a.size)\n",
    "\n",
    "# Get total memory size of the array\n",
    "print(a.nbytes)\n",
    "# or\n",
    "print(a.size * a.itemsize)"
   ]
  },
  {
   "cell_type": "markdown",
   "metadata": {},
   "source": [
    "In the above example, the data type is \"int16\" which reserves 16 bits for each number.\n",
    "\n",
    "The item size is 2 bytes, because 16 bits is 2 bytes\n",
    "\n",
    "There are 5 elements in the array\n",
    "\n",
    "Therefore the total size of the array in bytes is 10 bytes (5 elements * 2 bytes per element)"
   ]
  },
  {
   "cell_type": "markdown",
   "metadata": {},
   "source": [
    "### Accessing elements in an array"
   ]
  },
  {
   "cell_type": "code",
   "execution_count": 45,
   "metadata": {},
   "outputs": [],
   "source": [
    "multiplication_table = np.array([[0, 0, 0, 0, 0, 0, 0, 0, 0, 0, 0, 0, 0],\n",
    "                                 [0, 1, 2, 3, 4, 5, 6, 7, 8, 9, 10, 11, 12],\n",
    "                                 [0, 2, 4, 6, 8, 10, 12, 14, 16, 18, 20, 22, 24],\n",
    "                                 [0, 3, 6, 9, 12, 15, 18, 21, 24, 27, 30, 33, 36],\n",
    "                                 [0, 4, 8, 12, 16, 20, 24, 28, 32, 36, 40, 44, 48],\n",
    "                                 [0, 5, 10, 15, 20, 25, 30, 35, 40, 45, 50, 55, 60],\n",
    "                                 [0, 6, 12, 18, 24, 30, 36, 42, 48, 54, 60, 66, 72],\n",
    "                                 [0, 7, 14, 21, 28, 35, 42, 49, 56, 63, 70, 77, 84],\n",
    "                                 [0, 8, 16, 24, 32, 40, 48, 56, 64, 72, 80, 88, 96],\n",
    "                                 [0, 9, 18, 27, 36, 45, 54, 63, 72, 81, 90, 99, 108],\n",
    "                                 [0, 10, 20, 30, 40, 50, 60, 70, 80, 90, 100, 110, 120],\n",
    "                                 [0, 11, 22, 33, 44, 55, 66, 77, 88, 99, 110, 121, 132],\n",
    "                                 [0, 12, 24, 36, 48, 60, 72, 84, 96, 108, 120, 132, 144]])"
   ]
  },
  {
   "cell_type": "code",
   "execution_count": 46,
   "metadata": {},
   "outputs": [
    {
     "name": "stdout",
     "output_type": "stream",
     "text": [
      "[[  0   0   0   0   0   0   0   0   0   0   0   0   0]\n",
      " [  0   1   2   3   4   5   6   7   8   9  10  11  12]\n",
      " [  0   2   4   6   8  10  12  14  16  18  20  22  24]\n",
      " [  0   3   6   9  12  15  18  21  24  27  30  33  36]\n",
      " [  0   4   8  12  16  20  24  28  32  36  40  44  48]\n",
      " [  0   5  10  15  20  25  30  35  40  45  50  55  60]\n",
      " [  0   6  12  18  24  30  36  42  48  54  60  66  72]\n",
      " [  0   7  14  21  28  35  42  49  56  63  70  77  84]\n",
      " [  0   8  16  24  32  40  48  56  64  72  80  88  96]\n",
      " [  0   9  18  27  36  45  54  63  72  81  90  99 108]\n",
      " [  0  10  20  30  40  50  60  70  80  90 100 110 120]\n",
      " [  0  11  22  33  44  55  66  77  88  99 110 121 132]\n",
      " [  0  12  24  36  48  60  72  84  96 108 120 132 144]]\n"
     ]
    }
   ],
   "source": [
    "print(multiplication_table)"
   ]
  },
  {
   "cell_type": "code",
   "execution_count": 47,
   "metadata": {},
   "outputs": [
    {
     "data": {
      "text/plain": [
       "15"
      ]
     },
     "execution_count": 47,
     "metadata": {},
     "output_type": "execute_result"
    }
   ],
   "source": [
    "#array[row, column]\n",
    "multiplication_table[3, 5]"
   ]
  },
  {
   "cell_type": "markdown",
   "metadata": {},
   "source": [
    "use standard slicing syntax to access entire rows and columns"
   ]
  },
  {
   "cell_type": "code",
   "execution_count": 48,
   "metadata": {},
   "outputs": [
    {
     "data": {
      "text/plain": [
       "array([  0,  12,  24,  36,  48,  60,  72,  84,  96, 108, 120, 132, 144])"
      ]
     },
     "execution_count": 48,
     "metadata": {},
     "output_type": "execute_result"
    }
   ],
   "source": [
    "multiplication_table[12,:]"
   ]
  },
  {
   "cell_type": "markdown",
   "metadata": {},
   "source": [
    "## Initializing arrays"
   ]
  },
  {
   "cell_type": "code",
   "execution_count": 63,
   "metadata": {},
   "outputs": [
    {
     "name": "stdout",
     "output_type": "stream",
     "text": [
      "[[1. 1. 1. 1. 1.]\n",
      " [1. 0. 0. 0. 1.]\n",
      " [1. 0. 9. 0. 1.]\n",
      " [1. 0. 0. 0. 1.]\n",
      " [1. 1. 1. 1. 1.]]\n",
      "[[1. 1. 1. 1. 1.]\n",
      " [1. 0. 0. 0. 1.]\n",
      " [1. 0. 9. 0. 1.]\n",
      " [1. 0. 0. 0. 1.]\n",
      " [1. 1. 1. 1. 1.]]\n"
     ]
    }
   ],
   "source": [
    "arr0 = np.ones((5,5))\n",
    "arr0[1:4, 1:4] = 0\n",
    "arr0[2,2] = 9\n",
    "print(arr0)\n",
    "\n",
    "# Also you can substitute smaller arrays into larger arrays.\n",
    "# i.e. you can choose a slice of a larger array that is the same size as a smaller array and\n",
    "# replace that slice with the smaller array\n",
    "\n",
    "arr1 = np.ones((5,5))\n",
    "arr2 = np.zeros((3,3))\n",
    "arr3 = np.full((1,1), 9)\n",
    "arr2[1,1] = arr3\n",
    "arr1[1:4, 1:4] = arr2\n",
    "print(arr1)"
   ]
  },
  {
   "cell_type": "markdown",
   "metadata": {},
   "source": [
    "Use the `copy()` method to make a copy of an array"
   ]
  },
  {
   "cell_type": "markdown",
   "metadata": {},
   "source": [
    "### Math"
   ]
  },
  {
   "cell_type": "code",
   "execution_count": null,
   "metadata": {},
   "outputs": [],
   "source": []
  }
 ],
 "metadata": {
  "kernelspec": {
   "display_name": "Python 3",
   "language": "python",
   "name": "python3"
  },
  "language_info": {
   "codemirror_mode": {
    "name": "ipython",
    "version": 3
   },
   "file_extension": ".py",
   "mimetype": "text/x-python",
   "name": "python",
   "nbconvert_exporter": "python",
   "pygments_lexer": "ipython3",
   "version": "3.8.5"
  }
 },
 "nbformat": 4,
 "nbformat_minor": 4
}
