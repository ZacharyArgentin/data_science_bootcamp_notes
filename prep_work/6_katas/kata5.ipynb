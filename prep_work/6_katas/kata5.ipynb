{
 "cells": [
  {
   "cell_type": "markdown",
   "metadata": {},
   "source": [
    "# Kata 5"
   ]
  },
  {
   "cell_type": "markdown",
   "metadata": {},
   "source": [
    "### Create a function named urlEncode that will receive a string of words, and return that string with all of the whitespace characters converted to %20. If there is whitespace on the outside of the string, like in our second example above, you should only replace the whitespace within the string."
   ]
  },
  {
   "cell_type": "code",
   "execution_count": 6,
   "metadata": {},
   "outputs": [
    {
     "name": "stdout",
     "output_type": "stream",
     "text": [
      "Lighthouse%20Labs\n",
      "Lighthouse%20Labs\n",
      "blue%20is%20greener%20than%20purple%20for%20sure\n"
     ]
    }
   ],
   "source": [
    "def urlEncode(text):\n",
    "    text = text.strip()\n",
    "    url_text = []\n",
    "    for char in text:\n",
    "        if char == \" \":\n",
    "            url_text.append(\"%20\")\n",
    "        else:\n",
    "            url_text.append(char)\n",
    "    return \"\".join(url_text)\n",
    "\n",
    "\n",
    "print(urlEncode(\"Lighthouse Labs\"))\n",
    "print(urlEncode(\" Lighthouse Labs  \"))\n",
    "print(urlEncode(\"blue is greener than purple for sure\"))"
   ]
  }
 ],
 "metadata": {
  "kernelspec": {
   "display_name": "Python 3",
   "language": "python",
   "name": "python3"
  },
  "language_info": {
   "codemirror_mode": {
    "name": "ipython",
    "version": 3
   },
   "file_extension": ".py",
   "mimetype": "text/x-python",
   "name": "python",
   "nbconvert_exporter": "python",
   "pygments_lexer": "ipython3",
   "version": "3.8.5"
  }
 },
 "nbformat": 4,
 "nbformat_minor": 4
}
