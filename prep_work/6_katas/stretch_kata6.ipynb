{
 "cells": [
  {
   "cell_type": "markdown",
   "metadata": {},
   "source": [
    "# Strech work - Kata 6"
   ]
  },
  {
   "cell_type": "markdown",
   "metadata": {},
   "source": [
    "The input data for this exercise will be a nested list (a list of lists), where each sub-list will have two numeric values. For example:\n",
    "[[1, 2], [2, 3]]\n",
    "The first will be the value to repeat, the second will be the amount of times to repeat that value.\n",
    "\n",
    "Create a function named repeatNumbers that will return a string with each of the given values repeated the appropriate number of times. If there are multiple sets of values each set should be separated by a comma. If there is only one set of values then you should omit the comma."
   ]
  },
  {
   "cell_type": "code",
   "execution_count": 18,
   "metadata": {},
   "outputs": [
    {
     "name": "stdout",
     "output_type": "stream",
     "text": [
      "1111111111\n",
      "11,222\n",
      "10101010,343434343434,9292\n"
     ]
    }
   ],
   "source": [
    "def repeatNumbers(input_):\n",
    "    output_ = []\n",
    "    for instruction in input_:\n",
    "        num, repetitions = instruction\n",
    "        num = str(num)\n",
    "        output_.append(num * repetitions)\n",
    "    output_ = \",\".join(output_)\n",
    "    return output_\n",
    "        \n",
    "        \n",
    "print(repeatNumbers([[1, 10]]))\n",
    "print(repeatNumbers([[1, 2], [2, 3]]))\n",
    "print(repeatNumbers([[10, 4], [34, 6], [92, 2]]))"
   ]
  },
  {
   "cell_type": "markdown",
   "metadata": {},
   "source": [
    "### Using list comprehension"
   ]
  },
  {
   "cell_type": "code",
   "execution_count": 21,
   "metadata": {},
   "outputs": [
    {
     "name": "stdout",
     "output_type": "stream",
     "text": [
      "1111111111\n",
      "11,222\n",
      "10101010,343434343434,9292\n"
     ]
    }
   ],
   "source": [
    "def repeatNumbers2(input_):\n",
    "    output_ = [str(num) * repetition for num, repetition in input_]\n",
    "    return \",\".join(output_)\n",
    "        \n",
    "        \n",
    "print(repeatNumbers2([[1, 10]]))\n",
    "print(repeatNumbers2([[1, 2], [2, 3]]))\n",
    "print(repeatNumbers2([[10, 4], [34, 6], [92, 2]]))"
   ]
  }
 ],
 "metadata": {
  "kernelspec": {
   "display_name": "Python 3",
   "language": "python",
   "name": "python3"
  },
  "language_info": {
   "codemirror_mode": {
    "name": "ipython",
    "version": 3
   },
   "file_extension": ".py",
   "mimetype": "text/x-python",
   "name": "python",
   "nbconvert_exporter": "python",
   "pygments_lexer": "ipython3",
   "version": "3.8.5"
  }
 },
 "nbformat": 4,
 "nbformat_minor": 4
}
