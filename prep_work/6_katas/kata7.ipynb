{
 "cells": [
  {
   "cell_type": "markdown",
   "metadata": {},
   "source": [
    "# Kata 7"
   ]
  },
  {
   "cell_type": "markdown",
   "metadata": {},
   "source": [
    "The new smart parking lot in Codeville was a big hit! Next on your list to tackle is the air quality. You've decided that you want to install air pollution sensors around the city to monitor air quality and identify problematic areas. We need to write the code for the sensors to trigger a special message when the air is too polluted.\n",
    "\n",
    "For this challenge, we will implement a function called checkAir(), which will check a collection of air samples. The function will take in two arguments. The first argument is a list of strings, where each string represents a small air sample that is either clean or dirty. The second argument is a number representing the highest acceptable amount of dirty samples. For example, a threshold of 0.4 means that there must be less than 40% of total samples classified as dirty for our air to be considered clean. Our function must return Polluted if there are too many dirty air samples, or Clean if the proportion of dirty samples is below the threshold."
   ]
  },
  {
   "cell_type": "code",
   "execution_count": 3,
   "metadata": {},
   "outputs": [
    {
     "name": "stdout",
     "output_type": "stream",
     "text": [
      "Polluted\n",
      "Polluted\n",
      "Clean\n"
     ]
    }
   ],
   "source": [
    "\n",
    "def checkAir(samples, threshold):\n",
    "    dirty_samples = [sample for sample in samples if sample == \"dirty\"]\n",
    "    if len(dirty_samples) / len(samples) >= threshold:\n",
    "        return \"Polluted\"\n",
    "    else:\n",
    "        return \"Clean\"\n",
    "    \n",
    "\n",
    "\n",
    "print(checkAir(\n",
    "  ['clean', 'clean', 'dirty', 'clean', 'dirty', 'clean', 'clean', 'dirty', 'clean', 'dirty'],\n",
    "  0.3\n",
    "))\n",
    "\n",
    "print(checkAir(\n",
    "  ['dirty', 'dirty', 'dirty', 'dirty', 'clean'],\n",
    "  0.25\n",
    "))\n",
    "\n",
    "print(checkAir(\n",
    "  ['clean', 'dirty', 'clean', 'dirty', 'clean', 'dirty', 'clean'],\n",
    "  0.9\n",
    "))"
   ]
  },
  {
   "cell_type": "code",
   "execution_count": null,
   "metadata": {},
   "outputs": [],
   "source": []
  }
 ],
 "metadata": {
  "kernelspec": {
   "display_name": "Python 3",
   "language": "python",
   "name": "python3"
  },
  "language_info": {
   "codemirror_mode": {
    "name": "ipython",
    "version": 3
   },
   "file_extension": ".py",
   "mimetype": "text/x-python",
   "name": "python",
   "nbconvert_exporter": "python",
   "pygments_lexer": "ipython3",
   "version": "3.8.5"
  }
 },
 "nbformat": 4,
 "nbformat_minor": 4
}
