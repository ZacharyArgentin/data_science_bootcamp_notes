{
 "cells": [
  {
   "cell_type": "markdown",
   "metadata": {},
   "source": [
    "# Kata 2"
   ]
  },
  {
   "cell_type": "markdown",
   "metadata": {},
   "source": [
    "### Create a function named conditionalSum that will be given a list of numbers and a condition, in this case odd or even. Given this condition, add up only the values which match that condition. If no values match the condition, return 0."
   ]
  },
  {
   "cell_type": "code",
   "execution_count": 3,
   "metadata": {},
   "outputs": [
    {
     "name": "stdout",
     "output_type": "stream",
     "text": [
      "6\n",
      "9\n",
      "144\n",
      "0\n"
     ]
    }
   ],
   "source": [
    "def conditionalSum(values, condition):\n",
    "    if condition == \"even\":\n",
    "        summands = [value for value in values if value % 2 == 0]\n",
    "    elif condition == \"odd\":\n",
    "        summands = [value for value in values if value % 2 == 1]\n",
    "    else:\n",
    "        return 0\n",
    "    return sum(summands)\n",
    "\n",
    "print(conditionalSum([1, 2, 3, 4, 5], \"even\"))\n",
    "print(conditionalSum([1, 2, 3, 4, 5], \"odd\"))\n",
    "print(conditionalSum([13, 88, 12, 44, 99], \"even\"))\n",
    "print(conditionalSum([], \"odd\"))"
   ]
  }
 ],
 "metadata": {
  "kernelspec": {
   "display_name": "Python 3",
   "language": "python",
   "name": "python3"
  },
  "language_info": {
   "codemirror_mode": {
    "name": "ipython",
    "version": 3
   },
   "file_extension": ".py",
   "mimetype": "text/x-python",
   "name": "python",
   "nbconvert_exporter": "python",
   "pygments_lexer": "ipython3",
   "version": "3.8.5"
  }
 },
 "nbformat": 4,
 "nbformat_minor": 4
}
