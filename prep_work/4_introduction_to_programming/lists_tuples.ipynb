{
 "cells": [
  {
   "cell_type": "markdown",
   "metadata": {},
   "source": [
    "# Lists and Tuples "
   ]
  },
  {
   "cell_type": "markdown",
   "metadata": {},
   "source": [
    "Instantiating a list"
   ]
  },
  {
   "cell_type": "code",
   "execution_count": 2,
   "metadata": {},
   "outputs": [
    {
     "name": "stdout",
     "output_type": "stream",
     "text": [
      "[1, 'hello']\n",
      "<class 'list'>\n"
     ]
    }
   ],
   "source": [
    "a = [1, \"hello\"]\n",
    "print(a)\n",
    "print(type(a))"
   ]
  },
  {
   "cell_type": "markdown",
   "metadata": {},
   "source": [
    "Lists can contain any objects\n",
    "\n",
    "Lists are ordered and objexts in a list can be accessed by there index. Splicing works the same as with strings. "
   ]
  },
  {
   "cell_type": "code",
   "execution_count": 3,
   "metadata": {},
   "outputs": [
    {
     "name": "stdout",
     "output_type": "stream",
     "text": [
      "object0\n",
      "object3\n",
      "['object1', 'object2']\n",
      "['object3', 'object1']\n"
     ]
    }
   ],
   "source": [
    "a = [\"object0\", \"object1\", \"object2\", \"object3\"]\n",
    "print(a[0])\n",
    "print(a[-1])\n",
    "print(a[1:3])\n",
    "print(a[-1:-4:-2])"
   ]
  },
  {
   "cell_type": "markdown",
   "metadata": {},
   "source": [
    "The slight difference with the `[:]` syntax regarding strings and lists is that with strings `\"example\"[3:5]\"` references the same string while with lists `example[3:5]` creates a copy of the list.\n",
    "\n",
    "In the example below, `a` and `a[:]` both reference the same object. i.e. their object ids will be the same. While `b` and `b[:]` reference different objects and therefore have different ids. In both cases the values are identical to each other, but with a the object id is the same while with b the object ids are different."
   ]
  },
  {
   "cell_type": "code",
   "execution_count": 7,
   "metadata": {},
   "outputs": [
    {
     "name": "stdout",
     "output_type": "stream",
     "text": [
      "True\n",
      "False\n"
     ]
    }
   ],
   "source": [
    "a = \"012345\"\n",
    "b = [0, 1, 2, 3, 4, 5]\n",
    "print(a[:] is a)\n",
    "print(b[:] is b)"
   ]
  },
  {
   "cell_type": "markdown",
   "metadata": {},
   "source": [
    "Concatenate lists with the + operator"
   ]
  },
  {
   "cell_type": "code",
   "execution_count": 8,
   "metadata": {},
   "outputs": [
    {
     "name": "stdout",
     "output_type": "stream",
     "text": [
      "[1, 2, 3, 4, 5, 6]\n"
     ]
    }
   ],
   "source": [
    "a = [1, 2, 3]\n",
    "b = [4, 5, 6]\n",
    "c = a + b\n",
    "print(a + b)"
   ]
  },
  {
   "cell_type": "markdown",
   "metadata": {},
   "source": [
    "Quick hack for reversing an iterable is `iterable[::-1]`"
   ]
  },
  {
   "cell_type": "code",
   "execution_count": 9,
   "metadata": {},
   "outputs": [
    {
     "name": "stdout",
     "output_type": "stream",
     "text": [
      "[5, 4, 3, 2, 1]\n"
     ]
    }
   ],
   "source": [
    "a = [1, 2, 3, 4, 5]\n",
    "b = a[::-1]\n",
    "print(b)"
   ]
  },
  {
   "cell_type": "markdown",
   "metadata": {},
   "source": [
    "lists can be nested\n",
    "\n",
    "access items in nested list with an extra index"
   ]
  },
  {
   "cell_type": "code",
   "execution_count": 10,
   "metadata": {},
   "outputs": [
    {
     "name": "stdout",
     "output_type": "stream",
     "text": [
      "['a', 'b', 'c']\n",
      "b\n"
     ]
    }
   ],
   "source": [
    "a = [1, 2, [\"a\", \"b\", \"c\"], 3, 4, 5]\n",
    "print(a[2])\n",
    "print(a[2][1])"
   ]
  },
  {
   "cell_type": "markdown",
   "metadata": {},
   "source": [
    "Lists are mutable. Access the object in the list you want to change with its index and assign a new value."
   ]
  },
  {
   "cell_type": "code",
   "execution_count": 13,
   "metadata": {},
   "outputs": [
    {
     "name": "stdout",
     "output_type": "stream",
     "text": [
      "[1, 2, 3, 4, 5]\n",
      "\n",
      "[1, 2, 'hello', 4, 5]\n",
      "\n",
      "[1, 2, 4, 5]\n"
     ]
    }
   ],
   "source": [
    "a = [1, 2, 3, 4, 5]\n",
    "print(a)\n",
    "print()\n",
    "\n",
    "a[2] = \"hello\"\n",
    "print(a)\n",
    "print()\n",
    "\n",
    "del a[2]\n",
    "print(a)"
   ]
  },
  {
   "cell_type": "markdown",
   "metadata": {},
   "source": [
    "Change multiple objects in a list with slice assignment\n",
    "\n",
    "Lists are dynamic, the length of the list changes as necessary."
   ]
  },
  {
   "cell_type": "code",
   "execution_count": 16,
   "metadata": {},
   "outputs": [
    {
     "name": "stdout",
     "output_type": "stream",
     "text": [
      "['0', '1']\n",
      "\n",
      "[0, 1]\n",
      "[0, 0.1, 0.2, 0.3, 0.4, 0.5, 0.6, 0.7, 0.8, 0.9, 1]\n"
     ]
    }
   ],
   "source": [
    "a = [\"0\", \"1\"]\n",
    "print(a)\n",
    "print()\n",
    "\n",
    "a[0:2] = [0, 1]\n",
    "print(a)\n",
    "\n",
    "a[1:1] = [0.1, 0.2, 0.3, 0.4, 0.5, 0.6, 0.7, 0.8, 0.9]\n",
    "print(a)"
   ]
  },
  {
   "cell_type": "markdown",
   "metadata": {},
   "source": [
    "Assigning a slice to an empty list deletes the slice.\n",
    "\n",
    "You can also use the `del` keyword for this."
   ]
  },
  {
   "cell_type": "markdown",
   "metadata": {},
   "source": [
    "## methods"
   ]
  },
  {
   "cell_type": "markdown",
   "metadata": {},
   "source": [
    "String methods create new instances of the string\n",
    "\n",
    "List methods modify the existing list\n",
    "\n",
    "This is because strings are not mutable but strings are."
   ]
  },
  {
   "cell_type": "markdown",
   "metadata": {},
   "source": [
    "### Tuples are the same as lists except they are immutable"
   ]
  },
  {
   "cell_type": "code",
   "execution_count": 17,
   "metadata": {},
   "outputs": [
    {
     "name": "stdout",
     "output_type": "stream",
     "text": [
      "(0, 1, 2, 3)\n",
      "<class 'tuple'>\n"
     ]
    }
   ],
   "source": [
    "a = (0, 1, 2, 3)\n",
    "print(a)\n",
    "print(type(a))"
   ]
  },
  {
   "cell_type": "markdown",
   "metadata": {},
   "source": [
    "executing code is faster with tuples\n",
    "\n",
    "If there is data that shouldn't be modified tuples are a safer data type\n",
    "\n",
    "dictionaries require immutable data types, so tuples must be used instead of lists."
   ]
  },
  {
   "cell_type": "markdown",
   "metadata": {},
   "source": [
    "## objects separated by commas are implicitly treated as tuples"
   ]
  },
  {
   "cell_type": "code",
   "execution_count": 19,
   "metadata": {},
   "outputs": [
    {
     "name": "stdout",
     "output_type": "stream",
     "text": [
      "(1, 2, 3)\n",
      "<class 'tuple'>\n"
     ]
    }
   ],
   "source": [
    "a = 1, 2, 3\n",
    "print(a)\n",
    "print(type(a))"
   ]
  },
  {
   "cell_type": "markdown",
   "metadata": {},
   "source": [
    "### The ambiguous case of tuple instantiation"
   ]
  },
  {
   "cell_type": "markdown",
   "metadata": {},
   "source": [
    "Instantiating a tuple with only 1 element in it can confuse python because () are also used as a mathematical operator. So you must use a trailing comma after the object for python to know it's a tuple."
   ]
  },
  {
   "cell_type": "code",
   "execution_count": 21,
   "metadata": {},
   "outputs": [
    {
     "name": "stdout",
     "output_type": "stream",
     "text": [
      "1\n",
      "<class 'int'>\n",
      "\n",
      "(1,)\n",
      "<class 'tuple'>\n"
     ]
    }
   ],
   "source": [
    "a = (1)\n",
    "print(a)\n",
    "print(type(a))\n",
    "print()\n",
    "\n",
    "a = (1,)\n",
    "print(a)\n",
    "print(type(a))"
   ]
  },
  {
   "cell_type": "markdown",
   "metadata": {},
   "source": [
    "### Tuple packing and unpacking"
   ]
  },
  {
   "cell_type": "markdown",
   "metadata": {},
   "source": [
    "Assigning a variable to a tuple literal is like packing that variable with all the values. The process can be reversed. Assigning multiple variables to a tuple 'unpacks' each variable in the tuple to a variable.\n",
    "\n",
    "The parentheses are optional.\n",
    "\n",
    "This allows the simple python hack of swapping the values of 2 variables without needing to assign a temp variable."
   ]
  },
  {
   "cell_type": "code",
   "execution_count": 24,
   "metadata": {},
   "outputs": [
    {
     "name": "stdout",
     "output_type": "stream",
     "text": [
      "1 2 3 4\n",
      "\n",
      "Zachary Argentin\n",
      "\n",
      "Argentin Zachary\n"
     ]
    }
   ],
   "source": [
    "(a, b, c, d) = (1, 2, 3, 4)\n",
    "print(a, b, c, d)\n",
    "print()\n",
    "\n",
    "x = \"Zachary\"\n",
    "y = \"Argentin\"\n",
    "print(x, y)\n",
    "print()\n",
    "\n",
    "x, y = y, x\n",
    "print(x, y)"
   ]
  },
  {
   "cell_type": "code",
   "execution_count": null,
   "metadata": {},
   "outputs": [],
   "source": []
  }
 ],
 "metadata": {
  "kernelspec": {
   "display_name": "Python 3",
   "language": "python",
   "name": "python3"
  },
  "language_info": {
   "codemirror_mode": {
    "name": "ipython",
    "version": 3
   },
   "file_extension": ".py",
   "mimetype": "text/x-python",
   "name": "python",
   "nbconvert_exporter": "python",
   "pygments_lexer": "ipython3",
   "version": "3.8.5"
  }
 },
 "nbformat": 4,
 "nbformat_minor": 4
}
