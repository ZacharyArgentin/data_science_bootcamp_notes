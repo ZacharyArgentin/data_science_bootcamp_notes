{
 "cells": [
  {
   "cell_type": "markdown",
   "metadata": {},
   "source": [
    "# Dictionaries"
   ]
  },
  {
   "cell_type": "markdown",
   "metadata": {},
   "source": [
    "Dictionaries can be instantiated in 3 ways\n",
    "\n",
    "- key value pairs inside of curly braces\n",
    "- list of tuples inside the `dict()` function\n",
    "- keyword args inside the `dict()` function"
   ]
  },
  {
   "cell_type": "code",
   "execution_count": 6,
   "metadata": {},
   "outputs": [
    {
     "name": "stdout",
     "output_type": "stream",
     "text": [
      "{'key1': 'value1', 'key2': 'value2', 'key3': 'value3'}\n",
      "{'key1': 'value1', 'key2': 'value2', 'key3': 'value3'}\n",
      "{'key1': 'value1', 'key2': 'value2', 'key3': 'value3'}\n"
     ]
    }
   ],
   "source": [
    "a = {\"key1\" : \"value1\",\n",
    "     \"key2\" : \"value2\",\n",
    "     \"key3\" : \"value3\",}\n",
    "\n",
    "b = dict([\n",
    "    (\"key1\", \"value1\"),\n",
    "    (\"key2\", \"value2\"),\n",
    "    (\"key3\", \"value3\"),\n",
    "])\n",
    "\n",
    "c = dict(\n",
    "    key1=\"value1\",\n",
    "    key2=\"value2\",\n",
    "    key3=\"value3\",\n",
    ")\n",
    "\n",
    "print(a)\n",
    "print(b)\n",
    "print(c)"
   ]
  },
  {
   "cell_type": "markdown",
   "metadata": {},
   "source": [
    "Dictionaries are accessed by their keys\n",
    "\n",
    "keys must be \"hashable\" object types\n",
    "\n",
    "values can be literally anything\n",
    "\n",
    "A key can only be in a dictionary once. Adding the same key twice simply overrides the value for the key that's already in the dictionary\n",
    "\n",
    "the `in` operator refers to the key of the dictionary, NOT the value\n",
    "\n",
    "the `len()` function returns the amount of key-value pairs in the dictionary\n"
   ]
  },
  {
   "cell_type": "markdown",
   "metadata": {},
   "source": [
    "### You can use the in operator together with **short-circuit evaluation** to avoid raising an error when trying to access a key that is not in the dictionary.\n",
    "\n",
    "`a[\"key4\"]` would raise a key error because \"key4\" doesn't exist in the dictionary. However because we checked `\"key4\" in a` beforehand, and it evaluated false, the rest of the expression is ignored. hence the \"short-circuit\" part. If `\"key4\" in a` were true, then the 2nd part of the expresion would be evaluated. Pretty cool."
   ]
  },
  {
   "cell_type": "code",
   "execution_count": 7,
   "metadata": {},
   "outputs": [
    {
     "data": {
      "text/plain": [
       "False"
      ]
     },
     "execution_count": 7,
     "metadata": {},
     "output_type": "execute_result"
    }
   ],
   "source": [
    "\"key4\" in a and a[\"key4\"]"
   ]
  },
  {
   "cell_type": "code",
   "execution_count": null,
   "metadata": {},
   "outputs": [],
   "source": []
  }
 ],
 "metadata": {
  "kernelspec": {
   "display_name": "Python 3",
   "language": "python",
   "name": "python3"
  },
  "language_info": {
   "codemirror_mode": {
    "name": "ipython",
    "version": 3
   },
   "file_extension": ".py",
   "mimetype": "text/x-python",
   "name": "python",
   "nbconvert_exporter": "python",
   "pygments_lexer": "ipython3",
   "version": "3.8.5"
  }
 },
 "nbformat": 4,
 "nbformat_minor": 4
}
