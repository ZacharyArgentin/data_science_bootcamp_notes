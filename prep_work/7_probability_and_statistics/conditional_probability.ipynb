{
 "cells": [
  {
   "cell_type": "markdown",
   "metadata": {},
   "source": [
    "# Conditional Probability Example"
   ]
  },
  {
   "cell_type": "code",
   "execution_count": 1,
   "metadata": {},
   "outputs": [],
   "source": [
    "import numpy as np"
   ]
  },
  {
   "cell_type": "markdown",
   "metadata": {},
   "source": [
    "calculating probability with math"
   ]
  },
  {
   "cell_type": "code",
   "execution_count": 10,
   "metadata": {},
   "outputs": [],
   "source": [
    "p_coachSam = 0.6\n",
    "p_coachAlex = 0.4\n",
    "\n",
    "p_gkSam = 0.5\n",
    "p_gkAlex = 0.3"
   ]
  },
  {
   "cell_type": "code",
   "execution_count": 11,
   "metadata": {},
   "outputs": [
    {
     "name": "stdout",
     "output_type": "stream",
     "text": [
      "[[0.6 0.4]\n",
      " [0.5 0.3]]\n"
     ]
    }
   ],
   "source": [
    "two_way_table = np.array([[p_coachSam, p_coachAlex], [p_gkSam, p_gkAlex]])\n",
    "print(two_way_table)"
   ]
  },
  {
   "cell_type": "code",
   "execution_count": 15,
   "metadata": {},
   "outputs": [
    {
     "name": "stdout",
     "output_type": "stream",
     "text": [
      "0.3\n",
      "0.12\n",
      "+___\n",
      "0.42\n"
     ]
    }
   ],
   "source": [
    "p_coachSam_gkSam = p_coachSam * p_gkSam\n",
    "p_coachAlex_gkAlex = p_coachAlex * p_gkAlex\n",
    "\n",
    "p_gk = p_coachSam_gkSam + p_coachAlex_gkAlex\n",
    "\n",
    "print(p_coachSam_gkSam)\n",
    "print(p_coachAlex_gkAlex)\n",
    "print(\"+___\")\n",
    "print(p_gk)"
   ]
  },
  {
   "cell_type": "markdown",
   "metadata": {},
   "source": [
    "running simulation with NumPy"
   ]
  },
  {
   "cell_type": "code",
   "execution_count": 19,
   "metadata": {},
   "outputs": [],
   "source": [
    "# initialize variables\n",
    "\n",
    "n_trials = 10000\n",
    "\n",
    "SAM = 0\n",
    "SAM_YES = 0\n",
    "SAM_NO = 0\n",
    "ALEX = 0\n",
    "ALEX_YES = 0\n",
    "ALEX_NO = 0\n",
    "YES = 0\n",
    "NO = 0"
   ]
  },
  {
   "cell_type": "code",
   "execution_count": 20,
   "metadata": {},
   "outputs": [],
   "source": [
    "for i in range(n_trials):\n",
    "    if np.random.random() < 0.6:\n",
    "        SAM += 1\n",
    "        if np.random.random() < 0.5:\n",
    "            SAM_YES += 1\n",
    "            YES += 1\n",
    "        else:\n",
    "            SAM_NO += 1\n",
    "            NO += 1\n",
    "    else:\n",
    "        ALEX += 1\n",
    "        if np.random.random() < 0.3:\n",
    "            ALEX_YES += 1\n",
    "            YES += 1\n",
    "        else:\n",
    "            ALEX_NO += 1\n",
    "            NO += 1"
   ]
  },
  {
   "cell_type": "code",
   "execution_count": 41,
   "metadata": {},
   "outputs": [],
   "source": [
    "# create probabilities\n",
    "\n",
    "P_SAM = SAM / n_trials * 100\n",
    "P_SAM_YES = SAM_YES / n_trials * 100\n",
    "P_SAM_NO = SAM_NO / n_trials * 100\n",
    "P_ALEX = ALEX / n_trials * 100\n",
    "P_ALEX_YES = ALEX_YES / n_trials * 100\n",
    "P_ALEX_NO = ALEX_NO / n_trials * 100\n",
    "P_YES = YES / n_trials * 100\n",
    "P_NO = NO / n_trials * 100\n",
    "\n",
    "P_SAM_GK = (P_SAM_YES) / (P_YES)"
   ]
  },
  {
   "cell_type": "code",
   "execution_count": 42,
   "metadata": {},
   "outputs": [
    {
     "name": "stdout",
     "output_type": "stream",
     "text": [
      "Sam is the coach: 59.809999999999995%\n",
      "Sam is the coach and you are the goalkeeper: 29.48%\n",
      "Sam is the coach and you are not the goalkeeper: 30.330000000000002%\n",
      "Alex is the coach: 40.19%\n",
      "Alex is the coach and you are the goalkeeper: 11.91%\n",
      "Alex is the coach and you are not the goalkeeper: 28.28%\n",
      "You are the goalkeeper: 41.39%\n",
      "You are not the goalkeeper: 58.60999999999999\n",
      "\n",
      "0.7122493355883064\n"
     ]
    }
   ],
   "source": [
    "print(f'Sam is the coach: {P_SAM}%')\n",
    "print(f'Sam is the coach and you are the goalkeeper: {P_SAM_YES}%')\n",
    "print(f'Sam is the coach and you are not the goalkeeper: {P_SAM_NO}%')\n",
    "print(f'Alex is the coach: {P_ALEX}%')\n",
    "print(f'Alex is the coach and you are the goalkeeper: {P_ALEX_YES}%')\n",
    "print(f'Alex is the coach and you are not the goalkeeper: {P_ALEX_NO}%')\n",
    "print(f'You are the goalkeeper: {P_YES}%')\n",
    "print(f'You are not the goalkeeper: {P_NO}')\n",
    "print()\n",
    "print(P_SAM_GK)"
   ]
  },
  {
   "cell_type": "code",
   "execution_count": 34,
   "metadata": {},
   "outputs": [
    {
     "name": "stdout",
     "output_type": "stream",
     "text": [
      "41.39\n",
      "29.48\n"
     ]
    }
   ],
   "source": [
    "print(P_YES)\n",
    "print(P_SAM_YES)"
   ]
  }
 ],
 "metadata": {
  "kernelspec": {
   "display_name": "Python 3",
   "language": "python",
   "name": "python3"
  },
  "language_info": {
   "codemirror_mode": {
    "name": "ipython",
    "version": 3
   },
   "file_extension": ".py",
   "mimetype": "text/x-python",
   "name": "python",
   "nbconvert_exporter": "python",
   "pygments_lexer": "ipython3",
   "version": "3.8.5"
  }
 },
 "nbformat": 4,
 "nbformat_minor": 4
}
