{
 "cells": [
  {
   "cell_type": "markdown",
   "metadata": {},
   "source": [
    "# Hypothesis Testing"
   ]
  },
  {
   "cell_type": "code",
   "execution_count": 28,
   "metadata": {},
   "outputs": [],
   "source": [
    "import numpy as np\n",
    "\n",
    "np.random.seed(42)"
   ]
  },
  {
   "cell_type": "code",
   "execution_count": 29,
   "metadata": {},
   "outputs": [],
   "source": [
    "# Simulate sales history of 2 different stores\n",
    "\n",
    "days = 365\n",
    "\n",
    "mean_A = 20\n",
    "std_A = 5\n",
    "\n",
    "mean_B = 19.5\n",
    "std_B = 5\n",
    "\n",
    "\n",
    "shop_A_sales = np.random.normal(mean_A, std_A, days)\n",
    "shop_B_sales = np.random.normal(mean_B, std_B, days)"
   ]
  },
  {
   "cell_type": "code",
   "execution_count": 30,
   "metadata": {},
   "outputs": [
    {
     "name": "stdout",
     "output_type": "stream",
     "text": [
      "20.04973201106029\n",
      "19.309929401404304\n",
      "0.7398026096559853\n"
     ]
    }
   ],
   "source": [
    "# Set alpha (the probability of rejecting the null hypothesis when it's actually true)\n",
    "alpha = 0.05\n",
    "\n",
    "shop_A_mean = shop_A_sales.mean()\n",
    "print(shop_A_mean)\n",
    "shop_B_mean = shop_B_sales.mean()\n",
    "print(shop_B_mean)\n",
    "\n",
    "observed_means_difference = shop_A_mean - shop_B_mean\n",
    "print(observed_means_difference)"
   ]
  },
  {
   "cell_type": "markdown",
   "metadata": {},
   "source": [
    "Combine the sales data from both stores into 1 vector\n",
    "\n",
    "Mix up the data into a different, random order\n",
    "\n",
    "Assign the first half of the new vector as the sales of 1 store\n",
    "and assign the second half of the new vector as the sales of the 2nd store\n",
    "\n",
    "Calculate the means of both and find the observed means difference\n",
    "\n",
    "Compare this result to the previous result"
   ]
  },
  {
   "cell_type": "code",
   "execution_count": 31,
   "metadata": {},
   "outputs": [],
   "source": [
    "both_sales = np.concatenate((shop_A_sales, shop_B_sales))\n",
    "\n",
    "sales_permutation_both = np.random.permutation(both_sales)\n",
    "\n",
    "sales_permutation_A = sales_permutation_both[:len(shop_A_sales)]\n",
    "sales_permutation_B = sales_permutation_both[len(shop_A_sales):]\n",
    "\n",
    "observed_means_difference_permutation = sales_permutation_A.mean() - sales_permutation_B.mean()"
   ]
  },
  {
   "cell_type": "code",
   "execution_count": 32,
   "metadata": {},
   "outputs": [
    {
     "name": "stdout",
     "output_type": "stream",
     "text": [
      "0.7398026096559853\n",
      "0.21098789154327235\n"
     ]
    }
   ],
   "source": [
    "print(observed_means_difference)\n",
    "print(observed_means_difference_permutation)"
   ]
  },
  {
   "cell_type": "markdown",
   "metadata": {},
   "source": [
    "There is a difference between the 1st and 2nd results, but we only did 1 trial so that could just be luck.\n",
    "\n",
    "Let's do 1000 trials and store the result of each trial in a list"
   ]
  },
  {
   "cell_type": "code",
   "execution_count": 33,
   "metadata": {},
   "outputs": [],
   "source": [
    "permutation_replication_means = []\n",
    "\n",
    "for i in range(1000):\n",
    "    sales_permutation_replication = np.random.permutation(both_sales)\n",
    "    sales_permutation_A = sales_permutation_replication[:len(shop_A_sales)]\n",
    "    sales_permutation_B = sales_permutation_replication[len(shop_A_sales):]\n",
    "    observed_means_difference_replication = sales_permutation_A.mean() - sales_permutation_B.mean()\n",
    "    permutation_replication_means.append(observed_means_difference_replication)"
   ]
  },
  {
   "cell_type": "markdown",
   "metadata": {},
   "source": [
    "Compute P-Value\n",
    "\n",
    "The P-value is the chance that you would observe a result as extreme or more extreme than the result you got given that the null hypothesis is true.\n",
    "\n",
    "i.e. The P-Value is the chance that the difference in result was due to \"dumb luck\""
   ]
  },
  {
   "cell_type": "code",
   "execution_count": 51,
   "metadata": {},
   "outputs": [
    {
     "name": "stdout",
     "output_type": "stream",
     "text": [
      "p-value = 0.043\n"
     ]
    }
   ],
   "source": [
    "# This calculates P-value. Explained in the box below\n",
    "p_value = np.sum(np.abs(permutation_replication_means) >= observed_means_difference) / len(permutation_replication_means)\n",
    "\n",
    "# print the result\n",
    "print('p-value =', p_value)"
   ]
  },
  {
   "cell_type": "code",
   "execution_count": 50,
   "metadata": {},
   "outputs": [
    {
     "data": {
      "text/plain": [
       "0.043"
      ]
     },
     "execution_count": 50,
     "metadata": {},
     "output_type": "execute_result"
    }
   ],
   "source": [
    "# This takes the absolute value value of all the means in our simulation and counts the ones that are rarer than the one\n",
    "# from our actual data\n",
    "# The >= converts the list to True or False based on if the value is rarer or not\n",
    "# The np.sum counts 1 for every 'True'\n",
    "# Then the number of rare results by the total number of results\n",
    "\n",
    "np.sum(np.abs(permutation_replication_means) >= observed_means_difference) / 1000"
   ]
  }
 ],
 "metadata": {
  "kernelspec": {
   "display_name": "Python 3",
   "language": "python",
   "name": "python3"
  },
  "language_info": {
   "codemirror_mode": {
    "name": "ipython",
    "version": 3
   },
   "file_extension": ".py",
   "mimetype": "text/x-python",
   "name": "python",
   "nbconvert_exporter": "python",
   "pygments_lexer": "ipython3",
   "version": "3.8.11"
  }
 },
 "nbformat": 4,
 "nbformat_minor": 4
}
