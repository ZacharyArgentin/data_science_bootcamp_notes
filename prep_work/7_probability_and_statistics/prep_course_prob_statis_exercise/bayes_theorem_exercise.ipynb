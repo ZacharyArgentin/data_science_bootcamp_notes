{
 "cells": [
  {
   "cell_type": "markdown",
   "metadata": {
    "ExecuteTime": {
     "end_time": "2020-02-05T17:56:18.818219Z",
     "start_time": "2020-02-05T17:56:18.810698Z"
    }
   },
   "source": [
    "## Exercise 1\n",
    "In Orange County, 51% of the adults are males. (It doesn't take too much advanced\n",
    "mathematics to deduce that the other 49% are females.) One adult is randomly selected\n",
    "for a survey involving credit card usage.\n",
    "\n",
    "- **(a)** Find the probability that the selected person is a male.\n",
    "\n",
    "- **(b)** It is later learned that the selected survey subject was smoking a cigar. Also, 9.5% of males smoke cigars, whereas 1.7% of females smoke cigars (based on data from the Substance Abuse and Mental Health Services Administration). Use this additional information to find the probability that the cigar−smoking respondent is a male\n",
    "\n",
    "Use following notation:\n",
    "M = male <br>\n",
    "F = female <br>\n",
    "C = cigar smoker<br>\n",
    "NC = not a cigar smoker<br>\n"
   ]
  },
  {
   "cell_type": "code",
   "execution_count": 9,
   "metadata": {},
   "outputs": [
    {
     "name": "stdout",
     "output_type": "stream",
     "text": [
      "0.8532934131736527\n",
      "0.8532934131736527\n"
     ]
    }
   ],
   "source": [
    "# Given information\n",
    "P_M = .51\n",
    "P_F = .49\n",
    "P_CgivenM = .095\n",
    "P_CgivenF = .017\n",
    "\n",
    "# Find probability of M given C\n",
    "# First find C\n",
    "P_MandC = P_CgivenM * P_M\n",
    "P_FandC = P_CgivenF * P_F\n",
    "\n",
    "P_C = P_MandC + P_FandC\n",
    "\n",
    "# Then Use Bayes' Theorem. Both formulas below are equivalent\n",
    "\n",
    "P_MgivenC = P_MandC / P_C\n",
    "\n",
    "print(P_MgivenC)\n",
    "\n",
    "P_MgivenC = P_M * P_CgivenM / P_C\n",
    "\n",
    "print(P_MgivenC)\n",
    "\n"
   ]
  },
  {
   "cell_type": "code",
   "execution_count": 11,
   "metadata": {},
   "outputs": [
    {
     "data": {
      "text/plain": [
       "0.8482142857142857"
      ]
     },
     "execution_count": 11,
     "metadata": {},
     "output_type": "execute_result"
    }
   ],
   "source": [
    "# Another solution?\n",
    "\n",
    "# If 9.5% of males smoke cigars, and 1.7% of females smoke cigars, then 11.2% of the population smokes cigars\n",
    "# 9.5% / 11.2% = ~85%\n",
    "\n",
    ".095 / .112\n",
    "\n",
    "# Actually this only works if there were 50% males and 50% Females"
   ]
  },
  {
   "cell_type": "markdown",
   "metadata": {
    "ExecuteTime": {
     "end_time": "2020-02-05T17:56:20.532960Z",
     "start_time": "2020-02-05T17:56:20.525450Z"
    }
   },
   "source": [
    "# Exercise 2\n",
    "\n",
    "A diagnostic test has a probability 0.95 of giving a positive result when applied to a person suffering\n",
    "from a certain disease, and a probability 0.10 of giving a (false) positive when applied to a non-sufferer. It is\n",
    "estimated that 0.5 % of the population are sufferers. Suppose that the test is now administered to a person about\n",
    "whom we have no relevant information relating to the disease (apart from the fact that he/she comes from this\n",
    "population). \n",
    "\n",
    "Calculate the following probabilities:\n",
    "- **(a)** that the test result will be positive;\n",
    "- **(b)** that, given a positive result, the person is a sufferer;\n",
    "- **(c)** that, given a negative result, the person is a non-sufferer;\n",
    "- **(d)** that the person will be misclassified.\n",
    "\n",
    "Use following notation:\n",
    "\n",
    "T = test positive <br>\n",
    "NT = test negative<br>\n",
    "S = sufferer<br>\n",
    "NS = non-sufferer<br>\n",
    "M = misclassified<br>\n",
    "\n",
    "Solve it by two approaches:\n",
    "1. Arithmetically\n",
    "2. By simulation"
   ]
  },
  {
   "cell_type": "markdown",
   "metadata": {},
   "source": [
    "arithmetically\n",
    "\n",
    "a = 10.425%\n",
    "b = 4.55%\n",
    "c = 99.97%\n",
    "d = 9.975%"
   ]
  },
  {
   "cell_type": "code",
   "execution_count": 38,
   "metadata": {},
   "outputs": [],
   "source": [
    "# Initialize Variables\n",
    "\n",
    "import numpy as np\n",
    "\n",
    "trials = 100000\n",
    "T = 0\n",
    "NT = 0\n",
    "S = 0\n",
    "NS = 0\n",
    "M = 0\n",
    "\n",
    "P_S = .005\n",
    "P_TgivenS = .95\n",
    "P_TgivenNS = .1\n",
    "\n",
    "P_NS = .995\n",
    "P_NTgivenS = .05\n",
    "P_NTgivenNS = .9"
   ]
  },
  {
   "cell_type": "code",
   "execution_count": 39,
   "metadata": {},
   "outputs": [],
   "source": [
    "# Run Simulation\n",
    "\n",
    "for i in range(trials):\n",
    "    if np.random.random() < P_S:              # If person has disease\n",
    "        S += 1\n",
    "        if np.random.random() < P_TgivenS:    # If test positive\n",
    "            T += 1\n",
    "        else:                                 # If test negative\n",
    "            NT += 1\n",
    "            M += 1\n",
    "    else:                                     # If person does not have disease\n",
    "        NS += 1\n",
    "        if np.random.random() < P_TgivenNS:   # If test positive\n",
    "            T += 1\n",
    "            M += 1\n",
    "        else:                                 # If test negative\n",
    "            NT += 1"
   ]
  },
  {
   "cell_type": "code",
   "execution_count": 44,
   "metadata": {},
   "outputs": [
    {
     "name": "stdout",
     "output_type": "stream",
     "text": [
      "0.10512\n",
      "0.04518645357686453\n",
      "1.0006928303236187\n",
      "0.10086\n"
     ]
    }
   ],
   "source": [
    "# Calculate Probabilites\n",
    "\n",
    "P_T = T/trials\n",
    "P_NT = NT/trials\n",
    "P_SgivenT = P_S * P_TgivenS / P_T\n",
    "P_NSgivenNT = P_NS * P_NTgivenNS / P_NT\n",
    "P_M = M/trials\n",
    "\n",
    "print(P_T)\n",
    "print(P_SgivenT)\n",
    "print(P_NSgivenNT)\n",
    "print(P_M)"
   ]
  },
  {
   "cell_type": "code",
   "execution_count": 43,
   "metadata": {},
   "outputs": [
    {
     "name": "stdout",
     "output_type": "stream",
     "text": [
      "Numer of trials: 100000\n",
      "Positive test results: 10512\n",
      "Negative test results: 89488\n",
      "People who have disease: 478\n",
      "People who don't have disease: 99522\n",
      "Number of Misdiagnosis 10086\n"
     ]
    }
   ],
   "source": [
    "# Print results\n",
    "\n",
    "print(\"Numer of trials: {}\".format(trials))\n",
    "print(\"Positive test results: {}\".format(T))\n",
    "print(\"Negative test results: {}\".format(NT))\n",
    "print(\"People who have disease: {}\".format(S))\n",
    "print(\"People who don't have disease: {}\".format(NS))\n",
    "print(\"Number of Misdiagnosis {}\".format(M))"
   ]
  },
  {
   "cell_type": "code",
   "execution_count": null,
   "metadata": {},
   "outputs": [],
   "source": []
  }
 ],
 "metadata": {
  "kernelspec": {
   "display_name": "Python 3",
   "language": "python",
   "name": "python3"
  },
  "language_info": {
   "codemirror_mode": {
    "name": "ipython",
    "version": 3
   },
   "file_extension": ".py",
   "mimetype": "text/x-python",
   "name": "python",
   "nbconvert_exporter": "python",
   "pygments_lexer": "ipython3",
   "version": "3.8.5"
  },
  "toc": {
   "base_numbering": 1,
   "nav_menu": {},
   "number_sections": true,
   "sideBar": true,
   "skip_h1_title": false,
   "title_cell": "Table of Contents",
   "title_sidebar": "Contents",
   "toc_cell": false,
   "toc_position": {},
   "toc_section_display": true,
   "toc_window_display": false
  },
  "varInspector": {
   "cols": {
    "lenName": 16,
    "lenType": 16,
    "lenVar": 40
   },
   "kernels_config": {
    "python": {
     "delete_cmd_postfix": "",
     "delete_cmd_prefix": "del ",
     "library": "var_list.py",
     "varRefreshCmd": "print(var_dic_list())"
    },
    "r": {
     "delete_cmd_postfix": ") ",
     "delete_cmd_prefix": "rm(",
     "library": "var_list.r",
     "varRefreshCmd": "cat(var_dic_list()) "
    }
   },
   "types_to_exclude": [
    "module",
    "function",
    "builtin_function_or_method",
    "instance",
    "_Feature"
   ],
   "window_display": false
  }
 },
 "nbformat": 4,
 "nbformat_minor": 4
}
