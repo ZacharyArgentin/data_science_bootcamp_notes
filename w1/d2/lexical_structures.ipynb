{
 "cells": [
  {
   "cell_type": "markdown",
   "metadata": {},
   "source": [
    "# Lexical Structures in Python."
   ]
  },
  {
   "cell_type": "markdown",
   "metadata": {},
   "source": [
    "> A statement is the basic unit of instruction in python.  \n",
    "Typically there is 1 statement per line in python and the end of a statement is delimited by a newline character"
   ]
  },
  {
   "cell_type": "markdown",
   "metadata": {},
   "source": [
    "In the case where a statement must take up more than one line, line continuation must be used.\n",
    "\n",
    "There are 2 types of line continuation.\n",
    "* Implicit\n",
    "* Exlpicit"
   ]
  },
  {
   "cell_type": "markdown",
   "metadata": {},
   "source": [
    "### Implicit Line Continuation\n",
    "\n",
    "Any statement that utilizes parentheses is considered incomplete until the closing parentheses is detected\n",
    "Therefore you can organize your code inside these parentheses over multiple lines, however you want."
   ]
  },
  {
   "cell_type": "code",
   "execution_count": 1,
   "metadata": {},
   "outputs": [
    {
     "data": {
      "text/plain": [
       "['one', 'two', 'three', 'four']"
      ]
     },
     "execution_count": 1,
     "metadata": {},
     "output_type": "execute_result"
    }
   ],
   "source": [
    "number_list = [\"one\",\n",
    "              \"two\",\n",
    "              \"three\",\n",
    "              \"four\",\n",
    "              ]\n",
    "number_list"
   ]
  },
  {
   "cell_type": "code",
   "execution_count": 3,
   "metadata": {},
   "outputs": [
    {
     "data": {
      "text/plain": [
       "28"
      ]
     },
     "execution_count": 3,
     "metadata": {},
     "output_type": "execute_result"
    }
   ],
   "source": [
    "x = (1 + 2 + 3 + 4\n",
    "     + 5 + 6\n",
    "     + 7\n",
    "    )\n",
    "x"
   ]
  },
  {
   "cell_type": "markdown",
   "metadata": {},
   "source": [
    "### Explicit Line Continuation\n",
    "\n",
    "When implicit line continuation can't be used, you must use explicit\n",
    "\n",
    "Putting a backslash character at the end of the line \"escapes\" the newline character that python\n",
    "uses to determine the end of a statement. So you can continue the statement on a new line."
   ]
  },
  {
   "cell_type": "code",
   "execution_count": 4,
   "metadata": {},
   "outputs": [
    {
     "data": {
      "text/plain": [
       "21"
      ]
     },
     "execution_count": 4,
     "metadata": {},
     "output_type": "execute_result"
    }
   ],
   "source": [
    "1 + 2 + 3 + \\\n",
    "4 + 5 + 6"
   ]
  },
  {
   "cell_type": "markdown",
   "metadata": {},
   "source": [
    "> Random note: Inline comments cannot be placed after escape characters"
   ]
  },
  {
   "cell_type": "markdown",
   "metadata": {},
   "source": [
    "### Multiple statements per line\n",
    "\n",
    "Typically there is one statement per line in Python. \n",
    "\\If you want multiple statements per line, you can separate each statement by a semi-colon."
   ]
  },
  {
   "cell_type": "code",
   "execution_count": 5,
   "metadata": {},
   "outputs": [
    {
     "name": "stdout",
     "output_type": "stream",
     "text": [
      "1\n",
      "2\n",
      "3\n"
     ]
    }
   ],
   "source": [
    "x = 1; y = 2; z = 3\n",
    "print(x); print(y); print(z)"
   ]
  },
  {
   "cell_type": "markdown",
   "metadata": {},
   "source": [
    "### Final note\n",
    "\n",
    "Python uses whitespece meaningfully.\n",
    "\n",
    "- indented code can signify a block.\n",
    "- whitespace separates variable names from keywords\n",
    "- when it's not ambigous, whitespace can be omitted\n",
    "\n",
    "It's generally pretty intuitive when you use spaces or not"
   ]
  }
 ],
 "metadata": {
  "kernelspec": {
   "display_name": "Python 3",
   "language": "python",
   "name": "python3"
  },
  "language_info": {
   "codemirror_mode": {
    "name": "ipython",
    "version": 3
   },
   "file_extension": ".py",
   "mimetype": "text/x-python",
   "name": "python",
   "nbconvert_exporter": "python",
   "pygments_lexer": "ipython3",
   "version": "3.8.5"
  }
 },
 "nbformat": 4,
 "nbformat_minor": 4
}
