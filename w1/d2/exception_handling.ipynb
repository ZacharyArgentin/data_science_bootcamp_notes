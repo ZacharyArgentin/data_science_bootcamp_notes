{
 "cells": [
  {
   "cell_type": "markdown",
   "metadata": {},
   "source": [
    "# Exception Handling"
   ]
  },
  {
   "cell_type": "code",
   "execution_count": 8,
   "metadata": {},
   "outputs": [
    {
     "name": "stdin",
     "output_type": "stream",
     "text": [
      "Input dividend:  5\n",
      "Input divisor:  g\n"
     ]
    },
    {
     "name": "stdout",
     "output_type": "stream",
     "text": [
      "Numbers must be integers or decimals\n",
      "Try another division?\n"
     ]
    },
    {
     "name": "stdin",
     "output_type": "stream",
     "text": [
      "Enter 'y' for yes or 'n' for no y\n"
     ]
    },
    {
     "name": "stdout",
     "output_type": "stream",
     "text": [
      "Starting again...\n",
      "\n"
     ]
    },
    {
     "name": "stdin",
     "output_type": "stream",
     "text": [
      "Input dividend:  4\n",
      "Input divisor:  3\n"
     ]
    },
    {
     "name": "stdout",
     "output_type": "stream",
     "text": [
      "4 / 3 = 1.3333333333333333\n",
      "Try another division?\n"
     ]
    },
    {
     "name": "stdin",
     "output_type": "stream",
     "text": [
      "Enter 'y' for yes or 'n' for no n\n"
     ]
    },
    {
     "name": "stdout",
     "output_type": "stream",
     "text": [
      "Goodbye\n"
     ]
    }
   ],
   "source": [
    "while True:\n",
    "    try:\n",
    "        a = int(input(\"Input dividend: \"))\n",
    "        b = int(input(\"Input divisor: \"))\n",
    "    except ValueError:\n",
    "        print(\"Numbers must be integers or decimals\")\n",
    "    else:\n",
    "        try:\n",
    "            c = a / b\n",
    "        except ZeroDivisionError:\n",
    "            print(\"Cannot divide by Zero\")\n",
    "        except:\n",
    "            print(\"Unkown Error occured\")\n",
    "        else:\n",
    "            print(f\"{a} / {b} = {c}\")\n",
    "    finally:\n",
    "        print(\"Try another division?\")\n",
    "        tryagain = input(\"Enter 'y' for yes or 'n' for no\")\n",
    "        if tryagain == \"n\":\n",
    "            print(\"Goodbye\")\n",
    "            break\n",
    "        elif tryagain == \"y\":\n",
    "            print(\"Starting again...\")\n",
    "            print()\n",
    "        else:\n",
    "            print(\"Invalid option\")\n",
    "            break\n",
    "\n"
   ]
  },
  {
   "cell_type": "code",
   "execution_count": null,
   "metadata": {},
   "outputs": [],
   "source": []
  }
 ],
 "metadata": {
  "kernelspec": {
   "display_name": "Python 3",
   "language": "python",
   "name": "python3"
  },
  "language_info": {
   "codemirror_mode": {
    "name": "ipython",
    "version": 3
   },
   "file_extension": ".py",
   "mimetype": "text/x-python",
   "name": "python",
   "nbconvert_exporter": "python",
   "pygments_lexer": "ipython3",
   "version": "3.8.5"
  }
 },
 "nbformat": 4,
 "nbformat_minor": 4
}
