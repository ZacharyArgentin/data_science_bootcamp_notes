{
 "cells": [
  {
   "cell_type": "markdown",
   "id": "62503e86-facf-4c3d-9833-1c3669b9b999",
   "metadata": {},
   "source": [
    "# Classes and Instances"
   ]
  },
  {
   "cell_type": "code",
   "execution_count": 28,
   "id": "7c7c7f93-b7e5-429a-99f9-4296ef4c9dd4",
   "metadata": {},
   "outputs": [],
   "source": [
    "from IPython.core.interactiveshell import InteractiveShell\n",
    "InteractiveShell.ast_node_interactivity = \"all\""
   ]
  },
  {
   "cell_type": "code",
   "execution_count": 29,
   "id": "9461d67d-be5b-4194-bfcc-eb570ccb46ae",
   "metadata": {},
   "outputs": [],
   "source": [
    "class Employee:\n",
    "    def __init__(self, first, last, pay):\n",
    "        self.first = first\n",
    "        self.last = last\n",
    "        self.pay = pay\n",
    "        self.email = first + \".\" + last + \"@company.com\"\n",
    "    \n",
    "    def get_fullname(self):\n",
    "        return self.first + \" \" + self.last"
   ]
  },
  {
   "cell_type": "code",
   "execution_count": 35,
   "id": "6c2924ed-d279-4a71-a1ba-c7715a6a0b65",
   "metadata": {},
   "outputs": [],
   "source": [
    "emp_1 = Employee(\"Zachary\", \"Argentin\", 100000)\n",
    "emp_2 = Employee(\"Meikaela\", \"Tumber\", 150000)"
   ]
  },
  {
   "cell_type": "code",
   "execution_count": 31,
   "id": "366607c9-f138-460e-960f-135635eb0a06",
   "metadata": {},
   "outputs": [
    {
     "data": {
      "text/plain": [
       "__main__.Employee"
      ]
     },
     "execution_count": 31,
     "metadata": {},
     "output_type": "execute_result"
    }
   ],
   "source": [
    "type(emp_1)"
   ]
  },
  {
   "cell_type": "code",
   "execution_count": 32,
   "id": "140dc495-134a-465d-b0e2-f0e9c6a63f42",
   "metadata": {},
   "outputs": [
    {
     "data": {
      "text/plain": [
       "'Zachary'"
      ]
     },
     "execution_count": 32,
     "metadata": {},
     "output_type": "execute_result"
    },
    {
     "data": {
      "text/plain": [
       "'Argentin'"
      ]
     },
     "execution_count": 32,
     "metadata": {},
     "output_type": "execute_result"
    },
    {
     "data": {
      "text/plain": [
       "'Zachary.Argentin@company.com'"
      ]
     },
     "execution_count": 32,
     "metadata": {},
     "output_type": "execute_result"
    },
    {
     "data": {
      "text/plain": [
       "100000"
      ]
     },
     "execution_count": 32,
     "metadata": {},
     "output_type": "execute_result"
    }
   ],
   "source": [
    "emp_1.first\n",
    "emp_1.last\n",
    "emp_1.email\n",
    "emp_1.pay"
   ]
  },
  {
   "cell_type": "code",
   "execution_count": 33,
   "id": "352a7637-bd1c-4221-9495-fb9ed9680344",
   "metadata": {},
   "outputs": [
    {
     "data": {
      "text/plain": [
       "'Zachary Argentin'"
      ]
     },
     "execution_count": 33,
     "metadata": {},
     "output_type": "execute_result"
    }
   ],
   "source": [
    "emp_1.get_fullname()"
   ]
  },
  {
   "cell_type": "code",
   "execution_count": 34,
   "id": "6c43e783-143c-4169-a7be-27036cd6ec4e",
   "metadata": {},
   "outputs": [
    {
     "data": {
      "text/plain": [
       "'Zachary Argentin'"
      ]
     },
     "execution_count": 34,
     "metadata": {},
     "output_type": "execute_result"
    }
   ],
   "source": [
    "Employee.get_fullname(emp_1)"
   ]
  },
  {
   "cell_type": "markdown",
   "id": "bcd2394e-85fc-4fee-98cb-e4d0b483d2dc",
   "metadata": {},
   "source": [
    "# Class Variables"
   ]
  },
  {
   "cell_type": "markdown",
   "id": "17c6d0c2-478a-4b22-b45f-6d84f22da516",
   "metadata": {},
   "source": [
    "> Instance variables can be unique for each instance.  \n",
    "> Class variables are going to be the same for every instance of a class."
   ]
  },
  {
   "cell_type": "code",
   "execution_count": 54,
   "id": "28e06094-bba3-4955-a583-68db8256cbc3",
   "metadata": {},
   "outputs": [],
   "source": [
    "class Employee:\n",
    "    \n",
    "    num_of_employees = 0\n",
    "    raise_amount = 1.04\n",
    "    \n",
    "    def __init__(self, first, last, pay):\n",
    "        self.first = first\n",
    "        self.last = last\n",
    "        self.pay = pay\n",
    "        self.email = first + \".\" + last + \"@company.com\"\n",
    "        \n",
    "        Employee.num_of_employees += 1\n",
    "    \n",
    "    def get_fullname(self):\n",
    "        return self.first + \" \" + self.last\n",
    "    \n",
    "    def apply_raise(self):\n",
    "        self.pay = int(self.pay * self.raise_amount)"
   ]
  },
  {
   "cell_type": "code",
   "execution_count": 55,
   "id": "82564ece-a6c3-40d7-8250-05258c0523b0",
   "metadata": {},
   "outputs": [
    {
     "data": {
      "text/plain": [
       "0"
      ]
     },
     "execution_count": 55,
     "metadata": {},
     "output_type": "execute_result"
    },
    {
     "data": {
      "text/plain": [
       "2"
      ]
     },
     "execution_count": 55,
     "metadata": {},
     "output_type": "execute_result"
    }
   ],
   "source": [
    "Employee.num_of_employees\n",
    "\n",
    "emp_1 = Employee(\"Zachary\", \"Argentin\", 100000)\n",
    "emp_2 = Employee(\"Meikaela\", \"Tumber\", 150000)\n",
    "\n",
    "Employee.num_of_employees"
   ]
  },
  {
   "cell_type": "code",
   "execution_count": 46,
   "id": "19794ea9-9839-46a2-9f74-362b936a2a59",
   "metadata": {},
   "outputs": [
    {
     "data": {
      "text/plain": [
       "100000"
      ]
     },
     "execution_count": 46,
     "metadata": {},
     "output_type": "execute_result"
    },
    {
     "data": {
      "text/plain": [
       "104000"
      ]
     },
     "execution_count": 46,
     "metadata": {},
     "output_type": "execute_result"
    }
   ],
   "source": [
    "emp_1.pay\n",
    "emp_1.apply_raise()\n",
    "emp_1.pay"
   ]
  },
  {
   "cell_type": "code",
   "execution_count": 47,
   "id": "f1eb159d-2dd7-4ea5-b340-4057273e96c0",
   "metadata": {},
   "outputs": [
    {
     "data": {
      "text/plain": [
       "150000"
      ]
     },
     "execution_count": 47,
     "metadata": {},
     "output_type": "execute_result"
    },
    {
     "data": {
      "text/plain": [
       "165000"
      ]
     },
     "execution_count": 47,
     "metadata": {},
     "output_type": "execute_result"
    }
   ],
   "source": [
    "emp_2.raise_amount = 1.1\n",
    "emp_2.pay\n",
    "emp_2.apply_raise()\n",
    "emp_2.pay"
   ]
  },
  {
   "cell_type": "code",
   "execution_count": 42,
   "id": "77c13747-d619-458d-a32a-7b1d88816ff9",
   "metadata": {},
   "outputs": [
    {
     "data": {
      "text/plain": [
       "{'first': 'Zachary',\n",
       " 'last': 'Argentin',\n",
       " 'pay': 104000,\n",
       " 'email': 'Zachary.Argentin@company.com'}"
      ]
     },
     "execution_count": 42,
     "metadata": {},
     "output_type": "execute_result"
    }
   ],
   "source": [
    "# Get the namespace of an object\n",
    "emp_1.__dict__"
   ]
  },
  {
   "cell_type": "code",
   "execution_count": 43,
   "id": "7e94e63c-c3bc-4ca5-b8fb-3536e15dce1a",
   "metadata": {},
   "outputs": [
    {
     "data": {
      "text/plain": [
       "mappingproxy({'__module__': '__main__',\n",
       "              'raise_amount': 1.04,\n",
       "              '__init__': <function __main__.Employee.__init__(self, first, last, pay)>,\n",
       "              'get_fullname': <function __main__.Employee.get_fullname(self)>,\n",
       "              'apply_raise': <function __main__.Employee.apply_raise(self)>,\n",
       "              '__dict__': <attribute '__dict__' of 'Employee' objects>,\n",
       "              '__weakref__': <attribute '__weakref__' of 'Employee' objects>,\n",
       "              '__doc__': None})"
      ]
     },
     "execution_count": 43,
     "metadata": {},
     "output_type": "execute_result"
    }
   ],
   "source": [
    "# Get the namespace of the class\n",
    "Employee.__dict__"
   ]
  },
  {
   "cell_type": "markdown",
   "id": "a44a1559-3563-4a7f-a9ce-33dd11d76b8d",
   "metadata": {},
   "source": [
    "# Class Methods and Static Methods"
   ]
  },
  {
   "cell_type": "code",
   "execution_count": 84,
   "id": "6dd8817b-c371-499d-8ae3-f403614ac297",
   "metadata": {},
   "outputs": [],
   "source": [
    "class Employee:\n",
    "    \n",
    "    num_of_employees = 0\n",
    "    raise_amount = 1.04\n",
    "    \n",
    "    def __init__(self, first, last, pay):\n",
    "        self.first = first\n",
    "        self.last = last\n",
    "        self.pay = pay\n",
    "        self.email = first + \".\" + last + \"@company.com\"\n",
    "        \n",
    "        Employee.num_of_employees += 1\n",
    "    \n",
    "    def get_fullname(self):\n",
    "        return self.first + \" \" + self.last\n",
    "    \n",
    "    def apply_raise(self):\n",
    "        self.pay = int(self.pay * self.raise_amount)\n",
    "        \n",
    "    @classmethod\n",
    "    def set_raise_amount(cls, amount):\n",
    "        cls.raise_amount = amount\n",
    "        \n",
    "    @classmethod\n",
    "    def from_string(cls, emp_str):\n",
    "        first, last, pay = emp_str.split(\"-\")\n",
    "        return cls(first, last, pay)\n",
    "    \n",
    "    @staticmethod\n",
    "    def is_workday(day):\n",
    "        if day.weekday() in [5,6]:\n",
    "            return False\n",
    "        return True"
   ]
  },
  {
   "cell_type": "code",
   "execution_count": 74,
   "id": "e8c49312-2223-42fb-be38-e60779433dbf",
   "metadata": {},
   "outputs": [],
   "source": [
    "emp_1 = Employee(\"Zachary\", \"Argentin\", 100000)\n",
    "emp_2 = Employee(\"Meikaela\", \"Tumber\", 150000)"
   ]
  },
  {
   "cell_type": "code",
   "execution_count": 75,
   "id": "8e4a2592-88e7-4de5-b53b-8db442252ff5",
   "metadata": {},
   "outputs": [
    {
     "data": {
      "text/plain": [
       "1.04"
      ]
     },
     "execution_count": 75,
     "metadata": {},
     "output_type": "execute_result"
    },
    {
     "data": {
      "text/plain": [
       "1.04"
      ]
     },
     "execution_count": 75,
     "metadata": {},
     "output_type": "execute_result"
    },
    {
     "data": {
      "text/plain": [
       "1.04"
      ]
     },
     "execution_count": 75,
     "metadata": {},
     "output_type": "execute_result"
    }
   ],
   "source": [
    "Employee.raise_amount\n",
    "emp_1.raise_amount\n",
    "emp_2.raise_amount"
   ]
  },
  {
   "cell_type": "code",
   "execution_count": 76,
   "id": "efa5b3c5-83ff-4ad0-a19e-fa571428784e",
   "metadata": {},
   "outputs": [],
   "source": [
    "Employee.set_raise_amount(1.05)"
   ]
  },
  {
   "cell_type": "code",
   "execution_count": 77,
   "id": "b3edf3b1-9ed9-41c9-9120-2c1d0027c5c4",
   "metadata": {},
   "outputs": [
    {
     "data": {
      "text/plain": [
       "1.05"
      ]
     },
     "execution_count": 77,
     "metadata": {},
     "output_type": "execute_result"
    },
    {
     "data": {
      "text/plain": [
       "1.05"
      ]
     },
     "execution_count": 77,
     "metadata": {},
     "output_type": "execute_result"
    },
    {
     "data": {
      "text/plain": [
       "1.05"
      ]
     },
     "execution_count": 77,
     "metadata": {},
     "output_type": "execute_result"
    }
   ],
   "source": [
    "Employee.raise_amount\n",
    "emp_1.raise_amount\n",
    "emp_2.raise_amount"
   ]
  },
  {
   "cell_type": "code",
   "execution_count": null,
   "id": "5a33bd72-5203-4278-b59f-9028c1127959",
   "metadata": {},
   "outputs": [],
   "source": []
  },
  {
   "cell_type": "code",
   "execution_count": 78,
   "id": "c04b4d98-5b95-4ff2-84fe-4b1ff46b0d1a",
   "metadata": {},
   "outputs": [],
   "source": [
    "emp_str_3 = \"Marco-Piovesan-70000\"\n",
    "first, last, pay = emp_str_3.split(\"-\")\n",
    "emp_3 = Employee(first, last, pay)"
   ]
  },
  {
   "cell_type": "code",
   "execution_count": 79,
   "id": "912a82a6-f09c-4f3d-9ece-8911d1c3b7de",
   "metadata": {},
   "outputs": [
    {
     "data": {
      "text/plain": [
       "'Marco Piovesan'"
      ]
     },
     "execution_count": 79,
     "metadata": {},
     "output_type": "execute_result"
    }
   ],
   "source": [
    "emp_3.get_fullname()"
   ]
  },
  {
   "cell_type": "markdown",
   "id": "e59f2d41-6915-4871-8e6b-e5d0e17b4e70",
   "metadata": {},
   "source": [
    "**alternative constructor**"
   ]
  },
  {
   "cell_type": "code",
   "execution_count": 82,
   "id": "d3075d38-c582-473b-bc2b-699e660d4977",
   "metadata": {},
   "outputs": [],
   "source": [
    "emp_str_4 = \"Gloria-Manzardo-90000\"\n",
    "emp_4 = Employee.from_string(emp_str_4)"
   ]
  },
  {
   "cell_type": "code",
   "execution_count": 83,
   "id": "f296efc3-a70c-4fb1-96ac-327a372e7167",
   "metadata": {},
   "outputs": [
    {
     "data": {
      "text/plain": [
       "'Gloria.Manzardo@company.com'"
      ]
     },
     "execution_count": 83,
     "metadata": {},
     "output_type": "execute_result"
    },
    {
     "data": {
      "text/plain": [
       "'90000'"
      ]
     },
     "execution_count": 83,
     "metadata": {},
     "output_type": "execute_result"
    }
   ],
   "source": [
    "emp_4.email\n",
    "emp_4.pay"
   ]
  },
  {
   "cell_type": "code",
   "execution_count": null,
   "id": "91d92afc-7dbc-4f91-82be-68d3ba539fa0",
   "metadata": {},
   "outputs": [],
   "source": []
  },
  {
   "cell_type": "code",
   "execution_count": 85,
   "id": "24725783-0e83-40b7-b7d4-7fa5e4221fb5",
   "metadata": {},
   "outputs": [],
   "source": [
    "import datetime"
   ]
  },
  {
   "cell_type": "code",
   "execution_count": 91,
   "id": "e113223f-7cf9-4eb5-9ca9-1578ae73d33a",
   "metadata": {},
   "outputs": [
    {
     "data": {
      "text/plain": [
       "False"
      ]
     },
     "execution_count": 91,
     "metadata": {},
     "output_type": "execute_result"
    }
   ],
   "source": [
    "my_date = datetime.date(2021, 8, 29)\n",
    "Employee.is_workday(my_date)"
   ]
  },
  {
   "cell_type": "code",
   "execution_count": null,
   "id": "d3880d56-2561-4238-835d-2065f4c6c9b0",
   "metadata": {},
   "outputs": [],
   "source": []
  }
 ],
 "metadata": {
  "kernelspec": {
   "display_name": "bootcamp",
   "language": "python",
   "name": "bootcamp"
  },
  "language_info": {
   "codemirror_mode": {
    "name": "ipython",
    "version": 3
   },
   "file_extension": ".py",
   "mimetype": "text/x-python",
   "name": "python",
   "nbconvert_exporter": "python",
   "pygments_lexer": "ipython3",
   "version": "3.8.5"
  }
 },
 "nbformat": 4,
 "nbformat_minor": 5
}
