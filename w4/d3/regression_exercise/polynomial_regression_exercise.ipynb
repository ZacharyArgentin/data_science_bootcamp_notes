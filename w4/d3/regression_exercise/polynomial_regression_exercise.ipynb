{
 "cells": [
  {
   "cell_type": "markdown",
   "metadata": {},
   "source": [
    "### Regression exercise\n",
    "\n",
    "Today, we will fit different polynomial regression to randomly generated data and explore how our loss function behaves. We will use the formulas, introduced in the theoretical sections and create a linear regression model from scratch. \n"
   ]
  },
  {
   "cell_type": "code",
   "execution_count": 1,
   "metadata": {},
   "outputs": [],
   "source": [
    "import numpy as np"
   ]
  },
  {
   "cell_type": "markdown",
   "metadata": {},
   "source": [
    "#### Task 1\n",
    "\n",
    "Write a function psi(x,m) defined as $\\psi(x)=[1, x, x ^2, ..., x^m]$"
   ]
  },
  {
   "cell_type": "code",
   "execution_count": 40,
   "metadata": {},
   "outputs": [],
   "source": [
    "def psi(x,m):\n",
    "    return np.asarray([x**i for i in range(m + 1)])"
   ]
  },
  {
   "cell_type": "code",
   "execution_count": 41,
   "metadata": {},
   "outputs": [
    {
     "data": {
      "text/plain": [
       "array([1, 3, 9])"
      ]
     },
     "execution_count": 41,
     "metadata": {},
     "output_type": "execute_result"
    }
   ],
   "source": [
    "psi(3, 2)"
   ]
  },
  {
   "cell_type": "markdown",
   "metadata": {},
   "source": [
    "#### Task 2\n",
    "\n",
    "Write a function $h(x,\\alpha)$ defined as $h(x,\\alpha)=\\alpha^T\\psi(x)$"
   ]
  },
  {
   "cell_type": "markdown",
   "metadata": {},
   "source": [
    "multiplying weights to data and predicting output"
   ]
  },
  {
   "cell_type": "code",
   "execution_count": 42,
   "metadata": {},
   "outputs": [],
   "source": [
    "def h(x,a,m):\n",
    "    return a.T.dot(psi(x, m))"
   ]
  },
  {
   "cell_type": "code",
   "execution_count": 45,
   "metadata": {},
   "outputs": [
    {
     "data": {
      "text/plain": [
       "34"
      ]
     },
     "execution_count": 45,
     "metadata": {},
     "output_type": "execute_result"
    }
   ],
   "source": [
    "h(3, np.array([1,2,3]), 2)"
   ]
  },
  {
   "cell_type": "markdown",
   "metadata": {},
   "source": [
    "#### Task 3\n",
    "Create a random 3rd order polynomial (we call it p3)"
   ]
  },
  {
   "cell_type": "code",
   "execution_count": 9,
   "metadata": {},
   "outputs": [],
   "source": [
    "p3 = np.poly1d([1,-7,2,0])"
   ]
  },
  {
   "cell_type": "code",
   "execution_count": 11,
   "metadata": {},
   "outputs": [],
   "source": [
    "#p3(xs)"
   ]
  },
  {
   "cell_type": "markdown",
   "metadata": {},
   "source": [
    "#### Task 4\n",
    "Choose an interval [a,b], on which the polynomial is S-shaped."
   ]
  },
  {
   "cell_type": "code",
   "execution_count": null,
   "metadata": {},
   "outputs": [],
   "source": []
  },
  {
   "cell_type": "code",
   "execution_count": null,
   "metadata": {},
   "outputs": [],
   "source": []
  },
  {
   "cell_type": "markdown",
   "metadata": {},
   "source": [
    "#### Task 5\n",
    "Sample 30 random values in [a,b] and stored them in `xs`."
   ]
  },
  {
   "cell_type": "code",
   "execution_count": 12,
   "metadata": {},
   "outputs": [
    {
     "data": {
      "text/plain": [
       "array([6.25198055, 4.06952988, 1.14793373, 6.84938603, 1.31776725,\n",
       "       6.53105901, 0.56024133, 2.89612509, 5.83009596, 2.35289809,\n",
       "       5.0955173 , 0.36450142, 6.19057223, 2.97045418, 7.99984112,\n",
       "       3.0718095 , 3.81737751, 3.47920034, 2.89371939, 4.42363192,\n",
       "       3.07948546, 6.91675495, 7.9592988 , 3.92202833, 3.80021674,\n",
       "       0.105947  , 0.8469967 , 4.87723078, 1.44618212, 6.783323  ])"
      ]
     },
     "execution_count": 12,
     "metadata": {},
     "output_type": "execute_result"
    }
   ],
   "source": [
    "xs = np.random.random_sample(30)*8\n",
    "xs"
   ]
  },
  {
   "cell_type": "code",
   "execution_count": 13,
   "metadata": {
    "collapsed": true,
    "jupyter": {
     "outputs_hidden": true
    },
    "tags": []
   },
   "outputs": [
    {
     "data": {
      "text/plain": [
       "array([[1.00000000e+00, 1.00000000e+00, 1.00000000e+00, 1.00000000e+00,\n",
       "        1.00000000e+00, 1.00000000e+00, 1.00000000e+00, 1.00000000e+00,\n",
       "        1.00000000e+00, 1.00000000e+00, 1.00000000e+00, 1.00000000e+00,\n",
       "        1.00000000e+00, 1.00000000e+00, 1.00000000e+00, 1.00000000e+00,\n",
       "        1.00000000e+00, 1.00000000e+00, 1.00000000e+00, 1.00000000e+00,\n",
       "        1.00000000e+00, 1.00000000e+00, 1.00000000e+00, 1.00000000e+00,\n",
       "        1.00000000e+00, 1.00000000e+00, 1.00000000e+00, 1.00000000e+00,\n",
       "        1.00000000e+00, 1.00000000e+00],\n",
       "       [6.25198055e+00, 4.06952988e+00, 1.14793373e+00, 6.84938603e+00,\n",
       "        1.31776725e+00, 6.53105901e+00, 5.60241326e-01, 2.89612509e+00,\n",
       "        5.83009596e+00, 2.35289809e+00, 5.09551730e+00, 3.64501425e-01,\n",
       "        6.19057223e+00, 2.97045418e+00, 7.99984112e+00, 3.07180950e+00,\n",
       "        3.81737751e+00, 3.47920034e+00, 2.89371939e+00, 4.42363192e+00,\n",
       "        3.07948546e+00, 6.91675495e+00, 7.95929880e+00, 3.92202833e+00,\n",
       "        3.80021674e+00, 1.05947004e-01, 8.46996698e-01, 4.87723078e+00,\n",
       "        1.44618212e+00, 6.78332300e+00],\n",
       "       [3.90872608e+01, 1.65610735e+01, 1.31775184e+00, 4.69140890e+01,\n",
       "        1.73651054e+00, 4.26547318e+01, 3.13870344e-01, 8.38754055e+00,\n",
       "        3.39900189e+01, 5.53612942e+00, 2.59642965e+01, 1.32861289e-01,\n",
       "        3.83231845e+01, 8.82359804e+00, 6.39974579e+01, 9.43601358e+00,\n",
       "        1.45723711e+01, 1.21048350e+01, 8.37361189e+00, 1.95685193e+01,\n",
       "        9.48323070e+00, 4.78414991e+01, 6.33504374e+01, 1.53823062e+01,\n",
       "        1.44416473e+01, 1.12247676e-02, 7.17403406e-01, 2.37873801e+01,\n",
       "        2.09144271e+00, 4.60134710e+01],\n",
       "       [2.44372794e+02, 6.73957833e+01, 1.51269178e+00, 3.21332706e+02,\n",
       "        2.28831672e+00, 2.78580570e+02, 1.75843138e-01, 2.42913667e+01,\n",
       "        1.98165072e+02, 1.30259483e+01, 1.32301522e+02, 4.84281290e-02,\n",
       "        2.37242442e+02, 2.62100937e+01, 5.11969495e+02, 2.89856361e+01,\n",
       "        5.56282417e+01, 4.21151461e+01, 2.42308831e+01, 8.65639266e+01,\n",
       "        2.92034711e+01, 3.30907926e+02, 5.04225060e+02, 6.03298407e+01,\n",
       "        5.48813898e+01, 1.18923049e-03, 6.07638316e-01, 1.16016542e+02,\n",
       "        3.02460705e+00, 3.12124236e+02]])"
      ]
     },
     "execution_count": 13,
     "metadata": {},
     "output_type": "execute_result"
    }
   ],
   "source": [
    "psi(xs,3)"
   ]
  },
  {
   "cell_type": "markdown",
   "metadata": {},
   "source": [
    "#### Task 6\n",
    "For each x in xs, compute p3(x) and store them as `ys`."
   ]
  },
  {
   "cell_type": "code",
   "execution_count": 14,
   "metadata": {},
   "outputs": [],
   "source": [
    "ys = p3(xs)"
   ]
  },
  {
   "cell_type": "code",
   "execution_count": 15,
   "metadata": {},
   "outputs": [
    {
     "data": {
      "text/plain": [
       "array([-16.73407032, -40.39267113,  -5.41570366,   6.6328549 ,\n",
       "        -7.23172252,  -6.94043413,  -0.90076662, -28.62916702,\n",
       "       -28.10486859, -21.02116144, -39.25751905,  -0.15259804,\n",
       "       -18.63870545, -29.61418424,  79.98697209, -30.92283994,\n",
       "       -38.74360085, -35.66029829, -28.5969614 , -41.56844482,\n",
       "       -31.02017292,   9.85094199,  76.69059613, -39.50224609,\n",
       "       -38.60970772,   0.13450986,  -2.72019213, -40.7406567 ,\n",
       "        -8.72312772,   3.59658538])"
      ]
     },
     "execution_count": 15,
     "metadata": {},
     "output_type": "execute_result"
    }
   ],
   "source": [
    "ys"
   ]
  },
  {
   "cell_type": "markdown",
   "metadata": {},
   "source": [
    "#### Task 7:\n",
    "Plot `ys` against `xs` on [a,b]. Does it look like a third order polynomial?"
   ]
  },
  {
   "cell_type": "code",
   "execution_count": 16,
   "metadata": {},
   "outputs": [],
   "source": [
    "from matplotlib import pyplot"
   ]
  },
  {
   "cell_type": "code",
   "execution_count": 17,
   "metadata": {
    "tags": []
   },
   "outputs": [
    {
     "data": {
      "image/png": "[encoded data removed]",
      "text/plain": [
       "<Figure size 432x288 with 1 Axes>"
      ]
     },
     "metadata": {
      "needs_background": "light"
     },
     "output_type": "display_data"
    }
   ],
   "source": [
    "pyplot.scatter(xs, ys);"
   ]
  },
  {
   "cell_type": "markdown",
   "metadata": {},
   "source": [
    "## Fitting the data"
   ]
  },
  {
   "cell_type": "markdown",
   "metadata": {},
   "source": [
    "We will try to fit the data by a polynomial of order m=2. \n",
    "\n",
    "#### Task 8:\n",
    "\n",
    "Using xs and psi, create the matrix X defined as \n",
    "\n",
    "<img src=\"matrixX.png\">"
   ]
  },
  {
   "cell_type": "code",
   "execution_count": 18,
   "metadata": {},
   "outputs": [],
   "source": [
    "#xs = np.random.random_sample(30) * 8\n",
    "#xs"
   ]
  },
  {
   "cell_type": "code",
   "execution_count": 48,
   "metadata": {},
   "outputs": [],
   "source": [
    "def create_x(m):\n",
    "    X = np.zeros((m+1, len(xs)))\n",
    "    for i in range(len(xs)):\n",
    "        X[:,i] = psi(xs[i], m)\n",
    "    return X"
   ]
  },
  {
   "cell_type": "code",
   "execution_count": 20,
   "metadata": {},
   "outputs": [],
   "source": [
    "X = create_x()"
   ]
  },
  {
   "cell_type": "code",
   "execution_count": 21,
   "metadata": {},
   "outputs": [
    {
     "data": {
      "text/plain": [
       "array([[1.00000000e+00, 1.00000000e+00, 1.00000000e+00, 1.00000000e+00,\n",
       "        1.00000000e+00, 1.00000000e+00, 1.00000000e+00, 1.00000000e+00,\n",
       "        1.00000000e+00, 1.00000000e+00, 1.00000000e+00, 1.00000000e+00,\n",
       "        1.00000000e+00, 1.00000000e+00, 1.00000000e+00, 1.00000000e+00,\n",
       "        1.00000000e+00, 1.00000000e+00, 1.00000000e+00, 1.00000000e+00,\n",
       "        1.00000000e+00, 1.00000000e+00, 1.00000000e+00, 1.00000000e+00,\n",
       "        1.00000000e+00, 1.00000000e+00, 1.00000000e+00, 1.00000000e+00,\n",
       "        1.00000000e+00, 1.00000000e+00],\n",
       "       [6.25198055e+00, 4.06952988e+00, 1.14793373e+00, 6.84938603e+00,\n",
       "        1.31776725e+00, 6.53105901e+00, 5.60241326e-01, 2.89612509e+00,\n",
       "        5.83009596e+00, 2.35289809e+00, 5.09551730e+00, 3.64501425e-01,\n",
       "        6.19057223e+00, 2.97045418e+00, 7.99984112e+00, 3.07180950e+00,\n",
       "        3.81737751e+00, 3.47920034e+00, 2.89371939e+00, 4.42363192e+00,\n",
       "        3.07948546e+00, 6.91675495e+00, 7.95929880e+00, 3.92202833e+00,\n",
       "        3.80021674e+00, 1.05947004e-01, 8.46996698e-01, 4.87723078e+00,\n",
       "        1.44618212e+00, 6.78332300e+00],\n",
       "       [3.90872608e+01, 1.65610735e+01, 1.31775184e+00, 4.69140890e+01,\n",
       "        1.73651054e+00, 4.26547318e+01, 3.13870344e-01, 8.38754055e+00,\n",
       "        3.39900189e+01, 5.53612942e+00, 2.59642965e+01, 1.32861289e-01,\n",
       "        3.83231845e+01, 8.82359804e+00, 6.39974579e+01, 9.43601358e+00,\n",
       "        1.45723711e+01, 1.21048350e+01, 8.37361189e+00, 1.95685193e+01,\n",
       "        9.48323070e+00, 4.78414991e+01, 6.33504374e+01, 1.53823062e+01,\n",
       "        1.44416473e+01, 1.12247676e-02, 7.17403406e-01, 2.37873801e+01,\n",
       "        2.09144271e+00, 4.60134710e+01]])"
      ]
     },
     "execution_count": 21,
     "metadata": {},
     "output_type": "execute_result"
    }
   ],
   "source": [
    "X"
   ]
  },
  {
   "cell_type": "markdown",
   "metadata": {},
   "source": [
    "#### Task 9\n",
    "Compute the optimal $\\alpha$ using the expression $\\alpha = (XX^T)^+Xy$ where $(XX^T)^+$ is the pseudoinverse matrix. y is our `ys` from the Task 6."
   ]
  },
  {
   "cell_type": "code",
   "execution_count": 22,
   "metadata": {},
   "outputs": [],
   "source": [
    "def compute_alpha(X, ys):\n",
    "    return np.dot(np.dot(np.linalg.pinv(np.dot(X, X.T)), X), ys)\n",
    "    "
   ]
  },
  {
   "cell_type": "code",
   "execution_count": 23,
   "metadata": {},
   "outputs": [],
   "source": [
    "alpha = compute_alpha(X, ys)"
   ]
  },
  {
   "cell_type": "markdown",
   "metadata": {},
   "source": [
    "#### Task 10\n",
    "Plot the data and the computed polynomial. Does it fit?"
   ]
  },
  {
   "cell_type": "code",
   "execution_count": 24,
   "metadata": {
    "tags": []
   },
   "outputs": [
    {
     "data": {
      "text/plain": [
       "[-4.543763233125048,\n",
       " -39.17647325883179,\n",
       " -10.927067033574692,\n",
       " 13.245552800978544,\n",
       " -14.907540814379388,\n",
       " 3.3220319245036762,\n",
       " 5.074476863765319,\n",
       " -38.09440253386415,\n",
       " -14.954882303488205,\n",
       " -32.92762836323094,\n",
       " -28.832049895189044,\n",
       " 11.171310067940418,\n",
       " -6.16993390858741,\n",
       " -38.571695220241565,\n",
       " 57.564505012288635,\n",
       " -39.13343825727711,\n",
       " -40.106231261358346,\n",
       " -40.35431674167151,\n",
       " -38.07803102868355,\n",
       " -36.79667527986983,\n",
       " -39.171793371733266,\n",
       " 15.475719838450061,\n",
       " 55.7775464323808,\n",
       " -39.79758793364985,\n",
       " -40.14638384210082,\n",
       " 19.812371855991337,\n",
       " -3.1650028669568173,\n",
       " -31.915064628151967,\n",
       " -17.725634383151025,\n",
       " 11.102720934120839]"
      ]
     },
     "execution_count": 24,
     "metadata": {},
     "output_type": "execute_result"
    }
   ],
   "source": [
    "y2 = []\n",
    "for i in range(len(xs)):\n",
    "    y2.append(h(xs[i], alpha))\n",
    "    \n",
    "y2\n",
    "    "
   ]
  },
  {
   "cell_type": "code",
   "execution_count": 26,
   "metadata": {
    "tags": []
   },
   "outputs": [
    {
     "data": {
      "image/png": "[encoded data removed]",
      "text/plain": [
       "<Figure size 432x288 with 1 Axes>"
      ]
     },
     "metadata": {
      "needs_background": "light"
     },
     "output_type": "display_data"
    }
   ],
   "source": [
    "pyplot.scatter(xs, ys)\n",
    "pyplot.scatter(xs, y2)\n",
    "\n",
    "pyplot.show()"
   ]
  },
  {
   "cell_type": "code",
   "execution_count": null,
   "metadata": {},
   "outputs": [],
   "source": []
  },
  {
   "cell_type": "markdown",
   "metadata": {},
   "source": [
    "#### Task 11\n",
    "Repeat the process for m=3,…,10. What do you observe?"
   ]
  },
  {
   "cell_type": "code",
   "execution_count": null,
   "metadata": {},
   "outputs": [],
   "source": []
  },
  {
   "cell_type": "code",
   "execution_count": null,
   "metadata": {},
   "outputs": [],
   "source": []
  },
  {
   "cell_type": "markdown",
   "metadata": {},
   "source": [
    "#### Task 12\n",
    "Plot the value of the loss (defined as $ l(\\alpha^Tx, y) = \\sum(\\alpha^Tx - y)^2 $  ) for m=2,…,10. y is our `ys` from the Task 6. What do you observe? Could you tell the optimal m from the plot?"
   ]
  },
  {
   "cell_type": "code",
   "execution_count": 33,
   "metadata": {},
   "outputs": [],
   "source": [
    "def compute_loss(predy, y):\n",
    "    return ((predy - y)**2).sum()"
   ]
  },
  {
   "cell_type": "code",
   "execution_count": 46,
   "metadata": {},
   "outputs": [],
   "source": [
    "def find_loss(alpha, m):\n",
    "    y2 = []\n",
    "    for i in range(len(xs)):\n",
    "        y2.append(h(xs[i], alpha, m))\n",
    "    loss = compute_loss(y2, ys)\n",
    "    return loss"
   ]
  },
  {
   "cell_type": "code",
   "execution_count": null,
   "metadata": {},
   "outputs": [],
   "source": [
    "find_loss()"
   ]
  },
  {
   "cell_type": "code",
   "execution_count": 35,
   "metadata": {},
   "outputs": [
    {
     "data": {
      "text/plain": [
       "3148.3485632313327"
      ]
     },
     "execution_count": 35,
     "metadata": {},
     "output_type": "execute_result"
    }
   ],
   "source": [
    "compute_loss(y2, ys)"
   ]
  },
  {
   "cell_type": "code",
   "execution_count": 50,
   "metadata": {},
   "outputs": [],
   "source": [
    "sums = []\n",
    "ms = range(2,11)\n",
    "for m in ms:\n",
    "    #sums.append((np.dot(alpha.T, xs) - ys)**2)\n",
    "    X = create_x(m)\n",
    "    alpha = compute_alpha(X, ys)\n",
    "    sums.append(find_loss(alpha, m))\n",
    "    \n",
    "#sum(sums)"
   ]
  },
  {
   "cell_type": "code",
   "execution_count": 51,
   "metadata": {},
   "outputs": [
    {
     "data": {
      "image/png": "[encoded data removed]",
      "text/plain": [
       "<Figure size 432x288 with 1 Axes>"
      ]
     },
     "metadata": {
      "needs_background": "light"
     },
     "output_type": "display_data"
    }
   ],
   "source": [
    "pyplot.scatter(ms,sums);"
   ]
  },
  {
   "cell_type": "code",
   "execution_count": null,
   "metadata": {},
   "outputs": [],
   "source": []
  },
  {
   "cell_type": "code",
   "execution_count": null,
   "metadata": {},
   "outputs": [],
   "source": []
  },
  {
   "cell_type": "code",
   "execution_count": null,
   "metadata": {},
   "outputs": [],
   "source": []
  },
  {
   "cell_type": "code",
   "execution_count": 30,
   "metadata": {},
   "outputs": [
    {
     "data": {
      "text/plain": [
       "array([ 23.54641441, -35.77453913,   5.00345998])"
      ]
     },
     "execution_count": 30,
     "metadata": {},
     "output_type": "execute_result"
    }
   ],
   "source": [
    "alpha.T"
   ]
  },
  {
   "cell_type": "code",
   "execution_count": 32,
   "metadata": {},
   "outputs": [
    {
     "ename": "ValueError",
     "evalue": "shapes (3,) and (30,) not aligned: 3 (dim 0) != 30 (dim 0)",
     "output_type": "error",
     "traceback": [
      "\u001b[0;31m---------------------------------------------------------------------------\u001b[0m",
      "\u001b[0;31mValueError\u001b[0m                                Traceback (most recent call last)",
      "\u001b[0;32m<ipython-input-32-3293545bf35e>\u001b[0m in \u001b[0;36m<module>\u001b[0;34m\u001b[0m\n\u001b[0;32m----> 1\u001b[0;31m \u001b[0mnp\u001b[0m\u001b[0;34m.\u001b[0m\u001b[0mdot\u001b[0m\u001b[0;34m(\u001b[0m\u001b[0malpha\u001b[0m\u001b[0;34m.\u001b[0m\u001b[0mT\u001b[0m\u001b[0;34m,\u001b[0m \u001b[0mxs\u001b[0m\u001b[0;34m)\u001b[0m\u001b[0;34m\u001b[0m\u001b[0;34m\u001b[0m\u001b[0m\n\u001b[0m",
      "\u001b[0;32m<__array_function__ internals>\u001b[0m in \u001b[0;36mdot\u001b[0;34m(*args, **kwargs)\u001b[0m\n",
      "\u001b[0;31mValueError\u001b[0m: shapes (3,) and (30,) not aligned: 3 (dim 0) != 30 (dim 0)"
     ]
    }
   ],
   "source": [
    "np.dot(alpha.T, xs)"
   ]
  },
  {
   "cell_type": "code",
   "execution_count": 31,
   "metadata": {},
   "outputs": [
    {
     "data": {
      "text/plain": [
       "array([-16.73407032, -40.39267113,  -5.41570366,   6.6328549 ,\n",
       "        -7.23172252,  -6.94043413,  -0.90076662, -28.62916702,\n",
       "       -28.10486859, -21.02116144, -39.25751905,  -0.15259804,\n",
       "       -18.63870545, -29.61418424,  79.98697209, -30.92283994,\n",
       "       -38.74360085, -35.66029829, -28.5969614 , -41.56844482,\n",
       "       -31.02017292,   9.85094199,  76.69059613, -39.50224609,\n",
       "       -38.60970772,   0.13450986,  -2.72019213, -40.7406567 ,\n",
       "        -8.72312772,   3.59658538])"
      ]
     },
     "execution_count": 31,
     "metadata": {},
     "output_type": "execute_result"
    }
   ],
   "source": [
    "ys"
   ]
  }
 ],
 "metadata": {
  "kernelspec": {
   "display_name": "Python 3",
   "language": "python",
   "name": "python3"
  },
  "language_info": {
   "codemirror_mode": {
    "name": "ipython",
    "version": 3
   },
   "file_extension": ".py",
   "mimetype": "text/x-python",
   "name": "python",
   "nbconvert_exporter": "python",
   "pygments_lexer": "ipython3",
   "version": "3.8.8"
  }
 },
 "nbformat": 4,
 "nbformat_minor": 4
}
