{
 "cells": [
  {
   "cell_type": "code",
   "execution_count": 7,
   "id": "ee9919b5",
   "metadata": {},
   "outputs": [],
   "source": [
    "import tensorflow as tf\n",
    "from tensorflow.python import keras\n",
    "from tensorflow.python.keras import preprocessing\n",
    "from tensorflow.python.keras.preprocessing.text import Tokenizer\n",
    "from tensorflow.python.keras.models import Sequential\n",
    "from tensorflow.python.keras.layers import Dense, Dropout, LSTM, Reshape\n",
    "\n",
    "import pandas as pd\n",
    "import numpy as np\n",
    "import scipy.stats as stats\n",
    "import pylab as plt"
   ]
  },
  {
   "cell_type": "code",
   "execution_count": 2,
   "id": "40751788",
   "metadata": {},
   "outputs": [
    {
     "data": {
      "text/html": [
       "<div>\n",
       "<style scoped>\n",
       "    .dataframe tbody tr th:only-of-type {\n",
       "        vertical-align: middle;\n",
       "    }\n",
       "\n",
       "    .dataframe tbody tr th {\n",
       "        vertical-align: top;\n",
       "    }\n",
       "\n",
       "    .dataframe thead th {\n",
       "        text-align: right;\n",
       "    }\n",
       "</style>\n",
       "<table border=\"1\" class=\"dataframe\">\n",
       "  <thead>\n",
       "    <tr style=\"text-align: right;\">\n",
       "      <th></th>\n",
       "      <th>name</th>\n",
       "      <th>red</th>\n",
       "      <th>green</th>\n",
       "      <th>blue</th>\n",
       "    </tr>\n",
       "  </thead>\n",
       "  <tbody>\n",
       "    <tr>\n",
       "      <th>0</th>\n",
       "      <td>18th Century Green</td>\n",
       "      <td>165</td>\n",
       "      <td>147</td>\n",
       "      <td>68</td>\n",
       "    </tr>\n",
       "    <tr>\n",
       "      <th>1</th>\n",
       "      <td>1975 Earth Red</td>\n",
       "      <td>123</td>\n",
       "      <td>70</td>\n",
       "      <td>59</td>\n",
       "    </tr>\n",
       "    <tr>\n",
       "      <th>2</th>\n",
       "      <td>1989 Miami Hotline</td>\n",
       "      <td>221</td>\n",
       "      <td>51</td>\n",
       "      <td>102</td>\n",
       "    </tr>\n",
       "    <tr>\n",
       "      <th>3</th>\n",
       "      <td>20000 Leagues Under the Sea</td>\n",
       "      <td>25</td>\n",
       "      <td>25</td>\n",
       "      <td>112</td>\n",
       "    </tr>\n",
       "    <tr>\n",
       "      <th>4</th>\n",
       "      <td>3AM in Shibuya</td>\n",
       "      <td>34</td>\n",
       "      <td>85</td>\n",
       "      <td>119</td>\n",
       "    </tr>\n",
       "  </tbody>\n",
       "</table>\n",
       "</div>"
      ],
      "text/plain": [
       "                          name  red  green  blue\n",
       "0           18th Century Green  165    147    68\n",
       "1               1975 Earth Red  123     70    59\n",
       "2           1989 Miami Hotline  221     51   102\n",
       "3  20000 Leagues Under the Sea   25     25   112\n",
       "4               3AM in Shibuya   34     85   119"
      ]
     },
     "execution_count": 2,
     "metadata": {},
     "output_type": "execute_result"
    }
   ],
   "source": [
    "data = pd.read_csv(\"colors.csv\")\n",
    "names = data[\"name\"]\n",
    "data.head()"
   ]
  },
  {
   "cell_type": "code",
   "execution_count": 4,
   "id": "997f66c7",
   "metadata": {},
   "outputs": [
    {
     "data": {
      "text/plain": [
       "0             18th Century Green\n",
       "1                 1975 Earth Red\n",
       "2             1989 Miami Hotline\n",
       "3    20000 Leagues Under the Sea\n",
       "4                 3AM in Shibuya\n",
       "Name: name, dtype: object"
      ]
     },
     "execution_count": 4,
     "metadata": {},
     "output_type": "execute_result"
    }
   ],
   "source": [
    "names.head()"
   ]
  },
  {
   "cell_type": "markdown",
   "id": "908da170",
   "metadata": {},
   "source": [
    "### data preparation\n",
    "\n",
    "we're using a character level language model.  \n",
    "we want to reduce the name of colors to max 25 characters to reduce complexity   \n",
    "the histogram shows us that almost all colors are below 25 chars so we wont be sacrificing too much"
   ]
  },
  {
   "cell_type": "code",
   "execution_count": 6,
   "id": "677907ac",
   "metadata": {},
   "outputs": [],
   "source": [
    "h = sorted(names.str.len().values)"
   ]
  },
  {
   "cell_type": "code",
   "execution_count": 9,
   "id": "057d232f",
   "metadata": {},
   "outputs": [],
   "source": [
    "fit = stats.norm.pdf(h, np.mean(h), np.std(h))"
   ]
  },
  {
   "cell_type": "code",
   "execution_count": 12,
   "id": "8c64e893",
   "metadata": {
    "scrolled": true
   },
   "outputs": [
    {
     "data": {
      "image/png": "[encoded data removed]",
      "text/plain": [
       "<Figure size 432x288 with 1 Axes>"
      ]
     },
     "metadata": {
      "needs_background": "light"
     },
     "output_type": "display_data"
    }
   ],
   "source": [
    "plt.plot(h,fit,'-o')\n",
    "plt.hist(h)      #use this to draw histogram of your data\n",
    "plt.xlabel('Chars')\n",
    "plt.ylabel('Probability density')\n",
    "plt.show()"
   ]
  },
  {
   "cell_type": "code",
   "execution_count": 15,
   "id": "7dfb9265",
   "metadata": {},
   "outputs": [
    {
     "data": {
      "text/plain": [
       "(18606, 25)"
      ]
     },
     "execution_count": 15,
     "metadata": {},
     "output_type": "execute_result"
    }
   ],
   "source": [
    "maxlen = 25\n",
    "t = Tokenizer(char_level=True)\n",
    "t.fit_on_texts(names)\n",
    "tokenized = t.texts_to_sequences(names)\n",
    "padded_names = preprocessing.sequence.pad_sequences(tokenized, maxlen=maxlen)\n",
    "padded_names.shape"
   ]
  },
  {
   "cell_type": "markdown",
   "id": "668dd6ed",
   "metadata": {},
   "source": [
    "### one hot encoding"
   ]
  },
  {
   "cell_type": "code",
   "execution_count": 17,
   "id": "ca867f6e",
   "metadata": {
    "scrolled": true
   },
   "outputs": [
    {
     "data": {
      "text/plain": [
       "{'e': 1,\n",
       " 'a': 2,\n",
       " ' ': 3,\n",
       " 'r': 4,\n",
       " 'i': 5,\n",
       " 'l': 6,\n",
       " 'n': 7,\n",
       " 'o': 8,\n",
       " 's': 9,\n",
       " 't': 10,\n",
       " 'c': 11,\n",
       " 'u': 12,\n",
       " 'd': 13,\n",
       " 'g': 14,\n",
       " 'p': 15,\n",
       " 'h': 16,\n",
       " 'b': 17,\n",
       " 'm': 18,\n",
       " 'y': 19,\n",
       " 'w': 20,\n",
       " 'k': 21,\n",
       " 'f': 22,\n",
       " 'v': 23,\n",
       " 'z': 24,\n",
       " 'j': 25,\n",
       " 'q': 26,\n",
       " 'x': 27,\n",
       " \"'\": 28,\n",
       " '-': 29,\n",
       " 'ō': 30,\n",
       " 'è': 31,\n",
       " 'é': 32,\n",
       " 'ā': 33,\n",
       " 'á': 34,\n",
       " 'ó': 35,\n",
       " 'ū': 36,\n",
       " '0': 37,\n",
       " '8': 38,\n",
       " '.': 39,\n",
       " 'ē': 40,\n",
       " 'ī': 41,\n",
       " 'ǎ': 42,\n",
       " '!': 43,\n",
       " 'í': 44,\n",
       " '&': 45,\n",
       " 'ǜ': 46,\n",
       " '9': 47,\n",
       " '2': 48,\n",
       " 'à': 49,\n",
       " 'ǐ': 50,\n",
       " '’': 51,\n",
       " '6': 52,\n",
       " 'ú': 53,\n",
       " '1': 54,\n",
       " '3': 55,\n",
       " 'â': 56,\n",
       " '4': 57,\n",
       " 'ǔ': 58,\n",
       " 'ì': 59,\n",
       " '7': 60,\n",
       " '5': 61,\n",
       " 'ê': 62,\n",
       " 'ö': 63,\n",
       " 'ł': 64,\n",
       " 'š': 65,\n",
       " 'ü': 66,\n",
       " '₂': 67,\n",
       " 'ò': 68,\n",
       " 'ñ': 69,\n",
       " 'ě': 70,\n",
       " 'ń': 71,\n",
       " 'ä': 72,\n",
       " 'œ': 73,\n",
       " 'ß': 74,\n",
       " '%': 75,\n",
       " 'ı': 76,\n",
       " 'ż': 77,\n",
       " '/': 78,\n",
       " 'î': 79,\n",
       " 'ë': 80,\n",
       " '(': 81,\n",
       " ')': 82,\n",
       " 'å': 83,\n",
       " '$': 84,\n",
       " 'я': 85,\n",
       " 'ő': 86,\n",
       " 'ğ': 87,\n",
       " 'ç': 88,\n",
       " 'ù': 89}"
      ]
     },
     "execution_count": 17,
     "metadata": {},
     "output_type": "execute_result"
    }
   ],
   "source": [
    "t.word_index"
   ]
  },
  {
   "cell_type": "code",
   "execution_count": 18,
   "id": "c0752845",
   "metadata": {},
   "outputs": [],
   "source": [
    "from tensorflow.python.keras.utils import np_utils"
   ]
  },
  {
   "cell_type": "code",
   "execution_count": 19,
   "id": "c0fafab0",
   "metadata": {},
   "outputs": [],
   "source": [
    "one_hot_names = np_utils.to_categorical(padded_names)"
   ]
  },
  {
   "cell_type": "code",
   "execution_count": 20,
   "id": "e9b1529f",
   "metadata": {},
   "outputs": [
    {
     "data": {
      "text/plain": [
       "(18606, 25, 90)"
      ]
     },
     "execution_count": 20,
     "metadata": {},
     "output_type": "execute_result"
    }
   ],
   "source": [
    "one_hot_names.shape"
   ]
  },
  {
   "cell_type": "code",
   "execution_count": null,
   "id": "97844a64",
   "metadata": {},
   "outputs": [],
   "source": []
  },
  {
   "cell_type": "markdown",
   "id": "2abac445",
   "metadata": {},
   "source": [
    "### Data Normalization   \n",
    "Data normalization is purely practical because in practice it could take a model forever to converge if the training data values are spread out too much."
   ]
  },
  {
   "cell_type": "code",
   "execution_count": 22,
   "id": "fe6e04b4",
   "metadata": {},
   "outputs": [],
   "source": [
    "def norm(value):\n",
    "    return value / 255.0\n",
    "\n",
    "normalized_values = np.column_stack([norm(data[\"red\"]), norm(data[\"green\"]), norm(data[\"blue\"])])"
   ]
  },
  {
   "cell_type": "code",
   "execution_count": 24,
   "id": "f1e0c26f",
   "metadata": {},
   "outputs": [
    {
     "data": {
      "text/plain": [
       "array([[0.64705882, 0.57647059, 0.26666667],\n",
       "       [0.48235294, 0.2745098 , 0.23137255],\n",
       "       [0.86666667, 0.2       , 0.4       ],\n",
       "       ...,\n",
       "       [0.80392157, 0.83529412, 0.83529412],\n",
       "       [0.        , 0.5372549 , 0.58823529],\n",
       "       [0.14117647, 0.54509804, 0.8       ]])"
      ]
     },
     "execution_count": 24,
     "metadata": {},
     "output_type": "execute_result"
    }
   ],
   "source": [
    "normalized_values"
   ]
  }
 ],
 "metadata": {
  "kernelspec": {
   "display_name": "Python 3 (ipykernel)",
   "language": "python",
   "name": "python3"
  },
  "language_info": {
   "codemirror_mode": {
    "name": "ipython",
    "version": 3
   },
   "file_extension": ".py",
   "mimetype": "text/x-python",
   "name": "python",
   "nbconvert_exporter": "python",
   "pygments_lexer": "ipython3",
   "version": "3.9.6"
  }
 },
 "nbformat": 4,
 "nbformat_minor": 5
}
