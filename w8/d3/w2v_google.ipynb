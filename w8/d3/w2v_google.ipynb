{
 "cells": [
  {
   "cell_type": "markdown",
   "id": "f37668cf-e035-4fa2-9b72-db248659c0eb",
   "metadata": {},
   "source": [
    "# Word2Vec"
   ]
  },
  {
   "cell_type": "code",
   "execution_count": 1,
   "id": "7ff856f9-5d3a-49e0-aac1-fb3632366462",
   "metadata": {},
   "outputs": [],
   "source": [
    "import gensim.models.keyedvectors as word2vec\n",
    "model = word2vec.KeyedVectors.load_word2vec_format(\"/Users/zacharyargentin/Programming/Misc/GoogleNews-vectors-negative300.bin\", binary=True)"
   ]
  },
  {
   "cell_type": "markdown",
   "id": "b0d41dfd-afb4-413d-94c8-87150cdf48a5",
   "metadata": {},
   "source": [
    "#### Getting the vector for any word"
   ]
  },
  {
   "cell_type": "code",
   "execution_count": 10,
   "id": "c38c0acd-01cb-421c-bc00-2d02e638c93b",
   "metadata": {},
   "outputs": [],
   "source": [
    "vector = model[\"easy\"]"
   ]
  },
  {
   "cell_type": "code",
   "execution_count": 11,
   "id": "f36e29aa-25a7-41bc-a6bc-10b9c0c5d593",
   "metadata": {},
   "outputs": [
    {
     "data": {
      "text/plain": [
       "(300,)"
      ]
     },
     "execution_count": 11,
     "metadata": {},
     "output_type": "execute_result"
    }
   ],
   "source": [
    "vector.shape"
   ]
  },
  {
   "cell_type": "markdown",
   "id": "e29d2f19-3c12-404a-b5ba-30429ca8e3ab",
   "metadata": {},
   "source": [
    "#### Getting similar words"
   ]
  },
  {
   "cell_type": "code",
   "execution_count": 12,
   "id": "b5d8878d-56d8-4523-8ff9-d1ca88bc4c74",
   "metadata": {},
   "outputs": [
    {
     "data": {
      "text/plain": [
       "[('good', 0.6836091876029968),\n",
       " ('lovely', 0.6676311492919922),\n",
       " ('neat', 0.6616737246513367),\n",
       " ('fantastic', 0.6569241881370544),\n",
       " ('wonderful', 0.6561346054077148),\n",
       " ('terrific', 0.6552367806434631),\n",
       " ('great', 0.6454656720161438),\n",
       " ('awesome', 0.6404188275337219),\n",
       " ('nicer', 0.6302445530891418),\n",
       " ('decent', 0.5993332266807556)]"
      ]
     },
     "execution_count": 12,
     "metadata": {},
     "output_type": "execute_result"
    }
   ],
   "source": [
    "model.most_similar(\"nice\")"
   ]
  },
  {
   "cell_type": "code",
   "execution_count": 13,
   "id": "1863d147-4f1d-433b-90e6-018ee336d9b0",
   "metadata": {},
   "outputs": [
    {
     "data": {
      "text/plain": [
       "0.68360925"
      ]
     },
     "execution_count": 13,
     "metadata": {},
     "output_type": "execute_result"
    }
   ],
   "source": [
    "model.similarity(\"nice\", \"good\")"
   ]
  },
  {
   "cell_type": "code",
   "execution_count": 14,
   "id": "261afb25-248d-4163-9eaa-4d2575b6817a",
   "metadata": {},
   "outputs": [
    {
     "data": {
      "text/plain": [
       "0.7190051"
      ]
     },
     "execution_count": 14,
     "metadata": {},
     "output_type": "execute_result"
    }
   ],
   "source": [
    "model.similarity(\"good\", \"bad\")"
   ]
  },
  {
   "cell_type": "markdown",
   "id": "52a601a7-0fac-4bfd-9212-9c73008e81ac",
   "metadata": {},
   "source": [
    "> Antonyms are considered similar"
   ]
  },
  {
   "cell_type": "code",
   "execution_count": 15,
   "id": "c5d08917-c322-46b2-be81-1ef54e2ef81b",
   "metadata": {},
   "outputs": [
    {
     "data": {
      "text/plain": [
       "[('queen', 0.7118193507194519),\n",
       " ('monarch', 0.6189674735069275),\n",
       " ('princess', 0.5902431011199951),\n",
       " ('crown_prince', 0.5499460697174072),\n",
       " ('prince', 0.5377322435379028),\n",
       " ('kings', 0.5236844420433044),\n",
       " ('Queen_Consort', 0.5235945582389832),\n",
       " ('queens', 0.5181134939193726),\n",
       " ('sultan', 0.5098593235015869),\n",
       " ('monarchy', 0.5087411403656006)]"
      ]
     },
     "execution_count": 15,
     "metadata": {},
     "output_type": "execute_result"
    }
   ],
   "source": [
    "# king - queen = man - woman\n",
    "model.most_similar(positive=['woman', 'king'], negative=['man'])"
   ]
  },
  {
   "cell_type": "code",
   "execution_count": 27,
   "id": "be6593ad-eb1c-4308-b760-2033f6324170",
   "metadata": {},
   "outputs": [
    {
     "data": {
      "text/plain": [
       "[('Dad', 0.6901611685752869),\n",
       " ('daddy', 0.6261976361274719),\n",
       " ('Mom', 0.6214317679405212),\n",
       " ('grandpa', 0.6081059575080872),\n",
       " ('grandkids', 0.5765146613121033),\n",
       " ('father', 0.5737768411636353),\n",
       " ('grandpop', 0.559160590171814),\n",
       " ('stepdad', 0.5492794513702393),\n",
       " ('grandma', 0.5481815934181213),\n",
       " ('granddad', 0.531920313835144)]"
      ]
     },
     "execution_count": 27,
     "metadata": {},
     "output_type": "execute_result"
    }
   ],
   "source": [
    "model.most_similar(positive=[\"mom\", \"dad\"], negative=[\"girl\"])"
   ]
  },
  {
   "cell_type": "code",
   "execution_count": 28,
   "id": "82c3e67a-9e07-439b-bd00-93b503d79e26",
   "metadata": {},
   "outputs": [
    {
     "data": {
      "text/plain": [
       "[('england', 0.5860579609870911),\n",
       " ('europe', 0.5715833306312561),\n",
       " ('italy', 0.5676708221435547),\n",
       " ('european', 0.5563634037971497),\n",
       " ('argentina', 0.5382688641548157),\n",
       " ('barcelona', 0.5336805582046509),\n",
       " ('newcastle', 0.5296775102615356),\n",
       " ('epl', 0.5269960165023804),\n",
       " ('madrid', 0.5256408452987671),\n",
       " ('adebayor', 0.5243754982948303)]"
      ]
     },
     "execution_count": 28,
     "metadata": {},
     "output_type": "execute_result"
    }
   ],
   "source": [
    "model.most_similar(positive=[\"france\", \"spain\"], negative=[\"paris\"])"
   ]
  }
 ],
 "metadata": {
  "kernelspec": {
   "display_name": "bootcamp",
   "language": "python",
   "name": "bootcamp"
  },
  "language_info": {
   "codemirror_mode": {
    "name": "ipython",
    "version": 3
   },
   "file_extension": ".py",
   "mimetype": "text/x-python",
   "name": "python",
   "nbconvert_exporter": "python",
   "pygments_lexer": "ipython3",
   "version": "3.8.11"
  }
 },
 "nbformat": 4,
 "nbformat_minor": 5
}
