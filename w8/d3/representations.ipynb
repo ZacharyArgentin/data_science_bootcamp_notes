{
 "cells": [
  {
   "cell_type": "markdown",
   "id": "6ca9e722-0262-4672-85ba-a001a846678c",
   "metadata": {},
   "source": [
    "# Numerical representations of text"
   ]
  },
  {
   "cell_type": "markdown",
   "id": "90893d13-1559-4f48-9c0a-aa1551a5ceb2",
   "metadata": {},
   "source": [
    "## Bag of words"
   ]
  },
  {
   "cell_type": "markdown",
   "id": "1d92175c-260f-4003-a85d-38ad2e3b1ca1",
   "metadata": {},
   "source": [
    "#### Using python"
   ]
  },
  {
   "cell_type": "code",
   "execution_count": 15,
   "id": "e2034a96-b462-4b22-9564-7964b677b96c",
   "metadata": {},
   "outputs": [],
   "source": [
    "docs = [\"SUPERB, I AM IN LOVE IN THIS PHONE\", \"I hate this phone\"]\n",
    "\n",
    "words = [word for doc in docs for word in doc.lower().split()]\n",
    "\n",
    "words = list(set(words))\n",
    "\n",
    "words"
   ]
  },
  {
   "cell_type": "code",
   "execution_count": 16,
   "id": "13cebd84-2700-4c4e-9b9f-2a21292c0db0",
   "metadata": {},
   "outputs": [
    {
     "name": "stdout",
     "output_type": "stream",
     "text": [
      "vocabulary:  ['i', 'superb,', 'in', 'hate', 'phone', 'this', 'love', 'am']\n",
      "vectors:  [[1, 1, 1, 0, 1, 1, 1, 1], [1, 0, 0, 1, 1, 1, 0, 0]]\n"
     ]
    }
   ],
   "source": [
    "vectors = []\n",
    "for doc in docs:\n",
    "    vectors.append([1 if word in doc.lower().split() else 0 for word in words])\n",
    "print(\"vocabulary: \", words)   \n",
    "print(\"vectors: \", vectors)"
   ]
  },
  {
   "cell_type": "markdown",
   "id": "73bbbd77-53a1-47ef-b604-c34a64ba3067",
   "metadata": {},
   "source": [
    "#### Using sci-kit learn"
   ]
  },
  {
   "cell_type": "code",
   "execution_count": 17,
   "id": "eeecf3e4-6cdb-4045-8a77-b6fa7561c2cd",
   "metadata": {},
   "outputs": [],
   "source": [
    "from sklearn.feature_extraction.text import CountVectorizer"
   ]
  },
  {
   "cell_type": "code",
   "execution_count": 20,
   "id": "b0d0fb91-6bd8-4f7d-853d-c4117d378e05",
   "metadata": {},
   "outputs": [
    {
     "name": "stdout",
     "output_type": "stream",
     "text": [
      "vocabulary:  {'superb': 5, 'am': 0, 'in': 2, 'love': 3, 'this': 6, 'phone': 4, 'hate': 1}\n"
     ]
    }
   ],
   "source": [
    "docs = ['SUPERB, I AM IN LOVE IN THIS PHONE', 'I hate this phone']\n",
    "vectorizer = CountVectorizer()\n",
    "vectorizer.fit(docs)\n",
    "print('vocabulary: ', vectorizer.vocabulary_)"
   ]
  },
  {
   "cell_type": "code",
   "execution_count": 21,
   "id": "d1ea64d1-be8b-4006-ae2f-d4e7260f4364",
   "metadata": {},
   "outputs": [
    {
     "name": "stdout",
     "output_type": "stream",
     "text": [
      "shape:  (2, 7)\n",
      "vectors:  [[1 0 2 1 1 1 1]\n",
      " [0 1 0 0 1 0 1]]\n"
     ]
    }
   ],
   "source": [
    "vector = vectorizer.transform(docs)\n",
    "print('shape: ', vector.shape)\n",
    "print('vectors: ', vector.toarray())"
   ]
  },
  {
   "cell_type": "markdown",
   "id": "d9d63b1c-6b36-4910-98fd-93aa03c0098f",
   "metadata": {},
   "source": [
    "## tfidf"
   ]
  },
  {
   "cell_type": "code",
   "execution_count": 22,
   "id": "f821736e-2bb7-4fa4-ad41-02ee2f65a336",
   "metadata": {},
   "outputs": [],
   "source": [
    "from sklearn.feature_extraction.text import TfidfVectorizer"
   ]
  },
  {
   "cell_type": "code",
   "execution_count": 23,
   "id": "28805efb-9283-47f5-84e9-667a6d13465e",
   "metadata": {},
   "outputs": [
    {
     "name": "stdout",
     "output_type": "stream",
     "text": [
      "vocabulary:  {'superb': 5, 'am': 0, 'in': 2, 'love': 3, 'this': 6, 'phone': 4, 'hate': 1}\n",
      "idfs:  [1.40546511 1.40546511 1.40546511 1.40546511 1.         1.40546511\n",
      " 1.        ]\n"
     ]
    }
   ],
   "source": [
    "vectorizer = TfidfVectorizer()\n",
    "vectorizer.fit(docs)\n",
    "# summarize\n",
    "print('vocabulary: ', vectorizer.vocabulary_)\n",
    "print('idfs: ', vectorizer.idf_)"
   ]
  },
  {
   "cell_type": "code",
   "execution_count": 24,
   "id": "6ea8fde4-f0b2-4978-9a38-0dff9b3c553b",
   "metadata": {},
   "outputs": [
    {
     "name": "stdout",
     "output_type": "stream",
     "text": [
      "vectors:  [[0.35327777 0.         0.70655553 0.35327777 0.25136004 0.35327777\n",
      "  0.25136004]]\n"
     ]
    }
   ],
   "source": [
    "# encode document\n",
    "vector = vectorizer.transform([docs[0]])\n",
    "# summarize encoded vector\n",
    "print('vectors: ', vector.toarray())"
   ]
  },
  {
   "cell_type": "code",
   "execution_count": 25,
   "id": "eaa59f22-464d-4803-8c70-7d7dade06673",
   "metadata": {},
   "outputs": [
    {
     "data": {
      "text/plain": [
       "'SUPERB, I AM IN LOVE IN THIS PHONE'"
      ]
     },
     "execution_count": 25,
     "metadata": {},
     "output_type": "execute_result"
    }
   ],
   "source": [
    "docs[0]"
   ]
  },
  {
   "cell_type": "code",
   "execution_count": null,
   "id": "83686f30-9a6f-4e99-b43e-a7c52a400bb4",
   "metadata": {},
   "outputs": [],
   "source": []
  }
 ],
 "metadata": {
  "kernelspec": {
   "display_name": "bootcamp",
   "language": "python",
   "name": "bootcamp"
  },
  "language_info": {
   "codemirror_mode": {
    "name": "ipython",
    "version": 3
   },
   "file_extension": ".py",
   "mimetype": "text/x-python",
   "name": "python",
   "nbconvert_exporter": "python",
   "pygments_lexer": "ipython3",
   "version": "3.8.5"
  }
 },
 "nbformat": 4,
 "nbformat_minor": 5
}
