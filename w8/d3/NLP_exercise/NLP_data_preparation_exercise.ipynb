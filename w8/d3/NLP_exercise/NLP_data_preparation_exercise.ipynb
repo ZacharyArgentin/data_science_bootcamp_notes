{
 "cells": [
  {
   "cell_type": "markdown",
   "metadata": {},
   "source": [
    "### NLP Data Preperation Exercise"
   ]
  },
  {
   "cell_type": "code",
   "execution_count": 1,
   "metadata": {
    "ExecuteTime": {
     "end_time": "2020-04-29T11:40:03.667630Z",
     "start_time": "2020-04-29T11:40:03.663429Z"
    }
   },
   "outputs": [],
   "source": [
    "# import pandas\n",
    "import pandas as pd"
   ]
  },
  {
   "cell_type": "code",
   "execution_count": 2,
   "metadata": {
    "ExecuteTime": {
     "end_time": "2020-04-29T11:40:04.044904Z",
     "start_time": "2020-04-29T11:40:03.861034Z"
    }
   },
   "outputs": [],
   "source": [
    "# load dataset\n",
    "dataset = pd.read_csv('https://media.geeksforgeeks.org/wp-content/uploads/Restaurant_Reviews.tsv', \n",
    "                      delimiter = '\\t',\n",
    "                      quoting=3)"
   ]
  },
  {
   "cell_type": "markdown",
   "metadata": {},
   "source": [
    "* print top 10 rows"
   ]
  },
  {
   "cell_type": "code",
   "execution_count": 3,
   "metadata": {
    "ExecuteTime": {
     "end_time": "2020-04-29T11:40:04.238480Z",
     "start_time": "2020-04-29T11:40:04.226793Z"
    }
   },
   "outputs": [
    {
     "data": {
      "text/plain": [
       "array(['Wow... Loved this place.', 'Crust is not good.',\n",
       "       'Not tasty and the texture was just nasty.',\n",
       "       'Stopped by during the late May bank holiday off Rick Steve recommendation and loved it.',\n",
       "       'The selection on the menu was great and so were the prices.',\n",
       "       'Now I am getting angry and I want my damn pho.',\n",
       "       \"Honeslty it didn't taste THAT fresh.)\",\n",
       "       'The potatoes were like rubber and you could tell they had been made up ahead of time being kept under a warmer.',\n",
       "       'The fries were great too.', 'A great touch.'], dtype=object)"
      ]
     },
     "execution_count": 3,
     "metadata": {},
     "output_type": "execute_result"
    }
   ],
   "source": [
    "dataset[\"Review\"].head(10).values"
   ]
  },
  {
   "cell_type": "markdown",
   "metadata": {},
   "source": [
    "* create a function that removes punctuation"
   ]
  },
  {
   "cell_type": "code",
   "execution_count": 4,
   "metadata": {},
   "outputs": [
    {
     "data": {
      "text/plain": [
       "0                          [Wow..., Loved, this, place.]\n",
       "1                                [Crust, is, not, good.]\n",
       "2      [Not, tasty, and, the, texture, was, just, nas...\n",
       "3      [Stopped, by, during, the, late, May, bank, ho...\n",
       "4      [The, selection, on, the, menu, was, great, an...\n",
       "                             ...                        \n",
       "995    [I, think, food, should, have, flavor, and, te...\n",
       "996                         [Appetite, instantly, gone.]\n",
       "997    [Overall, I, was, not, impressed, and, would, ...\n",
       "998    [The, whole, experience, was, underwhelming,, ...\n",
       "999    [Then,, as, if, I, hadn't, wasted, enough, of,...\n",
       "Name: Review, Length: 1000, dtype: object"
      ]
     },
     "execution_count": 4,
     "metadata": {},
     "output_type": "execute_result"
    }
   ],
   "source": [
    "import string\n",
    "\n",
    "data = dataset[\"Review\"]\n",
    "\n",
    "data = data.str.split()\n",
    "data"
   ]
  },
  {
   "cell_type": "code",
   "execution_count": 5,
   "metadata": {},
   "outputs": [],
   "source": [
    "remove_punc_map = str.maketrans(\"\",\"\", string.punctuation)\n",
    "\n",
    "def remove_punc(list_):\n",
    "        return [word.translate(remove_punc_map) for word in list_] "
   ]
  },
  {
   "cell_type": "markdown",
   "metadata": {},
   "source": [
    "#### solution 1 - loop through series and change value of each row"
   ]
  },
  {
   "cell_type": "code",
   "execution_count": 6,
   "metadata": {},
   "outputs": [],
   "source": [
    "for i, row in enumerate(data):\n",
    "    data.iloc[i] = remove_punc(row)"
   ]
  },
  {
   "cell_type": "markdown",
   "metadata": {},
   "source": [
    "#### solution 2 - using apply function"
   ]
  },
  {
   "cell_type": "code",
   "execution_count": 7,
   "metadata": {},
   "outputs": [],
   "source": [
    "dataset[\"Review_clean\"] = dataset[\"Review\"].str.split().apply(lambda x: remove_punc(x))"
   ]
  },
  {
   "cell_type": "code",
   "execution_count": 8,
   "metadata": {
    "tags": []
   },
   "outputs": [
    {
     "data": {
      "text/html": [
       "<div>\n",
       "<style scoped>\n",
       "    .dataframe tbody tr th:only-of-type {\n",
       "        vertical-align: middle;\n",
       "    }\n",
       "\n",
       "    .dataframe tbody tr th {\n",
       "        vertical-align: top;\n",
       "    }\n",
       "\n",
       "    .dataframe thead th {\n",
       "        text-align: right;\n",
       "    }\n",
       "</style>\n",
       "<table border=\"1\" class=\"dataframe\">\n",
       "  <thead>\n",
       "    <tr style=\"text-align: right;\">\n",
       "      <th></th>\n",
       "      <th>Review</th>\n",
       "      <th>Liked</th>\n",
       "      <th>Review_clean</th>\n",
       "    </tr>\n",
       "  </thead>\n",
       "  <tbody>\n",
       "    <tr>\n",
       "      <th>0</th>\n",
       "      <td>Wow... Loved this place.</td>\n",
       "      <td>1</td>\n",
       "      <td>[Wow, Loved, this, place]</td>\n",
       "    </tr>\n",
       "    <tr>\n",
       "      <th>1</th>\n",
       "      <td>Crust is not good.</td>\n",
       "      <td>0</td>\n",
       "      <td>[Crust, is, not, good]</td>\n",
       "    </tr>\n",
       "    <tr>\n",
       "      <th>2</th>\n",
       "      <td>Not tasty and the texture was just nasty.</td>\n",
       "      <td>0</td>\n",
       "      <td>[Not, tasty, and, the, texture, was, just, nasty]</td>\n",
       "    </tr>\n",
       "    <tr>\n",
       "      <th>3</th>\n",
       "      <td>Stopped by during the late May bank holiday of...</td>\n",
       "      <td>1</td>\n",
       "      <td>[Stopped, by, during, the, late, May, bank, ho...</td>\n",
       "    </tr>\n",
       "    <tr>\n",
       "      <th>4</th>\n",
       "      <td>The selection on the menu was great and so wer...</td>\n",
       "      <td>1</td>\n",
       "      <td>[The, selection, on, the, menu, was, great, an...</td>\n",
       "    </tr>\n",
       "    <tr>\n",
       "      <th>...</th>\n",
       "      <td>...</td>\n",
       "      <td>...</td>\n",
       "      <td>...</td>\n",
       "    </tr>\n",
       "    <tr>\n",
       "      <th>995</th>\n",
       "      <td>I think food should have flavor and texture an...</td>\n",
       "      <td>0</td>\n",
       "      <td>[I, think, food, should, have, flavor, and, te...</td>\n",
       "    </tr>\n",
       "    <tr>\n",
       "      <th>996</th>\n",
       "      <td>Appetite instantly gone.</td>\n",
       "      <td>0</td>\n",
       "      <td>[Appetite, instantly, gone]</td>\n",
       "    </tr>\n",
       "    <tr>\n",
       "      <th>997</th>\n",
       "      <td>Overall I was not impressed and would not go b...</td>\n",
       "      <td>0</td>\n",
       "      <td>[Overall, I, was, not, impressed, and, would, ...</td>\n",
       "    </tr>\n",
       "    <tr>\n",
       "      <th>998</th>\n",
       "      <td>The whole experience was underwhelming, and I ...</td>\n",
       "      <td>0</td>\n",
       "      <td>[The, whole, experience, was, underwhelming, a...</td>\n",
       "    </tr>\n",
       "    <tr>\n",
       "      <th>999</th>\n",
       "      <td>Then, as if I hadn't wasted enough of my life ...</td>\n",
       "      <td>0</td>\n",
       "      <td>[Then, as, if, I, hadnt, wasted, enough, of, m...</td>\n",
       "    </tr>\n",
       "  </tbody>\n",
       "</table>\n",
       "<p>1000 rows × 3 columns</p>\n",
       "</div>"
      ],
      "text/plain": [
       "                                                Review  Liked  \\\n",
       "0                             Wow... Loved this place.      1   \n",
       "1                                   Crust is not good.      0   \n",
       "2            Not tasty and the texture was just nasty.      0   \n",
       "3    Stopped by during the late May bank holiday of...      1   \n",
       "4    The selection on the menu was great and so wer...      1   \n",
       "..                                                 ...    ...   \n",
       "995  I think food should have flavor and texture an...      0   \n",
       "996                           Appetite instantly gone.      0   \n",
       "997  Overall I was not impressed and would not go b...      0   \n",
       "998  The whole experience was underwhelming, and I ...      0   \n",
       "999  Then, as if I hadn't wasted enough of my life ...      0   \n",
       "\n",
       "                                          Review_clean  \n",
       "0                            [Wow, Loved, this, place]  \n",
       "1                               [Crust, is, not, good]  \n",
       "2    [Not, tasty, and, the, texture, was, just, nasty]  \n",
       "3    [Stopped, by, during, the, late, May, bank, ho...  \n",
       "4    [The, selection, on, the, menu, was, great, an...  \n",
       "..                                                 ...  \n",
       "995  [I, think, food, should, have, flavor, and, te...  \n",
       "996                        [Appetite, instantly, gone]  \n",
       "997  [Overall, I, was, not, impressed, and, would, ...  \n",
       "998  [The, whole, experience, was, underwhelming, a...  \n",
       "999  [Then, as, if, I, hadnt, wasted, enough, of, m...  \n",
       "\n",
       "[1000 rows x 3 columns]"
      ]
     },
     "execution_count": 8,
     "metadata": {},
     "output_type": "execute_result"
    }
   ],
   "source": [
    "dataset"
   ]
  },
  {
   "cell_type": "code",
   "execution_count": 9,
   "metadata": {},
   "outputs": [
    {
     "data": {
      "text/plain": [
       "0                              [Wow, Loved, this, place]\n",
       "1                                 [Crust, is, not, good]\n",
       "2      [Not, tasty, and, the, texture, was, just, nasty]\n",
       "3      [Stopped, by, during, the, late, May, bank, ho...\n",
       "4      [The, selection, on, the, menu, was, great, an...\n",
       "                             ...                        \n",
       "995    [I, think, food, should, have, flavor, and, te...\n",
       "996                          [Appetite, instantly, gone]\n",
       "997    [Overall, I, was, not, impressed, and, would, ...\n",
       "998    [The, whole, experience, was, underwhelming, a...\n",
       "999    [Then, as, if, I, hadnt, wasted, enough, of, m...\n",
       "Name: Review, Length: 1000, dtype: object"
      ]
     },
     "execution_count": 9,
     "metadata": {},
     "output_type": "execute_result"
    }
   ],
   "source": [
    "data"
   ]
  },
  {
   "cell_type": "code",
   "execution_count": 10,
   "metadata": {},
   "outputs": [
    {
     "data": {
      "text/plain": [
       "0                              [Wow, Loved, this, place]\n",
       "1                                 [Crust, is, not, good]\n",
       "2      [Not, tasty, and, the, texture, was, just, nasty]\n",
       "3      [Stopped, by, during, the, late, May, bank, ho...\n",
       "4      [The, selection, on, the, menu, was, great, an...\n",
       "                             ...                        \n",
       "995    [I, think, food, should, have, flavor, and, te...\n",
       "996                          [Appetite, instantly, gone]\n",
       "997    [Overall, I, was, not, impressed, and, would, ...\n",
       "998    [The, whole, experience, was, underwhelming, a...\n",
       "999    [Then, as, if, I, hadnt, wasted, enough, of, m...\n",
       "Name: Review, Length: 1000, dtype: object"
      ]
     },
     "execution_count": 10,
     "metadata": {},
     "output_type": "execute_result"
    }
   ],
   "source": [
    "data.apply(lambda x: remove_punc(x))"
   ]
  },
  {
   "cell_type": "code",
   "execution_count": 11,
   "metadata": {
    "tags": []
   },
   "outputs": [
    {
     "data": {
      "text/plain": [
       "0                              [Wow, Loved, this, place]\n",
       "1                                 [Crust, is, not, good]\n",
       "2      [Not, tasty, and, the, texture, was, just, nasty]\n",
       "3      [Stopped, by, during, the, late, May, bank, ho...\n",
       "4      [The, selection, on, the, menu, was, great, an...\n",
       "                             ...                        \n",
       "995    [I, think, food, should, have, flavor, and, te...\n",
       "996                          [Appetite, instantly, gone]\n",
       "997    [Overall, I, was, not, impressed, and, would, ...\n",
       "998    [The, whole, experience, was, underwhelming, a...\n",
       "999    [Then, as, if, I, hadnt, wasted, enough, of, m...\n",
       "Name: Review, Length: 1000, dtype: object"
      ]
     },
     "execution_count": 11,
     "metadata": {},
     "output_type": "execute_result"
    }
   ],
   "source": [
    "data"
   ]
  },
  {
   "cell_type": "markdown",
   "metadata": {},
   "source": [
    "* create a function that converts text to lowercase"
   ]
  },
  {
   "cell_type": "code",
   "execution_count": 12,
   "metadata": {
    "ExecuteTime": {
     "end_time": "2020-04-29T11:40:04.953719Z",
     "start_time": "2020-04-29T11:40:04.949990Z"
    }
   },
   "outputs": [],
   "source": [
    "def make_lower(list_):\n",
    "    return [word.lower() for word in list_]"
   ]
  },
  {
   "cell_type": "code",
   "execution_count": 13,
   "metadata": {},
   "outputs": [],
   "source": [
    "data = data.apply(lambda x: make_lower(x))"
   ]
  },
  {
   "cell_type": "code",
   "execution_count": 14,
   "metadata": {},
   "outputs": [
    {
     "data": {
      "text/plain": [
       "0                              [wow, loved, this, place]\n",
       "1                                 [crust, is, not, good]\n",
       "2      [not, tasty, and, the, texture, was, just, nasty]\n",
       "3      [stopped, by, during, the, late, may, bank, ho...\n",
       "4      [the, selection, on, the, menu, was, great, an...\n",
       "                             ...                        \n",
       "995    [i, think, food, should, have, flavor, and, te...\n",
       "996                          [appetite, instantly, gone]\n",
       "997    [overall, i, was, not, impressed, and, would, ...\n",
       "998    [the, whole, experience, was, underwhelming, a...\n",
       "999    [then, as, if, i, hadnt, wasted, enough, of, m...\n",
       "Name: Review, Length: 1000, dtype: object"
      ]
     },
     "execution_count": 14,
     "metadata": {},
     "output_type": "execute_result"
    }
   ],
   "source": [
    "data"
   ]
  },
  {
   "cell_type": "markdown",
   "metadata": {},
   "source": [
    "* import nltk and download stopwords"
   ]
  },
  {
   "cell_type": "code",
   "execution_count": 15,
   "metadata": {
    "ExecuteTime": {
     "end_time": "2020-04-29T11:40:07.172105Z",
     "start_time": "2020-04-29T11:40:05.315632Z"
    }
   },
   "outputs": [],
   "source": [
    "import nltk"
   ]
  },
  {
   "cell_type": "code",
   "execution_count": 16,
   "metadata": {
    "ExecuteTime": {
     "end_time": "2020-04-29T11:40:07.235109Z",
     "start_time": "2020-04-29T11:40:07.225647Z"
    }
   },
   "outputs": [],
   "source": [
    "stopwords = nltk.corpus.stopwords.words('english')"
   ]
  },
  {
   "cell_type": "markdown",
   "metadata": {},
   "source": [
    "* create a function that removes stopwords"
   ]
  },
  {
   "cell_type": "code",
   "execution_count": 17,
   "metadata": {},
   "outputs": [],
   "source": [
    "def remove_stopwords(list_):\n",
    "    return [word for word in list_ if (word not in stopwords)]"
   ]
  },
  {
   "cell_type": "code",
   "execution_count": 18,
   "metadata": {},
   "outputs": [],
   "source": [
    "data = data.apply(lambda x: remove_stopwords(x))"
   ]
  },
  {
   "cell_type": "markdown",
   "metadata": {},
   "source": [
    "* import Lemmatizer from nltk and download wordnet"
   ]
  },
  {
   "cell_type": "code",
   "execution_count": 19,
   "metadata": {},
   "outputs": [],
   "source": [
    "from nltk.stem import WordNetLemmatizer"
   ]
  },
  {
   "cell_type": "code",
   "execution_count": 20,
   "metadata": {
    "tags": []
   },
   "outputs": [],
   "source": [
    "lemmatizer = WordNetLemmatizer()"
   ]
  },
  {
   "cell_type": "code",
   "execution_count": 21,
   "metadata": {},
   "outputs": [
    {
     "name": "stdout",
     "output_type": "stream",
     "text": [
      "cat\n"
     ]
    }
   ],
   "source": [
    "print(lemmatizer.lemmatize('cats'))"
   ]
  },
  {
   "cell_type": "markdown",
   "metadata": {},
   "source": [
    "* create a function that lemmatizes text"
   ]
  },
  {
   "cell_type": "code",
   "execution_count": 22,
   "metadata": {},
   "outputs": [],
   "source": [
    "def lemmatize(list_):\n",
    "    return [lemmatizer.lemmatize(word) for word in list_]"
   ]
  },
  {
   "cell_type": "code",
   "execution_count": 23,
   "metadata": {},
   "outputs": [
    {
     "data": {
      "text/plain": [
       "0                                    [wow, loved, place]\n",
       "1                                          [crust, good]\n",
       "2                                [tasty, texture, nasty]\n",
       "3      [stopped, late, may, bank, holiday, rick, stev...\n",
       "4                        [selection, menu, great, price]\n",
       "                             ...                        \n",
       "995              [think, food, flavor, texture, lacking]\n",
       "996                          [appetite, instantly, gone]\n",
       "997                [overall, impressed, would, go, back]\n",
       "998    [whole, experience, underwhelming, think, well...\n",
       "999    [hadnt, wasted, enough, life, poured, salt, wo...\n",
       "Name: Review, Length: 1000, dtype: object"
      ]
     },
     "execution_count": 23,
     "metadata": {},
     "output_type": "execute_result"
    }
   ],
   "source": [
    "data.apply(lambda x: lemmatize(x))"
   ]
  },
  {
   "cell_type": "markdown",
   "metadata": {},
   "source": [
    "* import Stemming from nltk"
   ]
  },
  {
   "cell_type": "code",
   "execution_count": 24,
   "metadata": {
    "ExecuteTime": {
     "end_time": "2020-04-29T11:40:07.467033Z",
     "start_time": "2020-04-29T11:40:07.457053Z"
    }
   },
   "outputs": [],
   "source": [
    "from nltk.stem import PorterStemmer"
   ]
  },
  {
   "cell_type": "code",
   "execution_count": 25,
   "metadata": {},
   "outputs": [],
   "source": [
    "stemmer = PorterStemmer()"
   ]
  },
  {
   "cell_type": "markdown",
   "metadata": {},
   "source": [
    "* create a function thath stems text"
   ]
  },
  {
   "cell_type": "code",
   "execution_count": 26,
   "metadata": {
    "ExecuteTime": {
     "end_time": "2020-04-29T11:40:07.516026Z",
     "start_time": "2020-04-29T11:40:07.509217Z"
    }
   },
   "outputs": [],
   "source": [
    "def stem(list_):\n",
    "    return [stemmer.stem(word) for word in list_]"
   ]
  },
  {
   "cell_type": "code",
   "execution_count": 27,
   "metadata": {},
   "outputs": [
    {
     "data": {
      "text/plain": [
       "0                                     [wow, love, place]\n",
       "1                                          [crust, good]\n",
       "2                                 [tasti, textur, nasti]\n",
       "3      [stop, late, may, bank, holiday, rick, steve, ...\n",
       "4                           [select, menu, great, price]\n",
       "                             ...                        \n",
       "995                  [think, food, flavor, textur, lack]\n",
       "996                           [appetit, instantli, gone]\n",
       "997                   [overal, impress, would, go, back]\n",
       "998    [whole, experi, underwhelm, think, well, go, n...\n",
       "999    [hadnt, wast, enough, life, pour, salt, wound,...\n",
       "Name: Review, Length: 1000, dtype: object"
      ]
     },
     "execution_count": 27,
     "metadata": {},
     "output_type": "execute_result"
    }
   ],
   "source": [
    "data.apply(lambda x: stem(x))"
   ]
  },
  {
   "cell_type": "markdown",
   "metadata": {},
   "source": [
    "* Define a function `'preprocess'` that applies all the preprocessing steps we defined above, **without** Stemming and Lemmatizing, to text."
   ]
  },
  {
   "cell_type": "code",
   "execution_count": null,
   "metadata": {},
   "outputs": [],
   "source": []
  },
  {
   "cell_type": "code",
   "execution_count": 28,
   "metadata": {
    "ExecuteTime": {
     "end_time": "2020-04-29T11:40:07.579774Z",
     "start_time": "2020-04-29T11:40:07.562065Z"
    }
   },
   "outputs": [],
   "source": [
    "def preprocess(data):\n",
    "    data = data.str.split()\n",
    "    data.apply(lambda x: remove_punc(x))\n",
    "    data = data.apply(lambda x: make_lower(x))\n",
    "    data = data.apply(lambda x: remove_stopwords(x))\n",
    "    \n",
    "    \n",
    "    return data"
   ]
  },
  {
   "cell_type": "markdown",
   "metadata": {},
   "source": [
    "* Create a new column in dataset with name 'Review_clean' and store the preprocessed reviews."
   ]
  },
  {
   "cell_type": "code",
   "execution_count": 36,
   "metadata": {},
   "outputs": [],
   "source": [
    "dataset[\"Review_clean\"] = preprocess(dataset[\"Review\"])"
   ]
  },
  {
   "cell_type": "markdown",
   "metadata": {},
   "source": [
    "* print top 10 rows of the dataset"
   ]
  },
  {
   "cell_type": "code",
   "execution_count": 37,
   "metadata": {},
   "outputs": [
    {
     "data": {
      "text/html": [
       "<div>\n",
       "<style scoped>\n",
       "    .dataframe tbody tr th:only-of-type {\n",
       "        vertical-align: middle;\n",
       "    }\n",
       "\n",
       "    .dataframe tbody tr th {\n",
       "        vertical-align: top;\n",
       "    }\n",
       "\n",
       "    .dataframe thead th {\n",
       "        text-align: right;\n",
       "    }\n",
       "</style>\n",
       "<table border=\"1\" class=\"dataframe\">\n",
       "  <thead>\n",
       "    <tr style=\"text-align: right;\">\n",
       "      <th></th>\n",
       "      <th>Review</th>\n",
       "      <th>Liked</th>\n",
       "      <th>Review_clean</th>\n",
       "    </tr>\n",
       "  </thead>\n",
       "  <tbody>\n",
       "    <tr>\n",
       "      <th>0</th>\n",
       "      <td>Wow... Loved this place.</td>\n",
       "      <td>1</td>\n",
       "      <td>[wow..., loved, place.]</td>\n",
       "    </tr>\n",
       "    <tr>\n",
       "      <th>1</th>\n",
       "      <td>Crust is not good.</td>\n",
       "      <td>0</td>\n",
       "      <td>[crust, good.]</td>\n",
       "    </tr>\n",
       "    <tr>\n",
       "      <th>2</th>\n",
       "      <td>Not tasty and the texture was just nasty.</td>\n",
       "      <td>0</td>\n",
       "      <td>[tasty, texture, nasty.]</td>\n",
       "    </tr>\n",
       "    <tr>\n",
       "      <th>3</th>\n",
       "      <td>Stopped by during the late May bank holiday of...</td>\n",
       "      <td>1</td>\n",
       "      <td>[stopped, late, may, bank, holiday, rick, stev...</td>\n",
       "    </tr>\n",
       "    <tr>\n",
       "      <th>4</th>\n",
       "      <td>The selection on the menu was great and so wer...</td>\n",
       "      <td>1</td>\n",
       "      <td>[selection, menu, great, prices.]</td>\n",
       "    </tr>\n",
       "    <tr>\n",
       "      <th>...</th>\n",
       "      <td>...</td>\n",
       "      <td>...</td>\n",
       "      <td>...</td>\n",
       "    </tr>\n",
       "    <tr>\n",
       "      <th>995</th>\n",
       "      <td>I think food should have flavor and texture an...</td>\n",
       "      <td>0</td>\n",
       "      <td>[think, food, flavor, texture, lacking.]</td>\n",
       "    </tr>\n",
       "    <tr>\n",
       "      <th>996</th>\n",
       "      <td>Appetite instantly gone.</td>\n",
       "      <td>0</td>\n",
       "      <td>[appetite, instantly, gone.]</td>\n",
       "    </tr>\n",
       "    <tr>\n",
       "      <th>997</th>\n",
       "      <td>Overall I was not impressed and would not go b...</td>\n",
       "      <td>0</td>\n",
       "      <td>[overall, impressed, would, go, back.]</td>\n",
       "    </tr>\n",
       "    <tr>\n",
       "      <th>998</th>\n",
       "      <td>The whole experience was underwhelming, and I ...</td>\n",
       "      <td>0</td>\n",
       "      <td>[whole, experience, underwhelming,, think, we'...</td>\n",
       "    </tr>\n",
       "    <tr>\n",
       "      <th>999</th>\n",
       "      <td>Then, as if I hadn't wasted enough of my life ...</td>\n",
       "      <td>0</td>\n",
       "      <td>[then,, wasted, enough, life, there,, poured, ...</td>\n",
       "    </tr>\n",
       "  </tbody>\n",
       "</table>\n",
       "<p>1000 rows × 3 columns</p>\n",
       "</div>"
      ],
      "text/plain": [
       "                                                Review  Liked  \\\n",
       "0                             Wow... Loved this place.      1   \n",
       "1                                   Crust is not good.      0   \n",
       "2            Not tasty and the texture was just nasty.      0   \n",
       "3    Stopped by during the late May bank holiday of...      1   \n",
       "4    The selection on the menu was great and so wer...      1   \n",
       "..                                                 ...    ...   \n",
       "995  I think food should have flavor and texture an...      0   \n",
       "996                           Appetite instantly gone.      0   \n",
       "997  Overall I was not impressed and would not go b...      0   \n",
       "998  The whole experience was underwhelming, and I ...      0   \n",
       "999  Then, as if I hadn't wasted enough of my life ...      0   \n",
       "\n",
       "                                          Review_clean  \n",
       "0                              [wow..., loved, place.]  \n",
       "1                                       [crust, good.]  \n",
       "2                             [tasty, texture, nasty.]  \n",
       "3    [stopped, late, may, bank, holiday, rick, stev...  \n",
       "4                    [selection, menu, great, prices.]  \n",
       "..                                                 ...  \n",
       "995           [think, food, flavor, texture, lacking.]  \n",
       "996                       [appetite, instantly, gone.]  \n",
       "997             [overall, impressed, would, go, back.]  \n",
       "998  [whole, experience, underwhelming,, think, we'...  \n",
       "999  [then,, wasted, enough, life, there,, poured, ...  \n",
       "\n",
       "[1000 rows x 3 columns]"
      ]
     },
     "execution_count": 37,
     "metadata": {},
     "output_type": "execute_result"
    }
   ],
   "source": [
    "dataset"
   ]
  },
  {
   "cell_type": "markdown",
   "metadata": {},
   "source": [
    "* apply the lemmatizer function above on the 'Review_clean' column of the dataset.\n",
    "* store the result in a 'Lemmatized' column"
   ]
  },
  {
   "cell_type": "code",
   "execution_count": 39,
   "metadata": {
    "ExecuteTime": {
     "end_time": "2020-04-29T11:40:11.380853Z",
     "start_time": "2020-04-29T11:40:09.630497Z"
    }
   },
   "outputs": [],
   "source": [
    "dataset[\"Lemmatized\"] = dataset[\"Review_clean\"].apply(lambda x: lemmatize(x))"
   ]
  },
  {
   "cell_type": "markdown",
   "metadata": {},
   "source": [
    "* print top 10 rows of the dataset"
   ]
  },
  {
   "cell_type": "code",
   "execution_count": 40,
   "metadata": {
    "ExecuteTime": {
     "end_time": "2020-04-29T11:40:11.433810Z",
     "start_time": "2020-04-29T11:40:11.421811Z"
    }
   },
   "outputs": [
    {
     "data": {
      "text/html": [
       "<div>\n",
       "<style scoped>\n",
       "    .dataframe tbody tr th:only-of-type {\n",
       "        vertical-align: middle;\n",
       "    }\n",
       "\n",
       "    .dataframe tbody tr th {\n",
       "        vertical-align: top;\n",
       "    }\n",
       "\n",
       "    .dataframe thead th {\n",
       "        text-align: right;\n",
       "    }\n",
       "</style>\n",
       "<table border=\"1\" class=\"dataframe\">\n",
       "  <thead>\n",
       "    <tr style=\"text-align: right;\">\n",
       "      <th></th>\n",
       "      <th>Review</th>\n",
       "      <th>Liked</th>\n",
       "      <th>Review_clean</th>\n",
       "      <th>Lemmatized</th>\n",
       "    </tr>\n",
       "  </thead>\n",
       "  <tbody>\n",
       "    <tr>\n",
       "      <th>0</th>\n",
       "      <td>Wow... Loved this place.</td>\n",
       "      <td>1</td>\n",
       "      <td>[wow..., loved, place.]</td>\n",
       "      <td>[wow..., loved, place.]</td>\n",
       "    </tr>\n",
       "    <tr>\n",
       "      <th>1</th>\n",
       "      <td>Crust is not good.</td>\n",
       "      <td>0</td>\n",
       "      <td>[crust, good.]</td>\n",
       "      <td>[crust, good.]</td>\n",
       "    </tr>\n",
       "    <tr>\n",
       "      <th>2</th>\n",
       "      <td>Not tasty and the texture was just nasty.</td>\n",
       "      <td>0</td>\n",
       "      <td>[tasty, texture, nasty.]</td>\n",
       "      <td>[tasty, texture, nasty.]</td>\n",
       "    </tr>\n",
       "    <tr>\n",
       "      <th>3</th>\n",
       "      <td>Stopped by during the late May bank holiday of...</td>\n",
       "      <td>1</td>\n",
       "      <td>[stopped, late, may, bank, holiday, rick, stev...</td>\n",
       "      <td>[stopped, late, may, bank, holiday, rick, stev...</td>\n",
       "    </tr>\n",
       "    <tr>\n",
       "      <th>4</th>\n",
       "      <td>The selection on the menu was great and so wer...</td>\n",
       "      <td>1</td>\n",
       "      <td>[selection, menu, great, prices.]</td>\n",
       "      <td>[selection, menu, great, prices.]</td>\n",
       "    </tr>\n",
       "    <tr>\n",
       "      <th>...</th>\n",
       "      <td>...</td>\n",
       "      <td>...</td>\n",
       "      <td>...</td>\n",
       "      <td>...</td>\n",
       "    </tr>\n",
       "    <tr>\n",
       "      <th>995</th>\n",
       "      <td>I think food should have flavor and texture an...</td>\n",
       "      <td>0</td>\n",
       "      <td>[think, food, flavor, texture, lacking.]</td>\n",
       "      <td>[think, food, flavor, texture, lacking.]</td>\n",
       "    </tr>\n",
       "    <tr>\n",
       "      <th>996</th>\n",
       "      <td>Appetite instantly gone.</td>\n",
       "      <td>0</td>\n",
       "      <td>[appetite, instantly, gone.]</td>\n",
       "      <td>[appetite, instantly, gone.]</td>\n",
       "    </tr>\n",
       "    <tr>\n",
       "      <th>997</th>\n",
       "      <td>Overall I was not impressed and would not go b...</td>\n",
       "      <td>0</td>\n",
       "      <td>[overall, impressed, would, go, back.]</td>\n",
       "      <td>[overall, impressed, would, go, back.]</td>\n",
       "    </tr>\n",
       "    <tr>\n",
       "      <th>998</th>\n",
       "      <td>The whole experience was underwhelming, and I ...</td>\n",
       "      <td>0</td>\n",
       "      <td>[whole, experience, underwhelming,, think, we'...</td>\n",
       "      <td>[whole, experience, underwhelming,, think, we'...</td>\n",
       "    </tr>\n",
       "    <tr>\n",
       "      <th>999</th>\n",
       "      <td>Then, as if I hadn't wasted enough of my life ...</td>\n",
       "      <td>0</td>\n",
       "      <td>[then,, wasted, enough, life, there,, poured, ...</td>\n",
       "      <td>[then,, wasted, enough, life, there,, poured, ...</td>\n",
       "    </tr>\n",
       "  </tbody>\n",
       "</table>\n",
       "<p>1000 rows × 4 columns</p>\n",
       "</div>"
      ],
      "text/plain": [
       "                                                Review  Liked  \\\n",
       "0                             Wow... Loved this place.      1   \n",
       "1                                   Crust is not good.      0   \n",
       "2            Not tasty and the texture was just nasty.      0   \n",
       "3    Stopped by during the late May bank holiday of...      1   \n",
       "4    The selection on the menu was great and so wer...      1   \n",
       "..                                                 ...    ...   \n",
       "995  I think food should have flavor and texture an...      0   \n",
       "996                           Appetite instantly gone.      0   \n",
       "997  Overall I was not impressed and would not go b...      0   \n",
       "998  The whole experience was underwhelming, and I ...      0   \n",
       "999  Then, as if I hadn't wasted enough of my life ...      0   \n",
       "\n",
       "                                          Review_clean  \\\n",
       "0                              [wow..., loved, place.]   \n",
       "1                                       [crust, good.]   \n",
       "2                             [tasty, texture, nasty.]   \n",
       "3    [stopped, late, may, bank, holiday, rick, stev...   \n",
       "4                    [selection, menu, great, prices.]   \n",
       "..                                                 ...   \n",
       "995           [think, food, flavor, texture, lacking.]   \n",
       "996                       [appetite, instantly, gone.]   \n",
       "997             [overall, impressed, would, go, back.]   \n",
       "998  [whole, experience, underwhelming,, think, we'...   \n",
       "999  [then,, wasted, enough, life, there,, poured, ...   \n",
       "\n",
       "                                            Lemmatized  \n",
       "0                              [wow..., loved, place.]  \n",
       "1                                       [crust, good.]  \n",
       "2                             [tasty, texture, nasty.]  \n",
       "3    [stopped, late, may, bank, holiday, rick, stev...  \n",
       "4                    [selection, menu, great, prices.]  \n",
       "..                                                 ...  \n",
       "995           [think, food, flavor, texture, lacking.]  \n",
       "996                       [appetite, instantly, gone.]  \n",
       "997             [overall, impressed, would, go, back.]  \n",
       "998  [whole, experience, underwhelming,, think, we'...  \n",
       "999  [then,, wasted, enough, life, there,, poured, ...  \n",
       "\n",
       "[1000 rows x 4 columns]"
      ]
     },
     "execution_count": 40,
     "metadata": {},
     "output_type": "execute_result"
    }
   ],
   "source": [
    "dataset"
   ]
  },
  {
   "cell_type": "markdown",
   "metadata": {},
   "source": [
    "* apply stemmer defined above on 'Review_clean' column of the dataset.\n",
    "* store the result in 'Stemmed' column"
   ]
  },
  {
   "cell_type": "code",
   "execution_count": 41,
   "metadata": {
    "ExecuteTime": {
     "end_time": "2020-04-29T11:40:11.380853Z",
     "start_time": "2020-04-29T11:40:09.630497Z"
    }
   },
   "outputs": [],
   "source": [
    "dataset[\"Stemmed\"] = dataset[\"Review_clean\"].apply(lambda x: stem(x))"
   ]
  },
  {
   "cell_type": "markdown",
   "metadata": {},
   "source": [
    "* print top 10 rows of the dataset"
   ]
  },
  {
   "cell_type": "code",
   "execution_count": 42,
   "metadata": {
    "ExecuteTime": {
     "end_time": "2020-04-29T11:40:11.779253Z",
     "start_time": "2020-04-29T11:40:11.742611Z"
    }
   },
   "outputs": [
    {
     "data": {
      "text/html": [
       "<div>\n",
       "<style scoped>\n",
       "    .dataframe tbody tr th:only-of-type {\n",
       "        vertical-align: middle;\n",
       "    }\n",
       "\n",
       "    .dataframe tbody tr th {\n",
       "        vertical-align: top;\n",
       "    }\n",
       "\n",
       "    .dataframe thead th {\n",
       "        text-align: right;\n",
       "    }\n",
       "</style>\n",
       "<table border=\"1\" class=\"dataframe\">\n",
       "  <thead>\n",
       "    <tr style=\"text-align: right;\">\n",
       "      <th></th>\n",
       "      <th>Review</th>\n",
       "      <th>Liked</th>\n",
       "      <th>Review_clean</th>\n",
       "      <th>Lemmatized</th>\n",
       "      <th>Stemmed</th>\n",
       "    </tr>\n",
       "  </thead>\n",
       "  <tbody>\n",
       "    <tr>\n",
       "      <th>0</th>\n",
       "      <td>Wow... Loved this place.</td>\n",
       "      <td>1</td>\n",
       "      <td>[wow..., loved, place.]</td>\n",
       "      <td>[wow..., loved, place.]</td>\n",
       "      <td>[wow..., love, place.]</td>\n",
       "    </tr>\n",
       "    <tr>\n",
       "      <th>1</th>\n",
       "      <td>Crust is not good.</td>\n",
       "      <td>0</td>\n",
       "      <td>[crust, good.]</td>\n",
       "      <td>[crust, good.]</td>\n",
       "      <td>[crust, good.]</td>\n",
       "    </tr>\n",
       "    <tr>\n",
       "      <th>2</th>\n",
       "      <td>Not tasty and the texture was just nasty.</td>\n",
       "      <td>0</td>\n",
       "      <td>[tasty, texture, nasty.]</td>\n",
       "      <td>[tasty, texture, nasty.]</td>\n",
       "      <td>[tasti, textur, nasty.]</td>\n",
       "    </tr>\n",
       "    <tr>\n",
       "      <th>3</th>\n",
       "      <td>Stopped by during the late May bank holiday of...</td>\n",
       "      <td>1</td>\n",
       "      <td>[stopped, late, may, bank, holiday, rick, stev...</td>\n",
       "      <td>[stopped, late, may, bank, holiday, rick, stev...</td>\n",
       "      <td>[stop, late, may, bank, holiday, rick, steve, ...</td>\n",
       "    </tr>\n",
       "    <tr>\n",
       "      <th>4</th>\n",
       "      <td>The selection on the menu was great and so wer...</td>\n",
       "      <td>1</td>\n",
       "      <td>[selection, menu, great, prices.]</td>\n",
       "      <td>[selection, menu, great, prices.]</td>\n",
       "      <td>[select, menu, great, prices.]</td>\n",
       "    </tr>\n",
       "    <tr>\n",
       "      <th>...</th>\n",
       "      <td>...</td>\n",
       "      <td>...</td>\n",
       "      <td>...</td>\n",
       "      <td>...</td>\n",
       "      <td>...</td>\n",
       "    </tr>\n",
       "    <tr>\n",
       "      <th>995</th>\n",
       "      <td>I think food should have flavor and texture an...</td>\n",
       "      <td>0</td>\n",
       "      <td>[think, food, flavor, texture, lacking.]</td>\n",
       "      <td>[think, food, flavor, texture, lacking.]</td>\n",
       "      <td>[think, food, flavor, textur, lacking.]</td>\n",
       "    </tr>\n",
       "    <tr>\n",
       "      <th>996</th>\n",
       "      <td>Appetite instantly gone.</td>\n",
       "      <td>0</td>\n",
       "      <td>[appetite, instantly, gone.]</td>\n",
       "      <td>[appetite, instantly, gone.]</td>\n",
       "      <td>[appetit, instantli, gone.]</td>\n",
       "    </tr>\n",
       "    <tr>\n",
       "      <th>997</th>\n",
       "      <td>Overall I was not impressed and would not go b...</td>\n",
       "      <td>0</td>\n",
       "      <td>[overall, impressed, would, go, back.]</td>\n",
       "      <td>[overall, impressed, would, go, back.]</td>\n",
       "      <td>[overal, impress, would, go, back.]</td>\n",
       "    </tr>\n",
       "    <tr>\n",
       "      <th>998</th>\n",
       "      <td>The whole experience was underwhelming, and I ...</td>\n",
       "      <td>0</td>\n",
       "      <td>[whole, experience, underwhelming,, think, we'...</td>\n",
       "      <td>[whole, experience, underwhelming,, think, we'...</td>\n",
       "      <td>[whole, experi, underwhelming,, think, we'll, ...</td>\n",
       "    </tr>\n",
       "    <tr>\n",
       "      <th>999</th>\n",
       "      <td>Then, as if I hadn't wasted enough of my life ...</td>\n",
       "      <td>0</td>\n",
       "      <td>[then,, wasted, enough, life, there,, poured, ...</td>\n",
       "      <td>[then,, wasted, enough, life, there,, poured, ...</td>\n",
       "      <td>[then,, wast, enough, life, there,, pour, salt...</td>\n",
       "    </tr>\n",
       "  </tbody>\n",
       "</table>\n",
       "<p>1000 rows × 5 columns</p>\n",
       "</div>"
      ],
      "text/plain": [
       "                                                Review  Liked  \\\n",
       "0                             Wow... Loved this place.      1   \n",
       "1                                   Crust is not good.      0   \n",
       "2            Not tasty and the texture was just nasty.      0   \n",
       "3    Stopped by during the late May bank holiday of...      1   \n",
       "4    The selection on the menu was great and so wer...      1   \n",
       "..                                                 ...    ...   \n",
       "995  I think food should have flavor and texture an...      0   \n",
       "996                           Appetite instantly gone.      0   \n",
       "997  Overall I was not impressed and would not go b...      0   \n",
       "998  The whole experience was underwhelming, and I ...      0   \n",
       "999  Then, as if I hadn't wasted enough of my life ...      0   \n",
       "\n",
       "                                          Review_clean  \\\n",
       "0                              [wow..., loved, place.]   \n",
       "1                                       [crust, good.]   \n",
       "2                             [tasty, texture, nasty.]   \n",
       "3    [stopped, late, may, bank, holiday, rick, stev...   \n",
       "4                    [selection, menu, great, prices.]   \n",
       "..                                                 ...   \n",
       "995           [think, food, flavor, texture, lacking.]   \n",
       "996                       [appetite, instantly, gone.]   \n",
       "997             [overall, impressed, would, go, back.]   \n",
       "998  [whole, experience, underwhelming,, think, we'...   \n",
       "999  [then,, wasted, enough, life, there,, poured, ...   \n",
       "\n",
       "                                            Lemmatized  \\\n",
       "0                              [wow..., loved, place.]   \n",
       "1                                       [crust, good.]   \n",
       "2                             [tasty, texture, nasty.]   \n",
       "3    [stopped, late, may, bank, holiday, rick, stev...   \n",
       "4                    [selection, menu, great, prices.]   \n",
       "..                                                 ...   \n",
       "995           [think, food, flavor, texture, lacking.]   \n",
       "996                       [appetite, instantly, gone.]   \n",
       "997             [overall, impressed, would, go, back.]   \n",
       "998  [whole, experience, underwhelming,, think, we'...   \n",
       "999  [then,, wasted, enough, life, there,, poured, ...   \n",
       "\n",
       "                                               Stemmed  \n",
       "0                               [wow..., love, place.]  \n",
       "1                                       [crust, good.]  \n",
       "2                              [tasti, textur, nasty.]  \n",
       "3    [stop, late, may, bank, holiday, rick, steve, ...  \n",
       "4                       [select, menu, great, prices.]  \n",
       "..                                                 ...  \n",
       "995            [think, food, flavor, textur, lacking.]  \n",
       "996                        [appetit, instantli, gone.]  \n",
       "997                [overal, impress, would, go, back.]  \n",
       "998  [whole, experi, underwhelming,, think, we'll, ...  \n",
       "999  [then,, wast, enough, life, there,, pour, salt...  \n",
       "\n",
       "[1000 rows x 5 columns]"
      ]
     },
     "execution_count": 42,
     "metadata": {},
     "output_type": "execute_result"
    }
   ],
   "source": [
    "dataset"
   ]
  },
  {
   "cell_type": "markdown",
   "metadata": {},
   "source": [
    "* Define a function `'preprocess_all'` that applies all the preprocessing steps we defined above, **with** Stemming and Lemmatizing, to text."
   ]
  },
  {
   "cell_type": "code",
   "execution_count": 49,
   "metadata": {},
   "outputs": [],
   "source": [
    "def preprocess_all(data):\n",
    "    data = preprocess(data)\n",
    "    data = data.apply(lambda x: lemmatize(x))\n",
    "    data = data.apply(lambda x: stem(x))\n",
    "    \n",
    "    return data"
   ]
  },
  {
   "cell_type": "code",
   "execution_count": 51,
   "metadata": {},
   "outputs": [
    {
     "data": {
      "text/plain": [
       "0                                 [wow..., love, place.]\n",
       "1                                         [crust, good.]\n",
       "2                                [tasti, textur, nasty.]\n",
       "3      [stop, late, may, bank, holiday, rick, steve, ...\n",
       "4                         [select, menu, great, prices.]\n",
       "                             ...                        \n",
       "995              [think, food, flavor, textur, lacking.]\n",
       "996                          [appetit, instantli, gone.]\n",
       "997                  [overal, impress, would, go, back.]\n",
       "998    [whole, experi, underwhelming,, think, we'll, ...\n",
       "999    [then,, wast, enough, life, there,, pour, salt...\n",
       "Name: Review, Length: 1000, dtype: object"
      ]
     },
     "execution_count": 51,
     "metadata": {},
     "output_type": "execute_result"
    }
   ],
   "source": [
    "preprocess_all(dataset[\"Review\"])"
   ]
  },
  {
   "cell_type": "code",
   "execution_count": null,
   "metadata": {},
   "outputs": [],
   "source": []
  }
 ],
 "metadata": {
  "kernelspec": {
   "display_name": "Python 3",
   "language": "python",
   "name": "python3"
  },
  "language_info": {
   "codemirror_mode": {
    "name": "ipython",
    "version": 3
   },
   "file_extension": ".py",
   "mimetype": "text/x-python",
   "name": "python",
   "nbconvert_exporter": "python",
   "pygments_lexer": "ipython3",
   "version": "3.8.8"
  },
  "toc": {
   "base_numbering": 1,
   "nav_menu": {},
   "number_sections": true,
   "sideBar": true,
   "skip_h1_title": false,
   "title_cell": "Table of Contents",
   "title_sidebar": "Contents",
   "toc_cell": false,
   "toc_position": {},
   "toc_section_display": true,
   "toc_window_display": false
  },
  "varInspector": {
   "cols": {
    "lenName": 16,
    "lenType": 16,
    "lenVar": 40
   },
   "kernels_config": {
    "python": {
     "delete_cmd_postfix": "",
     "delete_cmd_prefix": "del ",
     "library": "var_list.py",
     "varRefreshCmd": "print(var_dic_list())"
    },
    "r": {
     "delete_cmd_postfix": ") ",
     "delete_cmd_prefix": "rm(",
     "library": "var_list.r",
     "varRefreshCmd": "cat(var_dic_list()) "
    }
   },
   "types_to_exclude": [
    "module",
    "function",
    "builtin_function_or_method",
    "instance",
    "_Feature"
   ],
   "window_display": false
  }
 },
 "nbformat": 4,
 "nbformat_minor": 4
}
