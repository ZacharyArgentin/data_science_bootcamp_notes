{
 "cells": [
  {
   "cell_type": "markdown",
   "metadata": {},
   "source": [
    "## Deep Learning Challenge"
   ]
  },
  {
   "cell_type": "markdown",
   "metadata": {},
   "source": [
    "### Loading the CIFAR10 data\n",
    "The data can be loaded directly from keras (`keras.datasets.cifar10`).\n",
    "\n",
    "```python\n",
    "cifar10 = keras.datasets.cifar10\n",
    "(train_images, train_labels), (test_images, test_labels) = cifar10.load_data()\n",
    "```"
   ]
  },
  {
   "cell_type": "code",
   "execution_count": 1,
   "metadata": {},
   "outputs": [],
   "source": [
    "from tensorflow import keras"
   ]
  },
  {
   "cell_type": "code",
   "execution_count": 2,
   "metadata": {},
   "outputs": [],
   "source": [
    "cifar10 = keras.datasets.cifar10"
   ]
  },
  {
   "cell_type": "code",
   "execution_count": 3,
   "metadata": {},
   "outputs": [],
   "source": [
    "(train_images, train_labels), (test_images, test_labels) = cifar10.load_data()"
   ]
  },
  {
   "cell_type": "code",
   "execution_count": 4,
   "metadata": {},
   "outputs": [
    {
     "data": {
      "text/plain": [
       "(50000, 32, 32, 3)"
      ]
     },
     "execution_count": 4,
     "metadata": {},
     "output_type": "execute_result"
    }
   ],
   "source": [
    "train_images.shape"
   ]
  },
  {
   "cell_type": "code",
   "execution_count": 5,
   "metadata": {},
   "outputs": [
    {
     "data": {
      "text/plain": [
       "(10000, 32, 32, 3)"
      ]
     },
     "execution_count": 5,
     "metadata": {},
     "output_type": "execute_result"
    }
   ],
   "source": [
    "test_images.shape"
   ]
  },
  {
   "cell_type": "code",
   "execution_count": 6,
   "metadata": {},
   "outputs": [
    {
     "data": {
      "text/plain": [
       "(50000, 1)"
      ]
     },
     "execution_count": 6,
     "metadata": {},
     "output_type": "execute_result"
    }
   ],
   "source": [
    "train_labels.shape"
   ]
  },
  {
   "cell_type": "code",
   "execution_count": 7,
   "metadata": {},
   "outputs": [
    {
     "data": {
      "text/plain": [
       "numpy.ndarray"
      ]
     },
     "execution_count": 7,
     "metadata": {},
     "output_type": "execute_result"
    }
   ],
   "source": [
    "type(train_images)"
   ]
  },
  {
   "cell_type": "markdown",
   "metadata": {},
   "source": [
    "#### Task: Build a convulution neural network (CNN) to predict the object in the images. \n",
    "\n",
    "Try to do it on your own first before consulting with peers or tutorials on the internet. If you are stuck early, reach out to a mentor who will point you in the right direction."
   ]
  },
  {
   "cell_type": "code",
   "execution_count": 13,
   "metadata": {},
   "outputs": [],
   "source": [
    "from tensorflow.keras import Sequential\n",
    "from tensorflow.keras import Input\n",
    "from tensorflow.keras.layers import Dense\n",
    "from tensorflow.keras.layers import Convolution2D\n",
    "from tensorflow.keras.layers import MaxPooling2D\n",
    "from tensorflow.keras.layers import Flatten"
   ]
  },
  {
   "cell_type": "code",
   "execution_count": 9,
   "metadata": {},
   "outputs": [
    {
     "name": "stderr",
     "output_type": "stream",
     "text": [
      "2021-09-20 07:51:05.674814: I tensorflow/core/platform/cpu_feature_guard.cc:142] This TensorFlow binary is optimized with oneAPI Deep Neural Network Library (oneDNN) to use the following CPU instructions in performance-critical operations:  SSE4.1 SSE4.2\n",
      "To enable them in other operations, rebuild TensorFlow with the appropriate compiler flags.\n"
     ]
    }
   ],
   "source": [
    "model = Sequential()\n",
    "model.add(Input(shape=(32,32,3)))\n",
    "model.add(Convolution2D(filters=32, kernel_size=(4,4)))\n",
    "model.add(MaxPooling2D(pool_size=(32,32), padding=\"same\"))\n",
    "model.add(Dense(units=10, activation=\"softmax\"))"
   ]
  },
  {
   "cell_type": "code",
   "execution_count": 10,
   "metadata": {},
   "outputs": [],
   "source": [
    "model.compile(optimizer=\"adam\", loss=\"sparse_categorical_crossentropy\", metrics=[\"accuracy\"])"
   ]
  },
  {
   "cell_type": "code",
   "execution_count": 11,
   "metadata": {
    "scrolled": false
   },
   "outputs": [
    {
     "name": "stderr",
     "output_type": "stream",
     "text": [
      "2021-09-20 07:51:16.913809: I tensorflow/compiler/mlir/mlir_graph_optimization_pass.cc:116] None of the MLIR optimization passes are enabled (registered 2)\n",
      "2021-09-20 07:51:16.932200: W tensorflow/core/platform/profile_utils/cpu_utils.cc:116] Failed to find bogomips or clock in /proc/cpuinfo; cannot determine CPU frequency\n"
     ]
    },
    {
     "name": "stdout",
     "output_type": "stream",
     "text": [
      "Epoch 1/12\n",
      "50/50 [==============================] - 52s 1s/step - loss: 49.5143 - accuracy: 0.1004 - val_loss: 17.5615 - val_accuracy: 0.1006\n",
      "Epoch 2/12\n",
      "50/50 [==============================] - 48s 982ms/step - loss: 15.7333 - accuracy: 0.0996 - val_loss: 11.9529 - val_accuracy: 0.1017\n",
      "Epoch 3/12\n",
      "50/50 [==============================] - 48s 978ms/step - loss: 12.0364 - accuracy: 0.1071 - val_loss: 9.6145 - val_accuracy: 0.1020\n",
      "Epoch 4/12\n",
      "50/50 [==============================] - 48s 978ms/step - loss: 9.6383 - accuracy: 0.1000 - val_loss: 8.8404 - val_accuracy: 0.1018\n",
      "Epoch 5/12\n",
      "50/50 [==============================] - 48s 977ms/step - loss: 8.8003 - accuracy: 0.0994 - val_loss: 7.6248 - val_accuracy: 0.1039\n",
      "Epoch 6/12\n",
      "50/50 [==============================] - 48s 977ms/step - loss: 8.3083 - accuracy: 0.1017 - val_loss: 7.2793 - val_accuracy: 0.1035\n",
      "Epoch 7/12\n",
      "50/50 [==============================] - 49s 985ms/step - loss: 6.8575 - accuracy: 0.1059 - val_loss: 6.3582 - val_accuracy: 0.1040\n",
      "Epoch 8/12\n",
      "50/50 [==============================] - 48s 975ms/step - loss: 6.3159 - accuracy: 0.1062 - val_loss: 6.1087 - val_accuracy: 0.1045\n",
      "Epoch 9/12\n",
      "50/50 [==============================] - 48s 973ms/step - loss: 6.4274 - accuracy: 0.1056 - val_loss: 5.7296 - val_accuracy: 0.1046\n",
      "Epoch 10/12\n",
      "50/50 [==============================] - 48s 973ms/step - loss: 6.0447 - accuracy: 0.1051 - val_loss: 5.3973 - val_accuracy: 0.1044\n",
      "Epoch 11/12\n",
      "50/50 [==============================] - 48s 974ms/step - loss: 5.8094 - accuracy: 0.1012 - val_loss: 5.6504 - val_accuracy: 0.1043\n",
      "Epoch 12/12\n",
      "50/50 [==============================] - 49s 993ms/step - loss: 5.6052 - accuracy: 0.1009 - val_loss: 5.6439 - val_accuracy: 0.1042\n"
     ]
    },
    {
     "data": {
      "text/plain": [
       "<tensorflow.python.keras.callbacks.History at 0x40e871cd30>"
      ]
     },
     "execution_count": 11,
     "metadata": {},
     "output_type": "execute_result"
    }
   ],
   "source": [
    "model.fit(train_images, train_labels, batch_size=32, epochs=12, verbose=1, validation_data=(test_images, test_labels),\n",
    "         steps_per_epoch=50)"
   ]
  },
  {
   "cell_type": "code",
   "execution_count": null,
   "metadata": {},
   "outputs": [],
   "source": []
  },
  {
   "cell_type": "code",
   "execution_count": 14,
   "metadata": {},
   "outputs": [],
   "source": [
    "model2 = Sequential()\n",
    "model2.add(Input(shape=(32,32,3)))\n",
    "model2.add(Convolution2D(filters=32, kernel_size=(4,4)))\n",
    "model2.add(MaxPooling2D(pool_size=(32,32), padding=\"same\"))\n",
    "model2.add(Flatten())\n",
    "model2.add(Dense(128, activation=\"relu\"))\n",
    "model2.add(Dense(units=10, activation=\"softmax\"))"
   ]
  },
  {
   "cell_type": "code",
   "execution_count": 15,
   "metadata": {},
   "outputs": [],
   "source": [
    "model2.compile(optimizer=\"adam\", loss=\"sparse_categorical_crossentropy\", metrics=[\"accuracy\"])"
   ]
  },
  {
   "cell_type": "code",
   "execution_count": 16,
   "metadata": {
    "scrolled": false
   },
   "outputs": [
    {
     "name": "stdout",
     "output_type": "stream",
     "text": [
      "Epoch 1/12\n",
      "50/50 [==============================] - 51s 1s/step - loss: 16.9177 - accuracy: 0.1326 - val_loss: 4.9983 - val_accuracy: 0.1578\n",
      "Epoch 2/12\n",
      "50/50 [==============================] - 49s 992ms/step - loss: 4.1826 - accuracy: 0.1734 - val_loss: 3.5321 - val_accuracy: 0.1938\n",
      "Epoch 3/12\n",
      "50/50 [==============================] - 49s 990ms/step - loss: 3.3518 - accuracy: 0.1938 - val_loss: 2.9700 - val_accuracy: 0.2253\n",
      "Epoch 4/12\n",
      "50/50 [==============================] - 49s 996ms/step - loss: 3.0196 - accuracy: 0.2191 - val_loss: 2.6588 - val_accuracy: 0.2258\n",
      "Epoch 5/12\n",
      "50/50 [==============================] - 49s 991ms/step - loss: 2.7625 - accuracy: 0.2190 - val_loss: 2.6017 - val_accuracy: 0.2296\n",
      "Epoch 6/12\n",
      "50/50 [==============================] - 49s 990ms/step - loss: 2.6031 - accuracy: 0.2282 - val_loss: 2.4820 - val_accuracy: 0.2386\n",
      "Epoch 7/12\n",
      "50/50 [==============================] - 49s 990ms/step - loss: 2.6487 - accuracy: 0.2383 - val_loss: 2.3303 - val_accuracy: 0.2641\n",
      "Epoch 8/12\n",
      "50/50 [==============================] - 49s 991ms/step - loss: 2.4384 - accuracy: 0.2269 - val_loss: 2.2689 - val_accuracy: 0.2609\n",
      "Epoch 9/12\n",
      "50/50 [==============================] - 49s 991ms/step - loss: 2.3666 - accuracy: 0.2399 - val_loss: 2.2331 - val_accuracy: 0.2658\n",
      "Epoch 10/12\n",
      "50/50 [==============================] - 49s 993ms/step - loss: 2.1808 - accuracy: 0.2696 - val_loss: 2.0929 - val_accuracy: 0.2834\n",
      "Epoch 11/12\n",
      "50/50 [==============================] - 49s 992ms/step - loss: 2.0776 - accuracy: 0.2913 - val_loss: 2.1309 - val_accuracy: 0.2706\n",
      "Epoch 12/12\n",
      "50/50 [==============================] - 49s 991ms/step - loss: 2.1629 - accuracy: 0.2691 - val_loss: 2.1463 - val_accuracy: 0.2723\n"
     ]
    },
    {
     "data": {
      "text/plain": [
       "<tensorflow.python.keras.callbacks.History at 0x4142ba08b0>"
      ]
     },
     "execution_count": 16,
     "metadata": {},
     "output_type": "execute_result"
    }
   ],
   "source": [
    "model2.fit(train_images, train_labels, batch_size=32, epochs=12, verbose=1, validation_data=(test_images, test_labels),\n",
    "         steps_per_epoch=50)"
   ]
  },
  {
   "cell_type": "code",
   "execution_count": 17,
   "metadata": {},
   "outputs": [
    {
     "name": "stdout",
     "output_type": "stream",
     "text": [
      "Epoch 1/12\n",
      "50/50 [==============================] - 22s 426ms/step - loss: 13.0917 - accuracy: 0.1144 - val_loss: 3.4019 - val_accuracy: 0.1581\n",
      "Epoch 2/12\n",
      "50/50 [==============================] - 18s 368ms/step - loss: 3.2926 - accuracy: 0.1487 - val_loss: 2.7820 - val_accuracy: 0.2031\n",
      "Epoch 3/12\n",
      "50/50 [==============================] - 18s 362ms/step - loss: 2.5938 - accuracy: 0.2095 - val_loss: 2.4398 - val_accuracy: 0.1944\n",
      "Epoch 4/12\n",
      "50/50 [==============================] - 19s 386ms/step - loss: 2.4077 - accuracy: 0.2214 - val_loss: 2.4207 - val_accuracy: 0.2081\n",
      "Epoch 5/12\n",
      "50/50 [==============================] - 19s 375ms/step - loss: 2.3651 - accuracy: 0.2234 - val_loss: 2.3506 - val_accuracy: 0.2175\n",
      "Epoch 6/12\n",
      "50/50 [==============================] - 19s 390ms/step - loss: 2.2351 - accuracy: 0.2481 - val_loss: 2.2032 - val_accuracy: 0.2225\n",
      "Epoch 7/12\n",
      "50/50 [==============================] - 19s 390ms/step - loss: 2.1862 - accuracy: 0.2161 - val_loss: 2.1528 - val_accuracy: 0.2475\n",
      "Epoch 8/12\n",
      "50/50 [==============================] - 18s 365ms/step - loss: 2.1256 - accuracy: 0.2630 - val_loss: 2.1215 - val_accuracy: 0.2350\n",
      "Epoch 9/12\n",
      "50/50 [==============================] - 18s 362ms/step - loss: 2.0752 - accuracy: 0.2491 - val_loss: 2.1207 - val_accuracy: 0.2219\n",
      "Epoch 10/12\n",
      "50/50 [==============================] - 18s 368ms/step - loss: 2.0322 - accuracy: 0.2643 - val_loss: 2.0744 - val_accuracy: 0.2387\n",
      "Epoch 11/12\n",
      "50/50 [==============================] - 18s 367ms/step - loss: 2.0532 - accuracy: 0.2375 - val_loss: 2.0285 - val_accuracy: 0.2569\n",
      "Epoch 12/12\n",
      "50/50 [==============================] - 18s 363ms/step - loss: 2.0334 - accuracy: 0.2332 - val_loss: 2.0221 - val_accuracy: 0.2550\n"
     ]
    },
    {
     "data": {
      "text/plain": [
       "<tensorflow.python.keras.callbacks.History at 0x417b45b160>"
      ]
     },
     "execution_count": 17,
     "metadata": {},
     "output_type": "execute_result"
    }
   ],
   "source": [
    "model3 = Sequential()\n",
    "model3.add(Input(shape=(32,32,3)))\n",
    "model3.add(Convolution2D(filters=32, kernel_size=(4,4), activation=\"relu\"))\n",
    "model3.add(MaxPooling2D(pool_size=(32,32), padding=\"same\"))\n",
    "model3.add(Flatten())\n",
    "model3.add(Dense(128, activation=\"relu\"))\n",
    "model3.add(Dense(units=10, activation=\"softmax\"))\n",
    "\n",
    "model3.compile(optimizer=\"adam\", loss=\"sparse_categorical_crossentropy\", metrics=[\"accuracy\"])\n",
    "\n",
    "model3.fit(train_images, train_labels, batch_size=32, epochs=12, verbose=1, validation_data=(test_images, test_labels),\n",
    "         steps_per_epoch=50, validation_steps=50)"
   ]
  },
  {
   "cell_type": "code",
   "execution_count": 19,
   "metadata": {},
   "outputs": [
    {
     "name": "stdout",
     "output_type": "stream",
     "text": [
      "Epoch 1/4\n",
      "50/50 [==============================] - 58s 1s/step - loss: 5.7722 - accuracy: 0.0878 - val_loss: 2.2852 - val_accuracy: 0.1469\n",
      "Epoch 2/4\n",
      "50/50 [==============================] - 55s 1s/step - loss: 2.3020 - accuracy: 0.1252 - val_loss: 2.2718 - val_accuracy: 0.1381\n",
      "Epoch 3/4\n",
      "50/50 [==============================] - 55s 1s/step - loss: 2.2599 - accuracy: 0.1541 - val_loss: 2.4078 - val_accuracy: 0.1213\n",
      "Epoch 4/4\n",
      "50/50 [==============================] - 55s 1s/step - loss: 2.2927 - accuracy: 0.1529 - val_loss: 2.1775 - val_accuracy: 0.1937\n"
     ]
    },
    {
     "data": {
      "text/plain": [
       "<tensorflow.python.keras.callbacks.History at 0x417b519b50>"
      ]
     },
     "execution_count": 19,
     "metadata": {},
     "output_type": "execute_result"
    }
   ],
   "source": [
    "model4 = Sequential()\n",
    "model4.add(Input(shape=(32,32,3)))\n",
    "model4.add(Convolution2D(filters=32, kernel_size=(8,8), activation=\"relu\"))\n",
    "model4.add(MaxPooling2D(pool_size=(4,4), padding=\"same\"))\n",
    "model4.add(Convolution2D(filters=32, kernel_size=(4,4), activation=\"relu\"))\n",
    "model4.add(MaxPooling2D(pool_size=(3,3), padding=\"same\"))\n",
    "model4.add(Convolution2D(filters=32, kernel_size=(2,2), activation=\"relu\"))\n",
    "model4.add(MaxPooling2D(pool_size=(2,2), padding=\"same\"))\n",
    "model4.add(Flatten())\n",
    "model4.add(Dense(128, activation=\"relu\"))\n",
    "model4.add(Dense(64, activation=\"relu\"))\n",
    "model4.add(Dense(units=10, activation=\"softmax\"))\n",
    "\n",
    "model4.compile(optimizer=\"adam\", loss=\"sparse_categorical_crossentropy\", metrics=[\"accuracy\"])\n",
    "\n",
    "model4.fit(train_images, train_labels, batch_size=32, epochs=4, verbose=1, validation_data=(test_images, test_labels),\n",
    "         steps_per_epoch=50, validation_steps=50)"
   ]
  },
  {
   "cell_type": "code",
   "execution_count": 20,
   "metadata": {},
   "outputs": [
    {
     "name": "stdout",
     "output_type": "stream",
     "text": [
      "Epoch 1/12\n",
      "50/50 [==============================] - 58s 1s/step - loss: 4.9472 - accuracy: 0.1357 - val_loss: 2.3327 - val_accuracy: 0.1219\n",
      "Epoch 2/12\n",
      "50/50 [==============================] - 56s 1s/step - loss: 2.2641 - accuracy: 0.1540 - val_loss: 2.2581 - val_accuracy: 0.1575\n",
      "Epoch 3/12\n",
      "50/50 [==============================] - 55s 1s/step - loss: 2.2469 - accuracy: 0.1553 - val_loss: 2.1352 - val_accuracy: 0.2056\n",
      "Epoch 4/12\n",
      "50/50 [==============================] - 56s 1s/step - loss: 2.0932 - accuracy: 0.2174 - val_loss: 2.0216 - val_accuracy: 0.2481\n",
      "Epoch 5/12\n",
      "50/50 [==============================] - 56s 1s/step - loss: 2.0491 - accuracy: 0.2422 - val_loss: 2.0208 - val_accuracy: 0.2650\n",
      "Epoch 6/12\n",
      "50/50 [==============================] - 55s 1s/step - loss: 2.0672 - accuracy: 0.2317 - val_loss: 1.9472 - val_accuracy: 0.2819\n",
      "Epoch 7/12\n",
      "50/50 [==============================] - 56s 1s/step - loss: 1.9466 - accuracy: 0.2687 - val_loss: 1.9562 - val_accuracy: 0.2725\n",
      "Epoch 8/12\n",
      "50/50 [==============================] - 56s 1s/step - loss: 1.9770 - accuracy: 0.2766 - val_loss: 2.0262 - val_accuracy: 0.2612\n",
      "Epoch 9/12\n",
      "50/50 [==============================] - 55s 1s/step - loss: 1.8772 - accuracy: 0.2995 - val_loss: 1.8264 - val_accuracy: 0.3288\n",
      "Epoch 10/12\n",
      "50/50 [==============================] - 55s 1s/step - loss: 1.9104 - accuracy: 0.3017 - val_loss: 1.8714 - val_accuracy: 0.2825\n",
      "Epoch 11/12\n",
      "50/50 [==============================] - 56s 1s/step - loss: 1.8857 - accuracy: 0.2998 - val_loss: 1.8522 - val_accuracy: 0.3081\n",
      "Epoch 12/12\n",
      "50/50 [==============================] - 56s 1s/step - loss: 1.8327 - accuracy: 0.3355 - val_loss: 1.8632 - val_accuracy: 0.3344\n"
     ]
    },
    {
     "data": {
      "text/plain": [
       "<tensorflow.python.keras.callbacks.History at 0x45adbdd4c0>"
      ]
     },
     "execution_count": 20,
     "metadata": {},
     "output_type": "execute_result"
    }
   ],
   "source": [
    "model5 = Sequential()\n",
    "model5.add(Input(shape=(32,32,3)))\n",
    "model5.add(Convolution2D(filters=32, kernel_size=(8,8), activation=\"relu\"))\n",
    "model5.add(MaxPooling2D(pool_size=(4,4), padding=\"same\"))\n",
    "model5.add(Convolution2D(filters=32, kernel_size=(4,4), activation=\"relu\"))\n",
    "model5.add(MaxPooling2D(pool_size=(3,3), padding=\"same\"))\n",
    "model5.add(Convolution2D(filters=32, kernel_size=(2,2), activation=\"relu\"))\n",
    "model5.add(MaxPooling2D(pool_size=(2,2), padding=\"same\"))\n",
    "model5.add(Flatten())\n",
    "model5.add(Dense(128, activation=\"relu\"))\n",
    "model5.add(Dense(64, activation=\"relu\"))\n",
    "model5.add(Dense(units=10, activation=\"softmax\"))\n",
    "\n",
    "model5.compile(optimizer=\"adam\", loss=\"sparse_categorical_crossentropy\", metrics=[\"accuracy\"])\n",
    "\n",
    "model5.fit(train_images, train_labels, batch_size=32, epochs=12, verbose=1, validation_data=(test_images, test_labels),\n",
    "         steps_per_epoch=50, validation_steps=50)"
   ]
  },
  {
   "cell_type": "code",
   "execution_count": 22,
   "metadata": {
    "scrolled": true
   },
   "outputs": [
    {
     "name": "stdout",
     "output_type": "stream",
     "text": [
      "Epoch 1/12\n",
      "1563/1563 [==============================] - 2261s 1s/step - loss: 2.3345 - accuracy: 0.2382 - val_loss: 1.7093 - val_accuracy: 0.3740\n",
      "Epoch 2/12\n",
      "1563/1563 [==============================] - 4531s 3s/step - loss: 1.6666 - accuracy: 0.3906 - val_loss: 1.6133 - val_accuracy: 0.4091\n",
      "Epoch 3/12\n",
      "1563/1563 [==============================] - 4145s 3s/step - loss: 1.5657 - accuracy: 0.4284 - val_loss: 1.5259 - val_accuracy: 0.4382\n",
      "Epoch 4/12\n",
      "1563/1563 [==============================] - 3485s 2s/step - loss: 1.5042 - accuracy: 0.4532 - val_loss: 1.5026 - val_accuracy: 0.4601\n",
      "Epoch 5/12\n",
      "1563/1563 [==============================] - 5924s 4s/step - loss: 1.4669 - accuracy: 0.4665 - val_loss: 1.4846 - val_accuracy: 0.4751\n",
      "Epoch 6/12\n",
      "1563/1563 [==============================] - 4601s 3s/step - loss: 1.4396 - accuracy: 0.4807 - val_loss: 1.4589 - val_accuracy: 0.4696\n",
      "Epoch 7/12\n",
      "1563/1563 [==============================] - 3093s 2s/step - loss: 1.3830 - accuracy: 0.4958 - val_loss: 1.4401 - val_accuracy: 0.4835\n",
      "Epoch 8/12\n",
      "1563/1563 [==============================] - 1947s 1s/step - loss: 1.3334 - accuracy: 0.5185 - val_loss: 1.4323 - val_accuracy: 0.4976\n",
      "Epoch 9/12\n",
      "1563/1563 [==============================] - 1288s 824ms/step - loss: 1.2981 - accuracy: 0.5375 - val_loss: 1.3507 - val_accuracy: 0.5194\n",
      "Epoch 10/12\n",
      "1563/1563 [==============================] - 1289s 825ms/step - loss: 1.2832 - accuracy: 0.5448 - val_loss: 1.3307 - val_accuracy: 0.5310\n",
      "Epoch 11/12\n",
      " 937/1563 [================>.............] - ETA: 7:55 - loss: 1.2380 - accuracy: 0.5571"
     ]
    },
    {
     "ename": "KeyboardInterrupt",
     "evalue": "",
     "output_type": "error",
     "traceback": [
      "\u001b[0;31m---------------------------------------------------------------------------\u001b[0m",
      "\u001b[0;31mKeyboardInterrupt\u001b[0m                         Traceback (most recent call last)",
      "\u001b[0;32m/tmp/ipykernel_164/3969766416.py\u001b[0m in \u001b[0;36m<module>\u001b[0;34m\u001b[0m\n\u001b[1;32m     14\u001b[0m \u001b[0mmodel6\u001b[0m\u001b[0;34m.\u001b[0m\u001b[0mcompile\u001b[0m\u001b[0;34m(\u001b[0m\u001b[0moptimizer\u001b[0m\u001b[0;34m=\u001b[0m\u001b[0;34m\"adam\"\u001b[0m\u001b[0;34m,\u001b[0m \u001b[0mloss\u001b[0m\u001b[0;34m=\u001b[0m\u001b[0;34m\"sparse_categorical_crossentropy\"\u001b[0m\u001b[0;34m,\u001b[0m \u001b[0mmetrics\u001b[0m\u001b[0;34m=\u001b[0m\u001b[0;34m[\u001b[0m\u001b[0;34m\"accuracy\"\u001b[0m\u001b[0;34m]\u001b[0m\u001b[0;34m)\u001b[0m\u001b[0;34m\u001b[0m\u001b[0;34m\u001b[0m\u001b[0m\n\u001b[1;32m     15\u001b[0m \u001b[0;34m\u001b[0m\u001b[0m\n\u001b[0;32m---> 16\u001b[0;31m \u001b[0mmodel6\u001b[0m\u001b[0;34m.\u001b[0m\u001b[0mfit\u001b[0m\u001b[0;34m(\u001b[0m\u001b[0mtrain_images\u001b[0m\u001b[0;34m,\u001b[0m \u001b[0mtrain_labels\u001b[0m\u001b[0;34m,\u001b[0m \u001b[0mbatch_size\u001b[0m\u001b[0;34m=\u001b[0m\u001b[0;36m32\u001b[0m\u001b[0;34m,\u001b[0m \u001b[0mepochs\u001b[0m\u001b[0;34m=\u001b[0m\u001b[0;36m12\u001b[0m\u001b[0;34m,\u001b[0m \u001b[0mverbose\u001b[0m\u001b[0;34m=\u001b[0m\u001b[0;36m1\u001b[0m\u001b[0;34m,\u001b[0m \u001b[0mvalidation_data\u001b[0m\u001b[0;34m=\u001b[0m\u001b[0;34m(\u001b[0m\u001b[0mtest_images\u001b[0m\u001b[0;34m,\u001b[0m \u001b[0mtest_labels\u001b[0m\u001b[0;34m)\u001b[0m\u001b[0;34m,\u001b[0m\u001b[0;34m)\u001b[0m\u001b[0;34m\u001b[0m\u001b[0;34m\u001b[0m\u001b[0m\n\u001b[0m",
      "\u001b[0;32m/opt/conda/lib/python3.9/site-packages/tensorflow/python/keras/engine/training.py\u001b[0m in \u001b[0;36mfit\u001b[0;34m(self, x, y, batch_size, epochs, verbose, callbacks, validation_split, validation_data, shuffle, class_weight, sample_weight, initial_epoch, steps_per_epoch, validation_steps, validation_batch_size, validation_freq, max_queue_size, workers, use_multiprocessing)\u001b[0m\n\u001b[1;32m   1093\u001b[0m                 _r=1):\n\u001b[1;32m   1094\u001b[0m               \u001b[0mcallbacks\u001b[0m\u001b[0;34m.\u001b[0m\u001b[0mon_train_batch_begin\u001b[0m\u001b[0;34m(\u001b[0m\u001b[0mstep\u001b[0m\u001b[0;34m)\u001b[0m\u001b[0;34m\u001b[0m\u001b[0;34m\u001b[0m\u001b[0m\n\u001b[0;32m-> 1095\u001b[0;31m               \u001b[0mtmp_logs\u001b[0m \u001b[0;34m=\u001b[0m \u001b[0mself\u001b[0m\u001b[0;34m.\u001b[0m\u001b[0mtrain_function\u001b[0m\u001b[0;34m(\u001b[0m\u001b[0miterator\u001b[0m\u001b[0;34m)\u001b[0m\u001b[0;34m\u001b[0m\u001b[0;34m\u001b[0m\u001b[0m\n\u001b[0m\u001b[1;32m   1096\u001b[0m               \u001b[0;32mif\u001b[0m \u001b[0mdata_handler\u001b[0m\u001b[0;34m.\u001b[0m\u001b[0mshould_sync\u001b[0m\u001b[0;34m:\u001b[0m\u001b[0;34m\u001b[0m\u001b[0;34m\u001b[0m\u001b[0m\n\u001b[1;32m   1097\u001b[0m                 \u001b[0mcontext\u001b[0m\u001b[0;34m.\u001b[0m\u001b[0masync_wait\u001b[0m\u001b[0;34m(\u001b[0m\u001b[0;34m)\u001b[0m\u001b[0;34m\u001b[0m\u001b[0;34m\u001b[0m\u001b[0m\n",
      "\u001b[0;32m/opt/conda/lib/python3.9/site-packages/tensorflow/python/eager/def_function.py\u001b[0m in \u001b[0;36m__call__\u001b[0;34m(self, *args, **kwds)\u001b[0m\n\u001b[1;32m    826\u001b[0m     \u001b[0mtracing_count\u001b[0m \u001b[0;34m=\u001b[0m \u001b[0mself\u001b[0m\u001b[0;34m.\u001b[0m\u001b[0mexperimental_get_tracing_count\u001b[0m\u001b[0;34m(\u001b[0m\u001b[0;34m)\u001b[0m\u001b[0;34m\u001b[0m\u001b[0;34m\u001b[0m\u001b[0m\n\u001b[1;32m    827\u001b[0m     \u001b[0;32mwith\u001b[0m \u001b[0mtrace\u001b[0m\u001b[0;34m.\u001b[0m\u001b[0mTrace\u001b[0m\u001b[0;34m(\u001b[0m\u001b[0mself\u001b[0m\u001b[0;34m.\u001b[0m\u001b[0m_name\u001b[0m\u001b[0;34m)\u001b[0m \u001b[0;32mas\u001b[0m \u001b[0mtm\u001b[0m\u001b[0;34m:\u001b[0m\u001b[0;34m\u001b[0m\u001b[0;34m\u001b[0m\u001b[0m\n\u001b[0;32m--> 828\u001b[0;31m       \u001b[0mresult\u001b[0m \u001b[0;34m=\u001b[0m \u001b[0mself\u001b[0m\u001b[0;34m.\u001b[0m\u001b[0m_call\u001b[0m\u001b[0;34m(\u001b[0m\u001b[0;34m*\u001b[0m\u001b[0margs\u001b[0m\u001b[0;34m,\u001b[0m \u001b[0;34m**\u001b[0m\u001b[0mkwds\u001b[0m\u001b[0;34m)\u001b[0m\u001b[0;34m\u001b[0m\u001b[0;34m\u001b[0m\u001b[0m\n\u001b[0m\u001b[1;32m    829\u001b[0m       \u001b[0mcompiler\u001b[0m \u001b[0;34m=\u001b[0m \u001b[0;34m\"xla\"\u001b[0m \u001b[0;32mif\u001b[0m \u001b[0mself\u001b[0m\u001b[0;34m.\u001b[0m\u001b[0m_experimental_compile\u001b[0m \u001b[0;32melse\u001b[0m \u001b[0;34m\"nonXla\"\u001b[0m\u001b[0;34m\u001b[0m\u001b[0;34m\u001b[0m\u001b[0m\n\u001b[1;32m    830\u001b[0m       \u001b[0mnew_tracing_count\u001b[0m \u001b[0;34m=\u001b[0m \u001b[0mself\u001b[0m\u001b[0;34m.\u001b[0m\u001b[0mexperimental_get_tracing_count\u001b[0m\u001b[0;34m(\u001b[0m\u001b[0;34m)\u001b[0m\u001b[0;34m\u001b[0m\u001b[0;34m\u001b[0m\u001b[0m\n",
      "\u001b[0;32m/opt/conda/lib/python3.9/site-packages/tensorflow/python/eager/def_function.py\u001b[0m in \u001b[0;36m_call\u001b[0;34m(self, *args, **kwds)\u001b[0m\n\u001b[1;32m    853\u001b[0m       \u001b[0;31m# In this case we have created variables on the first call, so we run the\u001b[0m\u001b[0;34m\u001b[0m\u001b[0;34m\u001b[0m\u001b[0;34m\u001b[0m\u001b[0m\n\u001b[1;32m    854\u001b[0m       \u001b[0;31m# defunned version which is guaranteed to never create variables.\u001b[0m\u001b[0;34m\u001b[0m\u001b[0;34m\u001b[0m\u001b[0;34m\u001b[0m\u001b[0m\n\u001b[0;32m--> 855\u001b[0;31m       \u001b[0;32mreturn\u001b[0m \u001b[0mself\u001b[0m\u001b[0;34m.\u001b[0m\u001b[0m_stateless_fn\u001b[0m\u001b[0;34m(\u001b[0m\u001b[0;34m*\u001b[0m\u001b[0margs\u001b[0m\u001b[0;34m,\u001b[0m \u001b[0;34m**\u001b[0m\u001b[0mkwds\u001b[0m\u001b[0;34m)\u001b[0m  \u001b[0;31m# pylint: disable=not-callable\u001b[0m\u001b[0;34m\u001b[0m\u001b[0;34m\u001b[0m\u001b[0m\n\u001b[0m\u001b[1;32m    856\u001b[0m     \u001b[0;32melif\u001b[0m \u001b[0mself\u001b[0m\u001b[0;34m.\u001b[0m\u001b[0m_stateful_fn\u001b[0m \u001b[0;32mis\u001b[0m \u001b[0;32mnot\u001b[0m \u001b[0;32mNone\u001b[0m\u001b[0;34m:\u001b[0m\u001b[0;34m\u001b[0m\u001b[0;34m\u001b[0m\u001b[0m\n\u001b[1;32m    857\u001b[0m       \u001b[0;31m# Release the lock early so that multiple threads can perform the call\u001b[0m\u001b[0;34m\u001b[0m\u001b[0;34m\u001b[0m\u001b[0;34m\u001b[0m\u001b[0m\n",
      "\u001b[0;32m/opt/conda/lib/python3.9/site-packages/tensorflow/python/eager/function.py\u001b[0m in \u001b[0;36m__call__\u001b[0;34m(self, *args, **kwargs)\u001b[0m\n\u001b[1;32m   2940\u001b[0m       (graph_function,\n\u001b[1;32m   2941\u001b[0m        filtered_flat_args) = self._maybe_define_function(args, kwargs)\n\u001b[0;32m-> 2942\u001b[0;31m     return graph_function._call_flat(\n\u001b[0m\u001b[1;32m   2943\u001b[0m         filtered_flat_args, captured_inputs=graph_function.captured_inputs)  # pylint: disable=protected-access\n\u001b[1;32m   2944\u001b[0m \u001b[0;34m\u001b[0m\u001b[0m\n",
      "\u001b[0;32m/opt/conda/lib/python3.9/site-packages/tensorflow/python/eager/function.py\u001b[0m in \u001b[0;36m_call_flat\u001b[0;34m(self, args, captured_inputs, cancellation_manager)\u001b[0m\n\u001b[1;32m   1916\u001b[0m         and executing_eagerly):\n\u001b[1;32m   1917\u001b[0m       \u001b[0;31m# No tape is watching; skip to running the function.\u001b[0m\u001b[0;34m\u001b[0m\u001b[0;34m\u001b[0m\u001b[0;34m\u001b[0m\u001b[0m\n\u001b[0;32m-> 1918\u001b[0;31m       return self._build_call_outputs(self._inference_function.call(\n\u001b[0m\u001b[1;32m   1919\u001b[0m           ctx, args, cancellation_manager=cancellation_manager))\n\u001b[1;32m   1920\u001b[0m     forward_backward = self._select_forward_and_backward_functions(\n",
      "\u001b[0;32m/opt/conda/lib/python3.9/site-packages/tensorflow/python/eager/function.py\u001b[0m in \u001b[0;36mcall\u001b[0;34m(self, ctx, args, cancellation_manager)\u001b[0m\n\u001b[1;32m    553\u001b[0m       \u001b[0;32mwith\u001b[0m \u001b[0m_InterpolateFunctionError\u001b[0m\u001b[0;34m(\u001b[0m\u001b[0mself\u001b[0m\u001b[0;34m)\u001b[0m\u001b[0;34m:\u001b[0m\u001b[0;34m\u001b[0m\u001b[0;34m\u001b[0m\u001b[0m\n\u001b[1;32m    554\u001b[0m         \u001b[0;32mif\u001b[0m \u001b[0mcancellation_manager\u001b[0m \u001b[0;32mis\u001b[0m \u001b[0;32mNone\u001b[0m\u001b[0;34m:\u001b[0m\u001b[0;34m\u001b[0m\u001b[0;34m\u001b[0m\u001b[0m\n\u001b[0;32m--> 555\u001b[0;31m           outputs = execute.execute(\n\u001b[0m\u001b[1;32m    556\u001b[0m               \u001b[0mstr\u001b[0m\u001b[0;34m(\u001b[0m\u001b[0mself\u001b[0m\u001b[0;34m.\u001b[0m\u001b[0msignature\u001b[0m\u001b[0;34m.\u001b[0m\u001b[0mname\u001b[0m\u001b[0;34m)\u001b[0m\u001b[0;34m,\u001b[0m\u001b[0;34m\u001b[0m\u001b[0;34m\u001b[0m\u001b[0m\n\u001b[1;32m    557\u001b[0m               \u001b[0mnum_outputs\u001b[0m\u001b[0;34m=\u001b[0m\u001b[0mself\u001b[0m\u001b[0;34m.\u001b[0m\u001b[0m_num_outputs\u001b[0m\u001b[0;34m,\u001b[0m\u001b[0;34m\u001b[0m\u001b[0;34m\u001b[0m\u001b[0m\n",
      "\u001b[0;32m/opt/conda/lib/python3.9/site-packages/tensorflow/python/eager/execute.py\u001b[0m in \u001b[0;36mquick_execute\u001b[0;34m(op_name, num_outputs, inputs, attrs, ctx, name)\u001b[0m\n\u001b[1;32m     57\u001b[0m   \u001b[0;32mtry\u001b[0m\u001b[0;34m:\u001b[0m\u001b[0;34m\u001b[0m\u001b[0;34m\u001b[0m\u001b[0m\n\u001b[1;32m     58\u001b[0m     \u001b[0mctx\u001b[0m\u001b[0;34m.\u001b[0m\u001b[0mensure_initialized\u001b[0m\u001b[0;34m(\u001b[0m\u001b[0;34m)\u001b[0m\u001b[0;34m\u001b[0m\u001b[0;34m\u001b[0m\u001b[0m\n\u001b[0;32m---> 59\u001b[0;31m     tensors = pywrap_tfe.TFE_Py_Execute(ctx._handle, device_name, op_name,\n\u001b[0m\u001b[1;32m     60\u001b[0m                                         inputs, attrs, num_outputs)\n\u001b[1;32m     61\u001b[0m   \u001b[0;32mexcept\u001b[0m \u001b[0mcore\u001b[0m\u001b[0;34m.\u001b[0m\u001b[0m_NotOkStatusException\u001b[0m \u001b[0;32mas\u001b[0m \u001b[0me\u001b[0m\u001b[0;34m:\u001b[0m\u001b[0;34m\u001b[0m\u001b[0;34m\u001b[0m\u001b[0m\n",
      "\u001b[0;31mKeyboardInterrupt\u001b[0m: "
     ]
    }
   ],
   "source": [
    "model6 = Sequential()\n",
    "model6.add(Input(shape=(32,32,3)))\n",
    "model6.add(Convolution2D(filters=32, kernel_size=(8,8), activation=\"relu\"))\n",
    "model6.add(MaxPooling2D(pool_size=(4,4), padding=\"same\"))\n",
    "model6.add(Convolution2D(filters=32, kernel_size=(4,4), activation=\"relu\"))\n",
    "model6.add(MaxPooling2D(pool_size=(3,3), padding=\"same\"))\n",
    "model6.add(Convolution2D(filters=32, kernel_size=(2,2), activation=\"relu\"))\n",
    "model6.add(MaxPooling2D(pool_size=(2,2), padding=\"same\"))\n",
    "model6.add(Flatten())\n",
    "model6.add(Dense(128, activation=\"relu\"))\n",
    "model6.add(Dense(64, activation=\"relu\"))\n",
    "model6.add(Dense(units=10, activation=\"softmax\"))\n",
    "\n",
    "model6.compile(optimizer=\"adam\", loss=\"sparse_categorical_crossentropy\", metrics=[\"accuracy\"])\n",
    "\n",
    "model6.fit(train_images, train_labels, batch_size=32, epochs=12, verbose=1, validation_data=(test_images, test_labels),)"
   ]
  },
  {
   "cell_type": "markdown",
   "metadata": {},
   "source": [
    "> Model6 accracy was 0.53 after 10 epochs and climbing   \n",
    "> It was running for like 6 hours"
   ]
  },
  {
   "cell_type": "code",
   "execution_count": null,
   "metadata": {},
   "outputs": [],
   "source": []
  }
 ],
 "metadata": {
  "kernelspec": {
   "display_name": "Python 3 (ipykernel)",
   "language": "python",
   "name": "python3"
  },
  "language_info": {
   "codemirror_mode": {
    "name": "ipython",
    "version": 3
   },
   "file_extension": ".py",
   "mimetype": "text/x-python",
   "name": "python",
   "nbconvert_exporter": "python",
   "pygments_lexer": "ipython3",
   "version": "3.9.6"
  }
 },
 "nbformat": 4,
 "nbformat_minor": 4
}
