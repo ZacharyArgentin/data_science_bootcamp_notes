{
 "cells": [
  {
   "cell_type": "markdown",
   "metadata": {},
   "source": [
    "# Prepare the data"
   ]
  },
  {
   "cell_type": "code",
   "execution_count": 1,
   "metadata": {},
   "outputs": [
    {
     "data": {
      "text/html": [
       "<div>\n",
       "<style scoped>\n",
       "    .dataframe tbody tr th:only-of-type {\n",
       "        vertical-align: middle;\n",
       "    }\n",
       "\n",
       "    .dataframe tbody tr th {\n",
       "        vertical-align: top;\n",
       "    }\n",
       "\n",
       "    .dataframe thead th {\n",
       "        text-align: right;\n",
       "    }\n",
       "</style>\n",
       "<table border=\"1\" class=\"dataframe\">\n",
       "  <thead>\n",
       "    <tr style=\"text-align: right;\">\n",
       "      <th></th>\n",
       "      <th>wage_per_hour</th>\n",
       "      <th>union</th>\n",
       "      <th>education_yrs</th>\n",
       "      <th>experience_yrs</th>\n",
       "      <th>age</th>\n",
       "      <th>female</th>\n",
       "      <th>marr</th>\n",
       "      <th>south</th>\n",
       "      <th>manufacturing</th>\n",
       "      <th>construction</th>\n",
       "    </tr>\n",
       "  </thead>\n",
       "  <tbody>\n",
       "    <tr>\n",
       "      <th>0</th>\n",
       "      <td>5.10</td>\n",
       "      <td>0</td>\n",
       "      <td>8</td>\n",
       "      <td>21</td>\n",
       "      <td>35</td>\n",
       "      <td>1</td>\n",
       "      <td>1</td>\n",
       "      <td>0</td>\n",
       "      <td>1</td>\n",
       "      <td>0</td>\n",
       "    </tr>\n",
       "    <tr>\n",
       "      <th>1</th>\n",
       "      <td>4.95</td>\n",
       "      <td>0</td>\n",
       "      <td>9</td>\n",
       "      <td>42</td>\n",
       "      <td>57</td>\n",
       "      <td>1</td>\n",
       "      <td>1</td>\n",
       "      <td>0</td>\n",
       "      <td>1</td>\n",
       "      <td>0</td>\n",
       "    </tr>\n",
       "    <tr>\n",
       "      <th>2</th>\n",
       "      <td>6.67</td>\n",
       "      <td>0</td>\n",
       "      <td>12</td>\n",
       "      <td>1</td>\n",
       "      <td>19</td>\n",
       "      <td>0</td>\n",
       "      <td>0</td>\n",
       "      <td>0</td>\n",
       "      <td>1</td>\n",
       "      <td>0</td>\n",
       "    </tr>\n",
       "    <tr>\n",
       "      <th>3</th>\n",
       "      <td>4.00</td>\n",
       "      <td>0</td>\n",
       "      <td>12</td>\n",
       "      <td>4</td>\n",
       "      <td>22</td>\n",
       "      <td>0</td>\n",
       "      <td>0</td>\n",
       "      <td>0</td>\n",
       "      <td>0</td>\n",
       "      <td>0</td>\n",
       "    </tr>\n",
       "    <tr>\n",
       "      <th>4</th>\n",
       "      <td>7.50</td>\n",
       "      <td>0</td>\n",
       "      <td>12</td>\n",
       "      <td>17</td>\n",
       "      <td>35</td>\n",
       "      <td>0</td>\n",
       "      <td>1</td>\n",
       "      <td>0</td>\n",
       "      <td>0</td>\n",
       "      <td>0</td>\n",
       "    </tr>\n",
       "  </tbody>\n",
       "</table>\n",
       "</div>"
      ],
      "text/plain": [
       "   wage_per_hour  union  education_yrs  experience_yrs  age  female  marr  \\\n",
       "0           5.10      0              8              21   35       1     1   \n",
       "1           4.95      0              9              42   57       1     1   \n",
       "2           6.67      0             12               1   19       0     0   \n",
       "3           4.00      0             12               4   22       0     0   \n",
       "4           7.50      0             12              17   35       0     1   \n",
       "\n",
       "   south  manufacturing  construction  \n",
       "0      0              1             0  \n",
       "1      0              1             0  \n",
       "2      0              1             0  \n",
       "3      0              0             0  \n",
       "4      0              0             0  "
      ]
     },
     "execution_count": 1,
     "metadata": {},
     "output_type": "execute_result"
    }
   ],
   "source": [
    "import pandas as pd\n",
    "\n",
    "df = pd.read_csv('./hourly_wages_data.csv')\n",
    "df.head()"
   ]
  },
  {
   "cell_type": "code",
   "execution_count": 2,
   "metadata": {},
   "outputs": [],
   "source": [
    "from sklearn.model_selection import  train_test_split\n",
    "\n",
    "X = df.drop(columns=['wage_per_hour'])\n",
    "y = df[['wage_per_hour']]\n",
    "\n",
    "X_train, X_val, y_train, y_val = train_test_split(X, y, test_size=0.2, random_state=27)"
   ]
  },
  {
   "cell_type": "markdown",
   "metadata": {},
   "source": [
    "---\n",
    "# Train a multi-layer perceptron "
   ]
  },
  {
   "cell_type": "code",
   "execution_count": null,
   "metadata": {},
   "outputs": [],
   "source": [
    "from tensorflow.keras.models import Sequential        # Helper to build a network from a sequence of layers\n",
    "from tensorflow.keras.layers import Dense             # Fully-connected layer\n",
    "from tensorflow.keras.callbacks import EarlyStopping  # To stop training early if val loss stops decreasing\n",
    "\n",
    "# Create the model (num_features -> 10 -> 10 -> 1)\n",
    "model = Sequential()\n",
    "model.add(Dense(10, activation='relu', input_shape=(X.shape[1],)))\n",
    "model.add(Dense(10, activation='relu'))\n",
    "model.add(Dense(1))\n",
    "\n",
    "# Train the model\n",
    "model.compile(optimizer='adam', loss='mean_squared_error')    # Builds the static computation graph\n",
    "model.fit(X_train, y_train, validation_data=(X_val, y_val), epochs=30, batch_size=32, \n",
    "          callbacks=[EarlyStopping(patience=3)], verbose=1)"
   ]
  },
  {
   "cell_type": "markdown",
   "metadata": {},
   "source": [
    "---\n",
    "# Comparison to linear regression"
   ]
  },
  {
   "cell_type": "code",
   "execution_count": 5,
   "metadata": {},
   "outputs": [
    {
     "name": "stdout",
     "output_type": "stream",
     "text": [
      "Epoch 1/30\n",
      "14/14 [==============================] - 0s 14ms/step - loss: 456.4443 - val_loss: 439.7507\n",
      "Epoch 2/30\n",
      "14/14 [==============================] - 0s 3ms/step - loss: 414.9264 - val_loss: 398.6707\n",
      "Epoch 3/30\n",
      "14/14 [==============================] - 0s 2ms/step - loss: 375.7217 - val_loss: 360.7891\n",
      "Epoch 4/30\n",
      "14/14 [==============================] - 0s 3ms/step - loss: 339.5606 - val_loss: 325.6631\n",
      "Epoch 5/30\n",
      "14/14 [==============================] - 0s 3ms/step - loss: 306.3841 - val_loss: 293.2190\n",
      "Epoch 6/30\n",
      "14/14 [==============================] - 0s 3ms/step - loss: 275.8234 - val_loss: 263.4060\n",
      "Epoch 7/30\n",
      "14/14 [==============================] - 0s 3ms/step - loss: 247.7261 - val_loss: 236.6029\n",
      "Epoch 8/30\n",
      "14/14 [==============================] - 0s 3ms/step - loss: 222.0235 - val_loss: 211.9349\n",
      "Epoch 9/30\n",
      "14/14 [==============================] - 0s 3ms/step - loss: 198.9034 - val_loss: 189.2662\n",
      "Epoch 10/30\n",
      "14/14 [==============================] - 0s 3ms/step - loss: 177.8159 - val_loss: 168.7462\n",
      "Epoch 11/30\n",
      "14/14 [==============================] - 0s 3ms/step - loss: 158.7283 - val_loss: 150.5541\n",
      "Epoch 12/30\n",
      "14/14 [==============================] - 0s 2ms/step - loss: 141.7713 - val_loss: 134.0414\n",
      "Epoch 13/30\n",
      "14/14 [==============================] - 0s 2ms/step - loss: 126.3606 - val_loss: 119.1962\n",
      "Epoch 14/30\n",
      "14/14 [==============================] - 0s 3ms/step - loss: 112.4815 - val_loss: 106.0416\n",
      "Epoch 15/30\n",
      "14/14 [==============================] - 0s 3ms/step - loss: 100.4493 - val_loss: 94.3533\n",
      "Epoch 16/30\n",
      "14/14 [==============================] - 0s 3ms/step - loss: 89.4431 - val_loss: 84.0825\n",
      "Epoch 17/30\n",
      "14/14 [==============================] - 0s 3ms/step - loss: 80.0604 - val_loss: 74.5894\n",
      "Epoch 18/30\n",
      "14/14 [==============================] - 0s 4ms/step - loss: 71.4047 - val_loss: 66.7164\n",
      "Epoch 19/30\n",
      "14/14 [==============================] - 0s 4ms/step - loss: 64.1735 - val_loss: 59.5202\n",
      "Epoch 20/30\n",
      "14/14 [==============================] - 0s 3ms/step - loss: 57.6569 - val_loss: 53.2200\n",
      "Epoch 21/30\n",
      "14/14 [==============================] - 0s 3ms/step - loss: 52.0314 - val_loss: 47.8675\n",
      "Epoch 22/30\n",
      "14/14 [==============================] - 0s 3ms/step - loss: 47.2685 - val_loss: 43.2954\n",
      "Epoch 23/30\n",
      "14/14 [==============================] - 0s 3ms/step - loss: 43.1044 - val_loss: 39.4016\n",
      "Epoch 24/30\n",
      "14/14 [==============================] - 0s 3ms/step - loss: 39.6428 - val_loss: 35.9964\n",
      "Epoch 25/30\n",
      "14/14 [==============================] - 0s 3ms/step - loss: 36.6108 - val_loss: 33.1622\n",
      "Epoch 26/30\n",
      "14/14 [==============================] - 0s 3ms/step - loss: 34.1000 - val_loss: 30.7513\n",
      "Epoch 27/30\n",
      "14/14 [==============================] - 0s 3ms/step - loss: 31.9553 - val_loss: 28.6348\n",
      "Epoch 28/30\n",
      "14/14 [==============================] - 0s 3ms/step - loss: 30.1294 - val_loss: 26.8183\n",
      "Epoch 29/30\n",
      "14/14 [==============================] - 0s 3ms/step - loss: 28.5485 - val_loss: 25.3606\n",
      "Epoch 30/30\n",
      "14/14 [==============================] - 0s 3ms/step - loss: 27.2562 - val_loss: 24.1783\n"
     ]
    },
    {
     "data": {
      "text/plain": [
       "<tensorflow.python.keras.callbacks.History at 0x7f2b9470fb50>"
      ]
     },
     "execution_count": 5,
     "metadata": {},
     "output_type": "execute_result"
    }
   ],
   "source": [
    "# Create the model\n",
    "regression = Sequential()\n",
    "regression.add(Dense(1, input_shape=(X.shape[1],)))\n",
    "\n",
    "# Train the model\n",
    "regression.compile(optimizer='adam', loss='mean_squared_error')\n",
    "regression.fit(X_train, y_train, validation_data=(X_val, y_val), epochs=30, batch_size=32, \n",
    "               callbacks=[EarlyStopping(patience=3)], verbose=1)"
   ]
  },
  {
   "cell_type": "code",
   "execution_count": null,
   "metadata": {},
   "outputs": [],
   "source": []
  }
 ],
 "metadata": {
  "kernelspec": {
   "display_name": "Python 3",
   "language": "python",
   "name": "python3"
  },
  "language_info": {
   "codemirror_mode": {
    "name": "ipython",
    "version": 3
   },
   "file_extension": ".py",
   "mimetype": "text/x-python",
   "name": "python",
   "nbconvert_exporter": "python",
   "pygments_lexer": "ipython3",
   "version": "3.8.11"
  }
 },
 "nbformat": 4,
 "nbformat_minor": 4
}
